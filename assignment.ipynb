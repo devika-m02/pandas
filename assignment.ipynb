{
 "cells": [
  {
   "cell_type": "markdown",
   "id": "dfae56a8-96f5-4dd3-b208-f8e13eed5bf6",
   "metadata": {},
   "source": [
    "### Pandas DataFrame"
   ]
  },
  {
   "cell_type": "markdown",
   "id": "c6ec3cc1-ff60-4769-a7f5-998d5ab267a1",
   "metadata": {},
   "source": [
    "Start importing python modules"
   ]
  },
  {
   "cell_type": "code",
   "execution_count": 1,
   "id": "69595302-ee60-4b58-b6c9-0e0849bb87e6",
   "metadata": {},
   "outputs": [],
   "source": [
    "import numpy as np\n",
    "import pandas as pd\n",
    "import matplotlib.pyplot as plt    #For Chart "
   ]
  },
  {
   "cell_type": "markdown",
   "id": "3bf62b25-f402-40a3-bbaa-24313d28aa45",
   "metadata": {},
   "source": [
    "Check which version of pandas we are using"
   ]
  },
  {
   "cell_type": "code",
   "execution_count": 2,
   "id": "4c377341-9e54-4aeb-9d4a-1eeb59b5c524",
   "metadata": {},
   "outputs": [
    {
     "name": "stdout",
     "output_type": "stream",
     "text": [
      "2.2.2\n"
     ]
    }
   ],
   "source": [
    "print(pd.__version__)"
   ]
  },
  {
   "cell_type": "markdown",
   "id": "7327ad01-a4e2-4813-a6e9-3ca1eb2d3edd",
   "metadata": {},
   "source": [
    "Examples of series arithmetic"
   ]
  },
  {
   "cell_type": "code",
   "execution_count": 3,
   "id": "7bd10057-147d-4c97-884e-fc89c83ef098",
   "metadata": {},
   "outputs": [],
   "source": [
    "data={'vegetables':['beetroot','carrot','tomato','kovakkai','coconut'],\n",
    "      'color':['purple','orange','red','green','white'],\n",
    "      'unit':['1kg','1kg','1kg','1kg','1piece'],\n",
    "      'min':[15,25,53,30,'seventeen'],\n",
    "      'max':[40,45,90,45,38],\n",
    "     }"
   ]
  },
  {
   "cell_type": "code",
   "execution_count": 6,
   "id": "2d1897a6-d261-4780-9426-606edf65850f",
   "metadata": {},
   "outputs": [],
   "source": [
    "market=pd.DataFrame(data)"
   ]
  },
  {
   "cell_type": "code",
   "execution_count": 7,
   "id": "4f48f8b0-0bca-4994-9e35-fd0bce8a3f42",
   "metadata": {},
   "outputs": [
    {
     "data": {
      "text/html": [
       "<div>\n",
       "<style scoped>\n",
       "    .dataframe tbody tr th:only-of-type {\n",
       "        vertical-align: middle;\n",
       "    }\n",
       "\n",
       "    .dataframe tbody tr th {\n",
       "        vertical-align: top;\n",
       "    }\n",
       "\n",
       "    .dataframe thead th {\n",
       "        text-align: right;\n",
       "    }\n",
       "</style>\n",
       "<table border=\"1\" class=\"dataframe\">\n",
       "  <thead>\n",
       "    <tr style=\"text-align: right;\">\n",
       "      <th></th>\n",
       "      <th>vegetables</th>\n",
       "      <th>color</th>\n",
       "      <th>unit</th>\n",
       "      <th>min</th>\n",
       "      <th>max</th>\n",
       "    </tr>\n",
       "  </thead>\n",
       "  <tbody>\n",
       "    <tr>\n",
       "      <th>0</th>\n",
       "      <td>beetroot</td>\n",
       "      <td>purple</td>\n",
       "      <td>1kg</td>\n",
       "      <td>15</td>\n",
       "      <td>40</td>\n",
       "    </tr>\n",
       "    <tr>\n",
       "      <th>1</th>\n",
       "      <td>carrot</td>\n",
       "      <td>orange</td>\n",
       "      <td>1kg</td>\n",
       "      <td>25</td>\n",
       "      <td>45</td>\n",
       "    </tr>\n",
       "    <tr>\n",
       "      <th>2</th>\n",
       "      <td>tomato</td>\n",
       "      <td>red</td>\n",
       "      <td>1kg</td>\n",
       "      <td>53</td>\n",
       "      <td>90</td>\n",
       "    </tr>\n",
       "    <tr>\n",
       "      <th>3</th>\n",
       "      <td>kovakkai</td>\n",
       "      <td>green</td>\n",
       "      <td>1kg</td>\n",
       "      <td>30</td>\n",
       "      <td>45</td>\n",
       "    </tr>\n",
       "    <tr>\n",
       "      <th>4</th>\n",
       "      <td>coconut</td>\n",
       "      <td>white</td>\n",
       "      <td>1piece</td>\n",
       "      <td>seventeen</td>\n",
       "      <td>38</td>\n",
       "    </tr>\n",
       "  </tbody>\n",
       "</table>\n",
       "</div>"
      ],
      "text/plain": [
       "  vegetables   color    unit        min  max\n",
       "0   beetroot  purple     1kg         15   40\n",
       "1     carrot  orange     1kg         25   45\n",
       "2     tomato     red     1kg         53   90\n",
       "3   kovakkai   green     1kg         30   45\n",
       "4    coconut   white  1piece  seventeen   38"
      ]
     },
     "execution_count": 7,
     "metadata": {},
     "output_type": "execute_result"
    }
   ],
   "source": [
    "market"
   ]
  },
  {
   "cell_type": "markdown",
   "id": "bfa41409-5b35-49e5-aa73-801b22a010e1",
   "metadata": {},
   "source": [
    "**Saving a dataframe to python object**"
   ]
  },
  {
   "cell_type": "code",
   "execution_count": 9,
   "id": "9a33cef8-2a1a-4a51-b2fb-c2d6e1e88fa0",
   "metadata": {},
   "outputs": [],
   "source": [
    "m=market.to_dict()   #Saving dataframe as dictionary"
   ]
  },
  {
   "cell_type": "code",
   "execution_count": 11,
   "id": "0e5b8c3b-3fac-49db-b555-a68c0ee7961e",
   "metadata": {},
   "outputs": [
    {
     "data": {
      "text/plain": [
       "{'vegetables': {0: 'beetroot',\n",
       "  1: 'carrot',\n",
       "  2: 'tomato',\n",
       "  3: 'kovakkai',\n",
       "  4: 'coconut'},\n",
       " 'color': {0: 'purple', 1: 'orange', 2: 'red', 3: 'green', 4: 'white'},\n",
       " 'unit': {0: '1kg', 1: '1kg', 2: '1kg', 3: '1kg', 4: '1piece'},\n",
       " 'min': {0: 15, 1: 25, 2: 53, 3: 30, 4: 'seventeen'},\n",
       " 'max': {0: 40, 1: 45, 2: 90, 3: 45, 4: 38}}"
      ]
     },
     "execution_count": 11,
     "metadata": {},
     "output_type": "execute_result"
    }
   ],
   "source": [
    "m   #Printing the dictionary"
   ]
  },
  {
   "cell_type": "markdown",
   "id": "cff14aed-816d-4efa-ab48-71dc46c75cc1",
   "metadata": {},
   "source": [
    "Converting into numpy matrix"
   ]
  },
  {
   "cell_type": "code",
   "execution_count": 14,
   "id": "d3c6247e-8af6-4e63-af05-39442163d7a3",
   "metadata": {},
   "outputs": [],
   "source": [
    "matrix=market.values   #To numpy matrix"
   ]
  },
  {
   "cell_type": "code",
   "execution_count": 15,
   "id": "32ff926a-66ea-4355-86e4-1b4e1d62ae1a",
   "metadata": {},
   "outputs": [
    {
     "data": {
      "text/plain": [
       "array([['beetroot', 'purple', '1kg', 15, 40],\n",
       "       ['carrot', 'orange', '1kg', 25, 45],\n",
       "       ['tomato', 'red', '1kg', 53, 90],\n",
       "       ['kovakkai', 'green', '1kg', 30, 45],\n",
       "       ['coconut', 'white', '1piece', 'seventeen', 38]], dtype=object)"
      ]
     },
     "execution_count": 15,
     "metadata": {},
     "output_type": "execute_result"
    }
   ],
   "source": [
    "matrix"
   ]
  },
  {
   "cell_type": "markdown",
   "id": "d86dc672-908d-4f46-971f-16f6e2a423b3",
   "metadata": {},
   "source": [
    "### Working with whole dataframe"
   ]
  },
  {
   "cell_type": "markdown",
   "id": "c3bb139d-0ff7-41bd-950c-ae9134935741",
   "metadata": {},
   "source": [
    "**i.Peek at the dataframe contents and structure**"
   ]
  },
  {
   "cell_type": "code",
   "execution_count": 18,
   "id": "079cc975-97d6-4d04-8a9f-f215bb5f6f2a",
   "metadata": {},
   "outputs": [
    {
     "name": "stdout",
     "output_type": "stream",
     "text": [
      "<class 'pandas.core.frame.DataFrame'>\n",
      "RangeIndex: 5 entries, 0 to 4\n",
      "Data columns (total 5 columns):\n",
      " #   Column      Non-Null Count  Dtype \n",
      "---  ------      --------------  ----- \n",
      " 0   vegetables  5 non-null      object\n",
      " 1   color       5 non-null      object\n",
      " 2   unit        5 non-null      object\n",
      " 3   min         5 non-null      object\n",
      " 4   max         5 non-null      int64 \n",
      "dtypes: int64(1), object(4)\n",
      "memory usage: 332.0+ bytes\n"
     ]
    }
   ],
   "source": [
    "market.info()   #print columns and datatypes"
   ]
  },
  {
   "cell_type": "code",
   "execution_count": 24,
   "id": "4dc2f3bf-33d3-40b7-9c2d-e94a05ccab96",
   "metadata": {},
   "outputs": [
    {
     "data": {
      "text/html": [
       "<div>\n",
       "<style scoped>\n",
       "    .dataframe tbody tr th:only-of-type {\n",
       "        vertical-align: middle;\n",
       "    }\n",
       "\n",
       "    .dataframe tbody tr th {\n",
       "        vertical-align: top;\n",
       "    }\n",
       "\n",
       "    .dataframe thead th {\n",
       "        text-align: right;\n",
       "    }\n",
       "</style>\n",
       "<table border=\"1\" class=\"dataframe\">\n",
       "  <thead>\n",
       "    <tr style=\"text-align: right;\">\n",
       "      <th></th>\n",
       "      <th>vegetables</th>\n",
       "      <th>color</th>\n",
       "      <th>unit</th>\n",
       "      <th>min</th>\n",
       "      <th>max</th>\n",
       "    </tr>\n",
       "  </thead>\n",
       "  <tbody>\n",
       "    <tr>\n",
       "      <th>0</th>\n",
       "      <td>beetroot</td>\n",
       "      <td>purple</td>\n",
       "      <td>1kg</td>\n",
       "      <td>15</td>\n",
       "      <td>40</td>\n",
       "    </tr>\n",
       "    <tr>\n",
       "      <th>1</th>\n",
       "      <td>carrot</td>\n",
       "      <td>orange</td>\n",
       "      <td>1kg</td>\n",
       "      <td>25</td>\n",
       "      <td>45</td>\n",
       "    </tr>\n",
       "    <tr>\n",
       "      <th>2</th>\n",
       "      <td>tomato</td>\n",
       "      <td>red</td>\n",
       "      <td>1kg</td>\n",
       "      <td>53</td>\n",
       "      <td>90</td>\n",
       "    </tr>\n",
       "  </tbody>\n",
       "</table>\n",
       "</div>"
      ],
      "text/plain": [
       "  vegetables   color unit min  max\n",
       "0   beetroot  purple  1kg  15   40\n",
       "1     carrot  orange  1kg  25   45\n",
       "2     tomato     red  1kg  53   90"
      ]
     },
     "execution_count": 24,
     "metadata": {},
     "output_type": "execute_result"
    }
   ],
   "source": [
    "dfh=market.head(3)   #To get first i rows here i is index position till there it will print..without that position\n",
    "dfh"
   ]
  },
  {
   "cell_type": "code",
   "execution_count": 23,
   "id": "5604e026-2c23-4502-a4eb-e71fe0995f2f",
   "metadata": {},
   "outputs": [
    {
     "data": {
      "text/html": [
       "<div>\n",
       "<style scoped>\n",
       "    .dataframe tbody tr th:only-of-type {\n",
       "        vertical-align: middle;\n",
       "    }\n",
       "\n",
       "    .dataframe tbody tr th {\n",
       "        vertical-align: top;\n",
       "    }\n",
       "\n",
       "    .dataframe thead th {\n",
       "        text-align: right;\n",
       "    }\n",
       "</style>\n",
       "<table border=\"1\" class=\"dataframe\">\n",
       "  <thead>\n",
       "    <tr style=\"text-align: right;\">\n",
       "      <th></th>\n",
       "      <th>vegetables</th>\n",
       "      <th>color</th>\n",
       "      <th>unit</th>\n",
       "      <th>min</th>\n",
       "      <th>max</th>\n",
       "    </tr>\n",
       "  </thead>\n",
       "  <tbody>\n",
       "    <tr>\n",
       "      <th>3</th>\n",
       "      <td>kovakkai</td>\n",
       "      <td>green</td>\n",
       "      <td>1kg</td>\n",
       "      <td>30</td>\n",
       "      <td>45</td>\n",
       "    </tr>\n",
       "    <tr>\n",
       "      <th>4</th>\n",
       "      <td>coconut</td>\n",
       "      <td>white</td>\n",
       "      <td>1piece</td>\n",
       "      <td>seventeen</td>\n",
       "      <td>38</td>\n",
       "    </tr>\n",
       "  </tbody>\n",
       "</table>\n",
       "</div>"
      ],
      "text/plain": [
       "  vegetables  color    unit        min  max\n",
       "3   kovakkai  green     1kg         30   45\n",
       "4    coconut  white  1piece  seventeen   38"
      ]
     },
     "execution_count": 23,
     "metadata": {},
     "output_type": "execute_result"
    }
   ],
   "source": [
    "dft=market.tail(2)   #To get last i rows here i is index position from there it will print\n",
    "dft"
   ]
  },
  {
   "cell_type": "code",
   "execution_count": 25,
   "id": "91ee76eb-1f75-4bff-8131-a7687082af81",
   "metadata": {},
   "outputs": [
    {
     "data": {
      "text/html": [
       "<div>\n",
       "<style scoped>\n",
       "    .dataframe tbody tr th:only-of-type {\n",
       "        vertical-align: middle;\n",
       "    }\n",
       "\n",
       "    .dataframe tbody tr th {\n",
       "        vertical-align: top;\n",
       "    }\n",
       "\n",
       "    .dataframe thead th {\n",
       "        text-align: right;\n",
       "    }\n",
       "</style>\n",
       "<table border=\"1\" class=\"dataframe\">\n",
       "  <thead>\n",
       "    <tr style=\"text-align: right;\">\n",
       "      <th></th>\n",
       "      <th>max</th>\n",
       "    </tr>\n",
       "  </thead>\n",
       "  <tbody>\n",
       "    <tr>\n",
       "      <th>count</th>\n",
       "      <td>5.000000</td>\n",
       "    </tr>\n",
       "    <tr>\n",
       "      <th>mean</th>\n",
       "      <td>51.600000</td>\n",
       "    </tr>\n",
       "    <tr>\n",
       "      <th>std</th>\n",
       "      <td>21.686401</td>\n",
       "    </tr>\n",
       "    <tr>\n",
       "      <th>min</th>\n",
       "      <td>38.000000</td>\n",
       "    </tr>\n",
       "    <tr>\n",
       "      <th>25%</th>\n",
       "      <td>40.000000</td>\n",
       "    </tr>\n",
       "    <tr>\n",
       "      <th>50%</th>\n",
       "      <td>45.000000</td>\n",
       "    </tr>\n",
       "    <tr>\n",
       "      <th>75%</th>\n",
       "      <td>45.000000</td>\n",
       "    </tr>\n",
       "    <tr>\n",
       "      <th>max</th>\n",
       "      <td>90.000000</td>\n",
       "    </tr>\n",
       "  </tbody>\n",
       "</table>\n",
       "</div>"
      ],
      "text/plain": [
       "             max\n",
       "count   5.000000\n",
       "mean   51.600000\n",
       "std    21.686401\n",
       "min    38.000000\n",
       "25%    40.000000\n",
       "50%    45.000000\n",
       "75%    45.000000\n",
       "max    90.000000"
      ]
     },
     "execution_count": 25,
     "metadata": {},
     "output_type": "execute_result"
    }
   ],
   "source": [
    "dfs=market.describe()   #Summary stats for cols\n",
    "dfs"
   ]
  },
  {
   "cell_type": "markdown",
   "id": "cb20e75c-09f2-420b-8fa7-163cc0720f3a",
   "metadata": {},
   "source": [
    "***Summary stats for cols***\n",
    "\n",
    "| Statistic | Meaning                             |\n",
    "| --------- | ----------------------------------- |\n",
    "| `count`   | Number of non-null values           |\n",
    "| `mean`    | Average value                       |\n",
    "| `std`     | Standard deviation (spread of data) |\n",
    "| `min`     | Minimum value                       |\n",
    "| `25%`     | 25th percentile (Q1)                |\n",
    "| `50%`     | Median (Q2)                         |\n",
    "| `75%`     | 75th percentile (Q3)                |\n",
    "| `max`     | Maximum value                       |\n"
   ]
  },
  {
   "cell_type": "code",
   "execution_count": 29,
   "id": "889b9bea-53f9-4392-b64c-e13e3e8a2d85",
   "metadata": {},
   "outputs": [
    {
     "data": {
      "text/html": [
       "<div>\n",
       "<style scoped>\n",
       "    .dataframe tbody tr th:only-of-type {\n",
       "        vertical-align: middle;\n",
       "    }\n",
       "\n",
       "    .dataframe tbody tr th {\n",
       "        vertical-align: top;\n",
       "    }\n",
       "\n",
       "    .dataframe thead th {\n",
       "        text-align: right;\n",
       "    }\n",
       "</style>\n",
       "<table border=\"1\" class=\"dataframe\">\n",
       "  <thead>\n",
       "    <tr style=\"text-align: right;\">\n",
       "      <th></th>\n",
       "      <th>vegetables</th>\n",
       "      <th>color</th>\n",
       "      <th>unit</th>\n",
       "      <th>min</th>\n",
       "    </tr>\n",
       "  </thead>\n",
       "  <tbody>\n",
       "    <tr>\n",
       "      <th>0</th>\n",
       "      <td>beetroot</td>\n",
       "      <td>purple</td>\n",
       "      <td>1kg</td>\n",
       "      <td>15</td>\n",
       "    </tr>\n",
       "    <tr>\n",
       "      <th>1</th>\n",
       "      <td>carrot</td>\n",
       "      <td>orange</td>\n",
       "      <td>1kg</td>\n",
       "      <td>25</td>\n",
       "    </tr>\n",
       "    <tr>\n",
       "      <th>2</th>\n",
       "      <td>tomato</td>\n",
       "      <td>red</td>\n",
       "      <td>1kg</td>\n",
       "      <td>53</td>\n",
       "    </tr>\n",
       "    <tr>\n",
       "      <th>3</th>\n",
       "      <td>kovakkai</td>\n",
       "      <td>green</td>\n",
       "      <td>1kg</td>\n",
       "      <td>30</td>\n",
       "    </tr>\n",
       "  </tbody>\n",
       "</table>\n",
       "</div>"
      ],
      "text/plain": [
       "  vegetables   color unit min\n",
       "0   beetroot  purple  1kg  15\n",
       "1     carrot  orange  1kg  25\n",
       "2     tomato     red  1kg  53\n",
       "3   kovakkai   green  1kg  30"
      ]
     },
     "execution_count": 29,
     "metadata": {},
     "output_type": "execute_result"
    }
   ],
   "source": [
    "top_left_corner_df=market.iloc[:4,:4]  #To print objects up to 4th index and columns up to 4th index excluding that one\n",
    "top_left_corner_df"
   ]
  },
  {
   "cell_type": "markdown",
   "id": "64644c2e-af79-4634-b615-e3141dca2a20",
   "metadata": {},
   "source": [
    "***ii.Dataframe non-indexing attributes***"
   ]
  },
  {
   "cell_type": "code",
   "execution_count": 32,
   "id": "18e38af5-807e-4c2d-bff2-dba9dc709da9",
   "metadata": {},
   "outputs": [
    {
     "data": {
      "text/html": [
       "<div>\n",
       "<style scoped>\n",
       "    .dataframe tbody tr th:only-of-type {\n",
       "        vertical-align: middle;\n",
       "    }\n",
       "\n",
       "    .dataframe tbody tr th {\n",
       "        vertical-align: top;\n",
       "    }\n",
       "\n",
       "    .dataframe thead th {\n",
       "        text-align: right;\n",
       "    }\n",
       "</style>\n",
       "<table border=\"1\" class=\"dataframe\">\n",
       "  <thead>\n",
       "    <tr style=\"text-align: right;\">\n",
       "      <th></th>\n",
       "      <th>0</th>\n",
       "      <th>1</th>\n",
       "      <th>2</th>\n",
       "      <th>3</th>\n",
       "      <th>4</th>\n",
       "    </tr>\n",
       "  </thead>\n",
       "  <tbody>\n",
       "    <tr>\n",
       "      <th>vegetables</th>\n",
       "      <td>beetroot</td>\n",
       "      <td>carrot</td>\n",
       "      <td>tomato</td>\n",
       "      <td>kovakkai</td>\n",
       "      <td>coconut</td>\n",
       "    </tr>\n",
       "    <tr>\n",
       "      <th>color</th>\n",
       "      <td>purple</td>\n",
       "      <td>orange</td>\n",
       "      <td>red</td>\n",
       "      <td>green</td>\n",
       "      <td>white</td>\n",
       "    </tr>\n",
       "    <tr>\n",
       "      <th>unit</th>\n",
       "      <td>1kg</td>\n",
       "      <td>1kg</td>\n",
       "      <td>1kg</td>\n",
       "      <td>1kg</td>\n",
       "      <td>1piece</td>\n",
       "    </tr>\n",
       "    <tr>\n",
       "      <th>min</th>\n",
       "      <td>15</td>\n",
       "      <td>25</td>\n",
       "      <td>53</td>\n",
       "      <td>30</td>\n",
       "      <td>seventeen</td>\n",
       "    </tr>\n",
       "    <tr>\n",
       "      <th>max</th>\n",
       "      <td>40</td>\n",
       "      <td>45</td>\n",
       "      <td>90</td>\n",
       "      <td>45</td>\n",
       "      <td>38</td>\n",
       "    </tr>\n",
       "  </tbody>\n",
       "</table>\n",
       "</div>"
      ],
      "text/plain": [
       "                   0       1       2         3          4\n",
       "vegetables  beetroot  carrot  tomato  kovakkai    coconut\n",
       "color         purple  orange     red     green      white\n",
       "unit             1kg     1kg     1kg       1kg     1piece\n",
       "min               15      25      53        30  seventeen\n",
       "max               40      45      90        45         38"
      ]
     },
     "execution_count": 32,
     "metadata": {},
     "output_type": "execute_result"
    }
   ],
   "source": [
    "transpose=market.T   #It makes rows as cols... and cols as rows i.e transpose...\n",
    "transpose"
   ]
  },
  {
   "cell_type": "code",
   "execution_count": 37,
   "id": "7ec071f8-a332-4e7e-98df-9e29c6a4caca",
   "metadata": {},
   "outputs": [
    {
     "data": {
      "text/plain": [
       "[RangeIndex(start=0, stop=5, step=1),\n",
       " Index(['vegetables', 'color', 'unit', 'min', 'max'], dtype='object')]"
      ]
     },
     "execution_count": 37,
     "metadata": {},
     "output_type": "execute_result"
    }
   ],
   "source": [
    "l=market.axes   #List of row & columns\n",
    "l\n"
   ]
  },
  {
   "cell_type": "code",
   "execution_count": 39,
   "id": "d1be5d5b-d795-4e15-97a6-201edbf4cd22",
   "metadata": {},
   "outputs": [
    {
     "data": {
      "text/plain": [
       "RangeIndex(start=0, stop=5, step=1)"
      ]
     },
     "execution_count": 39,
     "metadata": {},
     "output_type": "execute_result"
    }
   ],
   "source": [
    "l[0]  # Row index (0 to 5)"
   ]
  },
  {
   "cell_type": "code",
   "execution_count": 40,
   "id": "a820ca6c-eeed-4cda-a984-ebc15572ef9b",
   "metadata": {},
   "outputs": [
    {
     "data": {
      "text/plain": [
       "Index(['vegetables', 'color', 'unit', 'min', 'max'], dtype='object')"
      ]
     },
     "execution_count": 40,
     "metadata": {},
     "output_type": "execute_result"
    }
   ],
   "source": [
    "l[1]  # Column names\n"
   ]
  },
  {
   "cell_type": "code",
   "execution_count": 34,
   "id": "70e0fcc5-743c-4547-a33e-0c50745798d8",
   "metadata": {},
   "outputs": [
    {
     "data": {
      "text/plain": [
       "(RangeIndex(start=0, stop=5, step=1),\n",
       " Index(['vegetables', 'color', 'unit', 'min', 'max'], dtype='object'))"
      ]
     },
     "execution_count": 34,
     "metadata": {},
     "output_type": "execute_result"
    }
   ],
   "source": [
    "(ri,ci)=market.axes      #To get rows and cols of previously created list\n",
    "(ri,ci)"
   ]
  },
  {
   "cell_type": "markdown",
   "id": "2299b68d-926b-4f85-b410-6d8be5de29e4",
   "metadata": {},
   "source": [
    "list(ci) → gives a list of column names\n",
    "\n",
    "len(ri) → gives the number of rows\n",
    "\n",
    "'min' in ci → checks if column 'min' exists"
   ]
  },
  {
   "cell_type": "code",
   "execution_count": 42,
   "id": "5ef512d9-4adc-42c7-aa81-da4ecfbe381b",
   "metadata": {},
   "outputs": [
    {
     "data": {
      "text/plain": [
       "['vegetables', 'color', 'unit', 'min', 'max']"
      ]
     },
     "execution_count": 42,
     "metadata": {},
     "output_type": "execute_result"
    }
   ],
   "source": [
    "list(ci)    #list(ci) → gives a list of column names"
   ]
  },
  {
   "cell_type": "code",
   "execution_count": 43,
   "id": "e52c6f65-1bdc-4e19-abd4-7e4f79fe002a",
   "metadata": {},
   "outputs": [
    {
     "data": {
      "text/plain": [
       "5"
      ]
     },
     "execution_count": 43,
     "metadata": {},
     "output_type": "execute_result"
    }
   ],
   "source": [
    "len(ri)     #len(ri) → gives the number of rows"
   ]
  },
  {
   "cell_type": "code",
   "execution_count": 44,
   "id": "c50654c8-3384-49b8-b4ee-03e9cc250289",
   "metadata": {},
   "outputs": [
    {
     "data": {
      "text/plain": [
       "'color'"
      ]
     },
     "execution_count": 44,
     "metadata": {},
     "output_type": "execute_result"
    }
   ],
   "source": [
    "min(ci)   #'min' in ci → checks if column 'min' exists"
   ]
  },
  {
   "cell_type": "code",
   "execution_count": 46,
   "id": "b0c124f6-b91d-4e12-8464-e952473befa2",
   "metadata": {},
   "outputs": [
    {
     "data": {
      "text/html": [
       "<div>\n",
       "<style scoped>\n",
       "    .dataframe tbody tr th:only-of-type {\n",
       "        vertical-align: middle;\n",
       "    }\n",
       "\n",
       "    .dataframe tbody tr th {\n",
       "        vertical-align: top;\n",
       "    }\n",
       "\n",
       "    .dataframe thead th {\n",
       "        text-align: right;\n",
       "    }\n",
       "</style>\n",
       "<table border=\"1\" class=\"dataframe\">\n",
       "  <thead>\n",
       "    <tr style=\"text-align: right;\">\n",
       "      <th></th>\n",
       "      <th>vegetables</th>\n",
       "      <th>color</th>\n",
       "      <th>unit</th>\n",
       "      <th>min</th>\n",
       "      <th>max</th>\n",
       "    </tr>\n",
       "  </thead>\n",
       "  <tbody>\n",
       "    <tr>\n",
       "      <th>0</th>\n",
       "      <td>beetroot</td>\n",
       "      <td>purple</td>\n",
       "      <td>1kg</td>\n",
       "      <td>15</td>\n",
       "      <td>40</td>\n",
       "    </tr>\n",
       "    <tr>\n",
       "      <th>1</th>\n",
       "      <td>carrot</td>\n",
       "      <td>orange</td>\n",
       "      <td>1kg</td>\n",
       "      <td>25</td>\n",
       "      <td>45</td>\n",
       "    </tr>\n",
       "    <tr>\n",
       "      <th>2</th>\n",
       "      <td>tomato</td>\n",
       "      <td>red</td>\n",
       "      <td>1kg</td>\n",
       "      <td>53</td>\n",
       "      <td>90</td>\n",
       "    </tr>\n",
       "    <tr>\n",
       "      <th>3</th>\n",
       "      <td>kovakkai</td>\n",
       "      <td>green</td>\n",
       "      <td>1kg</td>\n",
       "      <td>30</td>\n",
       "      <td>45</td>\n",
       "    </tr>\n",
       "    <tr>\n",
       "      <th>4</th>\n",
       "      <td>coconut</td>\n",
       "      <td>white</td>\n",
       "      <td>1piece</td>\n",
       "      <td>seventeen</td>\n",
       "      <td>38</td>\n",
       "    </tr>\n",
       "  </tbody>\n",
       "</table>\n",
       "</div>"
      ],
      "text/plain": [
       "  vegetables   color    unit        min  max\n",
       "0   beetroot  purple     1kg         15   40\n",
       "1     carrot  orange     1kg         25   45\n",
       "2     tomato     red     1kg         53   90\n",
       "3   kovakkai   green     1kg         30   45\n",
       "4    coconut   white  1piece  seventeen   38"
      ]
     },
     "execution_count": 46,
     "metadata": {},
     "output_type": "execute_result"
    }
   ],
   "source": [
    "market"
   ]
  },
  {
   "cell_type": "markdown",
   "id": "d15b6ba5-1c03-4730-b9f0-b3a63bca182a",
   "metadata": {},
   "source": [
    "**dtypes**"
   ]
  },
  {
   "cell_type": "markdown",
   "id": "4c9922e6-c7ee-4e25-95ad-4b1b77883f01",
   "metadata": {},
   "source": [
    "To return a Series of data types for each column in the DataFrame market.\n",
    "It returns the data type (dtype) of each column."
   ]
  },
  {
   "cell_type": "code",
   "execution_count": 45,
   "id": "0404009e-b1a0-4047-acdc-ab352046645c",
   "metadata": {},
   "outputs": [
    {
     "data": {
      "text/plain": [
       "vegetables    object\n",
       "color         object\n",
       "unit          object\n",
       "min           object\n",
       "max            int64\n",
       "dtype: object"
      ]
     },
     "execution_count": 45,
     "metadata": {},
     "output_type": "execute_result"
    }
   ],
   "source": [
    "s=market.dtypes   #Series column datatypes\n",
    "s"
   ]
  },
  {
   "cell_type": "markdown",
   "id": "bd704d14-5f39-4140-9db1-2d9b6495dcfd",
   "metadata": {},
   "source": [
    "***Data Types of Columns***\n",
    "\n",
    "Because of string 'seventeen' min is showing as object\n",
    "| Column      | Data Type |\n",
    "|-------------|------------|\n",
    "| vegetables  | object     |\n",
    "| color       | object     |\n",
    "| unit        | object     |\n",
    "| min         | object     |\n",
    "| max         | int64      |\n"
   ]
  },
  {
   "cell_type": "markdown",
   "id": "7ad47c0d-16b8-4649-af65-0eb8e3877ad5",
   "metadata": {},
   "source": [
    "**empty**"
   ]
  },
  {
   "cell_type": "markdown",
   "id": "6590ff9a-b323-49cd-a431-22c50ec2f7fb",
   "metadata": {},
   "source": [
    "For checking dataframe is empty or not...If it is empty it gives true else false"
   ]
  },
  {
   "cell_type": "code",
   "execution_count": 53,
   "id": "6a9a99b7-8fb5-4024-9674-78ae76a7cc9d",
   "metadata": {},
   "outputs": [
    {
     "data": {
      "text/plain": [
       "False"
      ]
     },
     "execution_count": 53,
     "metadata": {},
     "output_type": "execute_result"
    }
   ],
   "source": [
    "b=market.empty   #for checking dataframe is empty or not...If it is empty it gives true else false\n",
    "b"
   ]
  },
  {
   "cell_type": "markdown",
   "id": "2c8eebf9-7360-4ae6-b6e4-bce756663719",
   "metadata": {},
   "source": [
    "**ndim**"
   ]
  },
  {
   "cell_type": "markdown",
   "id": "dfddc898-f82e-4847-afa4-7d3930d5b287",
   "metadata": {},
   "source": [
    "ndim stands for number of dimensions.\n",
    "\n",
    "In pandas:\n",
    "\n",
    "A DataFrame is always 2-dimensional → rows and columns.\n",
    "\n",
    "A Series (single column or list-like data) is 1-dimensional."
   ]
  },
  {
   "cell_type": "code",
   "execution_count": 54,
   "id": "647f8a2b-51ea-4105-ad02-b6844c219196",
   "metadata": {},
   "outputs": [
    {
     "data": {
      "text/plain": [
       "2"
      ]
     },
     "execution_count": 54,
     "metadata": {},
     "output_type": "execute_result"
    }
   ],
   "source": [
    "i=market.ndim   #Number of axes(It is 2 here)\n",
    "i"
   ]
  },
  {
   "cell_type": "markdown",
   "id": "8f82476a-96c2-4fa4-885c-5c367530678c",
   "metadata": {},
   "source": [
    "**shape**\n",
    "It returns a tuple:(rows, columns)"
   ]
  },
  {
   "cell_type": "code",
   "execution_count": 56,
   "id": "16f90b48-4c8d-409e-bef3-c965009b3d33",
   "metadata": {},
   "outputs": [
    {
     "data": {
      "text/plain": [
       "(5, 5)"
      ]
     },
     "execution_count": 56,
     "metadata": {},
     "output_type": "execute_result"
    }
   ],
   "source": [
    "t=market.shape    #(row-count,column-count)\n",
    "t"
   ]
  },
  {
   "cell_type": "code",
   "execution_count": 57,
   "id": "3a58e173-5f62-4d6e-ad04-cc12f5fb517f",
   "metadata": {},
   "outputs": [
    {
     "data": {
      "text/html": [
       "<div>\n",
       "<style scoped>\n",
       "    .dataframe tbody tr th:only-of-type {\n",
       "        vertical-align: middle;\n",
       "    }\n",
       "\n",
       "    .dataframe tbody tr th {\n",
       "        vertical-align: top;\n",
       "    }\n",
       "\n",
       "    .dataframe thead th {\n",
       "        text-align: right;\n",
       "    }\n",
       "</style>\n",
       "<table border=\"1\" class=\"dataframe\">\n",
       "  <thead>\n",
       "    <tr style=\"text-align: right;\">\n",
       "      <th></th>\n",
       "      <th>vegetables</th>\n",
       "      <th>color</th>\n",
       "      <th>unit</th>\n",
       "      <th>min</th>\n",
       "      <th>max</th>\n",
       "    </tr>\n",
       "  </thead>\n",
       "  <tbody>\n",
       "    <tr>\n",
       "      <th>0</th>\n",
       "      <td>beetroot</td>\n",
       "      <td>purple</td>\n",
       "      <td>1kg</td>\n",
       "      <td>15</td>\n",
       "      <td>40</td>\n",
       "    </tr>\n",
       "    <tr>\n",
       "      <th>1</th>\n",
       "      <td>carrot</td>\n",
       "      <td>orange</td>\n",
       "      <td>1kg</td>\n",
       "      <td>25</td>\n",
       "      <td>45</td>\n",
       "    </tr>\n",
       "    <tr>\n",
       "      <th>2</th>\n",
       "      <td>tomato</td>\n",
       "      <td>red</td>\n",
       "      <td>1kg</td>\n",
       "      <td>53</td>\n",
       "      <td>90</td>\n",
       "    </tr>\n",
       "    <tr>\n",
       "      <th>3</th>\n",
       "      <td>kovakkai</td>\n",
       "      <td>green</td>\n",
       "      <td>1kg</td>\n",
       "      <td>30</td>\n",
       "      <td>45</td>\n",
       "    </tr>\n",
       "    <tr>\n",
       "      <th>4</th>\n",
       "      <td>coconut</td>\n",
       "      <td>white</td>\n",
       "      <td>1piece</td>\n",
       "      <td>seventeen</td>\n",
       "      <td>38</td>\n",
       "    </tr>\n",
       "  </tbody>\n",
       "</table>\n",
       "</div>"
      ],
      "text/plain": [
       "  vegetables   color    unit        min  max\n",
       "0   beetroot  purple     1kg         15   40\n",
       "1     carrot  orange     1kg         25   45\n",
       "2     tomato     red     1kg         53   90\n",
       "3   kovakkai   green     1kg         30   45\n",
       "4    coconut   white  1piece  seventeen   38"
      ]
     },
     "execution_count": 57,
     "metadata": {},
     "output_type": "execute_result"
    }
   ],
   "source": [
    "market"
   ]
  },
  {
   "cell_type": "markdown",
   "id": "cdafe983-4857-4bac-b267-66bdcba3d390",
   "metadata": {},
   "source": [
    "**size**"
   ]
  },
  {
   "cell_type": "markdown",
   "id": "1e3d681e-4bda-49b8-b09e-29c5e8d4519a",
   "metadata": {},
   "source": [
    "To return the **total number of individual elements (cells)** in the DataFrame `market`.\n",
    "\n",
    "* `size` = total number of **data elements** in the DataFrame.\n",
    "* It is calculated as:\n",
    "\n",
    "market.size = number of rows × number of columns\n",
    " DataFrame has:\n",
    "\n",
    "* `5` rows\n",
    "* `5` columns\n",
    "\n",
    "market.size = 5 × 5 = 25\n",
    "\n",
    "So `i` will be:\n",
    "25\n"
   ]
  },
  {
   "cell_type": "code",
   "execution_count": 59,
   "id": "ae1e16a8-f3f5-4ca0-b455-189e0db353a7",
   "metadata": {},
   "outputs": [
    {
     "data": {
      "text/plain": [
       "25"
      ]
     },
     "execution_count": 59,
     "metadata": {},
     "output_type": "execute_result"
    }
   ],
   "source": [
    "i=market.size    #Returns  total number of elements\n",
    "i"
   ]
  },
  {
   "cell_type": "markdown",
   "id": "b6069500-9f52-46cb-93a3-6166a0206256",
   "metadata": {},
   "source": [
    "**values**"
   ]
  },
  {
   "cell_type": "markdown",
   "id": "3ce30115-d1b4-4bb8-abd6-8eb44eb6ad23",
   "metadata": {},
   "source": [
    "converting the entire DataFrame market into a NumPy 2D array (matrix), where each row is a record and each column is a feature.\n",
    "\n",
    "It gives you the underlying NumPy array of the DataFrame.\n",
    "    \n",
    "The result is a 2D ndarray (rows × columns).\n",
    "\n",
    "All data is converted to a common type (often object if mixed types are present).\n"
   ]
  },
  {
   "cell_type": "code",
   "execution_count": 61,
   "id": "dcda814c-111f-4ab9-a1d2-abca8f974057",
   "metadata": {},
   "outputs": [
    {
     "data": {
      "text/plain": [
       "array([['beetroot', 'purple', '1kg', 15, 40],\n",
       "       ['carrot', 'orange', '1kg', 25, 45],\n",
       "       ['tomato', 'red', '1kg', 53, 90],\n",
       "       ['kovakkai', 'green', '1kg', 30, 45],\n",
       "       ['coconut', 'white', '1piece', 'seventeen', 38]], dtype=object)"
      ]
     },
     "execution_count": 61,
     "metadata": {},
     "output_type": "execute_result"
    }
   ],
   "source": [
    "a=market.values       #Get a numpy matrix for market dataframe\n",
    "a"
   ]
  },
  {
   "cell_type": "markdown",
   "id": "a81d9fe7-dab8-4f1c-bfbb-3233bfca1d99",
   "metadata": {},
   "source": [
    "**iii.Dataframe Utility methods**"
   ]
  },
  {
   "cell_type": "markdown",
   "id": "c62c8ac1-a3ba-47bd-b218-de82fc2abd98",
   "metadata": {},
   "source": [
    "**copy**\n",
    "\n",
    "creating an independent copy of the DataFrame market and storing it in a new variable df.\n"
   ]
  },
  {
   "cell_type": "code",
   "execution_count": 66,
   "id": "e048a3ca-ca56-4470-97c6-a5514cdf629c",
   "metadata": {},
   "outputs": [
    {
     "data": {
      "text/html": [
       "<div>\n",
       "<style scoped>\n",
       "    .dataframe tbody tr th:only-of-type {\n",
       "        vertical-align: middle;\n",
       "    }\n",
       "\n",
       "    .dataframe tbody tr th {\n",
       "        vertical-align: top;\n",
       "    }\n",
       "\n",
       "    .dataframe thead th {\n",
       "        text-align: right;\n",
       "    }\n",
       "</style>\n",
       "<table border=\"1\" class=\"dataframe\">\n",
       "  <thead>\n",
       "    <tr style=\"text-align: right;\">\n",
       "      <th></th>\n",
       "      <th>vegetables</th>\n",
       "      <th>color</th>\n",
       "      <th>unit</th>\n",
       "      <th>min</th>\n",
       "      <th>max</th>\n",
       "    </tr>\n",
       "  </thead>\n",
       "  <tbody>\n",
       "    <tr>\n",
       "      <th>0</th>\n",
       "      <td>beetroot</td>\n",
       "      <td>purple</td>\n",
       "      <td>1kg</td>\n",
       "      <td>15</td>\n",
       "      <td>40</td>\n",
       "    </tr>\n",
       "    <tr>\n",
       "      <th>1</th>\n",
       "      <td>carrot</td>\n",
       "      <td>orange</td>\n",
       "      <td>1kg</td>\n",
       "      <td>25</td>\n",
       "      <td>45</td>\n",
       "    </tr>\n",
       "    <tr>\n",
       "      <th>2</th>\n",
       "      <td>tomato</td>\n",
       "      <td>red</td>\n",
       "      <td>1kg</td>\n",
       "      <td>53</td>\n",
       "      <td>90</td>\n",
       "    </tr>\n",
       "    <tr>\n",
       "      <th>3</th>\n",
       "      <td>kovakkai</td>\n",
       "      <td>green</td>\n",
       "      <td>1kg</td>\n",
       "      <td>30</td>\n",
       "      <td>45</td>\n",
       "    </tr>\n",
       "    <tr>\n",
       "      <th>4</th>\n",
       "      <td>coconut</td>\n",
       "      <td>white</td>\n",
       "      <td>1piece</td>\n",
       "      <td>seventeen</td>\n",
       "      <td>38</td>\n",
       "    </tr>\n",
       "  </tbody>\n",
       "</table>\n",
       "</div>"
      ],
      "text/plain": [
       "  vegetables   color    unit        min  max\n",
       "0   beetroot  purple     1kg         15   40\n",
       "1     carrot  orange     1kg         25   45\n",
       "2     tomato     red     1kg         53   90\n",
       "3   kovakkai   green     1kg         30   45\n",
       "4    coconut   white  1piece  seventeen   38"
      ]
     },
     "execution_count": 66,
     "metadata": {},
     "output_type": "execute_result"
    }
   ],
   "source": [
    "df=market.copy()   #To copy the market dataframe and store in df \n",
    "df"
   ]
  },
  {
   "cell_type": "markdown",
   "id": "7d3c02f8-23a2-4cda-ac5c-cd13783e68ba",
   "metadata": {},
   "source": [
    "**sort_values**\n",
    "\n",
    "sorting the DataFrame df in ascending order based on the values in the 'max' column.\n",
    "\n",
    "syntax: sort_values(by=columnname)"
   ]
  },
  {
   "cell_type": "code",
   "execution_count": 70,
   "id": "c527f4d8-68d7-465a-b467-deefed5d9905",
   "metadata": {
    "scrolled": true
   },
   "outputs": [
    {
     "data": {
      "text/html": [
       "<div>\n",
       "<style scoped>\n",
       "    .dataframe tbody tr th:only-of-type {\n",
       "        vertical-align: middle;\n",
       "    }\n",
       "\n",
       "    .dataframe tbody tr th {\n",
       "        vertical-align: top;\n",
       "    }\n",
       "\n",
       "    .dataframe thead th {\n",
       "        text-align: right;\n",
       "    }\n",
       "</style>\n",
       "<table border=\"1\" class=\"dataframe\">\n",
       "  <thead>\n",
       "    <tr style=\"text-align: right;\">\n",
       "      <th></th>\n",
       "      <th>vegetables</th>\n",
       "      <th>color</th>\n",
       "      <th>unit</th>\n",
       "      <th>min</th>\n",
       "      <th>max</th>\n",
       "    </tr>\n",
       "  </thead>\n",
       "  <tbody>\n",
       "    <tr>\n",
       "      <th>4</th>\n",
       "      <td>coconut</td>\n",
       "      <td>white</td>\n",
       "      <td>1piece</td>\n",
       "      <td>seventeen</td>\n",
       "      <td>38</td>\n",
       "    </tr>\n",
       "    <tr>\n",
       "      <th>0</th>\n",
       "      <td>beetroot</td>\n",
       "      <td>purple</td>\n",
       "      <td>1kg</td>\n",
       "      <td>15</td>\n",
       "      <td>40</td>\n",
       "    </tr>\n",
       "    <tr>\n",
       "      <th>1</th>\n",
       "      <td>carrot</td>\n",
       "      <td>orange</td>\n",
       "      <td>1kg</td>\n",
       "      <td>25</td>\n",
       "      <td>45</td>\n",
       "    </tr>\n",
       "    <tr>\n",
       "      <th>3</th>\n",
       "      <td>kovakkai</td>\n",
       "      <td>green</td>\n",
       "      <td>1kg</td>\n",
       "      <td>30</td>\n",
       "      <td>45</td>\n",
       "    </tr>\n",
       "    <tr>\n",
       "      <th>2</th>\n",
       "      <td>tomato</td>\n",
       "      <td>red</td>\n",
       "      <td>1kg</td>\n",
       "      <td>53</td>\n",
       "      <td>90</td>\n",
       "    </tr>\n",
       "  </tbody>\n",
       "</table>\n",
       "</div>"
      ],
      "text/plain": [
       "  vegetables   color    unit        min  max\n",
       "4    coconut   white  1piece  seventeen   38\n",
       "0   beetroot  purple     1kg         15   40\n",
       "1     carrot  orange     1kg         25   45\n",
       "3   kovakkai   green     1kg         30   45\n",
       "2     tomato     red     1kg         53   90"
      ]
     },
     "execution_count": 70,
     "metadata": {},
     "output_type": "execute_result"
    }
   ],
   "source": [
    "df=df.sort_values(by='max')\n",
    "df"
   ]
  },
  {
   "cell_type": "code",
   "execution_count": 79,
   "id": "144befe9-6ac2-4cb9-ac20-11a83f1e8b31",
   "metadata": {},
   "outputs": [
    {
     "data": {
      "text/html": [
       "<div>\n",
       "<style scoped>\n",
       "    .dataframe tbody tr th:only-of-type {\n",
       "        vertical-align: middle;\n",
       "    }\n",
       "\n",
       "    .dataframe tbody tr th {\n",
       "        vertical-align: top;\n",
       "    }\n",
       "\n",
       "    .dataframe thead th {\n",
       "        text-align: right;\n",
       "    }\n",
       "</style>\n",
       "<table border=\"1\" class=\"dataframe\">\n",
       "  <thead>\n",
       "    <tr style=\"text-align: right;\">\n",
       "      <th></th>\n",
       "      <th>vegetables</th>\n",
       "      <th>color</th>\n",
       "      <th>unit</th>\n",
       "      <th>min</th>\n",
       "      <th>max</th>\n",
       "    </tr>\n",
       "  </thead>\n",
       "  <tbody>\n",
       "    <tr>\n",
       "      <th>4</th>\n",
       "      <td>coconut</td>\n",
       "      <td>white</td>\n",
       "      <td>1piece</td>\n",
       "      <td>seventeen</td>\n",
       "      <td>38</td>\n",
       "    </tr>\n",
       "    <tr>\n",
       "      <th>0</th>\n",
       "      <td>beetroot</td>\n",
       "      <td>purple</td>\n",
       "      <td>1kg</td>\n",
       "      <td>15</td>\n",
       "      <td>40</td>\n",
       "    </tr>\n",
       "    <tr>\n",
       "      <th>1</th>\n",
       "      <td>carrot</td>\n",
       "      <td>orange</td>\n",
       "      <td>1kg</td>\n",
       "      <td>25</td>\n",
       "      <td>45</td>\n",
       "    </tr>\n",
       "    <tr>\n",
       "      <th>3</th>\n",
       "      <td>kovakkai</td>\n",
       "      <td>green</td>\n",
       "      <td>1kg</td>\n",
       "      <td>30</td>\n",
       "      <td>45</td>\n",
       "    </tr>\n",
       "    <tr>\n",
       "      <th>2</th>\n",
       "      <td>tomato</td>\n",
       "      <td>red</td>\n",
       "      <td>1kg</td>\n",
       "      <td>53</td>\n",
       "      <td>90</td>\n",
       "    </tr>\n",
       "  </tbody>\n",
       "</table>\n",
       "</div>"
      ],
      "text/plain": [
       "  vegetables   color    unit        min  max\n",
       "4    coconut   white  1piece  seventeen   38\n",
       "0   beetroot  purple     1kg         15   40\n",
       "1     carrot  orange     1kg         25   45\n",
       "3   kovakkai   green     1kg         30   45\n",
       "2     tomato     red     1kg         53   90"
      ]
     },
     "execution_count": 79,
     "metadata": {},
     "output_type": "execute_result"
    }
   ],
   "source": [
    "df=df.sort_values(by=['max','min'])\n",
    "df"
   ]
  },
  {
   "cell_type": "code",
   "execution_count": 80,
   "id": "1ab5b404-d3dd-4f9d-b13d-d5f2a087f9e8",
   "metadata": {},
   "outputs": [
    {
     "data": {
      "text/html": [
       "<div>\n",
       "<style scoped>\n",
       "    .dataframe tbody tr th:only-of-type {\n",
       "        vertical-align: middle;\n",
       "    }\n",
       "\n",
       "    .dataframe tbody tr th {\n",
       "        vertical-align: top;\n",
       "    }\n",
       "\n",
       "    .dataframe thead th {\n",
       "        text-align: right;\n",
       "    }\n",
       "</style>\n",
       "<table border=\"1\" class=\"dataframe\">\n",
       "  <thead>\n",
       "    <tr style=\"text-align: right;\">\n",
       "      <th></th>\n",
       "      <th>vegetables</th>\n",
       "      <th>color</th>\n",
       "      <th>unit</th>\n",
       "      <th>min</th>\n",
       "      <th>max</th>\n",
       "    </tr>\n",
       "  </thead>\n",
       "  <tbody>\n",
       "    <tr>\n",
       "      <th>4</th>\n",
       "      <td>coconut</td>\n",
       "      <td>white</td>\n",
       "      <td>1piece</td>\n",
       "      <td>seventeen</td>\n",
       "      <td>38</td>\n",
       "    </tr>\n",
       "    <tr>\n",
       "      <th>0</th>\n",
       "      <td>beetroot</td>\n",
       "      <td>purple</td>\n",
       "      <td>1kg</td>\n",
       "      <td>15</td>\n",
       "      <td>40</td>\n",
       "    </tr>\n",
       "    <tr>\n",
       "      <th>1</th>\n",
       "      <td>carrot</td>\n",
       "      <td>orange</td>\n",
       "      <td>1kg</td>\n",
       "      <td>25</td>\n",
       "      <td>45</td>\n",
       "    </tr>\n",
       "    <tr>\n",
       "      <th>3</th>\n",
       "      <td>kovakkai</td>\n",
       "      <td>green</td>\n",
       "      <td>1kg</td>\n",
       "      <td>30</td>\n",
       "      <td>45</td>\n",
       "    </tr>\n",
       "    <tr>\n",
       "      <th>2</th>\n",
       "      <td>tomato</td>\n",
       "      <td>red</td>\n",
       "      <td>1kg</td>\n",
       "      <td>53</td>\n",
       "      <td>90</td>\n",
       "    </tr>\n",
       "  </tbody>\n",
       "</table>\n",
       "</div>"
      ],
      "text/plain": [
       "  vegetables   color    unit        min  max\n",
       "4    coconut   white  1piece  seventeen   38\n",
       "0   beetroot  purple     1kg         15   40\n",
       "1     carrot  orange     1kg         25   45\n",
       "3   kovakkai   green     1kg         30   45\n",
       "2     tomato     red     1kg         53   90"
      ]
     },
     "execution_count": 80,
     "metadata": {},
     "output_type": "execute_result"
    }
   ],
   "source": [
    "df  #Origininal dataframe is affected with sorting so i created that dataframe again"
   ]
  },
  {
   "cell_type": "code",
   "execution_count": 81,
   "id": "b3ec42fa-9b6d-4e9c-9233-101d50ff2c3b",
   "metadata": {},
   "outputs": [
    {
     "data": {
      "text/html": [
       "<div>\n",
       "<style scoped>\n",
       "    .dataframe tbody tr th:only-of-type {\n",
       "        vertical-align: middle;\n",
       "    }\n",
       "\n",
       "    .dataframe tbody tr th {\n",
       "        vertical-align: top;\n",
       "    }\n",
       "\n",
       "    .dataframe thead th {\n",
       "        text-align: right;\n",
       "    }\n",
       "</style>\n",
       "<table border=\"1\" class=\"dataframe\">\n",
       "  <thead>\n",
       "    <tr style=\"text-align: right;\">\n",
       "      <th></th>\n",
       "      <th>vegetables</th>\n",
       "      <th>color</th>\n",
       "      <th>unit</th>\n",
       "      <th>min</th>\n",
       "      <th>max</th>\n",
       "    </tr>\n",
       "  </thead>\n",
       "  <tbody>\n",
       "    <tr>\n",
       "      <th>0</th>\n",
       "      <td>beetroot</td>\n",
       "      <td>purple</td>\n",
       "      <td>1kg</td>\n",
       "      <td>15</td>\n",
       "      <td>40</td>\n",
       "    </tr>\n",
       "    <tr>\n",
       "      <th>1</th>\n",
       "      <td>carrot</td>\n",
       "      <td>orange</td>\n",
       "      <td>1kg</td>\n",
       "      <td>25</td>\n",
       "      <td>45</td>\n",
       "    </tr>\n",
       "    <tr>\n",
       "      <th>2</th>\n",
       "      <td>tomato</td>\n",
       "      <td>red</td>\n",
       "      <td>1kg</td>\n",
       "      <td>53</td>\n",
       "      <td>90</td>\n",
       "    </tr>\n",
       "    <tr>\n",
       "      <th>3</th>\n",
       "      <td>kovakkai</td>\n",
       "      <td>green</td>\n",
       "      <td>1kg</td>\n",
       "      <td>30</td>\n",
       "      <td>45</td>\n",
       "    </tr>\n",
       "    <tr>\n",
       "      <th>4</th>\n",
       "      <td>coconut</td>\n",
       "      <td>white</td>\n",
       "      <td>1piece</td>\n",
       "      <td>seventeen</td>\n",
       "      <td>38</td>\n",
       "    </tr>\n",
       "  </tbody>\n",
       "</table>\n",
       "</div>"
      ],
      "text/plain": [
       "  vegetables   color    unit        min  max\n",
       "0   beetroot  purple     1kg         15   40\n",
       "1     carrot  orange     1kg         25   45\n",
       "2     tomato     red     1kg         53   90\n",
       "3   kovakkai   green     1kg         30   45\n",
       "4    coconut   white  1piece  seventeen   38"
      ]
     },
     "execution_count": 81,
     "metadata": {},
     "output_type": "execute_result"
    }
   ],
   "source": [
    "data={'vegetables':['beetroot','carrot','tomato','kovakkai','coconut'],\n",
    "      'color':['purple','orange','red','green','white'],\n",
    "      'unit':['1kg','1kg','1kg','1kg','1piece'],\n",
    "      'min':[15,25,53,30,'seventeen'],\n",
    "      'max':[40,45,90,45,38],\n",
    "     }\n",
    "df=pd.DataFrame(data)\n",
    "df"
   ]
  },
  {
   "cell_type": "code",
   "execution_count": null,
   "id": "0a460932-e6f4-4e2f-ac84-305b85f841a8",
   "metadata": {},
   "outputs": [],
   "source": []
  }
 ],
 "metadata": {
  "kernelspec": {
   "display_name": "Python 3 (ipykernel)",
   "language": "python",
   "name": "python3"
  },
  "language_info": {
   "codemirror_mode": {
    "name": "ipython",
    "version": 3
   },
   "file_extension": ".py",
   "mimetype": "text/x-python",
   "name": "python",
   "nbconvert_exporter": "python",
   "pygments_lexer": "ipython3",
   "version": "3.12.7"
  }
 },
 "nbformat": 4,
 "nbformat_minor": 5
}
