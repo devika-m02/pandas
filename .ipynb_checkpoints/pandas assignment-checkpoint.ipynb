{
 "cells": [
  {
   "cell_type": "markdown",
   "id": "4d52826e-cd7e-4563-b63f-3df8beefbfe2",
   "metadata": {},
   "source": [
    "### Preliminaries"
   ]
  },
  {
   "cell_type": "markdown",
   "id": "3a2946f2-c66a-4472-916a-598f5b2d213a",
   "metadata": {},
   "source": [
    "**Start importing these python modules**"
   ]
  },
  {
   "cell_type": "code",
   "execution_count": 3,
   "id": "ad3df936-1c56-4c3c-adae-52fa57b2fc52",
   "metadata": {},
   "outputs": [],
   "source": [
    "import numpy as np\n",
    "import pandas as pd\n",
    "import matplotlib.pyplot as plt"
   ]
  },
  {
   "cell_type": "markdown",
   "id": "f740cd41-d074-4d58-9293-50f00152adcf",
   "metadata": {},
   "source": [
    "**Check which version of pandas i'm using**"
   ]
  },
  {
   "cell_type": "code",
   "execution_count": 4,
   "id": "47ffb6d8-8456-43ca-b6ff-13231df35260",
   "metadata": {},
   "outputs": [
    {
     "name": "stdout",
     "output_type": "stream",
     "text": [
      "2.2.2\n"
     ]
    }
   ],
   "source": [
    "print(pd.__version__)"
   ]
  },
  {
   "cell_type": "markdown",
   "id": "4d7bd931-49da-4966-9dbf-8d98ee2321fb",
   "metadata": {},
   "source": [
    "### The Conceptual Model"
   ]
  },
  {
   "cell_type": "markdown",
   "id": "3c65c080-f580-4659-ac02-e9a0f09e3bb1",
   "metadata": {},
   "source": [
    "Pandas provides 2 datatypes:The DataFrame and The Series"
   ]
  },
  {
   "cell_type": "markdown",
   "id": "889a8ce0-3072-4288-9b6d-66b49a8ef581",
   "metadata": {},
   "source": [
    "DataFrame is a two-dimensional table of data with column and row indexes(something like a spread sheet.)The cols are made up of series objects"
   ]
  },
  {
   "cell_type": "markdown",
   "id": "2e608320-9601-48a6-a199-434b7ab839f2",
   "metadata": {},
   "source": [
    "**Series**"
   ]
  },
  {
   "cell_type": "markdown",
   "id": "60ea8264-64a6-485b-95d6-3eaa46c6a26f",
   "metadata": {},
   "source": [
    "A series is an ordered ,one-dimensional array of data with an index.All the data is of the same datatype.Series arithmetic is vectorized after first aligning the series index for each of the operands."
   ]
  },
  {
   "cell_type": "markdown",
   "id": "3398f88a-9d46-4c8b-a2b8-0d77d89190c1",
   "metadata": {},
   "source": [
    "**Examples of series arithmetic**"
   ]
  },
  {
   "cell_type": "code",
   "execution_count": 8,
   "id": "6b2dbc08-5459-4a19-812f-098fa6ce6728",
   "metadata": {},
   "outputs": [
    {
     "data": {
      "text/plain": [
       "0    0\n",
       "1    1\n",
       "2    2\n",
       "3    3\n",
       "dtype: int64"
      ]
     },
     "execution_count": 8,
     "metadata": {},
     "output_type": "execute_result"
    }
   ],
   "source": [
    "s1=pd.Series(range(0,4))\n",
    "s1"
   ]
  },
  {
   "cell_type": "markdown",
   "id": "8210c685-d909-498b-a469-f63c5e42ebde",
   "metadata": {},
   "source": [
    "This creates a sequence of numbers starting from 0 up to (but not including) 4"
   ]
  },
  {
   "cell_type": "code",
   "execution_count": 9,
   "id": "84e98a9e-a65f-45df-b5a2-3e51532e2c3b",
   "metadata": {
    "scrolled": true
   },
   "outputs": [
    {
     "data": {
      "text/plain": [
       "0    1\n",
       "1    2\n",
       "2    3\n",
       "3    4\n",
       "dtype: int64"
      ]
     },
     "execution_count": 9,
     "metadata": {},
     "output_type": "execute_result"
    }
   ],
   "source": [
    "s2=pd.Series(range(1,5))\n",
    "s2"
   ]
  },
  {
   "cell_type": "markdown",
   "id": "a62e7065-ec3c-493e-a9b5-0031e5dd3e7b",
   "metadata": {},
   "source": [
    "This creates a sequence of numbers starting from 1 up to (but not including) 5."
   ]
  },
  {
   "cell_type": "code",
   "execution_count": 10,
   "id": "a3a8ddde-e5f8-4cb9-88d0-9c8189b78368",
   "metadata": {},
   "outputs": [
    {
     "data": {
      "text/plain": [
       "0    1\n",
       "1    3\n",
       "2    5\n",
       "3    7\n",
       "dtype: int64"
      ]
     },
     "execution_count": 10,
     "metadata": {},
     "output_type": "execute_result"
    }
   ],
   "source": [
    "s3=s1+s2\n",
    "s3"
   ]
  },
  {
   "cell_type": "markdown",
   "id": "41680aa2-e1ab-4e6a-bc95-7ccb855b11f5",
   "metadata": {},
   "source": [
    "creates the series which is sum of both series elements"
   ]
  },
  {
   "cell_type": "markdown",
   "id": "dc4d9d7f-9e85-422c-ae29-12fb78690126",
   "metadata": {},
   "source": [
    "**creating two Pandas Series with the same values [1, 2, 3] but different index orders.**"
   ]
  },
  {
   "cell_type": "code",
   "execution_count": 12,
   "id": "15ac2cc3-8c31-4d63-a713-efa65030ec49",
   "metadata": {},
   "outputs": [
    {
     "data": {
      "text/plain": [
       "0    1\n",
       "1    2\n",
       "2    3\n",
       "dtype: int64"
      ]
     },
     "execution_count": 12,
     "metadata": {},
     "output_type": "execute_result"
    }
   ],
   "source": [
    "s4=pd.Series([1,2,3],index=[0,1,2])\n",
    "s4"
   ]
  },
  {
   "cell_type": "code",
   "execution_count": 13,
   "id": "75af9826-5cac-429a-b450-e7b6f8eb314d",
   "metadata": {},
   "outputs": [
    {
     "data": {
      "text/plain": [
       "2    1\n",
       "1    2\n",
       "0    3\n",
       "dtype: int64"
      ]
     },
     "execution_count": 13,
     "metadata": {},
     "output_type": "execute_result"
    }
   ],
   "source": [
    "s5=pd.Series([1,2,3],index=[2,1,0])\n",
    "s5"
   ]
  },
  {
   "cell_type": "markdown",
   "id": "53840af6-ceee-405a-86ab-63ca49747d87",
   "metadata": {},
   "source": [
    "| Series | Index Order | Values Assigned |\n",
    "| ------ | ----------- | --------------- |\n",
    "| s4     | 0, 1, 2     | 1, 2, 3         |\n",
    "| s5     | 2, 1, 0     | 1, 2, 3         |\n"
   ]
  },
  {
   "cell_type": "code",
   "execution_count": 14,
   "id": "d66e7e99-74d0-4768-ac95-fbe8daf5a42d",
   "metadata": {},
   "outputs": [
    {
     "data": {
      "text/plain": [
       "0    4\n",
       "1    4\n",
       "2    4\n",
       "dtype: int64"
      ]
     },
     "execution_count": 14,
     "metadata": {},
     "output_type": "execute_result"
    }
   ],
   "source": [
    "s6=s4+s5\n",
    "s6"
   ]
  },
  {
   "cell_type": "markdown",
   "id": "71a9e240-548b-4a7d-a36f-ef636c7a02ee",
   "metadata": {},
   "source": [
    "🧮 How Addition Works in Pandas Series:\n",
    "Pandas adds elements by matching index labels, not by position.\n",
    "\n",
    "| Index | s4 Value | s5 Value | Sum |\n",
    "| ----- | -------- | -------- | --- |\n",
    "| 0     | 1        | 3        | 4   |\n",
    "| 1     | 2        | 2        | 4   |\n",
    "| 2     | 3        | 1        | 4   |\n"
   ]
  },
  {
   "cell_type": "code",
   "execution_count": 15,
   "id": "e6d0dc6a-0aed-41c2-8b98-d7cb66edb061",
   "metadata": {},
   "outputs": [
    {
     "data": {
      "text/plain": [
       "1    1\n",
       "2    2\n",
       "3    3\n",
       "dtype: int64"
      ]
     },
     "execution_count": 15,
     "metadata": {},
     "output_type": "execute_result"
    }
   ],
   "source": [
    "s7=pd.Series([1,2,3],index=[1,2,3])\n",
    "s7"
   ]
  },
  {
   "cell_type": "code",
   "execution_count": 16,
   "id": "8276a592-1ab1-4f8e-9bb5-5ef6bf019e34",
   "metadata": {},
   "outputs": [
    {
     "data": {
      "text/plain": [
       "0    1\n",
       "1    2\n",
       "2    3\n",
       "dtype: int64"
      ]
     },
     "execution_count": 16,
     "metadata": {},
     "output_type": "execute_result"
    }
   ],
   "source": [
    "s8=pd.Series([1,2,3],index=[0,1,2])\n",
    "s8"
   ]
  },
  {
   "cell_type": "markdown",
   "id": "b191a19b-e106-40f3-a82a-7a564dc8dbf6",
   "metadata": {},
   "source": [
    "🧮 Addition: s9 = s7 + s8\n",
    "Addition happens by matching index labels. Let’s align the indices:\n",
    "\n",
    "| Index | s7 Value | s8 Value | s7 + s8 |\n",
    "| ----- | -------- | -------- | ------- |\n",
    "| 0     | —        | 1        | NaN     |\n",
    "| 1     | 1        | 2        | 3       |\n",
    "| 2     | 2        | 3        | 5       |\n",
    "| 3     | 3        | —        | NaN     |\n"
   ]
  },
  {
   "cell_type": "code",
   "execution_count": 19,
   "id": "9a4f8b33-00a4-4867-a711-945e60e908bc",
   "metadata": {},
   "outputs": [
    {
     "data": {
      "text/plain": [
       "0    NaN\n",
       "1    3.0\n",
       "2    5.0\n",
       "3    NaN\n",
       "dtype: float64"
      ]
     },
     "execution_count": 19,
     "metadata": {},
     "output_type": "execute_result"
    }
   ],
   "source": [
    "s9=s7+s8\n",
    "s9"
   ]
  },
  {
   "cell_type": "markdown",
   "id": "9b2263ca-1e20-42eb-b740-0cb9f9b435b4",
   "metadata": {},
   "source": [
    "### Get your data into DataFrame"
   ]
  },
  {
   "cell_type": "markdown",
   "id": "fee2d948-0545-4a8d-871c-8ecdc9442b5a",
   "metadata": {},
   "source": [
    "**Instantiate the DataFrame**"
   ]
  },
  {
   "cell_type": "code",
   "execution_count": 24,
   "id": "557effb0-6a21-4a2f-bc31-b9bfb568825c",
   "metadata": {},
   "outputs": [
    {
     "data": {
      "text/html": [
       "<div>\n",
       "<style scoped>\n",
       "    .dataframe tbody tr th:only-of-type {\n",
       "        vertical-align: middle;\n",
       "    }\n",
       "\n",
       "    .dataframe tbody tr th {\n",
       "        vertical-align: top;\n",
       "    }\n",
       "\n",
       "    .dataframe thead th {\n",
       "        text-align: right;\n",
       "    }\n",
       "</style>\n",
       "<table border=\"1\" class=\"dataframe\">\n",
       "  <thead>\n",
       "    <tr style=\"text-align: right;\">\n",
       "      <th></th>\n",
       "    </tr>\n",
       "  </thead>\n",
       "  <tbody>\n",
       "  </tbody>\n",
       "</table>\n",
       "</div>"
      ],
      "text/plain": [
       "Empty DataFrame\n",
       "Columns: []\n",
       "Index: []"
      ]
     },
     "execution_count": 24,
     "metadata": {},
     "output_type": "execute_result"
    }
   ],
   "source": [
    "df1=pd.DataFrame() #Empty dataframe\n",
    "df1\n"
   ]
  },
  {
   "cell_type": "code",
   "execution_count": 25,
   "id": "91eb79c4-cd96-4345-a905-60e25f779f4b",
   "metadata": {},
   "outputs": [
    {
     "data": {
      "text/html": [
       "<div>\n",
       "<style scoped>\n",
       "    .dataframe tbody tr th:only-of-type {\n",
       "        vertical-align: middle;\n",
       "    }\n",
       "\n",
       "    .dataframe tbody tr th {\n",
       "        vertical-align: top;\n",
       "    }\n",
       "\n",
       "    .dataframe thead th {\n",
       "        text-align: right;\n",
       "    }\n",
       "</style>\n",
       "<table border=\"1\" class=\"dataframe\">\n",
       "  <thead>\n",
       "    <tr style=\"text-align: right;\">\n",
       "      <th></th>\n",
       "      <th>Name</th>\n",
       "      <th>Age</th>\n",
       "      <th>Branch</th>\n",
       "    </tr>\n",
       "  </thead>\n",
       "  <tbody>\n",
       "    <tr>\n",
       "      <th>0</th>\n",
       "      <td>Devika</td>\n",
       "      <td>22</td>\n",
       "      <td>CSE</td>\n",
       "    </tr>\n",
       "    <tr>\n",
       "      <th>1</th>\n",
       "      <td>Ashika</td>\n",
       "      <td>23</td>\n",
       "      <td>ECE</td>\n",
       "    </tr>\n",
       "    <tr>\n",
       "      <th>2</th>\n",
       "      <td>Kavya</td>\n",
       "      <td>21</td>\n",
       "      <td>ISE</td>\n",
       "    </tr>\n",
       "  </tbody>\n",
       "</table>\n",
       "</div>"
      ],
      "text/plain": [
       "     Name  Age Branch\n",
       "0  Devika   22    CSE\n",
       "1  Ashika   23    ECE\n",
       "2   Kavya   21    ISE"
      ]
     },
     "execution_count": 25,
     "metadata": {},
     "output_type": "execute_result"
    }
   ],
   "source": [
    "# Define the dictionary first\n",
    "python_dictionary = {\n",
    "    'Name': ['Devika', 'Ashika', 'Kavya'],\n",
    "    'Age': [22, 23, 21],\n",
    "    'Branch': ['CSE', 'ECE', 'ISE']\n",
    "}\n",
    "# Create DataFrame from python_dictionary\n",
    "df2=pd.DataFrame(python_dictionary)\n",
    "df2"
   ]
  },
  {
   "cell_type": "code",
   "execution_count": 26,
   "id": "d7ee8adb-774b-4f21-9648-0c003225f066",
   "metadata": {},
   "outputs": [
    {
     "data": {
      "text/html": [
       "<div>\n",
       "<style scoped>\n",
       "    .dataframe tbody tr th:only-of-type {\n",
       "        vertical-align: middle;\n",
       "    }\n",
       "\n",
       "    .dataframe tbody tr th {\n",
       "        vertical-align: top;\n",
       "    }\n",
       "\n",
       "    .dataframe thead th {\n",
       "        text-align: right;\n",
       "    }\n",
       "</style>\n",
       "<table border=\"1\" class=\"dataframe\">\n",
       "  <thead>\n",
       "    <tr style=\"text-align: right;\">\n",
       "      <th></th>\n",
       "      <th>0</th>\n",
       "      <th>1</th>\n",
       "    </tr>\n",
       "  </thead>\n",
       "  <tbody>\n",
       "    <tr>\n",
       "      <th>0</th>\n",
       "      <td>10</td>\n",
       "      <td>20</td>\n",
       "    </tr>\n",
       "    <tr>\n",
       "      <th>1</th>\n",
       "      <td>30</td>\n",
       "      <td>40</td>\n",
       "    </tr>\n",
       "    <tr>\n",
       "      <th>2</th>\n",
       "      <td>50</td>\n",
       "      <td>60</td>\n",
       "    </tr>\n",
       "  </tbody>\n",
       "</table>\n",
       "</div>"
      ],
      "text/plain": [
       "    0   1\n",
       "0  10  20\n",
       "1  30  40\n",
       "2  50  60"
      ]
     },
     "execution_count": 26,
     "metadata": {},
     "output_type": "execute_result"
    }
   ],
   "source": [
    "\n",
    "# Define the NumPy array (matrix)\n",
    "numpy_matrix = np.array([[10, 20], [30, 40], [50, 60]])\n",
    "\n",
    "# Create DataFrame from NumPy matrix\n",
    "df3=pd.DataFrame(numpy_matrix)\n",
    "df3"
   ]
  },
  {
   "cell_type": "markdown",
   "id": "ac52eb5a-efb0-4d88-9403-d0c98ced45e6",
   "metadata": {},
   "source": [
    "**Load a dataframe from a csv file**"
   ]
  },
  {
   "cell_type": "code",
   "execution_count": 29,
   "id": "53a85a33-c161-43aa-bf0f-7234606d5aa4",
   "metadata": {},
   "outputs": [
    {
     "data": {
      "text/html": [
       "<div>\n",
       "<style scoped>\n",
       "    .dataframe tbody tr th:only-of-type {\n",
       "        vertical-align: middle;\n",
       "    }\n",
       "\n",
       "    .dataframe tbody tr th {\n",
       "        vertical-align: top;\n",
       "    }\n",
       "\n",
       "    .dataframe thead th {\n",
       "        text-align: right;\n",
       "    }\n",
       "</style>\n",
       "<table border=\"1\" class=\"dataframe\">\n",
       "  <thead>\n",
       "    <tr style=\"text-align: right;\">\n",
       "      <th></th>\n",
       "      <th>author</th>\n",
       "      <th>pages</th>\n",
       "      <th>genre</th>\n",
       "      <th>description</th>\n",
       "      <th>published_date</th>\n",
       "      <th>publisher</th>\n",
       "      <th>language</th>\n",
       "      <th>average_rating</th>\n",
       "      <th>ratings_count</th>\n",
       "      <th>thumbnail</th>\n",
       "    </tr>\n",
       "    <tr>\n",
       "      <th>title</th>\n",
       "      <th></th>\n",
       "      <th></th>\n",
       "      <th></th>\n",
       "      <th></th>\n",
       "      <th></th>\n",
       "      <th></th>\n",
       "      <th></th>\n",
       "      <th></th>\n",
       "      <th></th>\n",
       "      <th></th>\n",
       "    </tr>\n",
       "  </thead>\n",
       "  <tbody>\n",
       "    <tr>\n",
       "      <th>Fictional Points of View</th>\n",
       "      <td>Peter Lamarque</td>\n",
       "      <td>252</td>\n",
       "      <td>Literary Criticism</td>\n",
       "      <td>The volume focuses on a wide range of thinkers...</td>\n",
       "      <td>1996</td>\n",
       "      <td>Cornell University Press</td>\n",
       "      <td>en</td>\n",
       "      <td>No rating</td>\n",
       "      <td>0</td>\n",
       "      <td>http://books.google.com/books/content?id=rh-om...</td>\n",
       "    </tr>\n",
       "    <tr>\n",
       "      <th>Science Fiction and Fantasy Literature</th>\n",
       "      <td>R. Reginald, Douglas Menville, Mary A. Burgess</td>\n",
       "      <td>802</td>\n",
       "      <td>Reference</td>\n",
       "      <td>Science Fiction and Fantasy Literature, A Chec...</td>\n",
       "      <td>2010-09-01</td>\n",
       "      <td>Wildside Press LLC</td>\n",
       "      <td>en</td>\n",
       "      <td>No rating</td>\n",
       "      <td>0</td>\n",
       "      <td>http://books.google.com/books/content?id=P8zW2...</td>\n",
       "    </tr>\n",
       "    <tr>\n",
       "      <th>Library of Congress Subject Headings</th>\n",
       "      <td>Library of Congress. Cataloging Policy and Sup...</td>\n",
       "      <td>1662</td>\n",
       "      <td>Subject headings, Library of Congress</td>\n",
       "      <td>No description available</td>\n",
       "      <td>2004</td>\n",
       "      <td>Unknown Publisher</td>\n",
       "      <td>en</td>\n",
       "      <td>No rating</td>\n",
       "      <td>0</td>\n",
       "      <td>http://books.google.com/books/content?id=pEhkh...</td>\n",
       "    </tr>\n",
       "    <tr>\n",
       "      <th>Library of Congress Subject Headings</th>\n",
       "      <td>Library of Congress</td>\n",
       "      <td>1512</td>\n",
       "      <td>Subject headings, Library of Congress</td>\n",
       "      <td>No description available</td>\n",
       "      <td>2007</td>\n",
       "      <td>Unknown Publisher</td>\n",
       "      <td>en</td>\n",
       "      <td>No rating</td>\n",
       "      <td>0</td>\n",
       "      <td>http://books.google.com/books/content?id=FgAjF...</td>\n",
       "    </tr>\n",
       "    <tr>\n",
       "      <th>Fictional Space in the Modernist and Post-modernist American Novel</th>\n",
       "      <td>Carl Darryl Malmgren</td>\n",
       "      <td>248</td>\n",
       "      <td>Fiction</td>\n",
       "      <td>Fictional space is the imaginal expanse of fie...</td>\n",
       "      <td>1985</td>\n",
       "      <td>Bucknell University Press</td>\n",
       "      <td>en</td>\n",
       "      <td>No rating</td>\n",
       "      <td>0</td>\n",
       "      <td>http://books.google.com/books/content?id=KXzoz...</td>\n",
       "    </tr>\n",
       "    <tr>\n",
       "      <th>...</th>\n",
       "      <td>...</td>\n",
       "      <td>...</td>\n",
       "      <td>...</td>\n",
       "      <td>...</td>\n",
       "      <td>...</td>\n",
       "      <td>...</td>\n",
       "      <td>...</td>\n",
       "      <td>...</td>\n",
       "      <td>...</td>\n",
       "      <td>...</td>\n",
       "    </tr>\n",
       "    <tr>\n",
       "      <th>The Index Card</th>\n",
       "      <td>Helaine Olen, Harold Pollack</td>\n",
       "      <td>256</td>\n",
       "      <td>Personal Finance</td>\n",
       "      <td>Simplifies personal finance to ten rules that ...</td>\n",
       "      <td>2016-01-05</td>\n",
       "      <td>Portfolio</td>\n",
       "      <td>en</td>\n",
       "      <td>4.0</td>\n",
       "      <td>30000</td>\n",
       "      <td>http://books.google.com/books/content?id=8z4_D...</td>\n",
       "    </tr>\n",
       "    <tr>\n",
       "      <th>The Road to Wealth</th>\n",
       "      <td>Suze Orman</td>\n",
       "      <td>608</td>\n",
       "      <td>Personal Finance</td>\n",
       "      <td>A comprehensive guide to managing money, inves...</td>\n",
       "      <td>2001-04-01</td>\n",
       "      <td>Riverhead Books</td>\n",
       "      <td>en</td>\n",
       "      <td>4.1</td>\n",
       "      <td>50000</td>\n",
       "      <td>http://books.google.com/books/content?id=zv0oD...</td>\n",
       "    </tr>\n",
       "    <tr>\n",
       "      <th>The Success Principles</th>\n",
       "      <td>Jack Canfield</td>\n",
       "      <td>512</td>\n",
       "      <td>Self-Help</td>\n",
       "      <td>A guide to achieving personal and financial su...</td>\n",
       "      <td>2004-12-28</td>\n",
       "      <td>HarperCollins</td>\n",
       "      <td>en</td>\n",
       "      <td>4.2</td>\n",
       "      <td>100000</td>\n",
       "      <td>http://books.google.com/books/content?id=7zL_D...</td>\n",
       "    </tr>\n",
       "    <tr>\n",
       "      <th>The Courage to Be Rich</th>\n",
       "      <td>Suze Orman</td>\n",
       "      <td>448</td>\n",
       "      <td>Personal Finance</td>\n",
       "      <td>Combines emotional and practical advice for bu...</td>\n",
       "      <td>1999-03-01</td>\n",
       "      <td>Riverhead Books</td>\n",
       "      <td>en</td>\n",
       "      <td>4.0</td>\n",
       "      <td>40000</td>\n",
       "      <td>http://books.google.com/books/content?id=2c3_D...</td>\n",
       "    </tr>\n",
       "    <tr>\n",
       "      <th>The Money Manual</th>\n",
       "      <td>Tonya Rapley</td>\n",
       "      <td>256</td>\n",
       "      <td>Personal Finance</td>\n",
       "      <td>A millennial-focused guide to budgeting, savin...</td>\n",
       "      <td>2023-05-16</td>\n",
       "      <td>Adams Media</td>\n",
       "      <td>en</td>\n",
       "      <td>4.2</td>\n",
       "      <td>20000</td>\n",
       "      <td>http://books.google.com/books/content?id=3z3_D...</td>\n",
       "    </tr>\n",
       "  </tbody>\n",
       "</table>\n",
       "<p>2049 rows × 10 columns</p>\n",
       "</div>"
      ],
      "text/plain": [
       "                                                                                               author  \\\n",
       "title                                                                                                   \n",
       "Fictional Points of View                                                               Peter Lamarque   \n",
       "Science Fiction and Fantasy Literature                 R. Reginald, Douglas Menville, Mary A. Burgess   \n",
       "Library of Congress Subject Headings                Library of Congress. Cataloging Policy and Sup...   \n",
       "Library of Congress Subject Headings                                              Library of Congress   \n",
       "Fictional Space in the Modernist and Post-moder...                               Carl Darryl Malmgren   \n",
       "...                                                                                               ...   \n",
       "The Index Card                                                           Helaine Olen, Harold Pollack   \n",
       "The Road to Wealth                                                                         Suze Orman   \n",
       "The Success Principles                                                                  Jack Canfield   \n",
       "The Courage to Be Rich                                                                     Suze Orman   \n",
       "The Money Manual                                                                         Tonya Rapley   \n",
       "\n",
       "                                                   pages  \\\n",
       "title                                                      \n",
       "Fictional Points of View                             252   \n",
       "Science Fiction and Fantasy Literature               802   \n",
       "Library of Congress Subject Headings                1662   \n",
       "Library of Congress Subject Headings                1512   \n",
       "Fictional Space in the Modernist and Post-moder...   248   \n",
       "...                                                  ...   \n",
       "The Index Card                                       256   \n",
       "The Road to Wealth                                   608   \n",
       "The Success Principles                               512   \n",
       "The Courage to Be Rich                               448   \n",
       "The Money Manual                                     256   \n",
       "\n",
       "                                                                                    genre  \\\n",
       "title                                                                                       \n",
       "Fictional Points of View                                               Literary Criticism   \n",
       "Science Fiction and Fantasy Literature                                          Reference   \n",
       "Library of Congress Subject Headings                Subject headings, Library of Congress   \n",
       "Library of Congress Subject Headings                Subject headings, Library of Congress   \n",
       "Fictional Space in the Modernist and Post-moder...                                Fiction   \n",
       "...                                                                                   ...   \n",
       "The Index Card                                                           Personal Finance   \n",
       "The Road to Wealth                                                       Personal Finance   \n",
       "The Success Principles                                                          Self-Help   \n",
       "The Courage to Be Rich                                                   Personal Finance   \n",
       "The Money Manual                                                         Personal Finance   \n",
       "\n",
       "                                                                                          description  \\\n",
       "title                                                                                                   \n",
       "Fictional Points of View                            The volume focuses on a wide range of thinkers...   \n",
       "Science Fiction and Fantasy Literature              Science Fiction and Fantasy Literature, A Chec...   \n",
       "Library of Congress Subject Headings                                         No description available   \n",
       "Library of Congress Subject Headings                                         No description available   \n",
       "Fictional Space in the Modernist and Post-moder...  Fictional space is the imaginal expanse of fie...   \n",
       "...                                                                                               ...   \n",
       "The Index Card                                      Simplifies personal finance to ten rules that ...   \n",
       "The Road to Wealth                                  A comprehensive guide to managing money, inves...   \n",
       "The Success Principles                              A guide to achieving personal and financial su...   \n",
       "The Courage to Be Rich                              Combines emotional and practical advice for bu...   \n",
       "The Money Manual                                    A millennial-focused guide to budgeting, savin...   \n",
       "\n",
       "                                                   published_date  \\\n",
       "title                                                               \n",
       "Fictional Points of View                                     1996   \n",
       "Science Fiction and Fantasy Literature                 2010-09-01   \n",
       "Library of Congress Subject Headings                         2004   \n",
       "Library of Congress Subject Headings                         2007   \n",
       "Fictional Space in the Modernist and Post-moder...           1985   \n",
       "...                                                           ...   \n",
       "The Index Card                                         2016-01-05   \n",
       "The Road to Wealth                                     2001-04-01   \n",
       "The Success Principles                                 2004-12-28   \n",
       "The Courage to Be Rich                                 1999-03-01   \n",
       "The Money Manual                                       2023-05-16   \n",
       "\n",
       "                                                                    publisher  \\\n",
       "title                                                                           \n",
       "Fictional Points of View                             Cornell University Press   \n",
       "Science Fiction and Fantasy Literature                     Wildside Press LLC   \n",
       "Library of Congress Subject Headings                        Unknown Publisher   \n",
       "Library of Congress Subject Headings                        Unknown Publisher   \n",
       "Fictional Space in the Modernist and Post-moder...  Bucknell University Press   \n",
       "...                                                                       ...   \n",
       "The Index Card                                                      Portfolio   \n",
       "The Road to Wealth                                            Riverhead Books   \n",
       "The Success Principles                                          HarperCollins   \n",
       "The Courage to Be Rich                                        Riverhead Books   \n",
       "The Money Manual                                                  Adams Media   \n",
       "\n",
       "                                                   language average_rating  \\\n",
       "title                                                                        \n",
       "Fictional Points of View                                 en      No rating   \n",
       "Science Fiction and Fantasy Literature                   en      No rating   \n",
       "Library of Congress Subject Headings                     en      No rating   \n",
       "Library of Congress Subject Headings                     en      No rating   \n",
       "Fictional Space in the Modernist and Post-moder...       en      No rating   \n",
       "...                                                     ...            ...   \n",
       "The Index Card                                           en            4.0   \n",
       "The Road to Wealth                                       en            4.1   \n",
       "The Success Principles                                   en            4.2   \n",
       "The Courage to Be Rich                                   en            4.0   \n",
       "The Money Manual                                         en            4.2   \n",
       "\n",
       "                                                    ratings_count  \\\n",
       "title                                                               \n",
       "Fictional Points of View                                        0   \n",
       "Science Fiction and Fantasy Literature                          0   \n",
       "Library of Congress Subject Headings                            0   \n",
       "Library of Congress Subject Headings                            0   \n",
       "Fictional Space in the Modernist and Post-moder...              0   \n",
       "...                                                           ...   \n",
       "The Index Card                                              30000   \n",
       "The Road to Wealth                                          50000   \n",
       "The Success Principles                                     100000   \n",
       "The Courage to Be Rich                                      40000   \n",
       "The Money Manual                                            20000   \n",
       "\n",
       "                                                                                            thumbnail  \n",
       "title                                                                                                  \n",
       "Fictional Points of View                            http://books.google.com/books/content?id=rh-om...  \n",
       "Science Fiction and Fantasy Literature              http://books.google.com/books/content?id=P8zW2...  \n",
       "Library of Congress Subject Headings                http://books.google.com/books/content?id=pEhkh...  \n",
       "Library of Congress Subject Headings                http://books.google.com/books/content?id=FgAjF...  \n",
       "Fictional Space in the Modernist and Post-moder...  http://books.google.com/books/content?id=KXzoz...  \n",
       "...                                                                                               ...  \n",
       "The Index Card                                      http://books.google.com/books/content?id=8z4_D...  \n",
       "The Road to Wealth                                  http://books.google.com/books/content?id=zv0oD...  \n",
       "The Success Principles                              http://books.google.com/books/content?id=7zL_D...  \n",
       "The Courage to Be Rich                              http://books.google.com/books/content?id=2c3_D...  \n",
       "The Money Manual                                    http://books.google.com/books/content?id=3z3_D...  \n",
       "\n",
       "[2049 rows x 10 columns]"
      ]
     },
     "execution_count": 29,
     "metadata": {},
     "output_type": "execute_result"
    }
   ],
   "source": [
    "df_csv = pd.read_csv('Books.csv', header=0, index_col=0, na_values=['na', '-', '.', ''])\n",
    "df_csv"
   ]
  },
  {
   "cell_type": "markdown",
   "id": "9b78c900-4f1b-4d71-a2a7-34fa08a0635b",
   "metadata": {},
   "source": [
    "| Column Name      | Meaning                                               |\n",
    "| ---------------- | ----------------------------------------------------- |\n",
    "| `author`         | Author(s) of the book                                 |\n",
    "| `pages`          | Total number of pages                                 |\n",
    "| `genre`          | Category like \"Fiction\", \"Finance\", \"Reference\", etc. |\n",
    "| `description`    | Summary or blurb about the book                       |\n",
    "| `published_date` | Year or date of publication                           |\n",
    "| `publisher`      | Publishing company                                    |\n",
    "| `language`       | Language (e.g., `\"en\"` for English)                   |\n",
    "| `average_rating` | User rating (can be number or text like \"No rating\")  |\n",
    "| `ratings_count`  | Number of users who rated it                          |\n",
    "| `thumbnail`      | URL to the book's cover image thumbnail               |\n",
    "\n",
    "\n",
    "| Argument          | What it does                                    |\n",
    "| ----------------- | ----------------------------------------------- |\n",
    "| `header=0`        | Uses the first row as column names              |\n",
    "| `index_col=0`     | Uses the first column as the row index          |\n",
    "| `na_values=[...]` | Converts listed symbols to missing values (NaN) |\n",
    "\n"
   ]
  },
  {
   "cell_type": "code",
   "execution_count": 30,
   "id": "504518db-c451-46d6-ae0f-9f5434dc7c76",
   "metadata": {},
   "outputs": [
    {
     "data": {
      "text/plain": [
       "(2049, 10)"
      ]
     },
     "execution_count": 30,
     "metadata": {},
     "output_type": "execute_result"
    }
   ],
   "source": [
    "df_csv.shape"
   ]
  },
  {
   "cell_type": "markdown",
   "id": "22bfaa4f-1c9e-45d4-9dba-548d003d4378",
   "metadata": {},
   "source": [
    "2049 rows (books)\n",
    "\n",
    "10 columns (data fields)"
   ]
  },
  {
   "cell_type": "markdown",
   "id": "ab8a2467-9753-418d-b3a7-54a530c45c2f",
   "metadata": {},
   "source": [
    "**Get your data from inline python csv text**"
   ]
  },
  {
   "cell_type": "code",
   "execution_count": 34,
   "id": "4f630173-028a-4548-8b29-50bdb5b6514b",
   "metadata": {},
   "outputs": [
    {
     "data": {
      "text/html": [
       "<div>\n",
       "<style scoped>\n",
       "    .dataframe tbody tr th:only-of-type {\n",
       "        vertical-align: middle;\n",
       "    }\n",
       "\n",
       "    .dataframe tbody tr th {\n",
       "        vertical-align: top;\n",
       "    }\n",
       "\n",
       "    .dataframe thead th {\n",
       "        text-align: right;\n",
       "    }\n",
       "</style>\n",
       "<table border=\"1\" class=\"dataframe\">\n",
       "  <thead>\n",
       "    <tr style=\"text-align: right;\">\n",
       "      <th></th>\n",
       "      <th>Animal</th>\n",
       "      <th>Cuteness</th>\n",
       "      <th>Desirable</th>\n",
       "    </tr>\n",
       "  </thead>\n",
       "  <tbody>\n",
       "    <tr>\n",
       "      <th>A</th>\n",
       "      <td>dog</td>\n",
       "      <td>8.7</td>\n",
       "      <td>True</td>\n",
       "    </tr>\n",
       "    <tr>\n",
       "      <th>B</th>\n",
       "      <td>cat</td>\n",
       "      <td>9.5</td>\n",
       "      <td>False</td>\n",
       "    </tr>\n",
       "  </tbody>\n",
       "</table>\n",
       "</div>"
      ],
      "text/plain": [
       "  Animal  Cuteness  Desirable\n",
       "A    dog       8.7       True\n",
       "B    cat       9.5      False"
      ]
     },
     "execution_count": 34,
     "metadata": {},
     "output_type": "execute_result"
    }
   ],
   "source": [
    "from io import StringIO\n",
    "data=\"\"\",Animal,Cuteness,Desirable\n",
    "A,       dog,     8.7,     True\n",
    "B,       cat,     9.5,     False\"\"\"\n",
    "\n",
    "df_inlinedata=pd.read_csv(StringIO(data),header=0,index_col=0,skipinitialspace=True)\n",
    "df_inlinedata"
   ]
  },
  {
   "cell_type": "markdown",
   "id": "841d1be0-8a3a-4555-8a59-c4999dca7910",
   "metadata": {},
   "source": [
    "| Parameter               | Meaning                                                            |\n",
    "| ----------------------- | ------------------------------------------------------------------ |\n",
    "| `StringIO(data)`        | Treats the `data` string like a CSV file.                          |\n",
    "| `header=0`              | Uses the **first line** as column names.                           |\n",
    "| `index_col=0`           | Uses the **first column** (which contains A and B) as the index.   |\n",
    "| `skipinitialspace=True` | Strips any extra spaces **after commas** (e.g., `' dog' → 'dog'`). |\n"
   ]
  },
  {
   "cell_type": "code",
   "execution_count": 36,
   "id": "81874f53-6c20-446f-8287-6bea68a2adca",
   "metadata": {},
   "outputs": [
    {
     "data": {
      "text/plain": [
       "'dog'"
      ]
     },
     "execution_count": 36,
     "metadata": {},
     "output_type": "execute_result"
    }
   ],
   "source": [
    "df_inlinedata.loc['A', 'Animal']     # Output: 'dog'\n",
    "\n"
   ]
  },
  {
   "cell_type": "code",
   "execution_count": 37,
   "id": "1e33780d-1428-4fcc-b10f-69a46a63739e",
   "metadata": {},
   "outputs": [
    {
     "data": {
      "text/plain": [
       "9.1"
      ]
     },
     "execution_count": 37,
     "metadata": {},
     "output_type": "execute_result"
    }
   ],
   "source": [
    "df_inlinedata['Cuteness'].mean()     # Output: 9.1"
   ]
  },
  {
   "cell_type": "markdown",
   "id": "c259e91e-f128-4fb5-8e9d-55c158421b5e",
   "metadata": {},
   "source": [
    "**Also among many other options are there**\n"
   ]
  },
  {
   "cell_type": "markdown",
   "id": "0a2243c3-9fc9-4d05-9be1-101e560b647e",
   "metadata": {},
   "source": [
    "**1.Reading html string**"
   ]
  },
  {
   "cell_type": "code",
   "execution_count": 40,
   "id": "316ee66c-5323-4442-864e-2bbf3e8ac024",
   "metadata": {},
   "outputs": [
    {
     "name": "stdout",
     "output_type": "stream",
     "text": [
      "     Name  Age\n",
      "0  Devika   22\n",
      "1  Ashika   21\n"
     ]
    },
    {
     "name": "stderr",
     "output_type": "stream",
     "text": [
      "C:\\Users\\Devik\\AppData\\Local\\Temp\\ipykernel_5832\\3162421114.py:13: FutureWarning: Passing literal html to 'read_html' is deprecated and will be removed in a future version. To read from a literal string, wrap it in a 'StringIO' object.\n",
      "  df_html = pd.read_html(html_string)\n"
     ]
    }
   ],
   "source": [
    "\n",
    "#Reading from html string\n",
    "from io import StringIO\n",
    "import pandas as pd\n",
    "\n",
    "html_string = \"\"\"\n",
    "<table>\n",
    "    <tr><th>Name</th><th>Age</th></tr>\n",
    "    <tr><td>Devika</td><td>22</td></tr>\n",
    "    <tr><td>Ashika</td><td>21</td></tr>\n",
    "</table>\n",
    "\"\"\"\n",
    "\n",
    "df_html = pd.read_html(html_string)\n",
    "df_htmlelement=df_html[0]\n",
    "print(df_htmlelement)\n"
   ]
  },
  {
   "cell_type": "markdown",
   "id": "864f5bcf-2ae4-4b84-96d8-8a46a637fef7",
   "metadata": {},
   "source": [
    "**2.Reading html using url**\n"
   ]
  },
  {
   "cell_type": "code",
   "execution_count": 46,
   "id": "88aa5ca9-48f5-4650-98d9-f55f7f4dad86",
   "metadata": {},
   "outputs": [
    {
     "ename": "ImportError",
     "evalue": "Missing optional dependency 'html5lib'.  Use pip or conda to install html5lib.",
     "output_type": "error",
     "traceback": [
      "\u001b[1;31m---------------------------------------------------------------------------\u001b[0m",
      "\u001b[1;31mModuleNotFoundError\u001b[0m                       Traceback (most recent call last)",
      "File \u001b[1;32mC:\\ProgramData\\anaconda3\\Lib\\site-packages\\pandas\\compat\\_optional.py:135\u001b[0m, in \u001b[0;36mimport_optional_dependency\u001b[1;34m(name, extra, errors, min_version)\u001b[0m\n\u001b[0;32m    134\u001b[0m \u001b[38;5;28;01mtry\u001b[39;00m:\n\u001b[1;32m--> 135\u001b[0m     module \u001b[38;5;241m=\u001b[39m \u001b[43mimportlib\u001b[49m\u001b[38;5;241;43m.\u001b[39;49m\u001b[43mimport_module\u001b[49m\u001b[43m(\u001b[49m\u001b[43mname\u001b[49m\u001b[43m)\u001b[49m\n\u001b[0;32m    136\u001b[0m \u001b[38;5;28;01mexcept\u001b[39;00m \u001b[38;5;167;01mImportError\u001b[39;00m:\n",
      "File \u001b[1;32mC:\\ProgramData\\anaconda3\\Lib\\importlib\\__init__.py:90\u001b[0m, in \u001b[0;36mimport_module\u001b[1;34m(name, package)\u001b[0m\n\u001b[0;32m     89\u001b[0m         level \u001b[38;5;241m+\u001b[39m\u001b[38;5;241m=\u001b[39m \u001b[38;5;241m1\u001b[39m\n\u001b[1;32m---> 90\u001b[0m \u001b[38;5;28;01mreturn\u001b[39;00m \u001b[43m_bootstrap\u001b[49m\u001b[38;5;241;43m.\u001b[39;49m\u001b[43m_gcd_import\u001b[49m\u001b[43m(\u001b[49m\u001b[43mname\u001b[49m\u001b[43m[\u001b[49m\u001b[43mlevel\u001b[49m\u001b[43m:\u001b[49m\u001b[43m]\u001b[49m\u001b[43m,\u001b[49m\u001b[43m \u001b[49m\u001b[43mpackage\u001b[49m\u001b[43m,\u001b[49m\u001b[43m \u001b[49m\u001b[43mlevel\u001b[49m\u001b[43m)\u001b[49m\n",
      "File \u001b[1;32m<frozen importlib._bootstrap>:1387\u001b[0m, in \u001b[0;36m_gcd_import\u001b[1;34m(name, package, level)\u001b[0m\n",
      "File \u001b[1;32m<frozen importlib._bootstrap>:1360\u001b[0m, in \u001b[0;36m_find_and_load\u001b[1;34m(name, import_)\u001b[0m\n",
      "File \u001b[1;32m<frozen importlib._bootstrap>:1324\u001b[0m, in \u001b[0;36m_find_and_load_unlocked\u001b[1;34m(name, import_)\u001b[0m\n",
      "\u001b[1;31mModuleNotFoundError\u001b[0m: No module named 'html5lib'",
      "\nDuring handling of the above exception, another exception occurred:\n",
      "\u001b[1;31mImportError\u001b[0m                               Traceback (most recent call last)",
      "Cell \u001b[1;32mIn[46], line 6\u001b[0m\n\u001b[0;32m      3\u001b[0m \u001b[38;5;28;01mimport\u001b[39;00m \u001b[38;5;21;01mpandas\u001b[39;00m \u001b[38;5;28;01mas\u001b[39;00m \u001b[38;5;21;01mpd\u001b[39;00m\n\u001b[0;32m      5\u001b[0m html_url\u001b[38;5;241m=\u001b[39m \u001b[38;5;124m\"\u001b[39m\u001b[38;5;124mhttps://www.kaggle.com/datasets\u001b[39m\u001b[38;5;124m\"\u001b[39m\n\u001b[1;32m----> 6\u001b[0m df_html \u001b[38;5;241m=\u001b[39m \u001b[43mpd\u001b[49m\u001b[38;5;241;43m.\u001b[39;49m\u001b[43mread_html\u001b[49m\u001b[43m(\u001b[49m\u001b[43mhtml_url\u001b[49m\u001b[43m)\u001b[49m   \u001b[38;5;66;03m# This gives you a list of DataFrames\u001b[39;00m\n\u001b[0;32m      7\u001b[0m df\u001b[38;5;241m=\u001b[39m df_html[\u001b[38;5;241m0\u001b[39m]               \u001b[38;5;66;03m# Access the first table\u001b[39;00m\n\u001b[0;32m      8\u001b[0m \u001b[38;5;28mprint\u001b[39m(df\u001b[38;5;241m.\u001b[39mhead())\n",
      "File \u001b[1;32mC:\\ProgramData\\anaconda3\\Lib\\site-packages\\pandas\\io\\html.py:1240\u001b[0m, in \u001b[0;36mread_html\u001b[1;34m(io, match, flavor, header, index_col, skiprows, attrs, parse_dates, thousands, encoding, decimal, converters, na_values, keep_default_na, displayed_only, extract_links, dtype_backend, storage_options)\u001b[0m\n\u001b[0;32m   1224\u001b[0m \u001b[38;5;28;01mif\u001b[39;00m \u001b[38;5;28misinstance\u001b[39m(io, \u001b[38;5;28mstr\u001b[39m) \u001b[38;5;129;01mand\u001b[39;00m \u001b[38;5;129;01mnot\u001b[39;00m \u001b[38;5;28many\u001b[39m(\n\u001b[0;32m   1225\u001b[0m     [\n\u001b[0;32m   1226\u001b[0m         is_file_like(io),\n\u001b[1;32m   (...)\u001b[0m\n\u001b[0;32m   1230\u001b[0m     ]\n\u001b[0;32m   1231\u001b[0m ):\n\u001b[0;32m   1232\u001b[0m     warnings\u001b[38;5;241m.\u001b[39mwarn(\n\u001b[0;32m   1233\u001b[0m         \u001b[38;5;124m\"\u001b[39m\u001b[38;5;124mPassing literal html to \u001b[39m\u001b[38;5;124m'\u001b[39m\u001b[38;5;124mread_html\u001b[39m\u001b[38;5;124m'\u001b[39m\u001b[38;5;124m is deprecated and \u001b[39m\u001b[38;5;124m\"\u001b[39m\n\u001b[0;32m   1234\u001b[0m         \u001b[38;5;124m\"\u001b[39m\u001b[38;5;124mwill be removed in a future version. To read from a \u001b[39m\u001b[38;5;124m\"\u001b[39m\n\u001b[1;32m   (...)\u001b[0m\n\u001b[0;32m   1237\u001b[0m         stacklevel\u001b[38;5;241m=\u001b[39mfind_stack_level(),\n\u001b[0;32m   1238\u001b[0m     )\n\u001b[1;32m-> 1240\u001b[0m \u001b[38;5;28;01mreturn\u001b[39;00m \u001b[43m_parse\u001b[49m\u001b[43m(\u001b[49m\n\u001b[0;32m   1241\u001b[0m \u001b[43m    \u001b[49m\u001b[43mflavor\u001b[49m\u001b[38;5;241;43m=\u001b[39;49m\u001b[43mflavor\u001b[49m\u001b[43m,\u001b[49m\n\u001b[0;32m   1242\u001b[0m \u001b[43m    \u001b[49m\u001b[43mio\u001b[49m\u001b[38;5;241;43m=\u001b[39;49m\u001b[43mio\u001b[49m\u001b[43m,\u001b[49m\n\u001b[0;32m   1243\u001b[0m \u001b[43m    \u001b[49m\u001b[43mmatch\u001b[49m\u001b[38;5;241;43m=\u001b[39;49m\u001b[43mmatch\u001b[49m\u001b[43m,\u001b[49m\n\u001b[0;32m   1244\u001b[0m \u001b[43m    \u001b[49m\u001b[43mheader\u001b[49m\u001b[38;5;241;43m=\u001b[39;49m\u001b[43mheader\u001b[49m\u001b[43m,\u001b[49m\n\u001b[0;32m   1245\u001b[0m \u001b[43m    \u001b[49m\u001b[43mindex_col\u001b[49m\u001b[38;5;241;43m=\u001b[39;49m\u001b[43mindex_col\u001b[49m\u001b[43m,\u001b[49m\n\u001b[0;32m   1246\u001b[0m \u001b[43m    \u001b[49m\u001b[43mskiprows\u001b[49m\u001b[38;5;241;43m=\u001b[39;49m\u001b[43mskiprows\u001b[49m\u001b[43m,\u001b[49m\n\u001b[0;32m   1247\u001b[0m \u001b[43m    \u001b[49m\u001b[43mparse_dates\u001b[49m\u001b[38;5;241;43m=\u001b[39;49m\u001b[43mparse_dates\u001b[49m\u001b[43m,\u001b[49m\n\u001b[0;32m   1248\u001b[0m \u001b[43m    \u001b[49m\u001b[43mthousands\u001b[49m\u001b[38;5;241;43m=\u001b[39;49m\u001b[43mthousands\u001b[49m\u001b[43m,\u001b[49m\n\u001b[0;32m   1249\u001b[0m \u001b[43m    \u001b[49m\u001b[43mattrs\u001b[49m\u001b[38;5;241;43m=\u001b[39;49m\u001b[43mattrs\u001b[49m\u001b[43m,\u001b[49m\n\u001b[0;32m   1250\u001b[0m \u001b[43m    \u001b[49m\u001b[43mencoding\u001b[49m\u001b[38;5;241;43m=\u001b[39;49m\u001b[43mencoding\u001b[49m\u001b[43m,\u001b[49m\n\u001b[0;32m   1251\u001b[0m \u001b[43m    \u001b[49m\u001b[43mdecimal\u001b[49m\u001b[38;5;241;43m=\u001b[39;49m\u001b[43mdecimal\u001b[49m\u001b[43m,\u001b[49m\n\u001b[0;32m   1252\u001b[0m \u001b[43m    \u001b[49m\u001b[43mconverters\u001b[49m\u001b[38;5;241;43m=\u001b[39;49m\u001b[43mconverters\u001b[49m\u001b[43m,\u001b[49m\n\u001b[0;32m   1253\u001b[0m \u001b[43m    \u001b[49m\u001b[43mna_values\u001b[49m\u001b[38;5;241;43m=\u001b[39;49m\u001b[43mna_values\u001b[49m\u001b[43m,\u001b[49m\n\u001b[0;32m   1254\u001b[0m \u001b[43m    \u001b[49m\u001b[43mkeep_default_na\u001b[49m\u001b[38;5;241;43m=\u001b[39;49m\u001b[43mkeep_default_na\u001b[49m\u001b[43m,\u001b[49m\n\u001b[0;32m   1255\u001b[0m \u001b[43m    \u001b[49m\u001b[43mdisplayed_only\u001b[49m\u001b[38;5;241;43m=\u001b[39;49m\u001b[43mdisplayed_only\u001b[49m\u001b[43m,\u001b[49m\n\u001b[0;32m   1256\u001b[0m \u001b[43m    \u001b[49m\u001b[43mextract_links\u001b[49m\u001b[38;5;241;43m=\u001b[39;49m\u001b[43mextract_links\u001b[49m\u001b[43m,\u001b[49m\n\u001b[0;32m   1257\u001b[0m \u001b[43m    \u001b[49m\u001b[43mdtype_backend\u001b[49m\u001b[38;5;241;43m=\u001b[39;49m\u001b[43mdtype_backend\u001b[49m\u001b[43m,\u001b[49m\n\u001b[0;32m   1258\u001b[0m \u001b[43m    \u001b[49m\u001b[43mstorage_options\u001b[49m\u001b[38;5;241;43m=\u001b[39;49m\u001b[43mstorage_options\u001b[49m\u001b[43m,\u001b[49m\n\u001b[0;32m   1259\u001b[0m \u001b[43m\u001b[49m\u001b[43m)\u001b[49m\n",
      "File \u001b[1;32mC:\\ProgramData\\anaconda3\\Lib\\site-packages\\pandas\\io\\html.py:971\u001b[0m, in \u001b[0;36m_parse\u001b[1;34m(flavor, io, match, attrs, encoding, displayed_only, extract_links, storage_options, **kwargs)\u001b[0m\n\u001b[0;32m    969\u001b[0m retained \u001b[38;5;241m=\u001b[39m \u001b[38;5;28;01mNone\u001b[39;00m\n\u001b[0;32m    970\u001b[0m \u001b[38;5;28;01mfor\u001b[39;00m flav \u001b[38;5;129;01min\u001b[39;00m flavor:\n\u001b[1;32m--> 971\u001b[0m     parser \u001b[38;5;241m=\u001b[39m \u001b[43m_parser_dispatch\u001b[49m\u001b[43m(\u001b[49m\u001b[43mflav\u001b[49m\u001b[43m)\u001b[49m\n\u001b[0;32m    972\u001b[0m     p \u001b[38;5;241m=\u001b[39m parser(\n\u001b[0;32m    973\u001b[0m         io,\n\u001b[0;32m    974\u001b[0m         compiled_match,\n\u001b[1;32m   (...)\u001b[0m\n\u001b[0;32m    979\u001b[0m         storage_options,\n\u001b[0;32m    980\u001b[0m     )\n\u001b[0;32m    982\u001b[0m     \u001b[38;5;28;01mtry\u001b[39;00m:\n",
      "File \u001b[1;32mC:\\ProgramData\\anaconda3\\Lib\\site-packages\\pandas\\io\\html.py:915\u001b[0m, in \u001b[0;36m_parser_dispatch\u001b[1;34m(flavor)\u001b[0m\n\u001b[0;32m    910\u001b[0m     \u001b[38;5;28;01mraise\u001b[39;00m \u001b[38;5;167;01mValueError\u001b[39;00m(\n\u001b[0;32m    911\u001b[0m         \u001b[38;5;124mf\u001b[39m\u001b[38;5;124m\"\u001b[39m\u001b[38;5;132;01m{\u001b[39;00m\u001b[38;5;28mrepr\u001b[39m(flavor)\u001b[38;5;132;01m}\u001b[39;00m\u001b[38;5;124m is not a valid flavor, valid flavors are \u001b[39m\u001b[38;5;132;01m{\u001b[39;00mvalid_parsers\u001b[38;5;132;01m}\u001b[39;00m\u001b[38;5;124m\"\u001b[39m\n\u001b[0;32m    912\u001b[0m     )\n\u001b[0;32m    914\u001b[0m \u001b[38;5;28;01mif\u001b[39;00m flavor \u001b[38;5;129;01min\u001b[39;00m (\u001b[38;5;124m\"\u001b[39m\u001b[38;5;124mbs4\u001b[39m\u001b[38;5;124m\"\u001b[39m, \u001b[38;5;124m\"\u001b[39m\u001b[38;5;124mhtml5lib\u001b[39m\u001b[38;5;124m\"\u001b[39m):\n\u001b[1;32m--> 915\u001b[0m     \u001b[43mimport_optional_dependency\u001b[49m\u001b[43m(\u001b[49m\u001b[38;5;124;43m\"\u001b[39;49m\u001b[38;5;124;43mhtml5lib\u001b[39;49m\u001b[38;5;124;43m\"\u001b[39;49m\u001b[43m)\u001b[49m\n\u001b[0;32m    916\u001b[0m     import_optional_dependency(\u001b[38;5;124m\"\u001b[39m\u001b[38;5;124mbs4\u001b[39m\u001b[38;5;124m\"\u001b[39m)\n\u001b[0;32m    917\u001b[0m \u001b[38;5;28;01melse\u001b[39;00m:\n",
      "File \u001b[1;32mC:\\ProgramData\\anaconda3\\Lib\\site-packages\\pandas\\compat\\_optional.py:138\u001b[0m, in \u001b[0;36mimport_optional_dependency\u001b[1;34m(name, extra, errors, min_version)\u001b[0m\n\u001b[0;32m    136\u001b[0m \u001b[38;5;28;01mexcept\u001b[39;00m \u001b[38;5;167;01mImportError\u001b[39;00m:\n\u001b[0;32m    137\u001b[0m     \u001b[38;5;28;01mif\u001b[39;00m errors \u001b[38;5;241m==\u001b[39m \u001b[38;5;124m\"\u001b[39m\u001b[38;5;124mraise\u001b[39m\u001b[38;5;124m\"\u001b[39m:\n\u001b[1;32m--> 138\u001b[0m         \u001b[38;5;28;01mraise\u001b[39;00m \u001b[38;5;167;01mImportError\u001b[39;00m(msg)\n\u001b[0;32m    139\u001b[0m     \u001b[38;5;28;01mreturn\u001b[39;00m \u001b[38;5;28;01mNone\u001b[39;00m\n\u001b[0;32m    141\u001b[0m \u001b[38;5;66;03m# Handle submodules: if we have submodule, grab parent module from sys.modules\u001b[39;00m\n",
      "\u001b[1;31mImportError\u001b[0m: Missing optional dependency 'html5lib'.  Use pip or conda to install html5lib."
     ]
    }
   ],
   "source": [
    "#Reading from html string\n",
    "from io import StringIO\n",
    "import pandas as pd\n",
    "\n",
    "html_url= \"https://www.kaggle.com/datasets\"\n",
    "df_html = pd.read_html(html_url)   # This gives you a list of DataFrames\n",
    "df= df_html[0]               # Access the first table\n",
    "print(df.head())"
   ]
  },
  {
   "cell_type": "code",
   "execution_count": 47,
   "id": "9342b01b-abd9-4831-9423-3b7d38d00f7a",
   "metadata": {},
   "outputs": [
    {
     "name": "stdout",
     "output_type": "stream",
     "text": [
      "Note: you may need to restart the kernel to use updated packages.\n"
     ]
    },
    {
     "name": "stderr",
     "output_type": "stream",
     "text": [
      "ERROR: unknown command \"insta;;\" - maybe you meant \"install\"\n",
      "\n"
     ]
    }
   ],
   "source": [
    "pip insta;; html5lib"
   ]
  },
  {
   "cell_type": "code",
   "execution_count": null,
   "id": "c3f2b1ed-e4d5-47a4-9da7-c3805e257ed2",
   "metadata": {},
   "outputs": [],
   "source": []
  }
 ],
 "metadata": {
  "kernelspec": {
   "display_name": "Python 3 (ipykernel)",
   "language": "python",
   "name": "python3"
  },
  "language_info": {
   "codemirror_mode": {
    "name": "ipython",
    "version": 3
   },
   "file_extension": ".py",
   "mimetype": "text/x-python",
   "name": "python",
   "nbconvert_exporter": "python",
   "pygments_lexer": "ipython3",
   "version": "3.12.7"
  }
 },
 "nbformat": 4,
 "nbformat_minor": 5
}
