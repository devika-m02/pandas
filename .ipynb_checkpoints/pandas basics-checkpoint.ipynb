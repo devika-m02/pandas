{
 "cells": [
  {
   "cell_type": "markdown",
   "id": "8b2f6d26-e28f-4676-9de6-308a816d9e5f",
   "metadata": {},
   "source": [
    "**Pandas Library Installation**"
   ]
  },
  {
   "cell_type": "code",
   "execution_count": 1,
   "id": "7441c48e-1f35-45b3-9d1f-db9db35f73d5",
   "metadata": {},
   "outputs": [
    {
     "name": "stdout",
     "output_type": "stream",
     "text": [
      "2.2.2\n"
     ]
    }
   ],
   "source": [
    "import pandas as pd\n",
    "print(pd.__version__)"
   ]
  },
  {
   "cell_type": "markdown",
   "id": "37c00583-0ebb-427b-bbb4-d44e0e190a5a",
   "metadata": {},
   "source": [
    "**Pandas Series**"
   ]
  },
  {
   "cell_type": "code",
   "execution_count": 2,
   "id": "2125c3c9-f2bf-468e-a777-f5ca06fe9fbd",
   "metadata": {},
   "outputs": [],
   "source": [
    "vegetables=['beetroot','carrot','tomato','coconut','scarlet gourd']"
   ]
  },
  {
   "cell_type": "code",
   "execution_count": 3,
   "id": "175564cb-a4f0-4538-a0a8-bb5134607c5c",
   "metadata": {},
   "outputs": [
    {
     "data": {
      "text/plain": [
       "0         beetroot\n",
       "1           carrot\n",
       "2           tomato\n",
       "3          coconut\n",
       "4    scarlet gourd\n",
       "dtype: object"
      ]
     },
     "execution_count": 3,
     "metadata": {},
     "output_type": "execute_result"
    }
   ],
   "source": [
    "a=pd.Series(vegetables)\n",
    "a\n"
   ]
  },
  {
   "cell_type": "code",
   "execution_count": 4,
   "id": "422efcb0-7e2f-4f35-912d-776bdf93b3bb",
   "metadata": {},
   "outputs": [],
   "source": [
    "veg_series=pd.Series(vegetables,index=['purple','orange','red','white','green'])\n"
   ]
  },
  {
   "cell_type": "code",
   "execution_count": 93,
   "id": "601c2dd0-c212-46b0-baa7-739845aa270d",
   "metadata": {},
   "outputs": [
    {
     "data": {
      "text/plain": [
       "purple         beetroot\n",
       "orange           carrot\n",
       "red              tomato\n",
       "white           coconut\n",
       "green     scarlet gourd\n",
       "dtype: object"
      ]
     },
     "execution_count": 93,
     "metadata": {},
     "output_type": "execute_result"
    }
   ],
   "source": [
    "veg_series"
   ]
  },
  {
   "cell_type": "code",
   "execution_count": 5,
   "id": "90acae74-7d1e-49a0-a653-ed52ebdcdbc0",
   "metadata": {},
   "outputs": [
    {
     "data": {
      "text/plain": [
       "{1: 'c', 2: 'b'}"
      ]
     },
     "execution_count": 5,
     "metadata": {},
     "output_type": "execute_result"
    }
   ],
   "source": [
    "dict1={1:\"a\",2:\"b\",1:\"c\"}\n",
    "#since dictionary doesnot allow key duplicates the first value of key 1 that is a is replaced by c\n",
    "dict1"
   ]
  },
  {
   "cell_type": "code",
   "execution_count": 6,
   "id": "2be8f9c6-d35a-4510-b4d1-74389cfd1f3f",
   "metadata": {},
   "outputs": [
    {
     "data": {
      "text/plain": [
       "{'red': 'tomato', 'orange': 'carrot'}"
      ]
     },
     "execution_count": 6,
     "metadata": {},
     "output_type": "execute_result"
    }
   ],
   "source": [
    "veg_dict={'red':'tomato','orange':'carrot'}\n",
    "veg_dict"
   ]
  },
  {
   "cell_type": "code",
   "execution_count": 7,
   "id": "8282779a-e6c0-4366-8f2f-ea4c41a1abd7",
   "metadata": {},
   "outputs": [
    {
     "data": {
      "text/plain": [
       "red       tomato\n",
       "orange    carrot\n",
       "dtype: object"
      ]
     },
     "execution_count": 7,
     "metadata": {},
     "output_type": "execute_result"
    }
   ],
   "source": [
    "veg_dict_series=pd.Series(veg_dict)\n",
    "veg_dict_series"
   ]
  },
  {
   "cell_type": "code",
   "execution_count": 8,
   "id": "2a9b97f0-1a3f-4f9f-8cba-ef0a8c3964ab",
   "metadata": {},
   "outputs": [],
   "source": [
    "veg_dict_series['green']='kovakkai'   #Adding key-value pair"
   ]
  },
  {
   "cell_type": "code",
   "execution_count": 9,
   "id": "ae1e6d49-3f01-47b0-befb-f5a9eef9ef06",
   "metadata": {},
   "outputs": [
    {
     "data": {
      "text/plain": [
       "red         tomato\n",
       "orange      carrot\n",
       "green     kovakkai\n",
       "dtype: object"
      ]
     },
     "execution_count": 9,
     "metadata": {},
     "output_type": "execute_result"
    }
   ],
   "source": [
    "veg_dict_series"
   ]
  },
  {
   "cell_type": "code",
   "execution_count": 10,
   "id": "f5c6a4ca-c4eb-4f37-ae2e-b23b02c9cbc6",
   "metadata": {},
   "outputs": [
    {
     "data": {
      "text/plain": [
       "red        tomato\n",
       "green    kovakkai\n",
       "dtype: object"
      ]
     },
     "execution_count": 10,
     "metadata": {},
     "output_type": "execute_result"
    }
   ],
   "source": [
    "veg_dict_series.drop(['orange'])    #Removing one key-value pair "
   ]
  },
  {
   "cell_type": "code",
   "execution_count": 11,
   "id": "53e3557f-ca9f-4150-9a06-e95df93fbe9a",
   "metadata": {},
   "outputs": [
    {
     "data": {
      "text/plain": [
       "red         tomato\n",
       "orange      carrot\n",
       "green     kovakkai\n",
       "dtype: object"
      ]
     },
     "execution_count": 11,
     "metadata": {},
     "output_type": "execute_result"
    }
   ],
   "source": [
    "veg_dict_series   #It won't affect original series"
   ]
  },
  {
   "cell_type": "code",
   "execution_count": 12,
   "id": "1b78c738-6d53-41c5-a897-506832128941",
   "metadata": {},
   "outputs": [],
   "source": [
    "veg_dict_series.drop(['orange'],inplace=True) \n",
    "#Removing one key_value pair from original series"
   ]
  },
  {
   "cell_type": "code",
   "execution_count": 13,
   "id": "b80d909a-c546-4365-9a01-aec5c79aa26f",
   "metadata": {},
   "outputs": [
    {
     "data": {
      "text/plain": [
       "red        tomato\n",
       "green    kovakkai\n",
       "dtype: object"
      ]
     },
     "execution_count": 13,
     "metadata": {},
     "output_type": "execute_result"
    }
   ],
   "source": [
    "veg_dict_series#Removed series printing"
   ]
  },
  {
   "cell_type": "markdown",
   "id": "aeaa752b-1826-44a5-8558-1bd87f3c5f8a",
   "metadata": {},
   "source": [
    "**Series elements can be heterogeneous & Nested too!**"
   ]
  },
  {
   "cell_type": "code",
   "execution_count": 14,
   "id": "ad348f0b-32d7-4550-8761-1fd5a12ec90a",
   "metadata": {},
   "outputs": [],
   "source": [
    "vegs_dict={'red':['tomato','redchilli'],'green':'kovakkai'}"
   ]
  },
  {
   "cell_type": "code",
   "execution_count": 15,
   "id": "9d036b19-186a-4548-b763-0de1da9aecbf",
   "metadata": {},
   "outputs": [
    {
     "data": {
      "text/plain": [
       "red      [tomato, redchilli]\n",
       "green               kovakkai\n",
       "dtype: object"
      ]
     },
     "execution_count": 15,
     "metadata": {},
     "output_type": "execute_result"
    }
   ],
   "source": [
    "new_veg_series=pd.Series(vegs_dict)\n",
    "new_veg_series"
   ]
  },
  {
   "cell_type": "code",
   "execution_count": 16,
   "id": "d91efba4-a2f5-4595-99ef-853c2eee5ac8",
   "metadata": {},
   "outputs": [
    {
     "data": {
      "text/plain": [
       "pandas.core.series.Series"
      ]
     },
     "execution_count": 16,
     "metadata": {},
     "output_type": "execute_result"
    }
   ],
   "source": [
    "type(new_veg_series)"
   ]
  },
  {
   "cell_type": "code",
   "execution_count": 17,
   "id": "2b342015-b4b1-4550-861a-f2464ea5c42a",
   "metadata": {},
   "outputs": [
    {
     "name": "stderr",
     "output_type": "stream",
     "text": [
      "C:\\Users\\Devik\\AppData\\Local\\Temp\\ipykernel_3488\\1682160237.py:1: FutureWarning: Series.__getitem__ treating keys as positions is deprecated. In a future version, integer keys will always be treated as labels (consistent with DataFrame behavior). To access a value by position, use `ser.iloc[pos]`\n",
      "  type(new_veg_series[0])\n"
     ]
    },
    {
     "data": {
      "text/plain": [
       "list"
      ]
     },
     "execution_count": 17,
     "metadata": {},
     "output_type": "execute_result"
    }
   ],
   "source": [
    "type(new_veg_series[0])"
   ]
  },
  {
   "cell_type": "code",
   "execution_count": 18,
   "id": "a04f6120-f859-4fe5-8a07-769b9b58383e",
   "metadata": {},
   "outputs": [
    {
     "name": "stderr",
     "output_type": "stream",
     "text": [
      "C:\\Users\\Devik\\AppData\\Local\\Temp\\ipykernel_3488\\300706422.py:1: FutureWarning: Series.__getitem__ treating keys as positions is deprecated. In a future version, integer keys will always be treated as labels (consistent with DataFrame behavior). To access a value by position, use `ser.iloc[pos]`\n",
      "  type(new_veg_series[0][0])\n"
     ]
    },
    {
     "data": {
      "text/plain": [
       "str"
      ]
     },
     "execution_count": 18,
     "metadata": {},
     "output_type": "execute_result"
    }
   ],
   "source": [
    "type(new_veg_series[0][0])"
   ]
  },
  {
   "cell_type": "code",
   "execution_count": 19,
   "id": "8087c0b5-4140-4897-8e54-e8cac7a84d5f",
   "metadata": {},
   "outputs": [
    {
     "name": "stderr",
     "output_type": "stream",
     "text": [
      "C:\\Users\\Devik\\AppData\\Local\\Temp\\ipykernel_3488\\2317656166.py:1: FutureWarning: Series.__getitem__ treating keys as positions is deprecated. In a future version, integer keys will always be treated as labels (consistent with DataFrame behavior). To access a value by position, use `ser.iloc[pos]`\n",
      "  new_veg_series[0][0]\n"
     ]
    },
    {
     "data": {
      "text/plain": [
       "'tomato'"
      ]
     },
     "execution_count": 19,
     "metadata": {},
     "output_type": "execute_result"
    }
   ],
   "source": [
    "new_veg_series[0][0]"
   ]
  },
  {
   "cell_type": "markdown",
   "id": "050b90d0-f0ca-414c-b7ed-947082053293",
   "metadata": {},
   "source": [
    "**Pandas DataFrames**"
   ]
  },
  {
   "cell_type": "markdown",
   "id": "1fd7d8b6-dd95-4e2e-b7e1-d7dff31a1076",
   "metadata": {},
   "source": [
    " DataFrame is a mutable, tabular data structure in Pandas that consists of rows and columns.It is a 2-dimensional labeled data structure."
   ]
  },
  {
   "cell_type": "markdown",
   "id": "d131ccff-786b-489d-9dda-d7af15aa76df",
   "metadata": {},
   "source": [
    "**syntax**:pd.DataFrame(iterator)"
   ]
  },
  {
   "cell_type": "code",
   "execution_count": 20,
   "id": "90336091-0de7-4fff-a0d4-8e07b188b4ad",
   "metadata": {},
   "outputs": [],
   "source": [
    "data={'vegetables':['beetroot','carrot','tomato','kovakkai','coconut'],\n",
    "      'color':['purple','orange','red','green','white'],\n",
    "      'unit':['1kg','1kg','1kg','1kg','1piece'],\n",
    "      'min':[15,25,53,30,'seventeen'],\n",
    "      'max':[40,45,90,45,38],\n",
    "     }"
   ]
  },
  {
   "cell_type": "code",
   "execution_count": 21,
   "id": "2c38fd1b-31f9-444b-a890-457eb3158d27",
   "metadata": {},
   "outputs": [],
   "source": [
    "market=pd.DataFrame(data)"
   ]
  },
  {
   "cell_type": "code",
   "execution_count": 22,
   "id": "7777a14f-196a-4583-ab0d-c6749a474cf8",
   "metadata": {},
   "outputs": [
    {
     "data": {
      "text/html": [
       "<div>\n",
       "<style scoped>\n",
       "    .dataframe tbody tr th:only-of-type {\n",
       "        vertical-align: middle;\n",
       "    }\n",
       "\n",
       "    .dataframe tbody tr th {\n",
       "        vertical-align: top;\n",
       "    }\n",
       "\n",
       "    .dataframe thead th {\n",
       "        text-align: right;\n",
       "    }\n",
       "</style>\n",
       "<table border=\"1\" class=\"dataframe\">\n",
       "  <thead>\n",
       "    <tr style=\"text-align: right;\">\n",
       "      <th></th>\n",
       "      <th>vegetables</th>\n",
       "      <th>color</th>\n",
       "      <th>unit</th>\n",
       "      <th>min</th>\n",
       "      <th>max</th>\n",
       "    </tr>\n",
       "  </thead>\n",
       "  <tbody>\n",
       "    <tr>\n",
       "      <th>0</th>\n",
       "      <td>beetroot</td>\n",
       "      <td>purple</td>\n",
       "      <td>1kg</td>\n",
       "      <td>15</td>\n",
       "      <td>40</td>\n",
       "    </tr>\n",
       "    <tr>\n",
       "      <th>1</th>\n",
       "      <td>carrot</td>\n",
       "      <td>orange</td>\n",
       "      <td>1kg</td>\n",
       "      <td>25</td>\n",
       "      <td>45</td>\n",
       "    </tr>\n",
       "    <tr>\n",
       "      <th>2</th>\n",
       "      <td>tomato</td>\n",
       "      <td>red</td>\n",
       "      <td>1kg</td>\n",
       "      <td>53</td>\n",
       "      <td>90</td>\n",
       "    </tr>\n",
       "    <tr>\n",
       "      <th>3</th>\n",
       "      <td>kovakkai</td>\n",
       "      <td>green</td>\n",
       "      <td>1kg</td>\n",
       "      <td>30</td>\n",
       "      <td>45</td>\n",
       "    </tr>\n",
       "    <tr>\n",
       "      <th>4</th>\n",
       "      <td>coconut</td>\n",
       "      <td>white</td>\n",
       "      <td>1piece</td>\n",
       "      <td>seventeen</td>\n",
       "      <td>38</td>\n",
       "    </tr>\n",
       "  </tbody>\n",
       "</table>\n",
       "</div>"
      ],
      "text/plain": [
       "  vegetables   color    unit        min  max\n",
       "0   beetroot  purple     1kg         15   40\n",
       "1     carrot  orange     1kg         25   45\n",
       "2     tomato     red     1kg         53   90\n",
       "3   kovakkai   green     1kg         30   45\n",
       "4    coconut   white  1piece  seventeen   38"
      ]
     },
     "execution_count": 22,
     "metadata": {},
     "output_type": "execute_result"
    }
   ],
   "source": [
    "market"
   ]
  },
  {
   "cell_type": "code",
   "execution_count": 23,
   "id": "f814c3c6-c288-49b9-b311-7b48b08f6886",
   "metadata": {},
   "outputs": [
    {
     "data": {
      "text/plain": [
       "0       1kg\n",
       "1       1kg\n",
       "2       1kg\n",
       "3       1kg\n",
       "4    1piece\n",
       "Name: unit, dtype: object"
      ]
     },
     "execution_count": 23,
     "metadata": {},
     "output_type": "execute_result"
    }
   ],
   "source": [
    "market['unit']   "
   ]
  },
  {
   "cell_type": "code",
   "execution_count": 24,
   "id": "75e89ea9-e49d-4dd2-af99-a4ca57c28169",
   "metadata": {
    "scrolled": true
   },
   "outputs": [
    {
     "data": {
      "text/plain": [
       "0           15\n",
       "1           25\n",
       "2           53\n",
       "3           30\n",
       "4    seventeen\n",
       "Name: min, dtype: object"
      ]
     },
     "execution_count": 24,
     "metadata": {},
     "output_type": "execute_result"
    }
   ],
   "source": [
    "market['min']"
   ]
  },
  {
   "cell_type": "markdown",
   "id": "9b16a16a-4667-4b44-8428-add7ac1de531",
   "metadata": {},
   "source": [
    "**loc[Row/index,Columnname]**"
   ]
  },
  {
   "cell_type": "code",
   "execution_count": 25,
   "id": "2b89d24e-28f3-478c-8bcc-b43d277eab1a",
   "metadata": {},
   "outputs": [
    {
     "data": {
      "text/html": [
       "<div>\n",
       "<style scoped>\n",
       "    .dataframe tbody tr th:only-of-type {\n",
       "        vertical-align: middle;\n",
       "    }\n",
       "\n",
       "    .dataframe tbody tr th {\n",
       "        vertical-align: top;\n",
       "    }\n",
       "\n",
       "    .dataframe thead th {\n",
       "        text-align: right;\n",
       "    }\n",
       "</style>\n",
       "<table border=\"1\" class=\"dataframe\">\n",
       "  <thead>\n",
       "    <tr style=\"text-align: right;\">\n",
       "      <th></th>\n",
       "      <th>vegetables</th>\n",
       "      <th>color</th>\n",
       "      <th>unit</th>\n",
       "      <th>min</th>\n",
       "      <th>max</th>\n",
       "    </tr>\n",
       "  </thead>\n",
       "  <tbody>\n",
       "    <tr>\n",
       "      <th>0</th>\n",
       "      <td>beetroot</td>\n",
       "      <td>purple</td>\n",
       "      <td>1kg</td>\n",
       "      <td>15</td>\n",
       "      <td>40</td>\n",
       "    </tr>\n",
       "    <tr>\n",
       "      <th>1</th>\n",
       "      <td>carrot</td>\n",
       "      <td>orange</td>\n",
       "      <td>1kg</td>\n",
       "      <td>25</td>\n",
       "      <td>45</td>\n",
       "    </tr>\n",
       "    <tr>\n",
       "      <th>2</th>\n",
       "      <td>tomato</td>\n",
       "      <td>red</td>\n",
       "      <td>1kg</td>\n",
       "      <td>53</td>\n",
       "      <td>90</td>\n",
       "    </tr>\n",
       "    <tr>\n",
       "      <th>3</th>\n",
       "      <td>kovakkai</td>\n",
       "      <td>green</td>\n",
       "      <td>1kg</td>\n",
       "      <td>30</td>\n",
       "      <td>45</td>\n",
       "    </tr>\n",
       "    <tr>\n",
       "      <th>4</th>\n",
       "      <td>coconut</td>\n",
       "      <td>white</td>\n",
       "      <td>1piece</td>\n",
       "      <td>seventeen</td>\n",
       "      <td>38</td>\n",
       "    </tr>\n",
       "  </tbody>\n",
       "</table>\n",
       "</div>"
      ],
      "text/plain": [
       "  vegetables   color    unit        min  max\n",
       "0   beetroot  purple     1kg         15   40\n",
       "1     carrot  orange     1kg         25   45\n",
       "2     tomato     red     1kg         53   90\n",
       "3   kovakkai   green     1kg         30   45\n",
       "4    coconut   white  1piece  seventeen   38"
      ]
     },
     "execution_count": 25,
     "metadata": {},
     "output_type": "execute_result"
    }
   ],
   "source": [
    "market"
   ]
  },
  {
   "cell_type": "code",
   "execution_count": 26,
   "id": "c5b030eb-246b-452e-b41b-f2d1b9d1936c",
   "metadata": {},
   "outputs": [
    {
     "data": {
      "text/plain": [
       "'1kg'"
      ]
     },
     "execution_count": 26,
     "metadata": {},
     "output_type": "execute_result"
    }
   ],
   "source": [
    "market.loc[0,'unit']      #loc[Row index,Columnname]"
   ]
  },
  {
   "cell_type": "code",
   "execution_count": 27,
   "id": "9406a8ce-953e-4eb0-b6f2-4c2975befb98",
   "metadata": {},
   "outputs": [
    {
     "data": {
      "text/plain": [
       "vegetables    beetroot\n",
       "color           purple\n",
       "unit               1kg\n",
       "min                 15\n",
       "max                 40\n",
       "Name: 0, dtype: object"
      ]
     },
     "execution_count": 27,
     "metadata": {},
     "output_type": "execute_result"
    }
   ],
   "source": [
    "market.loc[0]   #loc[] is used to access rows or columns by label or index."
   ]
  },
  {
   "cell_type": "code",
   "execution_count": 28,
   "id": "87ae2e0d-db35-479b-96de-68ecb08c1128",
   "metadata": {},
   "outputs": [
    {
     "data": {
      "text/plain": [
       "vegetables    carrot\n",
       "color         orange\n",
       "unit             1kg\n",
       "min               25\n",
       "max               45\n",
       "Name: 1, dtype: object"
      ]
     },
     "execution_count": 28,
     "metadata": {},
     "output_type": "execute_result"
    }
   ],
   "source": [
    "market.loc[1]"
   ]
  },
  {
   "cell_type": "code",
   "execution_count": 29,
   "id": "d5941bb5-b0df-42f6-8760-74f920902c7f",
   "metadata": {},
   "outputs": [
    {
     "data": {
      "text/html": [
       "<div>\n",
       "<style scoped>\n",
       "    .dataframe tbody tr th:only-of-type {\n",
       "        vertical-align: middle;\n",
       "    }\n",
       "\n",
       "    .dataframe tbody tr th {\n",
       "        vertical-align: top;\n",
       "    }\n",
       "\n",
       "    .dataframe thead th {\n",
       "        text-align: right;\n",
       "    }\n",
       "</style>\n",
       "<table border=\"1\" class=\"dataframe\">\n",
       "  <thead>\n",
       "    <tr style=\"text-align: right;\">\n",
       "      <th></th>\n",
       "      <th>vegetables</th>\n",
       "      <th>color</th>\n",
       "      <th>unit</th>\n",
       "      <th>min</th>\n",
       "      <th>max</th>\n",
       "    </tr>\n",
       "  </thead>\n",
       "  <tbody>\n",
       "    <tr>\n",
       "      <th>2</th>\n",
       "      <td>tomato</td>\n",
       "      <td>red</td>\n",
       "      <td>1kg</td>\n",
       "      <td>53</td>\n",
       "      <td>90</td>\n",
       "    </tr>\n",
       "  </tbody>\n",
       "</table>\n",
       "</div>"
      ],
      "text/plain": [
       "  vegetables color unit min  max\n",
       "2     tomato   red  1kg  53   90"
      ]
     },
     "execution_count": 29,
     "metadata": {},
     "output_type": "execute_result"
    }
   ],
   "source": [
    "market.loc[market['max'] > 50]"
   ]
  },
  {
   "cell_type": "code",
   "execution_count": 30,
   "id": "a08a3f76-ca90-40ed-9769-cc3e12e04067",
   "metadata": {},
   "outputs": [
    {
     "data": {
      "text/plain": [
       "0    False\n",
       "1    False\n",
       "2     True\n",
       "3    False\n",
       "4    False\n",
       "Name: max, dtype: bool"
      ]
     },
     "execution_count": 30,
     "metadata": {},
     "output_type": "execute_result"
    }
   ],
   "source": [
    "market['max']>50"
   ]
  },
  {
   "cell_type": "code",
   "execution_count": 31,
   "id": "f0454bef-7877-4fb0-a74f-fd0b496197f6",
   "metadata": {},
   "outputs": [
    {
     "data": {
      "text/html": [
       "<div>\n",
       "<style scoped>\n",
       "    .dataframe tbody tr th:only-of-type {\n",
       "        vertical-align: middle;\n",
       "    }\n",
       "\n",
       "    .dataframe tbody tr th {\n",
       "        vertical-align: top;\n",
       "    }\n",
       "\n",
       "    .dataframe thead th {\n",
       "        text-align: right;\n",
       "    }\n",
       "</style>\n",
       "<table border=\"1\" class=\"dataframe\">\n",
       "  <thead>\n",
       "    <tr style=\"text-align: right;\">\n",
       "      <th></th>\n",
       "      <th>vegetables</th>\n",
       "      <th>color</th>\n",
       "      <th>unit</th>\n",
       "      <th>min</th>\n",
       "      <th>max</th>\n",
       "      <th>above_50</th>\n",
       "    </tr>\n",
       "  </thead>\n",
       "  <tbody>\n",
       "    <tr>\n",
       "      <th>0</th>\n",
       "      <td>beetroot</td>\n",
       "      <td>purple</td>\n",
       "      <td>1kg</td>\n",
       "      <td>15</td>\n",
       "      <td>40</td>\n",
       "      <td>False</td>\n",
       "    </tr>\n",
       "    <tr>\n",
       "      <th>1</th>\n",
       "      <td>carrot</td>\n",
       "      <td>orange</td>\n",
       "      <td>1kg</td>\n",
       "      <td>25</td>\n",
       "      <td>45</td>\n",
       "      <td>False</td>\n",
       "    </tr>\n",
       "    <tr>\n",
       "      <th>2</th>\n",
       "      <td>tomato</td>\n",
       "      <td>red</td>\n",
       "      <td>1kg</td>\n",
       "      <td>53</td>\n",
       "      <td>90</td>\n",
       "      <td>True</td>\n",
       "    </tr>\n",
       "    <tr>\n",
       "      <th>3</th>\n",
       "      <td>kovakkai</td>\n",
       "      <td>green</td>\n",
       "      <td>1kg</td>\n",
       "      <td>30</td>\n",
       "      <td>45</td>\n",
       "      <td>False</td>\n",
       "    </tr>\n",
       "    <tr>\n",
       "      <th>4</th>\n",
       "      <td>coconut</td>\n",
       "      <td>white</td>\n",
       "      <td>1piece</td>\n",
       "      <td>seventeen</td>\n",
       "      <td>38</td>\n",
       "      <td>False</td>\n",
       "    </tr>\n",
       "  </tbody>\n",
       "</table>\n",
       "</div>"
      ],
      "text/plain": [
       "  vegetables   color    unit        min  max  above_50\n",
       "0   beetroot  purple     1kg         15   40     False\n",
       "1     carrot  orange     1kg         25   45     False\n",
       "2     tomato     red     1kg         53   90      True\n",
       "3   kovakkai   green     1kg         30   45     False\n",
       "4    coconut   white  1piece  seventeen   38     False"
      ]
     },
     "execution_count": 31,
     "metadata": {},
     "output_type": "execute_result"
    }
   ],
   "source": [
    "market['above_50']=market['max']>50\n",
    "market"
   ]
  },
  {
   "cell_type": "markdown",
   "id": "0042aafa-af91-4221-a5c8-af6b0871f295",
   "metadata": {},
   "source": [
    "**iloc[row_index,col_index]**"
   ]
  },
  {
   "cell_type": "markdown",
   "id": "b48ea548-6ff6-4bf9-9864-4f9500c40524",
   "metadata": {},
   "source": [
    "Syntax: DataFrame.iloc[row_index, column_index]"
   ]
  },
  {
   "cell_type": "code",
   "execution_count": 32,
   "id": "5a2e1f49-f2a8-4937-950b-0bbf8246837a",
   "metadata": {},
   "outputs": [
    {
     "data": {
      "text/html": [
       "<div>\n",
       "<style scoped>\n",
       "    .dataframe tbody tr th:only-of-type {\n",
       "        vertical-align: middle;\n",
       "    }\n",
       "\n",
       "    .dataframe tbody tr th {\n",
       "        vertical-align: top;\n",
       "    }\n",
       "\n",
       "    .dataframe thead th {\n",
       "        text-align: right;\n",
       "    }\n",
       "</style>\n",
       "<table border=\"1\" class=\"dataframe\">\n",
       "  <thead>\n",
       "    <tr style=\"text-align: right;\">\n",
       "      <th></th>\n",
       "      <th>vegetables</th>\n",
       "      <th>color</th>\n",
       "      <th>unit</th>\n",
       "      <th>min</th>\n",
       "      <th>max</th>\n",
       "      <th>above_50</th>\n",
       "    </tr>\n",
       "  </thead>\n",
       "  <tbody>\n",
       "    <tr>\n",
       "      <th>0</th>\n",
       "      <td>beetroot</td>\n",
       "      <td>purple</td>\n",
       "      <td>1kg</td>\n",
       "      <td>15</td>\n",
       "      <td>40</td>\n",
       "      <td>False</td>\n",
       "    </tr>\n",
       "    <tr>\n",
       "      <th>1</th>\n",
       "      <td>carrot</td>\n",
       "      <td>orange</td>\n",
       "      <td>1kg</td>\n",
       "      <td>25</td>\n",
       "      <td>45</td>\n",
       "      <td>False</td>\n",
       "    </tr>\n",
       "    <tr>\n",
       "      <th>2</th>\n",
       "      <td>tomato</td>\n",
       "      <td>red</td>\n",
       "      <td>1kg</td>\n",
       "      <td>53</td>\n",
       "      <td>90</td>\n",
       "      <td>True</td>\n",
       "    </tr>\n",
       "    <tr>\n",
       "      <th>3</th>\n",
       "      <td>kovakkai</td>\n",
       "      <td>green</td>\n",
       "      <td>1kg</td>\n",
       "      <td>30</td>\n",
       "      <td>45</td>\n",
       "      <td>False</td>\n",
       "    </tr>\n",
       "    <tr>\n",
       "      <th>4</th>\n",
       "      <td>coconut</td>\n",
       "      <td>white</td>\n",
       "      <td>1piece</td>\n",
       "      <td>seventeen</td>\n",
       "      <td>38</td>\n",
       "      <td>False</td>\n",
       "    </tr>\n",
       "  </tbody>\n",
       "</table>\n",
       "</div>"
      ],
      "text/plain": [
       "  vegetables   color    unit        min  max  above_50\n",
       "0   beetroot  purple     1kg         15   40     False\n",
       "1     carrot  orange     1kg         25   45     False\n",
       "2     tomato     red     1kg         53   90      True\n",
       "3   kovakkai   green     1kg         30   45     False\n",
       "4    coconut   white  1piece  seventeen   38     False"
      ]
     },
     "execution_count": 32,
     "metadata": {},
     "output_type": "execute_result"
    }
   ],
   "source": [
    "market"
   ]
  },
  {
   "cell_type": "code",
   "execution_count": 33,
   "id": "2f6f31e4-51d0-4b71-bfe9-2c4bcdb71af8",
   "metadata": {},
   "outputs": [
    {
     "data": {
      "text/html": [
       "<div>\n",
       "<style scoped>\n",
       "    .dataframe tbody tr th:only-of-type {\n",
       "        vertical-align: middle;\n",
       "    }\n",
       "\n",
       "    .dataframe tbody tr th {\n",
       "        vertical-align: top;\n",
       "    }\n",
       "\n",
       "    .dataframe thead th {\n",
       "        text-align: right;\n",
       "    }\n",
       "</style>\n",
       "<table border=\"1\" class=\"dataframe\">\n",
       "  <thead>\n",
       "    <tr style=\"text-align: right;\">\n",
       "      <th></th>\n",
       "      <th>vegetables</th>\n",
       "      <th>color</th>\n",
       "      <th>unit</th>\n",
       "    </tr>\n",
       "  </thead>\n",
       "  <tbody>\n",
       "    <tr>\n",
       "      <th>0</th>\n",
       "      <td>beetroot</td>\n",
       "      <td>purple</td>\n",
       "      <td>1kg</td>\n",
       "    </tr>\n",
       "    <tr>\n",
       "      <th>1</th>\n",
       "      <td>carrot</td>\n",
       "      <td>orange</td>\n",
       "      <td>1kg</td>\n",
       "    </tr>\n",
       "    <tr>\n",
       "      <th>2</th>\n",
       "      <td>tomato</td>\n",
       "      <td>red</td>\n",
       "      <td>1kg</td>\n",
       "    </tr>\n",
       "  </tbody>\n",
       "</table>\n",
       "</div>"
      ],
      "text/plain": [
       "  vegetables   color unit\n",
       "0   beetroot  purple  1kg\n",
       "1     carrot  orange  1kg\n",
       "2     tomato     red  1kg"
      ]
     },
     "execution_count": 33,
     "metadata": {},
     "output_type": "execute_result"
    }
   ],
   "source": [
    "market.iloc[0:3,0:3]      #Fetching the range "
   ]
  },
  {
   "cell_type": "code",
   "execution_count": 34,
   "id": "834a76f8-8e63-48d3-8334-db08465d3333",
   "metadata": {},
   "outputs": [
    {
     "data": {
      "text/html": [
       "<div>\n",
       "<style scoped>\n",
       "    .dataframe tbody tr th:only-of-type {\n",
       "        vertical-align: middle;\n",
       "    }\n",
       "\n",
       "    .dataframe tbody tr th {\n",
       "        vertical-align: top;\n",
       "    }\n",
       "\n",
       "    .dataframe thead th {\n",
       "        text-align: right;\n",
       "    }\n",
       "</style>\n",
       "<table border=\"1\" class=\"dataframe\">\n",
       "  <thead>\n",
       "    <tr style=\"text-align: right;\">\n",
       "      <th></th>\n",
       "      <th>vegetables</th>\n",
       "      <th>color</th>\n",
       "    </tr>\n",
       "  </thead>\n",
       "  <tbody>\n",
       "    <tr>\n",
       "      <th>1</th>\n",
       "      <td>carrot</td>\n",
       "      <td>orange</td>\n",
       "    </tr>\n",
       "    <tr>\n",
       "      <th>2</th>\n",
       "      <td>tomato</td>\n",
       "      <td>red</td>\n",
       "    </tr>\n",
       "  </tbody>\n",
       "</table>\n",
       "</div>"
      ],
      "text/plain": [
       "  vegetables   color\n",
       "1     carrot  orange\n",
       "2     tomato     red"
      ]
     },
     "execution_count": 34,
     "metadata": {},
     "output_type": "execute_result"
    }
   ],
   "source": [
    "market.iloc[1:3,0:2]"
   ]
  },
  {
   "cell_type": "code",
   "execution_count": 35,
   "id": "fdf78b5b-e2ea-4cda-9c20-4a59d3915f3c",
   "metadata": {
    "scrolled": true
   },
   "outputs": [
    {
     "data": {
      "text/plain": [
       "vegetables    beetroot\n",
       "color           purple\n",
       "unit               1kg\n",
       "Name: 0, dtype: object"
      ]
     },
     "execution_count": 35,
     "metadata": {},
     "output_type": "execute_result"
    }
   ],
   "source": [
    "market.iloc[0,0:3]"
   ]
  },
  {
   "cell_type": "markdown",
   "id": "ee8d46be-f391-4883-b094-b071536c1d51",
   "metadata": {},
   "source": [
    "**Adding and removing**"
   ]
  },
  {
   "cell_type": "code",
   "execution_count": 36,
   "id": "dec4481c-8fd0-4486-a1fc-0febec0b6297",
   "metadata": {},
   "outputs": [
    {
     "data": {
      "text/html": [
       "<div>\n",
       "<style scoped>\n",
       "    .dataframe tbody tr th:only-of-type {\n",
       "        vertical-align: middle;\n",
       "    }\n",
       "\n",
       "    .dataframe tbody tr th {\n",
       "        vertical-align: top;\n",
       "    }\n",
       "\n",
       "    .dataframe thead th {\n",
       "        text-align: right;\n",
       "    }\n",
       "</style>\n",
       "<table border=\"1\" class=\"dataframe\">\n",
       "  <thead>\n",
       "    <tr style=\"text-align: right;\">\n",
       "      <th></th>\n",
       "      <th>vegetables</th>\n",
       "      <th>color</th>\n",
       "      <th>unit</th>\n",
       "      <th>min</th>\n",
       "      <th>max</th>\n",
       "      <th>above_50</th>\n",
       "    </tr>\n",
       "  </thead>\n",
       "  <tbody>\n",
       "    <tr>\n",
       "      <th>0</th>\n",
       "      <td>beetroot</td>\n",
       "      <td>purple</td>\n",
       "      <td>1kg</td>\n",
       "      <td>15</td>\n",
       "      <td>40</td>\n",
       "      <td>False</td>\n",
       "    </tr>\n",
       "    <tr>\n",
       "      <th>1</th>\n",
       "      <td>carrot</td>\n",
       "      <td>orange</td>\n",
       "      <td>1kg</td>\n",
       "      <td>25</td>\n",
       "      <td>45</td>\n",
       "      <td>False</td>\n",
       "    </tr>\n",
       "    <tr>\n",
       "      <th>2</th>\n",
       "      <td>tomato</td>\n",
       "      <td>red</td>\n",
       "      <td>1kg</td>\n",
       "      <td>53</td>\n",
       "      <td>90</td>\n",
       "      <td>True</td>\n",
       "    </tr>\n",
       "    <tr>\n",
       "      <th>3</th>\n",
       "      <td>kovakkai</td>\n",
       "      <td>green</td>\n",
       "      <td>1kg</td>\n",
       "      <td>30</td>\n",
       "      <td>45</td>\n",
       "      <td>False</td>\n",
       "    </tr>\n",
       "    <tr>\n",
       "      <th>4</th>\n",
       "      <td>coconut</td>\n",
       "      <td>white</td>\n",
       "      <td>1piece</td>\n",
       "      <td>seventeen</td>\n",
       "      <td>38</td>\n",
       "      <td>False</td>\n",
       "    </tr>\n",
       "  </tbody>\n",
       "</table>\n",
       "</div>"
      ],
      "text/plain": [
       "  vegetables   color    unit        min  max  above_50\n",
       "0   beetroot  purple     1kg         15   40     False\n",
       "1     carrot  orange     1kg         25   45     False\n",
       "2     tomato     red     1kg         53   90      True\n",
       "3   kovakkai   green     1kg         30   45     False\n",
       "4    coconut   white  1piece  seventeen   38     False"
      ]
     },
     "execution_count": 36,
     "metadata": {},
     "output_type": "execute_result"
    }
   ],
   "source": [
    "market"
   ]
  },
  {
   "cell_type": "code",
   "execution_count": 37,
   "id": "23d37a8e-7347-4678-89b1-c26227041c88",
   "metadata": {},
   "outputs": [
    {
     "data": {
      "text/html": [
       "<div>\n",
       "<style scoped>\n",
       "    .dataframe tbody tr th:only-of-type {\n",
       "        vertical-align: middle;\n",
       "    }\n",
       "\n",
       "    .dataframe tbody tr th {\n",
       "        vertical-align: top;\n",
       "    }\n",
       "\n",
       "    .dataframe thead th {\n",
       "        text-align: right;\n",
       "    }\n",
       "</style>\n",
       "<table border=\"1\" class=\"dataframe\">\n",
       "  <thead>\n",
       "    <tr style=\"text-align: right;\">\n",
       "      <th></th>\n",
       "      <th>vegetables</th>\n",
       "      <th>color</th>\n",
       "      <th>unit</th>\n",
       "      <th>min</th>\n",
       "      <th>max</th>\n",
       "      <th>above_50</th>\n",
       "    </tr>\n",
       "  </thead>\n",
       "  <tbody>\n",
       "    <tr>\n",
       "      <th>0</th>\n",
       "      <td>beetroot</td>\n",
       "      <td>purple</td>\n",
       "      <td>1kg</td>\n",
       "      <td>15</td>\n",
       "      <td>40</td>\n",
       "      <td>False</td>\n",
       "    </tr>\n",
       "    <tr>\n",
       "      <th>1</th>\n",
       "      <td>carrot</td>\n",
       "      <td>orange</td>\n",
       "      <td>1kg</td>\n",
       "      <td>25</td>\n",
       "      <td>45</td>\n",
       "      <td>False</td>\n",
       "    </tr>\n",
       "    <tr>\n",
       "      <th>2</th>\n",
       "      <td>tomato</td>\n",
       "      <td>red</td>\n",
       "      <td>1kg</td>\n",
       "      <td>53</td>\n",
       "      <td>90</td>\n",
       "      <td>True</td>\n",
       "    </tr>\n",
       "    <tr>\n",
       "      <th>3</th>\n",
       "      <td>kovakkai</td>\n",
       "      <td>green</td>\n",
       "      <td>1kg</td>\n",
       "      <td>30</td>\n",
       "      <td>45</td>\n",
       "      <td>False</td>\n",
       "    </tr>\n",
       "    <tr>\n",
       "      <th>4</th>\n",
       "      <td>coconut</td>\n",
       "      <td>white</td>\n",
       "      <td>1piece</td>\n",
       "      <td>seventeen</td>\n",
       "      <td>38</td>\n",
       "      <td>False</td>\n",
       "    </tr>\n",
       "    <tr>\n",
       "      <th>5</th>\n",
       "      <td>Cabbage</td>\n",
       "      <td>green</td>\n",
       "      <td>1piece</td>\n",
       "      <td>10</td>\n",
       "      <td>30</td>\n",
       "      <td>False</td>\n",
       "    </tr>\n",
       "  </tbody>\n",
       "</table>\n",
       "</div>"
      ],
      "text/plain": [
       "  vegetables   color    unit        min  max  above_50\n",
       "0   beetroot  purple     1kg         15   40     False\n",
       "1     carrot  orange     1kg         25   45     False\n",
       "2     tomato     red     1kg         53   90      True\n",
       "3   kovakkai   green     1kg         30   45     False\n",
       "4    coconut   white  1piece  seventeen   38     False\n",
       "5    Cabbage   green  1piece         10   30     False"
      ]
     },
     "execution_count": 37,
     "metadata": {},
     "output_type": "execute_result"
    }
   ],
   "source": [
    "market.loc[5]={'vegetables':'Cabbage','color':'green','unit':'1piece','min':10,'max':30,'above_50':False}\n",
    "market"
   ]
  },
  {
   "cell_type": "code",
   "execution_count": 38,
   "id": "0fa54dae-00b1-4f1b-90fd-475355d6738b",
   "metadata": {},
   "outputs": [
    {
     "data": {
      "text/html": [
       "<div>\n",
       "<style scoped>\n",
       "    .dataframe tbody tr th:only-of-type {\n",
       "        vertical-align: middle;\n",
       "    }\n",
       "\n",
       "    .dataframe tbody tr th {\n",
       "        vertical-align: top;\n",
       "    }\n",
       "\n",
       "    .dataframe thead th {\n",
       "        text-align: right;\n",
       "    }\n",
       "</style>\n",
       "<table border=\"1\" class=\"dataframe\">\n",
       "  <thead>\n",
       "    <tr style=\"text-align: right;\">\n",
       "      <th></th>\n",
       "      <th>vegetables</th>\n",
       "      <th>color</th>\n",
       "      <th>unit</th>\n",
       "      <th>min</th>\n",
       "      <th>max</th>\n",
       "      <th>above_50</th>\n",
       "    </tr>\n",
       "  </thead>\n",
       "  <tbody>\n",
       "    <tr>\n",
       "      <th>0</th>\n",
       "      <td>beetroot</td>\n",
       "      <td>purple</td>\n",
       "      <td>1kg</td>\n",
       "      <td>15</td>\n",
       "      <td>40</td>\n",
       "      <td>False</td>\n",
       "    </tr>\n",
       "    <tr>\n",
       "      <th>1</th>\n",
       "      <td>carrot</td>\n",
       "      <td>orange</td>\n",
       "      <td>1kg</td>\n",
       "      <td>25</td>\n",
       "      <td>45</td>\n",
       "      <td>False</td>\n",
       "    </tr>\n",
       "    <tr>\n",
       "      <th>2</th>\n",
       "      <td>tomato</td>\n",
       "      <td>red</td>\n",
       "      <td>1kg</td>\n",
       "      <td>53</td>\n",
       "      <td>90</td>\n",
       "      <td>True</td>\n",
       "    </tr>\n",
       "    <tr>\n",
       "      <th>3</th>\n",
       "      <td>kovakkai</td>\n",
       "      <td>green</td>\n",
       "      <td>1kg</td>\n",
       "      <td>30</td>\n",
       "      <td>45</td>\n",
       "      <td>False</td>\n",
       "    </tr>\n",
       "    <tr>\n",
       "      <th>4</th>\n",
       "      <td>coconut</td>\n",
       "      <td>white</td>\n",
       "      <td>1piece</td>\n",
       "      <td>seventeen</td>\n",
       "      <td>38</td>\n",
       "      <td>False</td>\n",
       "    </tr>\n",
       "    <tr>\n",
       "      <th>5</th>\n",
       "      <td>Cabbage</td>\n",
       "      <td>green</td>\n",
       "      <td>1piece</td>\n",
       "      <td>10</td>\n",
       "      <td>30</td>\n",
       "      <td>False</td>\n",
       "    </tr>\n",
       "    <tr>\n",
       "      <th>6</th>\n",
       "      <td>Ladies Finger</td>\n",
       "      <td>green</td>\n",
       "      <td>1kg</td>\n",
       "      <td>10</td>\n",
       "      <td>35</td>\n",
       "      <td>False</td>\n",
       "    </tr>\n",
       "  </tbody>\n",
       "</table>\n",
       "</div>"
      ],
      "text/plain": [
       "      vegetables   color    unit        min  max  above_50\n",
       "0       beetroot  purple     1kg         15   40     False\n",
       "1         carrot  orange     1kg         25   45     False\n",
       "2         tomato     red     1kg         53   90      True\n",
       "3       kovakkai   green     1kg         30   45     False\n",
       "4        coconut   white  1piece  seventeen   38     False\n",
       "5        Cabbage   green  1piece         10   30     False\n",
       "6  Ladies Finger   green     1kg         10   35     False"
      ]
     },
     "execution_count": 38,
     "metadata": {},
     "output_type": "execute_result"
    }
   ],
   "source": [
    "market.loc[6]={'vegetables':'Ladies Finger','color':'green','unit':'1kg','min':10,'max':35,'above_50':False}\n",
    "market"
   ]
  },
  {
   "cell_type": "code",
   "execution_count": 39,
   "id": "7467341d-5f81-4aed-a559-447dd8b578e0",
   "metadata": {},
   "outputs": [
    {
     "data": {
      "text/html": [
       "<div>\n",
       "<style scoped>\n",
       "    .dataframe tbody tr th:only-of-type {\n",
       "        vertical-align: middle;\n",
       "    }\n",
       "\n",
       "    .dataframe tbody tr th {\n",
       "        vertical-align: top;\n",
       "    }\n",
       "\n",
       "    .dataframe thead th {\n",
       "        text-align: right;\n",
       "    }\n",
       "</style>\n",
       "<table border=\"1\" class=\"dataframe\">\n",
       "  <thead>\n",
       "    <tr style=\"text-align: right;\">\n",
       "      <th></th>\n",
       "      <th>vegetables</th>\n",
       "      <th>color</th>\n",
       "      <th>unit</th>\n",
       "      <th>min</th>\n",
       "      <th>max</th>\n",
       "      <th>above_50</th>\n",
       "    </tr>\n",
       "  </thead>\n",
       "  <tbody>\n",
       "    <tr>\n",
       "      <th>0</th>\n",
       "      <td>beetroot</td>\n",
       "      <td>purple</td>\n",
       "      <td>1kg</td>\n",
       "      <td>15</td>\n",
       "      <td>40</td>\n",
       "      <td>False</td>\n",
       "    </tr>\n",
       "    <tr>\n",
       "      <th>1</th>\n",
       "      <td>carrot</td>\n",
       "      <td>orange</td>\n",
       "      <td>1kg</td>\n",
       "      <td>25</td>\n",
       "      <td>45</td>\n",
       "      <td>False</td>\n",
       "    </tr>\n",
       "    <tr>\n",
       "      <th>2</th>\n",
       "      <td>tomato</td>\n",
       "      <td>red</td>\n",
       "      <td>1kg</td>\n",
       "      <td>53</td>\n",
       "      <td>90</td>\n",
       "      <td>True</td>\n",
       "    </tr>\n",
       "    <tr>\n",
       "      <th>3</th>\n",
       "      <td>kovakkai</td>\n",
       "      <td>green</td>\n",
       "      <td>1kg</td>\n",
       "      <td>30</td>\n",
       "      <td>45</td>\n",
       "      <td>False</td>\n",
       "    </tr>\n",
       "    <tr>\n",
       "      <th>4</th>\n",
       "      <td>coconut</td>\n",
       "      <td>white</td>\n",
       "      <td>1piece</td>\n",
       "      <td>seventeen</td>\n",
       "      <td>38</td>\n",
       "      <td>False</td>\n",
       "    </tr>\n",
       "    <tr>\n",
       "      <th>5</th>\n",
       "      <td>Cabbage</td>\n",
       "      <td>green</td>\n",
       "      <td>1piece</td>\n",
       "      <td>10</td>\n",
       "      <td>30</td>\n",
       "      <td>False</td>\n",
       "    </tr>\n",
       "  </tbody>\n",
       "</table>\n",
       "</div>"
      ],
      "text/plain": [
       "  vegetables   color    unit        min  max  above_50\n",
       "0   beetroot  purple     1kg         15   40     False\n",
       "1     carrot  orange     1kg         25   45     False\n",
       "2     tomato     red     1kg         53   90      True\n",
       "3   kovakkai   green     1kg         30   45     False\n",
       "4    coconut   white  1piece  seventeen   38     False\n",
       "5    Cabbage   green  1piece         10   30     False"
      ]
     },
     "execution_count": 39,
     "metadata": {},
     "output_type": "execute_result"
    }
   ],
   "source": [
    "market.drop([6])"
   ]
  },
  {
   "cell_type": "code",
   "execution_count": 40,
   "id": "24501beb-1ff3-45db-8cac-f0b7434001ba",
   "metadata": {},
   "outputs": [
    {
     "data": {
      "text/html": [
       "<div>\n",
       "<style scoped>\n",
       "    .dataframe tbody tr th:only-of-type {\n",
       "        vertical-align: middle;\n",
       "    }\n",
       "\n",
       "    .dataframe tbody tr th {\n",
       "        vertical-align: top;\n",
       "    }\n",
       "\n",
       "    .dataframe thead th {\n",
       "        text-align: right;\n",
       "    }\n",
       "</style>\n",
       "<table border=\"1\" class=\"dataframe\">\n",
       "  <thead>\n",
       "    <tr style=\"text-align: right;\">\n",
       "      <th></th>\n",
       "      <th>vegetables</th>\n",
       "      <th>color</th>\n",
       "      <th>unit</th>\n",
       "      <th>min</th>\n",
       "      <th>max</th>\n",
       "      <th>above_50</th>\n",
       "    </tr>\n",
       "  </thead>\n",
       "  <tbody>\n",
       "    <tr>\n",
       "      <th>0</th>\n",
       "      <td>beetroot</td>\n",
       "      <td>purple</td>\n",
       "      <td>1kg</td>\n",
       "      <td>15</td>\n",
       "      <td>40</td>\n",
       "      <td>False</td>\n",
       "    </tr>\n",
       "    <tr>\n",
       "      <th>1</th>\n",
       "      <td>carrot</td>\n",
       "      <td>orange</td>\n",
       "      <td>1kg</td>\n",
       "      <td>25</td>\n",
       "      <td>45</td>\n",
       "      <td>False</td>\n",
       "    </tr>\n",
       "    <tr>\n",
       "      <th>2</th>\n",
       "      <td>tomato</td>\n",
       "      <td>red</td>\n",
       "      <td>1kg</td>\n",
       "      <td>53</td>\n",
       "      <td>90</td>\n",
       "      <td>True</td>\n",
       "    </tr>\n",
       "    <tr>\n",
       "      <th>3</th>\n",
       "      <td>kovakkai</td>\n",
       "      <td>green</td>\n",
       "      <td>1kg</td>\n",
       "      <td>30</td>\n",
       "      <td>45</td>\n",
       "      <td>False</td>\n",
       "    </tr>\n",
       "    <tr>\n",
       "      <th>4</th>\n",
       "      <td>coconut</td>\n",
       "      <td>white</td>\n",
       "      <td>1piece</td>\n",
       "      <td>seventeen</td>\n",
       "      <td>38</td>\n",
       "      <td>False</td>\n",
       "    </tr>\n",
       "    <tr>\n",
       "      <th>5</th>\n",
       "      <td>Cabbage</td>\n",
       "      <td>green</td>\n",
       "      <td>1piece</td>\n",
       "      <td>10</td>\n",
       "      <td>30</td>\n",
       "      <td>False</td>\n",
       "    </tr>\n",
       "    <tr>\n",
       "      <th>6</th>\n",
       "      <td>Ladies Finger</td>\n",
       "      <td>green</td>\n",
       "      <td>1kg</td>\n",
       "      <td>10</td>\n",
       "      <td>35</td>\n",
       "      <td>False</td>\n",
       "    </tr>\n",
       "  </tbody>\n",
       "</table>\n",
       "</div>"
      ],
      "text/plain": [
       "      vegetables   color    unit        min  max  above_50\n",
       "0       beetroot  purple     1kg         15   40     False\n",
       "1         carrot  orange     1kg         25   45     False\n",
       "2         tomato     red     1kg         53   90      True\n",
       "3       kovakkai   green     1kg         30   45     False\n",
       "4        coconut   white  1piece  seventeen   38     False\n",
       "5        Cabbage   green  1piece         10   30     False\n",
       "6  Ladies Finger   green     1kg         10   35     False"
      ]
     },
     "execution_count": 40,
     "metadata": {},
     "output_type": "execute_result"
    }
   ],
   "source": [
    "market.loc[6]={'vegetables':'Ladies Finger','color':'green','unit':'1kg','min':10,'max':35,'above_50':False}\n",
    "market"
   ]
  },
  {
   "cell_type": "code",
   "execution_count": 41,
   "id": "702544fa-f7db-4e22-9491-4a5c0ed816a8",
   "metadata": {},
   "outputs": [
    {
     "data": {
      "text/html": [
       "<div>\n",
       "<style scoped>\n",
       "    .dataframe tbody tr th:only-of-type {\n",
       "        vertical-align: middle;\n",
       "    }\n",
       "\n",
       "    .dataframe tbody tr th {\n",
       "        vertical-align: top;\n",
       "    }\n",
       "\n",
       "    .dataframe thead th {\n",
       "        text-align: right;\n",
       "    }\n",
       "</style>\n",
       "<table border=\"1\" class=\"dataframe\">\n",
       "  <thead>\n",
       "    <tr style=\"text-align: right;\">\n",
       "      <th></th>\n",
       "      <th>vegetables</th>\n",
       "      <th>color</th>\n",
       "      <th>unit</th>\n",
       "      <th>min</th>\n",
       "      <th>max</th>\n",
       "      <th>above_50</th>\n",
       "    </tr>\n",
       "  </thead>\n",
       "  <tbody>\n",
       "    <tr>\n",
       "      <th>0</th>\n",
       "      <td>beetroot</td>\n",
       "      <td>purple</td>\n",
       "      <td>1kg</td>\n",
       "      <td>15</td>\n",
       "      <td>40</td>\n",
       "      <td>False</td>\n",
       "    </tr>\n",
       "    <tr>\n",
       "      <th>1</th>\n",
       "      <td>carrot</td>\n",
       "      <td>orange</td>\n",
       "      <td>1kg</td>\n",
       "      <td>25</td>\n",
       "      <td>45</td>\n",
       "      <td>False</td>\n",
       "    </tr>\n",
       "    <tr>\n",
       "      <th>2</th>\n",
       "      <td>tomato</td>\n",
       "      <td>red</td>\n",
       "      <td>1kg</td>\n",
       "      <td>53</td>\n",
       "      <td>90</td>\n",
       "      <td>True</td>\n",
       "    </tr>\n",
       "    <tr>\n",
       "      <th>3</th>\n",
       "      <td>kovakkai</td>\n",
       "      <td>green</td>\n",
       "      <td>1kg</td>\n",
       "      <td>30</td>\n",
       "      <td>45</td>\n",
       "      <td>False</td>\n",
       "    </tr>\n",
       "    <tr>\n",
       "      <th>4</th>\n",
       "      <td>coconut</td>\n",
       "      <td>white</td>\n",
       "      <td>1piece</td>\n",
       "      <td>seventeen</td>\n",
       "      <td>38</td>\n",
       "      <td>False</td>\n",
       "    </tr>\n",
       "    <tr>\n",
       "      <th>5</th>\n",
       "      <td>Cabbage</td>\n",
       "      <td>green</td>\n",
       "      <td>1piece</td>\n",
       "      <td>10</td>\n",
       "      <td>30</td>\n",
       "      <td>False</td>\n",
       "    </tr>\n",
       "  </tbody>\n",
       "</table>\n",
       "</div>"
      ],
      "text/plain": [
       "  vegetables   color    unit        min  max  above_50\n",
       "0   beetroot  purple     1kg         15   40     False\n",
       "1     carrot  orange     1kg         25   45     False\n",
       "2     tomato     red     1kg         53   90      True\n",
       "3   kovakkai   green     1kg         30   45     False\n",
       "4    coconut   white  1piece  seventeen   38     False\n",
       "5    Cabbage   green  1piece         10   30     False"
      ]
     },
     "execution_count": 41,
     "metadata": {},
     "output_type": "execute_result"
    }
   ],
   "source": [
    "market.drop([6],axis=0)"
   ]
  },
  {
   "cell_type": "code",
   "execution_count": 42,
   "id": "6d584090-15e7-4ecd-a157-0e64d4e13eda",
   "metadata": {},
   "outputs": [],
   "source": [
    "market.drop('above_50',axis=1,inplace=True)   #To drop the column "
   ]
  },
  {
   "cell_type": "code",
   "execution_count": 43,
   "id": "e75faa96-264b-4703-849f-11a9c73a8fb2",
   "metadata": {},
   "outputs": [
    {
     "data": {
      "text/html": [
       "<div>\n",
       "<style scoped>\n",
       "    .dataframe tbody tr th:only-of-type {\n",
       "        vertical-align: middle;\n",
       "    }\n",
       "\n",
       "    .dataframe tbody tr th {\n",
       "        vertical-align: top;\n",
       "    }\n",
       "\n",
       "    .dataframe thead th {\n",
       "        text-align: right;\n",
       "    }\n",
       "</style>\n",
       "<table border=\"1\" class=\"dataframe\">\n",
       "  <thead>\n",
       "    <tr style=\"text-align: right;\">\n",
       "      <th></th>\n",
       "      <th>vegetables</th>\n",
       "      <th>color</th>\n",
       "      <th>unit</th>\n",
       "      <th>min</th>\n",
       "      <th>max</th>\n",
       "    </tr>\n",
       "  </thead>\n",
       "  <tbody>\n",
       "    <tr>\n",
       "      <th>0</th>\n",
       "      <td>beetroot</td>\n",
       "      <td>purple</td>\n",
       "      <td>1kg</td>\n",
       "      <td>15</td>\n",
       "      <td>40</td>\n",
       "    </tr>\n",
       "    <tr>\n",
       "      <th>1</th>\n",
       "      <td>carrot</td>\n",
       "      <td>orange</td>\n",
       "      <td>1kg</td>\n",
       "      <td>25</td>\n",
       "      <td>45</td>\n",
       "    </tr>\n",
       "    <tr>\n",
       "      <th>2</th>\n",
       "      <td>tomato</td>\n",
       "      <td>red</td>\n",
       "      <td>1kg</td>\n",
       "      <td>53</td>\n",
       "      <td>90</td>\n",
       "    </tr>\n",
       "    <tr>\n",
       "      <th>3</th>\n",
       "      <td>kovakkai</td>\n",
       "      <td>green</td>\n",
       "      <td>1kg</td>\n",
       "      <td>30</td>\n",
       "      <td>45</td>\n",
       "    </tr>\n",
       "    <tr>\n",
       "      <th>4</th>\n",
       "      <td>coconut</td>\n",
       "      <td>white</td>\n",
       "      <td>1piece</td>\n",
       "      <td>seventeen</td>\n",
       "      <td>38</td>\n",
       "    </tr>\n",
       "    <tr>\n",
       "      <th>5</th>\n",
       "      <td>Cabbage</td>\n",
       "      <td>green</td>\n",
       "      <td>1piece</td>\n",
       "      <td>10</td>\n",
       "      <td>30</td>\n",
       "    </tr>\n",
       "    <tr>\n",
       "      <th>6</th>\n",
       "      <td>Ladies Finger</td>\n",
       "      <td>green</td>\n",
       "      <td>1kg</td>\n",
       "      <td>10</td>\n",
       "      <td>35</td>\n",
       "    </tr>\n",
       "  </tbody>\n",
       "</table>\n",
       "</div>"
      ],
      "text/plain": [
       "      vegetables   color    unit        min  max\n",
       "0       beetroot  purple     1kg         15   40\n",
       "1         carrot  orange     1kg         25   45\n",
       "2         tomato     red     1kg         53   90\n",
       "3       kovakkai   green     1kg         30   45\n",
       "4        coconut   white  1piece  seventeen   38\n",
       "5        Cabbage   green  1piece         10   30\n",
       "6  Ladies Finger   green     1kg         10   35"
      ]
     },
     "execution_count": 43,
     "metadata": {},
     "output_type": "execute_result"
    }
   ],
   "source": [
    "market"
   ]
  },
  {
   "cell_type": "code",
   "execution_count": 44,
   "id": "280a087c-14af-4be6-97be-4c1b0bb87446",
   "metadata": {},
   "outputs": [
    {
     "data": {
      "text/html": [
       "<div>\n",
       "<style scoped>\n",
       "    .dataframe tbody tr th:only-of-type {\n",
       "        vertical-align: middle;\n",
       "    }\n",
       "\n",
       "    .dataframe tbody tr th {\n",
       "        vertical-align: top;\n",
       "    }\n",
       "\n",
       "    .dataframe thead th {\n",
       "        text-align: right;\n",
       "    }\n",
       "</style>\n",
       "<table border=\"1\" class=\"dataframe\">\n",
       "  <thead>\n",
       "    <tr style=\"text-align: right;\">\n",
       "      <th></th>\n",
       "      <th>vegetables</th>\n",
       "      <th>color</th>\n",
       "      <th>unit</th>\n",
       "      <th>min</th>\n",
       "      <th>max</th>\n",
       "    </tr>\n",
       "  </thead>\n",
       "  <tbody>\n",
       "    <tr>\n",
       "      <th>0</th>\n",
       "      <td>beetroot</td>\n",
       "      <td>purple</td>\n",
       "      <td>1kg</td>\n",
       "      <td>15</td>\n",
       "      <td>40</td>\n",
       "    </tr>\n",
       "    <tr>\n",
       "      <th>1</th>\n",
       "      <td>carrot</td>\n",
       "      <td>orange</td>\n",
       "      <td>1kg</td>\n",
       "      <td>25</td>\n",
       "      <td>45</td>\n",
       "    </tr>\n",
       "    <tr>\n",
       "      <th>2</th>\n",
       "      <td>tomato</td>\n",
       "      <td>red</td>\n",
       "      <td>1kg</td>\n",
       "      <td>53</td>\n",
       "      <td>90</td>\n",
       "    </tr>\n",
       "    <tr>\n",
       "      <th>3</th>\n",
       "      <td>kovakkai</td>\n",
       "      <td>green</td>\n",
       "      <td>1kg</td>\n",
       "      <td>30</td>\n",
       "      <td>45</td>\n",
       "    </tr>\n",
       "    <tr>\n",
       "      <th>4</th>\n",
       "      <td>coconut</td>\n",
       "      <td>white</td>\n",
       "      <td>1piece</td>\n",
       "      <td>seventeen</td>\n",
       "      <td>38</td>\n",
       "    </tr>\n",
       "    <tr>\n",
       "      <th>5</th>\n",
       "      <td>Cabbage</td>\n",
       "      <td>green</td>\n",
       "      <td>1piece</td>\n",
       "      <td>10</td>\n",
       "      <td>30</td>\n",
       "    </tr>\n",
       "    <tr>\n",
       "      <th>6</th>\n",
       "      <td>Ladies Finger</td>\n",
       "      <td>green</td>\n",
       "      <td>1kg</td>\n",
       "      <td>10</td>\n",
       "      <td>35</td>\n",
       "    </tr>\n",
       "  </tbody>\n",
       "</table>\n",
       "</div>"
      ],
      "text/plain": [
       "      vegetables   color    unit        min  max\n",
       "0       beetroot  purple     1kg         15   40\n",
       "1         carrot  orange     1kg         25   45\n",
       "2         tomato     red     1kg         53   90\n",
       "3       kovakkai   green     1kg         30   45\n",
       "4        coconut   white  1piece  seventeen   38\n",
       "5        Cabbage   green  1piece         10   30\n",
       "6  Ladies Finger   green     1kg         10   35"
      ]
     },
     "execution_count": 44,
     "metadata": {},
     "output_type": "execute_result"
    }
   ],
   "source": [
    "market   #It won't remove from original market data"
   ]
  },
  {
   "cell_type": "code",
   "execution_count": 45,
   "id": "2109839b-29d3-402a-9bde-e86fb7613aaf",
   "metadata": {},
   "outputs": [],
   "source": [
    "market.drop([6],axis=0,inplace=True)   #axis=0 affects the rows"
   ]
  },
  {
   "cell_type": "code",
   "execution_count": 46,
   "id": "eae347b9-1939-416d-a7bd-6f9579310342",
   "metadata": {},
   "outputs": [
    {
     "data": {
      "text/html": [
       "<div>\n",
       "<style scoped>\n",
       "    .dataframe tbody tr th:only-of-type {\n",
       "        vertical-align: middle;\n",
       "    }\n",
       "\n",
       "    .dataframe tbody tr th {\n",
       "        vertical-align: top;\n",
       "    }\n",
       "\n",
       "    .dataframe thead th {\n",
       "        text-align: right;\n",
       "    }\n",
       "</style>\n",
       "<table border=\"1\" class=\"dataframe\">\n",
       "  <thead>\n",
       "    <tr style=\"text-align: right;\">\n",
       "      <th></th>\n",
       "      <th>vegetables</th>\n",
       "      <th>color</th>\n",
       "      <th>unit</th>\n",
       "      <th>min</th>\n",
       "      <th>max</th>\n",
       "    </tr>\n",
       "  </thead>\n",
       "  <tbody>\n",
       "    <tr>\n",
       "      <th>0</th>\n",
       "      <td>beetroot</td>\n",
       "      <td>purple</td>\n",
       "      <td>1kg</td>\n",
       "      <td>15</td>\n",
       "      <td>40</td>\n",
       "    </tr>\n",
       "    <tr>\n",
       "      <th>1</th>\n",
       "      <td>carrot</td>\n",
       "      <td>orange</td>\n",
       "      <td>1kg</td>\n",
       "      <td>25</td>\n",
       "      <td>45</td>\n",
       "    </tr>\n",
       "    <tr>\n",
       "      <th>2</th>\n",
       "      <td>tomato</td>\n",
       "      <td>red</td>\n",
       "      <td>1kg</td>\n",
       "      <td>53</td>\n",
       "      <td>90</td>\n",
       "    </tr>\n",
       "    <tr>\n",
       "      <th>3</th>\n",
       "      <td>kovakkai</td>\n",
       "      <td>green</td>\n",
       "      <td>1kg</td>\n",
       "      <td>30</td>\n",
       "      <td>45</td>\n",
       "    </tr>\n",
       "    <tr>\n",
       "      <th>4</th>\n",
       "      <td>coconut</td>\n",
       "      <td>white</td>\n",
       "      <td>1piece</td>\n",
       "      <td>seventeen</td>\n",
       "      <td>38</td>\n",
       "    </tr>\n",
       "    <tr>\n",
       "      <th>5</th>\n",
       "      <td>Cabbage</td>\n",
       "      <td>green</td>\n",
       "      <td>1piece</td>\n",
       "      <td>10</td>\n",
       "      <td>30</td>\n",
       "    </tr>\n",
       "  </tbody>\n",
       "</table>\n",
       "</div>"
      ],
      "text/plain": [
       "  vegetables   color    unit        min  max\n",
       "0   beetroot  purple     1kg         15   40\n",
       "1     carrot  orange     1kg         25   45\n",
       "2     tomato     red     1kg         53   90\n",
       "3   kovakkai   green     1kg         30   45\n",
       "4    coconut   white  1piece  seventeen   38\n",
       "5    Cabbage   green  1piece         10   30"
      ]
     },
     "execution_count": 46,
     "metadata": {},
     "output_type": "execute_result"
    }
   ],
   "source": [
    "market"
   ]
  },
  {
   "cell_type": "markdown",
   "id": "3bfbf15c-244a-4c59-b4fe-e70be473dbfb",
   "metadata": {},
   "source": [
    "**Handling missing values-isna,sum,any,fillna,dropna(imp)**"
   ]
  },
  {
   "cell_type": "code",
   "execution_count": 47,
   "id": "1b55f132-d4e6-4c34-8239-1405478767bb",
   "metadata": {},
   "outputs": [
    {
     "data": {
      "text/html": [
       "<div>\n",
       "<style scoped>\n",
       "    .dataframe tbody tr th:only-of-type {\n",
       "        vertical-align: middle;\n",
       "    }\n",
       "\n",
       "    .dataframe tbody tr th {\n",
       "        vertical-align: top;\n",
       "    }\n",
       "\n",
       "    .dataframe thead th {\n",
       "        text-align: right;\n",
       "    }\n",
       "</style>\n",
       "<table border=\"1\" class=\"dataframe\">\n",
       "  <thead>\n",
       "    <tr style=\"text-align: right;\">\n",
       "      <th></th>\n",
       "      <th>vegetables</th>\n",
       "      <th>color</th>\n",
       "      <th>unit</th>\n",
       "      <th>min</th>\n",
       "      <th>max</th>\n",
       "    </tr>\n",
       "  </thead>\n",
       "  <tbody>\n",
       "    <tr>\n",
       "      <th>0</th>\n",
       "      <td>beetroot</td>\n",
       "      <td>purple</td>\n",
       "      <td>1kg</td>\n",
       "      <td>15</td>\n",
       "      <td>40</td>\n",
       "    </tr>\n",
       "    <tr>\n",
       "      <th>1</th>\n",
       "      <td>carrot</td>\n",
       "      <td>orange</td>\n",
       "      <td>1kg</td>\n",
       "      <td>25</td>\n",
       "      <td>45</td>\n",
       "    </tr>\n",
       "    <tr>\n",
       "      <th>2</th>\n",
       "      <td>tomato</td>\n",
       "      <td>red</td>\n",
       "      <td>1kg</td>\n",
       "      <td>53</td>\n",
       "      <td>90</td>\n",
       "    </tr>\n",
       "    <tr>\n",
       "      <th>3</th>\n",
       "      <td>kovakkai</td>\n",
       "      <td>green</td>\n",
       "      <td>1kg</td>\n",
       "      <td>30</td>\n",
       "      <td>45</td>\n",
       "    </tr>\n",
       "    <tr>\n",
       "      <th>4</th>\n",
       "      <td>coconut</td>\n",
       "      <td>white</td>\n",
       "      <td>1piece</td>\n",
       "      <td>seventeen</td>\n",
       "      <td>38</td>\n",
       "    </tr>\n",
       "    <tr>\n",
       "      <th>5</th>\n",
       "      <td>Cabbage</td>\n",
       "      <td>green</td>\n",
       "      <td>1piece</td>\n",
       "      <td>10</td>\n",
       "      <td>30</td>\n",
       "    </tr>\n",
       "  </tbody>\n",
       "</table>\n",
       "</div>"
      ],
      "text/plain": [
       "  vegetables   color    unit        min  max\n",
       "0   beetroot  purple     1kg         15   40\n",
       "1     carrot  orange     1kg         25   45\n",
       "2     tomato     red     1kg         53   90\n",
       "3   kovakkai   green     1kg         30   45\n",
       "4    coconut   white  1piece  seventeen   38\n",
       "5    Cabbage   green  1piece         10   30"
      ]
     },
     "execution_count": 47,
     "metadata": {},
     "output_type": "execute_result"
    }
   ],
   "source": [
    "market"
   ]
  },
  {
   "cell_type": "code",
   "execution_count": 48,
   "id": "7426c766-561b-4551-9c33-0cac1c549e2a",
   "metadata": {},
   "outputs": [
    {
     "data": {
      "text/html": [
       "<div>\n",
       "<style scoped>\n",
       "    .dataframe tbody tr th:only-of-type {\n",
       "        vertical-align: middle;\n",
       "    }\n",
       "\n",
       "    .dataframe tbody tr th {\n",
       "        vertical-align: top;\n",
       "    }\n",
       "\n",
       "    .dataframe thead th {\n",
       "        text-align: right;\n",
       "    }\n",
       "</style>\n",
       "<table border=\"1\" class=\"dataframe\">\n",
       "  <thead>\n",
       "    <tr style=\"text-align: right;\">\n",
       "      <th></th>\n",
       "      <th>vegetables</th>\n",
       "      <th>color</th>\n",
       "      <th>unit</th>\n",
       "      <th>min</th>\n",
       "      <th>max</th>\n",
       "    </tr>\n",
       "  </thead>\n",
       "  <tbody>\n",
       "    <tr>\n",
       "      <th>0</th>\n",
       "      <td>False</td>\n",
       "      <td>False</td>\n",
       "      <td>False</td>\n",
       "      <td>False</td>\n",
       "      <td>False</td>\n",
       "    </tr>\n",
       "    <tr>\n",
       "      <th>1</th>\n",
       "      <td>False</td>\n",
       "      <td>False</td>\n",
       "      <td>False</td>\n",
       "      <td>False</td>\n",
       "      <td>False</td>\n",
       "    </tr>\n",
       "    <tr>\n",
       "      <th>2</th>\n",
       "      <td>False</td>\n",
       "      <td>False</td>\n",
       "      <td>False</td>\n",
       "      <td>False</td>\n",
       "      <td>False</td>\n",
       "    </tr>\n",
       "    <tr>\n",
       "      <th>3</th>\n",
       "      <td>False</td>\n",
       "      <td>False</td>\n",
       "      <td>False</td>\n",
       "      <td>False</td>\n",
       "      <td>False</td>\n",
       "    </tr>\n",
       "    <tr>\n",
       "      <th>4</th>\n",
       "      <td>False</td>\n",
       "      <td>False</td>\n",
       "      <td>False</td>\n",
       "      <td>False</td>\n",
       "      <td>False</td>\n",
       "    </tr>\n",
       "    <tr>\n",
       "      <th>5</th>\n",
       "      <td>False</td>\n",
       "      <td>False</td>\n",
       "      <td>False</td>\n",
       "      <td>False</td>\n",
       "      <td>False</td>\n",
       "    </tr>\n",
       "  </tbody>\n",
       "</table>\n",
       "</div>"
      ],
      "text/plain": [
       "   vegetables  color   unit    min    max\n",
       "0       False  False  False  False  False\n",
       "1       False  False  False  False  False\n",
       "2       False  False  False  False  False\n",
       "3       False  False  False  False  False\n",
       "4       False  False  False  False  False\n",
       "5       False  False  False  False  False"
      ]
     },
     "execution_count": 48,
     "metadata": {},
     "output_type": "execute_result"
    }
   ],
   "source": [
    "market.isna()   #Checking each and every values whether null or not"
   ]
  },
  {
   "cell_type": "code",
   "execution_count": 49,
   "id": "ecc0afda-3c93-4a8b-8a11-82c4f8212252",
   "metadata": {},
   "outputs": [
    {
     "data": {
      "text/plain": [
       "vegetables    0\n",
       "color         0\n",
       "unit          0\n",
       "min           0\n",
       "max           0\n",
       "dtype: int64"
      ]
     },
     "execution_count": 49,
     "metadata": {},
     "output_type": "execute_result"
    }
   ],
   "source": [
    "market.isna().sum()    #Counting the number of null values"
   ]
  },
  {
   "cell_type": "code",
   "execution_count": 50,
   "id": "086b2b1d-c56b-4fec-8f4b-352cbd8e3a2d",
   "metadata": {},
   "outputs": [],
   "source": [
    "import numpy as np    #To fill the null values we need numpy package"
   ]
  },
  {
   "cell_type": "code",
   "execution_count": 51,
   "id": "fe91da7f-10c9-4716-998e-b0be61cb42a5",
   "metadata": {},
   "outputs": [
    {
     "data": {
      "text/html": [
       "<div>\n",
       "<style scoped>\n",
       "    .dataframe tbody tr th:only-of-type {\n",
       "        vertical-align: middle;\n",
       "    }\n",
       "\n",
       "    .dataframe tbody tr th {\n",
       "        vertical-align: top;\n",
       "    }\n",
       "\n",
       "    .dataframe thead th {\n",
       "        text-align: right;\n",
       "    }\n",
       "</style>\n",
       "<table border=\"1\" class=\"dataframe\">\n",
       "  <thead>\n",
       "    <tr style=\"text-align: right;\">\n",
       "      <th></th>\n",
       "      <th>vegetables</th>\n",
       "      <th>color</th>\n",
       "      <th>unit</th>\n",
       "      <th>min</th>\n",
       "      <th>max</th>\n",
       "    </tr>\n",
       "  </thead>\n",
       "  <tbody>\n",
       "    <tr>\n",
       "      <th>0</th>\n",
       "      <td>beetroot</td>\n",
       "      <td>purple</td>\n",
       "      <td>1kg</td>\n",
       "      <td>15</td>\n",
       "      <td>40</td>\n",
       "    </tr>\n",
       "    <tr>\n",
       "      <th>1</th>\n",
       "      <td>carrot</td>\n",
       "      <td>orange</td>\n",
       "      <td>1kg</td>\n",
       "      <td>25</td>\n",
       "      <td>45</td>\n",
       "    </tr>\n",
       "    <tr>\n",
       "      <th>2</th>\n",
       "      <td>tomato</td>\n",
       "      <td>red</td>\n",
       "      <td>1kg</td>\n",
       "      <td>53</td>\n",
       "      <td>90</td>\n",
       "    </tr>\n",
       "    <tr>\n",
       "      <th>3</th>\n",
       "      <td>kovakkai</td>\n",
       "      <td>green</td>\n",
       "      <td>1kg</td>\n",
       "      <td>30</td>\n",
       "      <td>45</td>\n",
       "    </tr>\n",
       "    <tr>\n",
       "      <th>4</th>\n",
       "      <td>coconut</td>\n",
       "      <td>white</td>\n",
       "      <td>1piece</td>\n",
       "      <td>seventeen</td>\n",
       "      <td>38</td>\n",
       "    </tr>\n",
       "    <tr>\n",
       "      <th>5</th>\n",
       "      <td>Cabbage</td>\n",
       "      <td>green</td>\n",
       "      <td>1piece</td>\n",
       "      <td>10</td>\n",
       "      <td>30</td>\n",
       "    </tr>\n",
       "  </tbody>\n",
       "</table>\n",
       "</div>"
      ],
      "text/plain": [
       "  vegetables   color    unit        min  max\n",
       "0   beetroot  purple     1kg         15   40\n",
       "1     carrot  orange     1kg         25   45\n",
       "2     tomato     red     1kg         53   90\n",
       "3   kovakkai   green     1kg         30   45\n",
       "4    coconut   white  1piece  seventeen   38\n",
       "5    Cabbage   green  1piece         10   30"
      ]
     },
     "execution_count": 51,
     "metadata": {},
     "output_type": "execute_result"
    }
   ],
   "source": [
    "market"
   ]
  },
  {
   "cell_type": "code",
   "execution_count": 52,
   "id": "c86a9f56-0c12-4836-8fb6-4afa271882ce",
   "metadata": {},
   "outputs": [],
   "source": [
    "market.loc[4,'min']=np.nan                 #Using np.nan we included null values"
   ]
  },
  {
   "cell_type": "code",
   "execution_count": 53,
   "id": "9d905661-d9f0-4cbd-938d-61dfaf49efe6",
   "metadata": {},
   "outputs": [
    {
     "data": {
      "text/html": [
       "<div>\n",
       "<style scoped>\n",
       "    .dataframe tbody tr th:only-of-type {\n",
       "        vertical-align: middle;\n",
       "    }\n",
       "\n",
       "    .dataframe tbody tr th {\n",
       "        vertical-align: top;\n",
       "    }\n",
       "\n",
       "    .dataframe thead th {\n",
       "        text-align: right;\n",
       "    }\n",
       "</style>\n",
       "<table border=\"1\" class=\"dataframe\">\n",
       "  <thead>\n",
       "    <tr style=\"text-align: right;\">\n",
       "      <th></th>\n",
       "      <th>vegetables</th>\n",
       "      <th>color</th>\n",
       "      <th>unit</th>\n",
       "      <th>min</th>\n",
       "      <th>max</th>\n",
       "    </tr>\n",
       "  </thead>\n",
       "  <tbody>\n",
       "    <tr>\n",
       "      <th>0</th>\n",
       "      <td>beetroot</td>\n",
       "      <td>purple</td>\n",
       "      <td>1kg</td>\n",
       "      <td>15</td>\n",
       "      <td>40</td>\n",
       "    </tr>\n",
       "    <tr>\n",
       "      <th>1</th>\n",
       "      <td>carrot</td>\n",
       "      <td>orange</td>\n",
       "      <td>1kg</td>\n",
       "      <td>25</td>\n",
       "      <td>45</td>\n",
       "    </tr>\n",
       "    <tr>\n",
       "      <th>2</th>\n",
       "      <td>tomato</td>\n",
       "      <td>red</td>\n",
       "      <td>1kg</td>\n",
       "      <td>53</td>\n",
       "      <td>90</td>\n",
       "    </tr>\n",
       "    <tr>\n",
       "      <th>3</th>\n",
       "      <td>kovakkai</td>\n",
       "      <td>green</td>\n",
       "      <td>1kg</td>\n",
       "      <td>30</td>\n",
       "      <td>45</td>\n",
       "    </tr>\n",
       "    <tr>\n",
       "      <th>4</th>\n",
       "      <td>coconut</td>\n",
       "      <td>white</td>\n",
       "      <td>1piece</td>\n",
       "      <td>NaN</td>\n",
       "      <td>38</td>\n",
       "    </tr>\n",
       "    <tr>\n",
       "      <th>5</th>\n",
       "      <td>Cabbage</td>\n",
       "      <td>green</td>\n",
       "      <td>1piece</td>\n",
       "      <td>10</td>\n",
       "      <td>30</td>\n",
       "    </tr>\n",
       "  </tbody>\n",
       "</table>\n",
       "</div>"
      ],
      "text/plain": [
       "  vegetables   color    unit  min  max\n",
       "0   beetroot  purple     1kg   15   40\n",
       "1     carrot  orange     1kg   25   45\n",
       "2     tomato     red     1kg   53   90\n",
       "3   kovakkai   green     1kg   30   45\n",
       "4    coconut   white  1piece  NaN   38\n",
       "5    Cabbage   green  1piece   10   30"
      ]
     },
     "execution_count": 53,
     "metadata": {},
     "output_type": "execute_result"
    }
   ],
   "source": [
    "market"
   ]
  },
  {
   "cell_type": "markdown",
   "id": "87c7844c-7b98-4d0e-b2ee-9d29a6f4a5b9",
   "metadata": {},
   "source": [
    "DataFrame market contains a column like 'min' with mixed types — probably because it once had a string like 'seventeen' in it (as you mentioned earlier), so pandas treats the column as object type, not numeric.  So if it type integer then we can fill null value with integer values as market.fillna(20,inplace=True)...otherwise leads to error..."
   ]
  },
  {
   "cell_type": "code",
   "execution_count": 54,
   "id": "2ea94217-3c13-4063-9754-6b41a2e28842",
   "metadata": {},
   "outputs": [],
   "source": [
    "market.fillna(False,inplace=True)#Null value is filled by False variable"
   ]
  },
  {
   "cell_type": "code",
   "execution_count": 55,
   "id": "36f59857-6241-48a4-bb6b-bf4c057d3ac7",
   "metadata": {},
   "outputs": [
    {
     "data": {
      "text/html": [
       "<div>\n",
       "<style scoped>\n",
       "    .dataframe tbody tr th:only-of-type {\n",
       "        vertical-align: middle;\n",
       "    }\n",
       "\n",
       "    .dataframe tbody tr th {\n",
       "        vertical-align: top;\n",
       "    }\n",
       "\n",
       "    .dataframe thead th {\n",
       "        text-align: right;\n",
       "    }\n",
       "</style>\n",
       "<table border=\"1\" class=\"dataframe\">\n",
       "  <thead>\n",
       "    <tr style=\"text-align: right;\">\n",
       "      <th></th>\n",
       "      <th>vegetables</th>\n",
       "      <th>color</th>\n",
       "      <th>unit</th>\n",
       "      <th>min</th>\n",
       "      <th>max</th>\n",
       "    </tr>\n",
       "  </thead>\n",
       "  <tbody>\n",
       "    <tr>\n",
       "      <th>0</th>\n",
       "      <td>beetroot</td>\n",
       "      <td>purple</td>\n",
       "      <td>1kg</td>\n",
       "      <td>15</td>\n",
       "      <td>40</td>\n",
       "    </tr>\n",
       "    <tr>\n",
       "      <th>1</th>\n",
       "      <td>carrot</td>\n",
       "      <td>orange</td>\n",
       "      <td>1kg</td>\n",
       "      <td>25</td>\n",
       "      <td>45</td>\n",
       "    </tr>\n",
       "    <tr>\n",
       "      <th>2</th>\n",
       "      <td>tomato</td>\n",
       "      <td>red</td>\n",
       "      <td>1kg</td>\n",
       "      <td>53</td>\n",
       "      <td>90</td>\n",
       "    </tr>\n",
       "    <tr>\n",
       "      <th>3</th>\n",
       "      <td>kovakkai</td>\n",
       "      <td>green</td>\n",
       "      <td>1kg</td>\n",
       "      <td>30</td>\n",
       "      <td>45</td>\n",
       "    </tr>\n",
       "    <tr>\n",
       "      <th>4</th>\n",
       "      <td>coconut</td>\n",
       "      <td>white</td>\n",
       "      <td>1piece</td>\n",
       "      <td>False</td>\n",
       "      <td>38</td>\n",
       "    </tr>\n",
       "    <tr>\n",
       "      <th>5</th>\n",
       "      <td>Cabbage</td>\n",
       "      <td>green</td>\n",
       "      <td>1piece</td>\n",
       "      <td>10</td>\n",
       "      <td>30</td>\n",
       "    </tr>\n",
       "  </tbody>\n",
       "</table>\n",
       "</div>"
      ],
      "text/plain": [
       "  vegetables   color    unit    min  max\n",
       "0   beetroot  purple     1kg     15   40\n",
       "1     carrot  orange     1kg     25   45\n",
       "2     tomato     red     1kg     53   90\n",
       "3   kovakkai   green     1kg     30   45\n",
       "4    coconut   white  1piece  False   38\n",
       "5    Cabbage   green  1piece     10   30"
      ]
     },
     "execution_count": 55,
     "metadata": {},
     "output_type": "execute_result"
    }
   ],
   "source": [
    "market"
   ]
  },
  {
   "cell_type": "code",
   "execution_count": 56,
   "id": "28471460-6941-4bf4-b1e1-54a3593fc1b0",
   "metadata": {},
   "outputs": [
    {
     "data": {
      "text/html": [
       "<div>\n",
       "<style scoped>\n",
       "    .dataframe tbody tr th:only-of-type {\n",
       "        vertical-align: middle;\n",
       "    }\n",
       "\n",
       "    .dataframe tbody tr th {\n",
       "        vertical-align: top;\n",
       "    }\n",
       "\n",
       "    .dataframe thead th {\n",
       "        text-align: right;\n",
       "    }\n",
       "</style>\n",
       "<table border=\"1\" class=\"dataframe\">\n",
       "  <thead>\n",
       "    <tr style=\"text-align: right;\">\n",
       "      <th></th>\n",
       "      <th>vegetables</th>\n",
       "      <th>color</th>\n",
       "      <th>unit</th>\n",
       "      <th>min</th>\n",
       "      <th>max</th>\n",
       "    </tr>\n",
       "  </thead>\n",
       "  <tbody>\n",
       "    <tr>\n",
       "      <th>0</th>\n",
       "      <td>beetroot</td>\n",
       "      <td>purple</td>\n",
       "      <td>1kg</td>\n",
       "      <td>15</td>\n",
       "      <td>40</td>\n",
       "    </tr>\n",
       "    <tr>\n",
       "      <th>1</th>\n",
       "      <td>carrot</td>\n",
       "      <td>orange</td>\n",
       "      <td>1kg</td>\n",
       "      <td>25</td>\n",
       "      <td>45</td>\n",
       "    </tr>\n",
       "    <tr>\n",
       "      <th>2</th>\n",
       "      <td>tomato</td>\n",
       "      <td>red</td>\n",
       "      <td>1kg</td>\n",
       "      <td>53</td>\n",
       "      <td>90</td>\n",
       "    </tr>\n",
       "    <tr>\n",
       "      <th>3</th>\n",
       "      <td>kovakkai</td>\n",
       "      <td>green</td>\n",
       "      <td>1kg</td>\n",
       "      <td>30</td>\n",
       "      <td>45</td>\n",
       "    </tr>\n",
       "    <tr>\n",
       "      <th>4</th>\n",
       "      <td>coconut</td>\n",
       "      <td>white</td>\n",
       "      <td>1piece</td>\n",
       "      <td>False</td>\n",
       "      <td>38</td>\n",
       "    </tr>\n",
       "    <tr>\n",
       "      <th>5</th>\n",
       "      <td>Cabbage</td>\n",
       "      <td>green</td>\n",
       "      <td>1piece</td>\n",
       "      <td>10</td>\n",
       "      <td>30</td>\n",
       "    </tr>\n",
       "  </tbody>\n",
       "</table>\n",
       "</div>"
      ],
      "text/plain": [
       "  vegetables   color    unit    min  max\n",
       "0   beetroot  purple     1kg     15   40\n",
       "1     carrot  orange     1kg     25   45\n",
       "2     tomato     red     1kg     53   90\n",
       "3   kovakkai   green     1kg     30   45\n",
       "4    coconut   white  1piece  False   38\n",
       "5    Cabbage   green  1piece     10   30"
      ]
     },
     "execution_count": 56,
     "metadata": {},
     "output_type": "execute_result"
    }
   ],
   "source": [
    "market.dropna(axis=0)    #Not dropping anything because there is no null"
   ]
  },
  {
   "cell_type": "markdown",
   "id": "bc6f7969-c161-41de-ba7d-fdef0ba72a3d",
   "metadata": {},
   "source": [
    "**Lambda Function**"
   ]
  },
  {
   "cell_type": "code",
   "execution_count": 57,
   "id": "33620c1b-8530-4c7c-8b71-77da1a56c829",
   "metadata": {},
   "outputs": [],
   "source": [
    "market['max']=market['max'].apply(lambda x:x+5)    #Lambda function applied to increase the maximum values by 5"
   ]
  },
  {
   "cell_type": "code",
   "execution_count": 58,
   "id": "17d624c6-bde2-488c-9397-a8a4fceeabb0",
   "metadata": {},
   "outputs": [
    {
     "data": {
      "text/html": [
       "<div>\n",
       "<style scoped>\n",
       "    .dataframe tbody tr th:only-of-type {\n",
       "        vertical-align: middle;\n",
       "    }\n",
       "\n",
       "    .dataframe tbody tr th {\n",
       "        vertical-align: top;\n",
       "    }\n",
       "\n",
       "    .dataframe thead th {\n",
       "        text-align: right;\n",
       "    }\n",
       "</style>\n",
       "<table border=\"1\" class=\"dataframe\">\n",
       "  <thead>\n",
       "    <tr style=\"text-align: right;\">\n",
       "      <th></th>\n",
       "      <th>vegetables</th>\n",
       "      <th>color</th>\n",
       "      <th>unit</th>\n",
       "      <th>min</th>\n",
       "      <th>max</th>\n",
       "    </tr>\n",
       "  </thead>\n",
       "  <tbody>\n",
       "    <tr>\n",
       "      <th>0</th>\n",
       "      <td>beetroot</td>\n",
       "      <td>purple</td>\n",
       "      <td>1kg</td>\n",
       "      <td>15</td>\n",
       "      <td>45</td>\n",
       "    </tr>\n",
       "    <tr>\n",
       "      <th>1</th>\n",
       "      <td>carrot</td>\n",
       "      <td>orange</td>\n",
       "      <td>1kg</td>\n",
       "      <td>25</td>\n",
       "      <td>50</td>\n",
       "    </tr>\n",
       "    <tr>\n",
       "      <th>2</th>\n",
       "      <td>tomato</td>\n",
       "      <td>red</td>\n",
       "      <td>1kg</td>\n",
       "      <td>53</td>\n",
       "      <td>95</td>\n",
       "    </tr>\n",
       "    <tr>\n",
       "      <th>3</th>\n",
       "      <td>kovakkai</td>\n",
       "      <td>green</td>\n",
       "      <td>1kg</td>\n",
       "      <td>30</td>\n",
       "      <td>50</td>\n",
       "    </tr>\n",
       "    <tr>\n",
       "      <th>4</th>\n",
       "      <td>coconut</td>\n",
       "      <td>white</td>\n",
       "      <td>1piece</td>\n",
       "      <td>False</td>\n",
       "      <td>43</td>\n",
       "    </tr>\n",
       "    <tr>\n",
       "      <th>5</th>\n",
       "      <td>Cabbage</td>\n",
       "      <td>green</td>\n",
       "      <td>1piece</td>\n",
       "      <td>10</td>\n",
       "      <td>35</td>\n",
       "    </tr>\n",
       "  </tbody>\n",
       "</table>\n",
       "</div>"
      ],
      "text/plain": [
       "  vegetables   color    unit    min  max\n",
       "0   beetroot  purple     1kg     15   45\n",
       "1     carrot  orange     1kg     25   50\n",
       "2     tomato     red     1kg     53   95\n",
       "3   kovakkai   green     1kg     30   50\n",
       "4    coconut   white  1piece  False   43\n",
       "5    Cabbage   green  1piece     10   35"
      ]
     },
     "execution_count": 58,
     "metadata": {},
     "output_type": "execute_result"
    }
   ],
   "source": [
    "market"
   ]
  },
  {
   "cell_type": "markdown",
   "id": "75bff0ef-c538-4bb2-810d-1a5bea0aa978",
   "metadata": {},
   "source": [
    "**Data Aggregation and grouping**"
   ]
  },
  {
   "cell_type": "code",
   "execution_count": 59,
   "id": "552cde77-e488-4315-a5bb-f33a01dcb8a8",
   "metadata": {},
   "outputs": [
    {
     "data": {
      "text/html": [
       "<div>\n",
       "<style scoped>\n",
       "    .dataframe tbody tr th:only-of-type {\n",
       "        vertical-align: middle;\n",
       "    }\n",
       "\n",
       "    .dataframe tbody tr th {\n",
       "        vertical-align: top;\n",
       "    }\n",
       "\n",
       "    .dataframe thead th {\n",
       "        text-align: right;\n",
       "    }\n",
       "</style>\n",
       "<table border=\"1\" class=\"dataframe\">\n",
       "  <thead>\n",
       "    <tr style=\"text-align: right;\">\n",
       "      <th></th>\n",
       "      <th>vegetables</th>\n",
       "      <th>color</th>\n",
       "      <th>unit</th>\n",
       "      <th>min</th>\n",
       "      <th>max</th>\n",
       "    </tr>\n",
       "  </thead>\n",
       "  <tbody>\n",
       "    <tr>\n",
       "      <th>0</th>\n",
       "      <td>beetroot</td>\n",
       "      <td>purple</td>\n",
       "      <td>1kg</td>\n",
       "      <td>15</td>\n",
       "      <td>45</td>\n",
       "    </tr>\n",
       "    <tr>\n",
       "      <th>1</th>\n",
       "      <td>carrot</td>\n",
       "      <td>orange</td>\n",
       "      <td>1kg</td>\n",
       "      <td>25</td>\n",
       "      <td>50</td>\n",
       "    </tr>\n",
       "    <tr>\n",
       "      <th>2</th>\n",
       "      <td>tomato</td>\n",
       "      <td>red</td>\n",
       "      <td>1kg</td>\n",
       "      <td>53</td>\n",
       "      <td>95</td>\n",
       "    </tr>\n",
       "    <tr>\n",
       "      <th>3</th>\n",
       "      <td>kovakkai</td>\n",
       "      <td>green</td>\n",
       "      <td>1kg</td>\n",
       "      <td>30</td>\n",
       "      <td>50</td>\n",
       "    </tr>\n",
       "    <tr>\n",
       "      <th>4</th>\n",
       "      <td>coconut</td>\n",
       "      <td>white</td>\n",
       "      <td>1piece</td>\n",
       "      <td>False</td>\n",
       "      <td>43</td>\n",
       "    </tr>\n",
       "    <tr>\n",
       "      <th>5</th>\n",
       "      <td>Cabbage</td>\n",
       "      <td>green</td>\n",
       "      <td>1piece</td>\n",
       "      <td>10</td>\n",
       "      <td>35</td>\n",
       "    </tr>\n",
       "  </tbody>\n",
       "</table>\n",
       "</div>"
      ],
      "text/plain": [
       "  vegetables   color    unit    min  max\n",
       "0   beetroot  purple     1kg     15   45\n",
       "1     carrot  orange     1kg     25   50\n",
       "2     tomato     red     1kg     53   95\n",
       "3   kovakkai   green     1kg     30   50\n",
       "4    coconut   white  1piece  False   43\n",
       "5    Cabbage   green  1piece     10   35"
      ]
     },
     "execution_count": 59,
     "metadata": {},
     "output_type": "execute_result"
    }
   ],
   "source": [
    "market"
   ]
  },
  {
   "cell_type": "code",
   "execution_count": 60,
   "id": "6020d748-6890-4d28-a4cc-c1efd27bca4d",
   "metadata": {},
   "outputs": [
    {
     "data": {
      "text/plain": [
       "53.0"
      ]
     },
     "execution_count": 60,
     "metadata": {},
     "output_type": "execute_result"
    }
   ],
   "source": [
    "market['max'].mean()    #To find the mean value of max column"
   ]
  },
  {
   "cell_type": "code",
   "execution_count": 61,
   "id": "9d80c4a6-dce4-41fe-8c9b-d2653351dbd7",
   "metadata": {},
   "outputs": [
    {
     "data": {
      "text/plain": [
       "318"
      ]
     },
     "execution_count": 61,
     "metadata": {},
     "output_type": "execute_result"
    }
   ],
   "source": [
    "market['max'].sum()   #Sum of max column values"
   ]
  },
  {
   "cell_type": "code",
   "execution_count": 62,
   "id": "f19b44ed-435e-40f0-8a6f-775798b19b40",
   "metadata": {},
   "outputs": [
    {
     "data": {
      "text/plain": [
       "6"
      ]
     },
     "execution_count": 62,
     "metadata": {},
     "output_type": "execute_result"
    }
   ],
   "source": [
    "market['max'].count()  #Count of rows in max columns...Returns the number of non-null entries."
   ]
  },
  {
   "cell_type": "code",
   "execution_count": 63,
   "id": "017e1582-90c7-4ea4-8c5b-312541f1f83a",
   "metadata": {},
   "outputs": [
    {
     "data": {
      "text/plain": [
       "95"
      ]
     },
     "execution_count": 63,
     "metadata": {},
     "output_type": "execute_result"
    }
   ],
   "source": [
    "market['max'].max()    #Maximum value of max column"
   ]
  },
  {
   "cell_type": "code",
   "execution_count": 64,
   "id": "eaa921d5-7ec3-4c0b-9cc6-e857c6469ac6",
   "metadata": {},
   "outputs": [
    {
     "data": {
      "text/plain": [
       "35"
      ]
     },
     "execution_count": 64,
     "metadata": {},
     "output_type": "execute_result"
    }
   ],
   "source": [
    "market['max'].min()   #Minimum value of max column"
   ]
  },
  {
   "cell_type": "code",
   "execution_count": 65,
   "id": "f44c6642-e7ed-44f2-a344-74509a1fccbf",
   "metadata": {},
   "outputs": [
    {
     "data": {
      "text/plain": [
       "47.5"
      ]
     },
     "execution_count": 65,
     "metadata": {},
     "output_type": "execute_result"
    }
   ],
   "source": [
    "market['max'].median()   #Returns the middle value when data is sorted...sorted values of max column: 35, 43, 45, 50, 50, 95 ..median=(45+50)/2"
   ]
  },
  {
   "cell_type": "code",
   "execution_count": 66,
   "id": "23d31afb-7e50-4b98-a7f9-6e7f6c89dc8c",
   "metadata": {},
   "outputs": [
    {
     "data": {
      "text/plain": [
       "21.307275752662516"
      ]
     },
     "execution_count": 66,
     "metadata": {},
     "output_type": "execute_result"
    }
   ],
   "source": [
    "market['max'].std()       #Measures spread of values from the mean.\n"
   ]
  },
  {
   "cell_type": "code",
   "execution_count": 67,
   "id": "edd5bf24-81e0-4264-a4d0-ec723e226d80",
   "metadata": {},
   "outputs": [
    {
     "data": {
      "text/plain": [
       "454.0"
      ]
     },
     "execution_count": 67,
     "metadata": {},
     "output_type": "execute_result"
    }
   ],
   "source": [
    "market['max'].var()    #Square of standard deviation. Shows data spread."
   ]
  },
  {
   "cell_type": "code",
   "execution_count": 68,
   "id": "5a7e36db-369c-4ab3-b1af-77474fcd95ad",
   "metadata": {},
   "outputs": [
    {
     "data": {
      "text/plain": [
       "count     6.000000\n",
       "mean     53.000000\n",
       "std      21.307276\n",
       "min      35.000000\n",
       "25%      43.500000\n",
       "50%      47.500000\n",
       "75%      50.000000\n",
       "max      95.000000\n",
       "Name: max, dtype: float64"
      ]
     },
     "execution_count": 68,
     "metadata": {},
     "output_type": "execute_result"
    }
   ],
   "source": [
    "market['max'].describe()    #Gives full statistical summary for the column.\n"
   ]
  },
  {
   "cell_type": "code",
   "execution_count": 69,
   "id": "6ff651a2-97b4-4a90-af4f-15f28cbfb5ad",
   "metadata": {},
   "outputs": [
    {
     "data": {
      "text/html": [
       "<div>\n",
       "<style scoped>\n",
       "    .dataframe tbody tr th:only-of-type {\n",
       "        vertical-align: middle;\n",
       "    }\n",
       "\n",
       "    .dataframe tbody tr th {\n",
       "        vertical-align: top;\n",
       "    }\n",
       "\n",
       "    .dataframe thead th {\n",
       "        text-align: right;\n",
       "    }\n",
       "</style>\n",
       "<table border=\"1\" class=\"dataframe\">\n",
       "  <thead>\n",
       "    <tr style=\"text-align: right;\">\n",
       "      <th></th>\n",
       "      <th>vegetables</th>\n",
       "      <th>color</th>\n",
       "      <th>unit</th>\n",
       "      <th>min</th>\n",
       "      <th>max</th>\n",
       "    </tr>\n",
       "  </thead>\n",
       "  <tbody>\n",
       "    <tr>\n",
       "      <th>0</th>\n",
       "      <td>beetroot</td>\n",
       "      <td>purple</td>\n",
       "      <td>1kg</td>\n",
       "      <td>15</td>\n",
       "      <td>45</td>\n",
       "    </tr>\n",
       "    <tr>\n",
       "      <th>1</th>\n",
       "      <td>carrot</td>\n",
       "      <td>orange</td>\n",
       "      <td>1kg</td>\n",
       "      <td>25</td>\n",
       "      <td>50</td>\n",
       "    </tr>\n",
       "    <tr>\n",
       "      <th>2</th>\n",
       "      <td>tomato</td>\n",
       "      <td>red</td>\n",
       "      <td>1kg</td>\n",
       "      <td>53</td>\n",
       "      <td>95</td>\n",
       "    </tr>\n",
       "    <tr>\n",
       "      <th>3</th>\n",
       "      <td>kovakkai</td>\n",
       "      <td>green</td>\n",
       "      <td>1kg</td>\n",
       "      <td>30</td>\n",
       "      <td>50</td>\n",
       "    </tr>\n",
       "    <tr>\n",
       "      <th>4</th>\n",
       "      <td>coconut</td>\n",
       "      <td>white</td>\n",
       "      <td>1piece</td>\n",
       "      <td>False</td>\n",
       "      <td>43</td>\n",
       "    </tr>\n",
       "    <tr>\n",
       "      <th>5</th>\n",
       "      <td>Cabbage</td>\n",
       "      <td>green</td>\n",
       "      <td>1piece</td>\n",
       "      <td>10</td>\n",
       "      <td>35</td>\n",
       "    </tr>\n",
       "  </tbody>\n",
       "</table>\n",
       "</div>"
      ],
      "text/plain": [
       "  vegetables   color    unit    min  max\n",
       "0   beetroot  purple     1kg     15   45\n",
       "1     carrot  orange     1kg     25   50\n",
       "2     tomato     red     1kg     53   95\n",
       "3   kovakkai   green     1kg     30   50\n",
       "4    coconut   white  1piece  False   43\n",
       "5    Cabbage   green  1piece     10   35"
      ]
     },
     "execution_count": 69,
     "metadata": {},
     "output_type": "execute_result"
    }
   ],
   "source": [
    "market"
   ]
  },
  {
   "cell_type": "code",
   "execution_count": 70,
   "id": "b04f1e7c-d748-4cf6-947a-58f9ad8aee2b",
   "metadata": {},
   "outputs": [
    {
     "data": {
      "text/html": [
       "<div>\n",
       "<style scoped>\n",
       "    .dataframe tbody tr th:only-of-type {\n",
       "        vertical-align: middle;\n",
       "    }\n",
       "\n",
       "    .dataframe tbody tr th {\n",
       "        vertical-align: top;\n",
       "    }\n",
       "\n",
       "    .dataframe thead th {\n",
       "        text-align: right;\n",
       "    }\n",
       "</style>\n",
       "<table border=\"1\" class=\"dataframe\">\n",
       "  <thead>\n",
       "    <tr style=\"text-align: right;\">\n",
       "      <th></th>\n",
       "      <th>vegetables</th>\n",
       "      <th>color</th>\n",
       "      <th>min</th>\n",
       "      <th>max</th>\n",
       "    </tr>\n",
       "    <tr>\n",
       "      <th>unit</th>\n",
       "      <th></th>\n",
       "      <th></th>\n",
       "      <th></th>\n",
       "      <th></th>\n",
       "    </tr>\n",
       "  </thead>\n",
       "  <tbody>\n",
       "    <tr>\n",
       "      <th>1kg</th>\n",
       "      <td>beetrootcarrottomatokovakkai</td>\n",
       "      <td>purpleorangeredgreen</td>\n",
       "      <td>123</td>\n",
       "      <td>240</td>\n",
       "    </tr>\n",
       "    <tr>\n",
       "      <th>1piece</th>\n",
       "      <td>coconutCabbage</td>\n",
       "      <td>whitegreen</td>\n",
       "      <td>10</td>\n",
       "      <td>78</td>\n",
       "    </tr>\n",
       "  </tbody>\n",
       "</table>\n",
       "</div>"
      ],
      "text/plain": [
       "                          vegetables                 color  min  max\n",
       "unit                                                                \n",
       "1kg     beetrootcarrottomatokovakkai  purpleorangeredgreen  123  240\n",
       "1piece                coconutCabbage            whitegreen   10   78"
      ]
     },
     "execution_count": 70,
     "metadata": {},
     "output_type": "execute_result"
    }
   ],
   "source": [
    "market.groupby('unit').sum()"
   ]
  },
  {
   "cell_type": "code",
   "execution_count": 71,
   "id": "77eb5f60-5aed-41b2-8ad3-08c83a837ca4",
   "metadata": {},
   "outputs": [
    {
     "data": {
      "text/html": [
       "<div>\n",
       "<style scoped>\n",
       "    .dataframe tbody tr th:only-of-type {\n",
       "        vertical-align: middle;\n",
       "    }\n",
       "\n",
       "    .dataframe tbody tr th {\n",
       "        vertical-align: top;\n",
       "    }\n",
       "\n",
       "    .dataframe thead th {\n",
       "        text-align: right;\n",
       "    }\n",
       "</style>\n",
       "<table border=\"1\" class=\"dataframe\">\n",
       "  <thead>\n",
       "    <tr style=\"text-align: right;\">\n",
       "      <th></th>\n",
       "      <th>color</th>\n",
       "      <th>unit</th>\n",
       "      <th>min</th>\n",
       "      <th>max</th>\n",
       "    </tr>\n",
       "    <tr>\n",
       "      <th>vegetables</th>\n",
       "      <th></th>\n",
       "      <th></th>\n",
       "      <th></th>\n",
       "      <th></th>\n",
       "    </tr>\n",
       "  </thead>\n",
       "  <tbody>\n",
       "    <tr>\n",
       "      <th>Cabbage</th>\n",
       "      <td>green</td>\n",
       "      <td>1piece</td>\n",
       "      <td>10</td>\n",
       "      <td>35</td>\n",
       "    </tr>\n",
       "    <tr>\n",
       "      <th>beetroot</th>\n",
       "      <td>purple</td>\n",
       "      <td>1kg</td>\n",
       "      <td>15</td>\n",
       "      <td>45</td>\n",
       "    </tr>\n",
       "    <tr>\n",
       "      <th>carrot</th>\n",
       "      <td>orange</td>\n",
       "      <td>1kg</td>\n",
       "      <td>25</td>\n",
       "      <td>50</td>\n",
       "    </tr>\n",
       "    <tr>\n",
       "      <th>coconut</th>\n",
       "      <td>white</td>\n",
       "      <td>1piece</td>\n",
       "      <td>False</td>\n",
       "      <td>43</td>\n",
       "    </tr>\n",
       "    <tr>\n",
       "      <th>kovakkai</th>\n",
       "      <td>green</td>\n",
       "      <td>1kg</td>\n",
       "      <td>30</td>\n",
       "      <td>50</td>\n",
       "    </tr>\n",
       "    <tr>\n",
       "      <th>tomato</th>\n",
       "      <td>red</td>\n",
       "      <td>1kg</td>\n",
       "      <td>53</td>\n",
       "      <td>95</td>\n",
       "    </tr>\n",
       "  </tbody>\n",
       "</table>\n",
       "</div>"
      ],
      "text/plain": [
       "             color    unit    min  max\n",
       "vegetables                            \n",
       "Cabbage      green  1piece     10   35\n",
       "beetroot    purple     1kg     15   45\n",
       "carrot      orange     1kg     25   50\n",
       "coconut      white  1piece  False   43\n",
       "kovakkai     green     1kg     30   50\n",
       "tomato         red     1kg     53   95"
      ]
     },
     "execution_count": 71,
     "metadata": {},
     "output_type": "execute_result"
    }
   ],
   "source": [
    "market.groupby('vegetables').sum()"
   ]
  },
  {
   "cell_type": "markdown",
   "id": "1525cc30-2de4-4cf0-830f-0b280478b2ce",
   "metadata": {},
   "source": [
    "capital \"C\", and uppercase letters come before lowercase in ASCII order."
   ]
  },
  {
   "cell_type": "code",
   "execution_count": 72,
   "id": "f08addf5-0832-43d4-a69e-84b370f7c503",
   "metadata": {},
   "outputs": [
    {
     "data": {
      "text/html": [
       "<div>\n",
       "<style scoped>\n",
       "    .dataframe tbody tr th:only-of-type {\n",
       "        vertical-align: middle;\n",
       "    }\n",
       "\n",
       "    .dataframe tbody tr th {\n",
       "        vertical-align: top;\n",
       "    }\n",
       "\n",
       "    .dataframe thead th {\n",
       "        text-align: right;\n",
       "    }\n",
       "</style>\n",
       "<table border=\"1\" class=\"dataframe\">\n",
       "  <thead>\n",
       "    <tr style=\"text-align: right;\">\n",
       "      <th></th>\n",
       "      <th>vegetables</th>\n",
       "      <th>unit</th>\n",
       "      <th>min</th>\n",
       "      <th>max</th>\n",
       "    </tr>\n",
       "    <tr>\n",
       "      <th>color</th>\n",
       "      <th></th>\n",
       "      <th></th>\n",
       "      <th></th>\n",
       "      <th></th>\n",
       "    </tr>\n",
       "  </thead>\n",
       "  <tbody>\n",
       "    <tr>\n",
       "      <th>green</th>\n",
       "      <td>kovakkaiCabbage</td>\n",
       "      <td>1kg1piece</td>\n",
       "      <td>40</td>\n",
       "      <td>85</td>\n",
       "    </tr>\n",
       "    <tr>\n",
       "      <th>orange</th>\n",
       "      <td>carrot</td>\n",
       "      <td>1kg</td>\n",
       "      <td>25</td>\n",
       "      <td>50</td>\n",
       "    </tr>\n",
       "    <tr>\n",
       "      <th>purple</th>\n",
       "      <td>beetroot</td>\n",
       "      <td>1kg</td>\n",
       "      <td>15</td>\n",
       "      <td>45</td>\n",
       "    </tr>\n",
       "    <tr>\n",
       "      <th>red</th>\n",
       "      <td>tomato</td>\n",
       "      <td>1kg</td>\n",
       "      <td>53</td>\n",
       "      <td>95</td>\n",
       "    </tr>\n",
       "    <tr>\n",
       "      <th>white</th>\n",
       "      <td>coconut</td>\n",
       "      <td>1piece</td>\n",
       "      <td>False</td>\n",
       "      <td>43</td>\n",
       "    </tr>\n",
       "  </tbody>\n",
       "</table>\n",
       "</div>"
      ],
      "text/plain": [
       "             vegetables       unit    min  max\n",
       "color                                         \n",
       "green   kovakkaiCabbage  1kg1piece     40   85\n",
       "orange           carrot        1kg     25   50\n",
       "purple         beetroot        1kg     15   45\n",
       "red              tomato        1kg     53   95\n",
       "white           coconut     1piece  False   43"
      ]
     },
     "execution_count": 72,
     "metadata": {},
     "output_type": "execute_result"
    }
   ],
   "source": [
    "market.groupby('color').sum()"
   ]
  },
  {
   "cell_type": "code",
   "execution_count": 73,
   "id": "7552f406-61a4-4407-bcd2-3909793dbcdc",
   "metadata": {},
   "outputs": [
    {
     "data": {
      "text/html": [
       "<div>\n",
       "<style scoped>\n",
       "    .dataframe tbody tr th:only-of-type {\n",
       "        vertical-align: middle;\n",
       "    }\n",
       "\n",
       "    .dataframe tbody tr th {\n",
       "        vertical-align: top;\n",
       "    }\n",
       "\n",
       "    .dataframe thead th {\n",
       "        text-align: right;\n",
       "    }\n",
       "</style>\n",
       "<table border=\"1\" class=\"dataframe\">\n",
       "  <thead>\n",
       "    <tr style=\"text-align: right;\">\n",
       "      <th></th>\n",
       "      <th>vegetables</th>\n",
       "      <th>color</th>\n",
       "      <th>unit</th>\n",
       "      <th>max</th>\n",
       "    </tr>\n",
       "    <tr>\n",
       "      <th>min</th>\n",
       "      <th></th>\n",
       "      <th></th>\n",
       "      <th></th>\n",
       "      <th></th>\n",
       "    </tr>\n",
       "  </thead>\n",
       "  <tbody>\n",
       "    <tr>\n",
       "      <th>False</th>\n",
       "      <td>coconut</td>\n",
       "      <td>white</td>\n",
       "      <td>1piece</td>\n",
       "      <td>43</td>\n",
       "    </tr>\n",
       "    <tr>\n",
       "      <th>10</th>\n",
       "      <td>Cabbage</td>\n",
       "      <td>green</td>\n",
       "      <td>1piece</td>\n",
       "      <td>35</td>\n",
       "    </tr>\n",
       "    <tr>\n",
       "      <th>15</th>\n",
       "      <td>beetroot</td>\n",
       "      <td>purple</td>\n",
       "      <td>1kg</td>\n",
       "      <td>45</td>\n",
       "    </tr>\n",
       "    <tr>\n",
       "      <th>25</th>\n",
       "      <td>carrot</td>\n",
       "      <td>orange</td>\n",
       "      <td>1kg</td>\n",
       "      <td>50</td>\n",
       "    </tr>\n",
       "    <tr>\n",
       "      <th>30</th>\n",
       "      <td>kovakkai</td>\n",
       "      <td>green</td>\n",
       "      <td>1kg</td>\n",
       "      <td>50</td>\n",
       "    </tr>\n",
       "    <tr>\n",
       "      <th>53</th>\n",
       "      <td>tomato</td>\n",
       "      <td>red</td>\n",
       "      <td>1kg</td>\n",
       "      <td>95</td>\n",
       "    </tr>\n",
       "  </tbody>\n",
       "</table>\n",
       "</div>"
      ],
      "text/plain": [
       "      vegetables   color    unit  max\n",
       "min                                  \n",
       "False    coconut   white  1piece   43\n",
       "10       Cabbage   green  1piece   35\n",
       "15      beetroot  purple     1kg   45\n",
       "25        carrot  orange     1kg   50\n",
       "30      kovakkai   green     1kg   50\n",
       "53        tomato     red     1kg   95"
      ]
     },
     "execution_count": 73,
     "metadata": {},
     "output_type": "execute_result"
    }
   ],
   "source": [
    "market.groupby('min').sum()"
   ]
  },
  {
   "cell_type": "code",
   "execution_count": 74,
   "id": "775e6100-2438-4414-a5f5-920086c79fce",
   "metadata": {},
   "outputs": [
    {
     "data": {
      "text/html": [
       "<div>\n",
       "<style scoped>\n",
       "    .dataframe tbody tr th:only-of-type {\n",
       "        vertical-align: middle;\n",
       "    }\n",
       "\n",
       "    .dataframe tbody tr th {\n",
       "        vertical-align: top;\n",
       "    }\n",
       "\n",
       "    .dataframe thead th {\n",
       "        text-align: right;\n",
       "    }\n",
       "</style>\n",
       "<table border=\"1\" class=\"dataframe\">\n",
       "  <thead>\n",
       "    <tr style=\"text-align: right;\">\n",
       "      <th></th>\n",
       "      <th>vegetables</th>\n",
       "      <th>color</th>\n",
       "      <th>unit</th>\n",
       "      <th>min</th>\n",
       "    </tr>\n",
       "    <tr>\n",
       "      <th>max</th>\n",
       "      <th></th>\n",
       "      <th></th>\n",
       "      <th></th>\n",
       "      <th></th>\n",
       "    </tr>\n",
       "  </thead>\n",
       "  <tbody>\n",
       "    <tr>\n",
       "      <th>35</th>\n",
       "      <td>Cabbage</td>\n",
       "      <td>green</td>\n",
       "      <td>1piece</td>\n",
       "      <td>10</td>\n",
       "    </tr>\n",
       "    <tr>\n",
       "      <th>43</th>\n",
       "      <td>coconut</td>\n",
       "      <td>white</td>\n",
       "      <td>1piece</td>\n",
       "      <td>False</td>\n",
       "    </tr>\n",
       "    <tr>\n",
       "      <th>45</th>\n",
       "      <td>beetroot</td>\n",
       "      <td>purple</td>\n",
       "      <td>1kg</td>\n",
       "      <td>15</td>\n",
       "    </tr>\n",
       "    <tr>\n",
       "      <th>50</th>\n",
       "      <td>carrotkovakkai</td>\n",
       "      <td>orangegreen</td>\n",
       "      <td>1kg1kg</td>\n",
       "      <td>55</td>\n",
       "    </tr>\n",
       "    <tr>\n",
       "      <th>95</th>\n",
       "      <td>tomato</td>\n",
       "      <td>red</td>\n",
       "      <td>1kg</td>\n",
       "      <td>53</td>\n",
       "    </tr>\n",
       "  </tbody>\n",
       "</table>\n",
       "</div>"
      ],
      "text/plain": [
       "         vegetables        color    unit    min\n",
       "max                                            \n",
       "35          Cabbage        green  1piece     10\n",
       "43          coconut        white  1piece  False\n",
       "45         beetroot       purple     1kg     15\n",
       "50   carrotkovakkai  orangegreen  1kg1kg     55\n",
       "95           tomato          red     1kg     53"
      ]
     },
     "execution_count": 74,
     "metadata": {},
     "output_type": "execute_result"
    }
   ],
   "source": [
    "market.groupby('max').sum()"
   ]
  },
  {
   "cell_type": "code",
   "execution_count": 75,
   "id": "74615f5c-c1f7-4acf-a144-85024196b076",
   "metadata": {},
   "outputs": [
    {
     "name": "stdout",
     "output_type": "stream",
     "text": [
      "<class 'pandas.core.frame.DataFrame'>\n",
      "Index: 6 entries, 0 to 5\n",
      "Data columns (total 5 columns):\n",
      " #   Column      Non-Null Count  Dtype \n",
      "---  ------      --------------  ----- \n",
      " 0   vegetables  6 non-null      object\n",
      " 1   color       6 non-null      object\n",
      " 2   unit        6 non-null      object\n",
      " 3   min         6 non-null      object\n",
      " 4   max         6 non-null      int64 \n",
      "dtypes: int64(1), object(4)\n",
      "memory usage: 460.0+ bytes\n"
     ]
    }
   ],
   "source": [
    "market.info()"
   ]
  },
  {
   "cell_type": "markdown",
   "id": "d1934b26-269d-48ca-9448-dffd6cccc594",
   "metadata": {},
   "source": [
    "gives a summary of the DataFrame, including:\n",
    "\n",
    "Number of rows and columns\n",
    "\n",
    "Column names and data types\n",
    "\n",
    "Non-null counts (missing data insight)\n",
    "\n",
    "Memory usage"
   ]
  },
  {
   "cell_type": "code",
   "execution_count": 76,
   "id": "3d4a7d28-0152-4a43-b5dd-48f951016a57",
   "metadata": {},
   "outputs": [
    {
     "data": {
      "text/html": [
       "<div>\n",
       "<style scoped>\n",
       "    .dataframe tbody tr th:only-of-type {\n",
       "        vertical-align: middle;\n",
       "    }\n",
       "\n",
       "    .dataframe tbody tr th {\n",
       "        vertical-align: top;\n",
       "    }\n",
       "\n",
       "    .dataframe thead th {\n",
       "        text-align: right;\n",
       "    }\n",
       "</style>\n",
       "<table border=\"1\" class=\"dataframe\">\n",
       "  <thead>\n",
       "    <tr style=\"text-align: right;\">\n",
       "      <th></th>\n",
       "      <th>Student_ID</th>\n",
       "      <th>Age</th>\n",
       "      <th>Gender</th>\n",
       "      <th>Academic_Level</th>\n",
       "      <th>Country</th>\n",
       "      <th>Avg_Daily_Usage_Hours</th>\n",
       "      <th>Most_Used_Platform</th>\n",
       "      <th>Affects_Academic_Performance</th>\n",
       "      <th>Sleep_Hours_Per_Night</th>\n",
       "      <th>Mental_Health_Score</th>\n",
       "      <th>Relationship_Status</th>\n",
       "      <th>Conflicts_Over_Social_Media</th>\n",
       "      <th>Addicted_Score</th>\n",
       "    </tr>\n",
       "  </thead>\n",
       "  <tbody>\n",
       "    <tr>\n",
       "      <th>0</th>\n",
       "      <td>1</td>\n",
       "      <td>19</td>\n",
       "      <td>Female</td>\n",
       "      <td>Undergraduate</td>\n",
       "      <td>Bangladesh</td>\n",
       "      <td>5.2</td>\n",
       "      <td>Instagram</td>\n",
       "      <td>Yes</td>\n",
       "      <td>6.5</td>\n",
       "      <td>6</td>\n",
       "      <td>In Relationship</td>\n",
       "      <td>3</td>\n",
       "      <td>8</td>\n",
       "    </tr>\n",
       "    <tr>\n",
       "      <th>1</th>\n",
       "      <td>2</td>\n",
       "      <td>22</td>\n",
       "      <td>Male</td>\n",
       "      <td>Graduate</td>\n",
       "      <td>India</td>\n",
       "      <td>2.1</td>\n",
       "      <td>Twitter</td>\n",
       "      <td>No</td>\n",
       "      <td>7.5</td>\n",
       "      <td>8</td>\n",
       "      <td>Single</td>\n",
       "      <td>0</td>\n",
       "      <td>3</td>\n",
       "    </tr>\n",
       "    <tr>\n",
       "      <th>2</th>\n",
       "      <td>3</td>\n",
       "      <td>20</td>\n",
       "      <td>Female</td>\n",
       "      <td>Undergraduate</td>\n",
       "      <td>USA</td>\n",
       "      <td>6.0</td>\n",
       "      <td>TikTok</td>\n",
       "      <td>Yes</td>\n",
       "      <td>5.0</td>\n",
       "      <td>5</td>\n",
       "      <td>Complicated</td>\n",
       "      <td>4</td>\n",
       "      <td>9</td>\n",
       "    </tr>\n",
       "    <tr>\n",
       "      <th>3</th>\n",
       "      <td>4</td>\n",
       "      <td>18</td>\n",
       "      <td>Male</td>\n",
       "      <td>High School</td>\n",
       "      <td>UK</td>\n",
       "      <td>3.0</td>\n",
       "      <td>YouTube</td>\n",
       "      <td>No</td>\n",
       "      <td>7.0</td>\n",
       "      <td>7</td>\n",
       "      <td>Single</td>\n",
       "      <td>1</td>\n",
       "      <td>4</td>\n",
       "    </tr>\n",
       "    <tr>\n",
       "      <th>4</th>\n",
       "      <td>5</td>\n",
       "      <td>21</td>\n",
       "      <td>Male</td>\n",
       "      <td>Graduate</td>\n",
       "      <td>Canada</td>\n",
       "      <td>4.5</td>\n",
       "      <td>Facebook</td>\n",
       "      <td>Yes</td>\n",
       "      <td>6.0</td>\n",
       "      <td>6</td>\n",
       "      <td>In Relationship</td>\n",
       "      <td>2</td>\n",
       "      <td>7</td>\n",
       "    </tr>\n",
       "    <tr>\n",
       "      <th>...</th>\n",
       "      <td>...</td>\n",
       "      <td>...</td>\n",
       "      <td>...</td>\n",
       "      <td>...</td>\n",
       "      <td>...</td>\n",
       "      <td>...</td>\n",
       "      <td>...</td>\n",
       "      <td>...</td>\n",
       "      <td>...</td>\n",
       "      <td>...</td>\n",
       "      <td>...</td>\n",
       "      <td>...</td>\n",
       "      <td>...</td>\n",
       "    </tr>\n",
       "    <tr>\n",
       "      <th>700</th>\n",
       "      <td>701</td>\n",
       "      <td>20</td>\n",
       "      <td>Female</td>\n",
       "      <td>Undergraduate</td>\n",
       "      <td>Italy</td>\n",
       "      <td>4.7</td>\n",
       "      <td>TikTok</td>\n",
       "      <td>No</td>\n",
       "      <td>7.2</td>\n",
       "      <td>7</td>\n",
       "      <td>In Relationship</td>\n",
       "      <td>2</td>\n",
       "      <td>5</td>\n",
       "    </tr>\n",
       "    <tr>\n",
       "      <th>701</th>\n",
       "      <td>702</td>\n",
       "      <td>23</td>\n",
       "      <td>Male</td>\n",
       "      <td>Graduate</td>\n",
       "      <td>Russia</td>\n",
       "      <td>6.8</td>\n",
       "      <td>Instagram</td>\n",
       "      <td>Yes</td>\n",
       "      <td>5.9</td>\n",
       "      <td>4</td>\n",
       "      <td>Single</td>\n",
       "      <td>5</td>\n",
       "      <td>9</td>\n",
       "    </tr>\n",
       "    <tr>\n",
       "      <th>702</th>\n",
       "      <td>703</td>\n",
       "      <td>21</td>\n",
       "      <td>Female</td>\n",
       "      <td>Undergraduate</td>\n",
       "      <td>China</td>\n",
       "      <td>5.6</td>\n",
       "      <td>WeChat</td>\n",
       "      <td>Yes</td>\n",
       "      <td>6.7</td>\n",
       "      <td>6</td>\n",
       "      <td>In Relationship</td>\n",
       "      <td>3</td>\n",
       "      <td>7</td>\n",
       "    </tr>\n",
       "    <tr>\n",
       "      <th>703</th>\n",
       "      <td>704</td>\n",
       "      <td>24</td>\n",
       "      <td>Male</td>\n",
       "      <td>Graduate</td>\n",
       "      <td>Japan</td>\n",
       "      <td>4.3</td>\n",
       "      <td>Twitter</td>\n",
       "      <td>No</td>\n",
       "      <td>7.5</td>\n",
       "      <td>8</td>\n",
       "      <td>Single</td>\n",
       "      <td>2</td>\n",
       "      <td>4</td>\n",
       "    </tr>\n",
       "    <tr>\n",
       "      <th>704</th>\n",
       "      <td>705</td>\n",
       "      <td>19</td>\n",
       "      <td>Female</td>\n",
       "      <td>Undergraduate</td>\n",
       "      <td>Poland</td>\n",
       "      <td>6.2</td>\n",
       "      <td>Facebook</td>\n",
       "      <td>Yes</td>\n",
       "      <td>6.3</td>\n",
       "      <td>5</td>\n",
       "      <td>Single</td>\n",
       "      <td>4</td>\n",
       "      <td>8</td>\n",
       "    </tr>\n",
       "  </tbody>\n",
       "</table>\n",
       "<p>705 rows × 13 columns</p>\n",
       "</div>"
      ],
      "text/plain": [
       "     Student_ID  Age  Gender Academic_Level     Country  \\\n",
       "0             1   19  Female  Undergraduate  Bangladesh   \n",
       "1             2   22    Male       Graduate       India   \n",
       "2             3   20  Female  Undergraduate         USA   \n",
       "3             4   18    Male    High School          UK   \n",
       "4             5   21    Male       Graduate      Canada   \n",
       "..          ...  ...     ...            ...         ...   \n",
       "700         701   20  Female  Undergraduate       Italy   \n",
       "701         702   23    Male       Graduate      Russia   \n",
       "702         703   21  Female  Undergraduate       China   \n",
       "703         704   24    Male       Graduate       Japan   \n",
       "704         705   19  Female  Undergraduate      Poland   \n",
       "\n",
       "     Avg_Daily_Usage_Hours Most_Used_Platform Affects_Academic_Performance  \\\n",
       "0                      5.2          Instagram                          Yes   \n",
       "1                      2.1            Twitter                           No   \n",
       "2                      6.0             TikTok                          Yes   \n",
       "3                      3.0            YouTube                           No   \n",
       "4                      4.5           Facebook                          Yes   \n",
       "..                     ...                ...                          ...   \n",
       "700                    4.7             TikTok                           No   \n",
       "701                    6.8          Instagram                          Yes   \n",
       "702                    5.6             WeChat                          Yes   \n",
       "703                    4.3            Twitter                           No   \n",
       "704                    6.2           Facebook                          Yes   \n",
       "\n",
       "     Sleep_Hours_Per_Night  Mental_Health_Score Relationship_Status  \\\n",
       "0                      6.5                    6     In Relationship   \n",
       "1                      7.5                    8              Single   \n",
       "2                      5.0                    5         Complicated   \n",
       "3                      7.0                    7              Single   \n",
       "4                      6.0                    6     In Relationship   \n",
       "..                     ...                  ...                 ...   \n",
       "700                    7.2                    7     In Relationship   \n",
       "701                    5.9                    4              Single   \n",
       "702                    6.7                    6     In Relationship   \n",
       "703                    7.5                    8              Single   \n",
       "704                    6.3                    5              Single   \n",
       "\n",
       "     Conflicts_Over_Social_Media  Addicted_Score  \n",
       "0                              3               8  \n",
       "1                              0               3  \n",
       "2                              4               9  \n",
       "3                              1               4  \n",
       "4                              2               7  \n",
       "..                           ...             ...  \n",
       "700                            2               5  \n",
       "701                            5               9  \n",
       "702                            3               7  \n",
       "703                            2               4  \n",
       "704                            4               8  \n",
       "\n",
       "[705 rows x 13 columns]"
      ]
     },
     "execution_count": 76,
     "metadata": {},
     "output_type": "execute_result"
    }
   ],
   "source": [
    "d=pd.read_csv('stu social media addict.csv')\n",
    "d"
   ]
  },
  {
   "cell_type": "code",
   "execution_count": 77,
   "id": "af5a39c1-9e7a-4ac9-a185-b22a0ed7350c",
   "metadata": {},
   "outputs": [
    {
     "data": {
      "text/html": [
       "<div>\n",
       "<style scoped>\n",
       "    .dataframe tbody tr th:only-of-type {\n",
       "        vertical-align: middle;\n",
       "    }\n",
       "\n",
       "    .dataframe tbody tr th {\n",
       "        vertical-align: top;\n",
       "    }\n",
       "\n",
       "    .dataframe thead th {\n",
       "        text-align: right;\n",
       "    }\n",
       "</style>\n",
       "<table border=\"1\" class=\"dataframe\">\n",
       "  <thead>\n",
       "    <tr style=\"text-align: right;\">\n",
       "      <th></th>\n",
       "      <th>Student_ID</th>\n",
       "      <th>Age</th>\n",
       "      <th>Gender</th>\n",
       "      <th>Academic_Level</th>\n",
       "      <th>Country</th>\n",
       "      <th>Avg_Daily_Usage_Hours</th>\n",
       "      <th>Most_Used_Platform</th>\n",
       "      <th>Affects_Academic_Performance</th>\n",
       "      <th>Sleep_Hours_Per_Night</th>\n",
       "      <th>Mental_Health_Score</th>\n",
       "      <th>Relationship_Status</th>\n",
       "      <th>Conflicts_Over_Social_Media</th>\n",
       "      <th>Addicted_Score</th>\n",
       "    </tr>\n",
       "  </thead>\n",
       "  <tbody>\n",
       "    <tr>\n",
       "      <th>0</th>\n",
       "      <td>1</td>\n",
       "      <td>19</td>\n",
       "      <td>Female</td>\n",
       "      <td>Undergraduate</td>\n",
       "      <td>Bangladesh</td>\n",
       "      <td>5.2</td>\n",
       "      <td>Instagram</td>\n",
       "      <td>Yes</td>\n",
       "      <td>6.5</td>\n",
       "      <td>6</td>\n",
       "      <td>In Relationship</td>\n",
       "      <td>3</td>\n",
       "      <td>8</td>\n",
       "    </tr>\n",
       "    <tr>\n",
       "      <th>1</th>\n",
       "      <td>2</td>\n",
       "      <td>22</td>\n",
       "      <td>Male</td>\n",
       "      <td>Graduate</td>\n",
       "      <td>India</td>\n",
       "      <td>2.1</td>\n",
       "      <td>Twitter</td>\n",
       "      <td>No</td>\n",
       "      <td>7.5</td>\n",
       "      <td>8</td>\n",
       "      <td>Single</td>\n",
       "      <td>0</td>\n",
       "      <td>3</td>\n",
       "    </tr>\n",
       "    <tr>\n",
       "      <th>2</th>\n",
       "      <td>3</td>\n",
       "      <td>20</td>\n",
       "      <td>Female</td>\n",
       "      <td>Undergraduate</td>\n",
       "      <td>USA</td>\n",
       "      <td>6.0</td>\n",
       "      <td>TikTok</td>\n",
       "      <td>Yes</td>\n",
       "      <td>5.0</td>\n",
       "      <td>5</td>\n",
       "      <td>Complicated</td>\n",
       "      <td>4</td>\n",
       "      <td>9</td>\n",
       "    </tr>\n",
       "    <tr>\n",
       "      <th>3</th>\n",
       "      <td>4</td>\n",
       "      <td>18</td>\n",
       "      <td>Male</td>\n",
       "      <td>High School</td>\n",
       "      <td>UK</td>\n",
       "      <td>3.0</td>\n",
       "      <td>YouTube</td>\n",
       "      <td>No</td>\n",
       "      <td>7.0</td>\n",
       "      <td>7</td>\n",
       "      <td>Single</td>\n",
       "      <td>1</td>\n",
       "      <td>4</td>\n",
       "    </tr>\n",
       "    <tr>\n",
       "      <th>4</th>\n",
       "      <td>5</td>\n",
       "      <td>21</td>\n",
       "      <td>Male</td>\n",
       "      <td>Graduate</td>\n",
       "      <td>Canada</td>\n",
       "      <td>4.5</td>\n",
       "      <td>Facebook</td>\n",
       "      <td>Yes</td>\n",
       "      <td>6.0</td>\n",
       "      <td>6</td>\n",
       "      <td>In Relationship</td>\n",
       "      <td>2</td>\n",
       "      <td>7</td>\n",
       "    </tr>\n",
       "  </tbody>\n",
       "</table>\n",
       "</div>"
      ],
      "text/plain": [
       "   Student_ID  Age  Gender Academic_Level     Country  Avg_Daily_Usage_Hours  \\\n",
       "0           1   19  Female  Undergraduate  Bangladesh                    5.2   \n",
       "1           2   22    Male       Graduate       India                    2.1   \n",
       "2           3   20  Female  Undergraduate         USA                    6.0   \n",
       "3           4   18    Male    High School          UK                    3.0   \n",
       "4           5   21    Male       Graduate      Canada                    4.5   \n",
       "\n",
       "  Most_Used_Platform Affects_Academic_Performance  Sleep_Hours_Per_Night  \\\n",
       "0          Instagram                          Yes                    6.5   \n",
       "1            Twitter                           No                    7.5   \n",
       "2             TikTok                          Yes                    5.0   \n",
       "3            YouTube                           No                    7.0   \n",
       "4           Facebook                          Yes                    6.0   \n",
       "\n",
       "   Mental_Health_Score Relationship_Status  Conflicts_Over_Social_Media  \\\n",
       "0                    6     In Relationship                            3   \n",
       "1                    8              Single                            0   \n",
       "2                    5         Complicated                            4   \n",
       "3                    7              Single                            1   \n",
       "4                    6     In Relationship                            2   \n",
       "\n",
       "   Addicted_Score  \n",
       "0               8  \n",
       "1               3  \n",
       "2               9  \n",
       "3               4  \n",
       "4               7  "
      ]
     },
     "execution_count": 77,
     "metadata": {},
     "output_type": "execute_result"
    }
   ],
   "source": [
    "d.head()   #First 5 rows of the dataset"
   ]
  },
  {
   "cell_type": "code",
   "execution_count": 78,
   "id": "4dfcb97c-ad62-4af5-87cf-ba2cca2ed59a",
   "metadata": {},
   "outputs": [
    {
     "data": {
      "text/html": [
       "<div>\n",
       "<style scoped>\n",
       "    .dataframe tbody tr th:only-of-type {\n",
       "        vertical-align: middle;\n",
       "    }\n",
       "\n",
       "    .dataframe tbody tr th {\n",
       "        vertical-align: top;\n",
       "    }\n",
       "\n",
       "    .dataframe thead th {\n",
       "        text-align: right;\n",
       "    }\n",
       "</style>\n",
       "<table border=\"1\" class=\"dataframe\">\n",
       "  <thead>\n",
       "    <tr style=\"text-align: right;\">\n",
       "      <th></th>\n",
       "      <th>Student_ID</th>\n",
       "      <th>Age</th>\n",
       "      <th>Gender</th>\n",
       "      <th>Academic_Level</th>\n",
       "      <th>Country</th>\n",
       "      <th>Avg_Daily_Usage_Hours</th>\n",
       "      <th>Most_Used_Platform</th>\n",
       "      <th>Affects_Academic_Performance</th>\n",
       "      <th>Sleep_Hours_Per_Night</th>\n",
       "      <th>Mental_Health_Score</th>\n",
       "      <th>Relationship_Status</th>\n",
       "      <th>Conflicts_Over_Social_Media</th>\n",
       "      <th>Addicted_Score</th>\n",
       "    </tr>\n",
       "  </thead>\n",
       "  <tbody>\n",
       "    <tr>\n",
       "      <th>700</th>\n",
       "      <td>701</td>\n",
       "      <td>20</td>\n",
       "      <td>Female</td>\n",
       "      <td>Undergraduate</td>\n",
       "      <td>Italy</td>\n",
       "      <td>4.7</td>\n",
       "      <td>TikTok</td>\n",
       "      <td>No</td>\n",
       "      <td>7.2</td>\n",
       "      <td>7</td>\n",
       "      <td>In Relationship</td>\n",
       "      <td>2</td>\n",
       "      <td>5</td>\n",
       "    </tr>\n",
       "    <tr>\n",
       "      <th>701</th>\n",
       "      <td>702</td>\n",
       "      <td>23</td>\n",
       "      <td>Male</td>\n",
       "      <td>Graduate</td>\n",
       "      <td>Russia</td>\n",
       "      <td>6.8</td>\n",
       "      <td>Instagram</td>\n",
       "      <td>Yes</td>\n",
       "      <td>5.9</td>\n",
       "      <td>4</td>\n",
       "      <td>Single</td>\n",
       "      <td>5</td>\n",
       "      <td>9</td>\n",
       "    </tr>\n",
       "    <tr>\n",
       "      <th>702</th>\n",
       "      <td>703</td>\n",
       "      <td>21</td>\n",
       "      <td>Female</td>\n",
       "      <td>Undergraduate</td>\n",
       "      <td>China</td>\n",
       "      <td>5.6</td>\n",
       "      <td>WeChat</td>\n",
       "      <td>Yes</td>\n",
       "      <td>6.7</td>\n",
       "      <td>6</td>\n",
       "      <td>In Relationship</td>\n",
       "      <td>3</td>\n",
       "      <td>7</td>\n",
       "    </tr>\n",
       "    <tr>\n",
       "      <th>703</th>\n",
       "      <td>704</td>\n",
       "      <td>24</td>\n",
       "      <td>Male</td>\n",
       "      <td>Graduate</td>\n",
       "      <td>Japan</td>\n",
       "      <td>4.3</td>\n",
       "      <td>Twitter</td>\n",
       "      <td>No</td>\n",
       "      <td>7.5</td>\n",
       "      <td>8</td>\n",
       "      <td>Single</td>\n",
       "      <td>2</td>\n",
       "      <td>4</td>\n",
       "    </tr>\n",
       "    <tr>\n",
       "      <th>704</th>\n",
       "      <td>705</td>\n",
       "      <td>19</td>\n",
       "      <td>Female</td>\n",
       "      <td>Undergraduate</td>\n",
       "      <td>Poland</td>\n",
       "      <td>6.2</td>\n",
       "      <td>Facebook</td>\n",
       "      <td>Yes</td>\n",
       "      <td>6.3</td>\n",
       "      <td>5</td>\n",
       "      <td>Single</td>\n",
       "      <td>4</td>\n",
       "      <td>8</td>\n",
       "    </tr>\n",
       "  </tbody>\n",
       "</table>\n",
       "</div>"
      ],
      "text/plain": [
       "     Student_ID  Age  Gender Academic_Level Country  Avg_Daily_Usage_Hours  \\\n",
       "700         701   20  Female  Undergraduate   Italy                    4.7   \n",
       "701         702   23    Male       Graduate  Russia                    6.8   \n",
       "702         703   21  Female  Undergraduate   China                    5.6   \n",
       "703         704   24    Male       Graduate   Japan                    4.3   \n",
       "704         705   19  Female  Undergraduate  Poland                    6.2   \n",
       "\n",
       "    Most_Used_Platform Affects_Academic_Performance  Sleep_Hours_Per_Night  \\\n",
       "700             TikTok                           No                    7.2   \n",
       "701          Instagram                          Yes                    5.9   \n",
       "702             WeChat                          Yes                    6.7   \n",
       "703            Twitter                           No                    7.5   \n",
       "704           Facebook                          Yes                    6.3   \n",
       "\n",
       "     Mental_Health_Score Relationship_Status  Conflicts_Over_Social_Media  \\\n",
       "700                    7     In Relationship                            2   \n",
       "701                    4              Single                            5   \n",
       "702                    6     In Relationship                            3   \n",
       "703                    8              Single                            2   \n",
       "704                    5              Single                            4   \n",
       "\n",
       "     Addicted_Score  \n",
       "700               5  \n",
       "701               9  \n",
       "702               7  \n",
       "703               4  \n",
       "704               8  "
      ]
     },
     "execution_count": 78,
     "metadata": {},
     "output_type": "execute_result"
    }
   ],
   "source": [
    "d.tail()   #Last 5 rows of dataset"
   ]
  },
  {
   "cell_type": "code",
   "execution_count": 79,
   "id": "c2bf637f-0bc0-4c93-b2ad-ed1dcd9c718d",
   "metadata": {},
   "outputs": [
    {
     "data": {
      "text/html": [
       "<div>\n",
       "<style scoped>\n",
       "    .dataframe tbody tr th:only-of-type {\n",
       "        vertical-align: middle;\n",
       "    }\n",
       "\n",
       "    .dataframe tbody tr th {\n",
       "        vertical-align: top;\n",
       "    }\n",
       "\n",
       "    .dataframe thead th {\n",
       "        text-align: right;\n",
       "    }\n",
       "</style>\n",
       "<table border=\"1\" class=\"dataframe\">\n",
       "  <thead>\n",
       "    <tr style=\"text-align: right;\">\n",
       "      <th></th>\n",
       "      <th>Student_ID</th>\n",
       "      <th>Age</th>\n",
       "      <th>Avg_Daily_Usage_Hours</th>\n",
       "      <th>Sleep_Hours_Per_Night</th>\n",
       "      <th>Mental_Health_Score</th>\n",
       "      <th>Conflicts_Over_Social_Media</th>\n",
       "      <th>Addicted_Score</th>\n",
       "    </tr>\n",
       "  </thead>\n",
       "  <tbody>\n",
       "    <tr>\n",
       "      <th>count</th>\n",
       "      <td>705.000000</td>\n",
       "      <td>705.000000</td>\n",
       "      <td>705.000000</td>\n",
       "      <td>705.000000</td>\n",
       "      <td>705.000000</td>\n",
       "      <td>705.000000</td>\n",
       "      <td>705.000000</td>\n",
       "    </tr>\n",
       "    <tr>\n",
       "      <th>mean</th>\n",
       "      <td>353.000000</td>\n",
       "      <td>20.659574</td>\n",
       "      <td>4.918723</td>\n",
       "      <td>6.868936</td>\n",
       "      <td>6.226950</td>\n",
       "      <td>2.849645</td>\n",
       "      <td>6.436879</td>\n",
       "    </tr>\n",
       "    <tr>\n",
       "      <th>std</th>\n",
       "      <td>203.660256</td>\n",
       "      <td>1.399217</td>\n",
       "      <td>1.257395</td>\n",
       "      <td>1.126848</td>\n",
       "      <td>1.105055</td>\n",
       "      <td>0.957968</td>\n",
       "      <td>1.587165</td>\n",
       "    </tr>\n",
       "    <tr>\n",
       "      <th>min</th>\n",
       "      <td>1.000000</td>\n",
       "      <td>18.000000</td>\n",
       "      <td>1.500000</td>\n",
       "      <td>3.800000</td>\n",
       "      <td>4.000000</td>\n",
       "      <td>0.000000</td>\n",
       "      <td>2.000000</td>\n",
       "    </tr>\n",
       "    <tr>\n",
       "      <th>25%</th>\n",
       "      <td>177.000000</td>\n",
       "      <td>19.000000</td>\n",
       "      <td>4.100000</td>\n",
       "      <td>6.000000</td>\n",
       "      <td>5.000000</td>\n",
       "      <td>2.000000</td>\n",
       "      <td>5.000000</td>\n",
       "    </tr>\n",
       "    <tr>\n",
       "      <th>50%</th>\n",
       "      <td>353.000000</td>\n",
       "      <td>21.000000</td>\n",
       "      <td>4.800000</td>\n",
       "      <td>6.900000</td>\n",
       "      <td>6.000000</td>\n",
       "      <td>3.000000</td>\n",
       "      <td>7.000000</td>\n",
       "    </tr>\n",
       "    <tr>\n",
       "      <th>75%</th>\n",
       "      <td>529.000000</td>\n",
       "      <td>22.000000</td>\n",
       "      <td>5.800000</td>\n",
       "      <td>7.700000</td>\n",
       "      <td>7.000000</td>\n",
       "      <td>4.000000</td>\n",
       "      <td>8.000000</td>\n",
       "    </tr>\n",
       "    <tr>\n",
       "      <th>max</th>\n",
       "      <td>705.000000</td>\n",
       "      <td>24.000000</td>\n",
       "      <td>8.500000</td>\n",
       "      <td>9.600000</td>\n",
       "      <td>9.000000</td>\n",
       "      <td>5.000000</td>\n",
       "      <td>9.000000</td>\n",
       "    </tr>\n",
       "  </tbody>\n",
       "</table>\n",
       "</div>"
      ],
      "text/plain": [
       "       Student_ID         Age  Avg_Daily_Usage_Hours  Sleep_Hours_Per_Night  \\\n",
       "count  705.000000  705.000000             705.000000             705.000000   \n",
       "mean   353.000000   20.659574               4.918723               6.868936   \n",
       "std    203.660256    1.399217               1.257395               1.126848   \n",
       "min      1.000000   18.000000               1.500000               3.800000   \n",
       "25%    177.000000   19.000000               4.100000               6.000000   \n",
       "50%    353.000000   21.000000               4.800000               6.900000   \n",
       "75%    529.000000   22.000000               5.800000               7.700000   \n",
       "max    705.000000   24.000000               8.500000               9.600000   \n",
       "\n",
       "       Mental_Health_Score  Conflicts_Over_Social_Media  Addicted_Score  \n",
       "count           705.000000                   705.000000      705.000000  \n",
       "mean              6.226950                     2.849645        6.436879  \n",
       "std               1.105055                     0.957968        1.587165  \n",
       "min               4.000000                     0.000000        2.000000  \n",
       "25%               5.000000                     2.000000        5.000000  \n",
       "50%               6.000000                     3.000000        7.000000  \n",
       "75%               7.000000                     4.000000        8.000000  \n",
       "max               9.000000                     5.000000        9.000000  "
      ]
     },
     "execution_count": 79,
     "metadata": {},
     "output_type": "execute_result"
    }
   ],
   "source": [
    "d.describe()    #Gives the summary of dataset"
   ]
  },
  {
   "cell_type": "code",
   "execution_count": 80,
   "id": "d90407b2-e9e6-4f39-9043-ecb70a80e803",
   "metadata": {},
   "outputs": [
    {
     "data": {
      "text/html": [
       "<div>\n",
       "<style scoped>\n",
       "    .dataframe tbody tr th:only-of-type {\n",
       "        vertical-align: middle;\n",
       "    }\n",
       "\n",
       "    .dataframe tbody tr th {\n",
       "        vertical-align: top;\n",
       "    }\n",
       "\n",
       "    .dataframe thead th {\n",
       "        text-align: right;\n",
       "    }\n",
       "</style>\n",
       "<table border=\"1\" class=\"dataframe\">\n",
       "  <thead>\n",
       "    <tr style=\"text-align: right;\">\n",
       "      <th></th>\n",
       "      <th>Gender</th>\n",
       "      <th>Academic_Level</th>\n",
       "      <th>Country</th>\n",
       "      <th>Most_Used_Platform</th>\n",
       "      <th>Affects_Academic_Performance</th>\n",
       "      <th>Relationship_Status</th>\n",
       "    </tr>\n",
       "  </thead>\n",
       "  <tbody>\n",
       "    <tr>\n",
       "      <th>count</th>\n",
       "      <td>705</td>\n",
       "      <td>705</td>\n",
       "      <td>705</td>\n",
       "      <td>705</td>\n",
       "      <td>705</td>\n",
       "      <td>705</td>\n",
       "    </tr>\n",
       "    <tr>\n",
       "      <th>unique</th>\n",
       "      <td>2</td>\n",
       "      <td>3</td>\n",
       "      <td>110</td>\n",
       "      <td>12</td>\n",
       "      <td>2</td>\n",
       "      <td>3</td>\n",
       "    </tr>\n",
       "    <tr>\n",
       "      <th>top</th>\n",
       "      <td>Female</td>\n",
       "      <td>Undergraduate</td>\n",
       "      <td>India</td>\n",
       "      <td>Instagram</td>\n",
       "      <td>Yes</td>\n",
       "      <td>Single</td>\n",
       "    </tr>\n",
       "    <tr>\n",
       "      <th>freq</th>\n",
       "      <td>353</td>\n",
       "      <td>353</td>\n",
       "      <td>53</td>\n",
       "      <td>249</td>\n",
       "      <td>453</td>\n",
       "      <td>384</td>\n",
       "    </tr>\n",
       "  </tbody>\n",
       "</table>\n",
       "</div>"
      ],
      "text/plain": [
       "        Gender Academic_Level Country Most_Used_Platform  \\\n",
       "count      705            705     705                705   \n",
       "unique       2              3     110                 12   \n",
       "top     Female  Undergraduate   India          Instagram   \n",
       "freq       353            353      53                249   \n",
       "\n",
       "       Affects_Academic_Performance Relationship_Status  \n",
       "count                           705                 705  \n",
       "unique                            2                   3  \n",
       "top                             Yes              Single  \n",
       "freq                            453                 384  "
      ]
     },
     "execution_count": 80,
     "metadata": {},
     "output_type": "execute_result"
    }
   ],
   "source": [
    "d.describe(include=\"object\")   #It extracts only object datatype columns"
   ]
  },
  {
   "cell_type": "code",
   "execution_count": 81,
   "id": "3793252c-71ab-4b96-a8b0-8d7fb90aeaac",
   "metadata": {},
   "outputs": [
    {
     "name": "stdout",
     "output_type": "stream",
     "text": [
      "<class 'pandas.core.frame.DataFrame'>\n",
      "RangeIndex: 705 entries, 0 to 704\n",
      "Data columns (total 13 columns):\n",
      " #   Column                        Non-Null Count  Dtype  \n",
      "---  ------                        --------------  -----  \n",
      " 0   Student_ID                    705 non-null    int64  \n",
      " 1   Age                           705 non-null    int64  \n",
      " 2   Gender                        705 non-null    object \n",
      " 3   Academic_Level                705 non-null    object \n",
      " 4   Country                       705 non-null    object \n",
      " 5   Avg_Daily_Usage_Hours         705 non-null    float64\n",
      " 6   Most_Used_Platform            705 non-null    object \n",
      " 7   Affects_Academic_Performance  705 non-null    object \n",
      " 8   Sleep_Hours_Per_Night         705 non-null    float64\n",
      " 9   Mental_Health_Score           705 non-null    int64  \n",
      " 10  Relationship_Status           705 non-null    object \n",
      " 11  Conflicts_Over_Social_Media   705 non-null    int64  \n",
      " 12  Addicted_Score                705 non-null    int64  \n",
      "dtypes: float64(2), int64(5), object(6)\n",
      "memory usage: 71.7+ KB\n"
     ]
    }
   ],
   "source": [
    "d.info()   #We can find datatypes of columns here"
   ]
  },
  {
   "cell_type": "code",
   "execution_count": 82,
   "id": "e94bf051-10f4-4bad-8073-99e6a4c8102f",
   "metadata": {},
   "outputs": [
    {
     "data": {
      "text/html": [
       "<div>\n",
       "<style scoped>\n",
       "    .dataframe tbody tr th:only-of-type {\n",
       "        vertical-align: middle;\n",
       "    }\n",
       "\n",
       "    .dataframe tbody tr th {\n",
       "        vertical-align: top;\n",
       "    }\n",
       "\n",
       "    .dataframe thead th {\n",
       "        text-align: right;\n",
       "    }\n",
       "</style>\n",
       "<table border=\"1\" class=\"dataframe\">\n",
       "  <thead>\n",
       "    <tr style=\"text-align: right;\">\n",
       "      <th></th>\n",
       "      <th>Student_ID</th>\n",
       "      <th>Age</th>\n",
       "      <th>Gender</th>\n",
       "      <th>Academic_Level</th>\n",
       "      <th>Country</th>\n",
       "      <th>Avg_Daily_Usage_Hours</th>\n",
       "      <th>Most_Used_Platform</th>\n",
       "      <th>Affects_Academic_Performance</th>\n",
       "      <th>Sleep_Hours_Per_Night</th>\n",
       "      <th>Mental_Health_Score</th>\n",
       "      <th>Relationship_Status</th>\n",
       "      <th>Conflicts_Over_Social_Media</th>\n",
       "      <th>Addicted_Score</th>\n",
       "    </tr>\n",
       "  </thead>\n",
       "  <tbody>\n",
       "    <tr>\n",
       "      <th>count</th>\n",
       "      <td>705.000000</td>\n",
       "      <td>705.000000</td>\n",
       "      <td>705</td>\n",
       "      <td>705</td>\n",
       "      <td>705</td>\n",
       "      <td>705.000000</td>\n",
       "      <td>705</td>\n",
       "      <td>705</td>\n",
       "      <td>705.000000</td>\n",
       "      <td>705.000000</td>\n",
       "      <td>705</td>\n",
       "      <td>705.000000</td>\n",
       "      <td>705.000000</td>\n",
       "    </tr>\n",
       "    <tr>\n",
       "      <th>unique</th>\n",
       "      <td>NaN</td>\n",
       "      <td>NaN</td>\n",
       "      <td>2</td>\n",
       "      <td>3</td>\n",
       "      <td>110</td>\n",
       "      <td>NaN</td>\n",
       "      <td>12</td>\n",
       "      <td>2</td>\n",
       "      <td>NaN</td>\n",
       "      <td>NaN</td>\n",
       "      <td>3</td>\n",
       "      <td>NaN</td>\n",
       "      <td>NaN</td>\n",
       "    </tr>\n",
       "    <tr>\n",
       "      <th>top</th>\n",
       "      <td>NaN</td>\n",
       "      <td>NaN</td>\n",
       "      <td>Female</td>\n",
       "      <td>Undergraduate</td>\n",
       "      <td>India</td>\n",
       "      <td>NaN</td>\n",
       "      <td>Instagram</td>\n",
       "      <td>Yes</td>\n",
       "      <td>NaN</td>\n",
       "      <td>NaN</td>\n",
       "      <td>Single</td>\n",
       "      <td>NaN</td>\n",
       "      <td>NaN</td>\n",
       "    </tr>\n",
       "    <tr>\n",
       "      <th>freq</th>\n",
       "      <td>NaN</td>\n",
       "      <td>NaN</td>\n",
       "      <td>353</td>\n",
       "      <td>353</td>\n",
       "      <td>53</td>\n",
       "      <td>NaN</td>\n",
       "      <td>249</td>\n",
       "      <td>453</td>\n",
       "      <td>NaN</td>\n",
       "      <td>NaN</td>\n",
       "      <td>384</td>\n",
       "      <td>NaN</td>\n",
       "      <td>NaN</td>\n",
       "    </tr>\n",
       "    <tr>\n",
       "      <th>mean</th>\n",
       "      <td>353.000000</td>\n",
       "      <td>20.659574</td>\n",
       "      <td>NaN</td>\n",
       "      <td>NaN</td>\n",
       "      <td>NaN</td>\n",
       "      <td>4.918723</td>\n",
       "      <td>NaN</td>\n",
       "      <td>NaN</td>\n",
       "      <td>6.868936</td>\n",
       "      <td>6.226950</td>\n",
       "      <td>NaN</td>\n",
       "      <td>2.849645</td>\n",
       "      <td>6.436879</td>\n",
       "    </tr>\n",
       "    <tr>\n",
       "      <th>std</th>\n",
       "      <td>203.660256</td>\n",
       "      <td>1.399217</td>\n",
       "      <td>NaN</td>\n",
       "      <td>NaN</td>\n",
       "      <td>NaN</td>\n",
       "      <td>1.257395</td>\n",
       "      <td>NaN</td>\n",
       "      <td>NaN</td>\n",
       "      <td>1.126848</td>\n",
       "      <td>1.105055</td>\n",
       "      <td>NaN</td>\n",
       "      <td>0.957968</td>\n",
       "      <td>1.587165</td>\n",
       "    </tr>\n",
       "    <tr>\n",
       "      <th>min</th>\n",
       "      <td>1.000000</td>\n",
       "      <td>18.000000</td>\n",
       "      <td>NaN</td>\n",
       "      <td>NaN</td>\n",
       "      <td>NaN</td>\n",
       "      <td>1.500000</td>\n",
       "      <td>NaN</td>\n",
       "      <td>NaN</td>\n",
       "      <td>3.800000</td>\n",
       "      <td>4.000000</td>\n",
       "      <td>NaN</td>\n",
       "      <td>0.000000</td>\n",
       "      <td>2.000000</td>\n",
       "    </tr>\n",
       "    <tr>\n",
       "      <th>25%</th>\n",
       "      <td>177.000000</td>\n",
       "      <td>19.000000</td>\n",
       "      <td>NaN</td>\n",
       "      <td>NaN</td>\n",
       "      <td>NaN</td>\n",
       "      <td>4.100000</td>\n",
       "      <td>NaN</td>\n",
       "      <td>NaN</td>\n",
       "      <td>6.000000</td>\n",
       "      <td>5.000000</td>\n",
       "      <td>NaN</td>\n",
       "      <td>2.000000</td>\n",
       "      <td>5.000000</td>\n",
       "    </tr>\n",
       "    <tr>\n",
       "      <th>50%</th>\n",
       "      <td>353.000000</td>\n",
       "      <td>21.000000</td>\n",
       "      <td>NaN</td>\n",
       "      <td>NaN</td>\n",
       "      <td>NaN</td>\n",
       "      <td>4.800000</td>\n",
       "      <td>NaN</td>\n",
       "      <td>NaN</td>\n",
       "      <td>6.900000</td>\n",
       "      <td>6.000000</td>\n",
       "      <td>NaN</td>\n",
       "      <td>3.000000</td>\n",
       "      <td>7.000000</td>\n",
       "    </tr>\n",
       "    <tr>\n",
       "      <th>75%</th>\n",
       "      <td>529.000000</td>\n",
       "      <td>22.000000</td>\n",
       "      <td>NaN</td>\n",
       "      <td>NaN</td>\n",
       "      <td>NaN</td>\n",
       "      <td>5.800000</td>\n",
       "      <td>NaN</td>\n",
       "      <td>NaN</td>\n",
       "      <td>7.700000</td>\n",
       "      <td>7.000000</td>\n",
       "      <td>NaN</td>\n",
       "      <td>4.000000</td>\n",
       "      <td>8.000000</td>\n",
       "    </tr>\n",
       "    <tr>\n",
       "      <th>max</th>\n",
       "      <td>705.000000</td>\n",
       "      <td>24.000000</td>\n",
       "      <td>NaN</td>\n",
       "      <td>NaN</td>\n",
       "      <td>NaN</td>\n",
       "      <td>8.500000</td>\n",
       "      <td>NaN</td>\n",
       "      <td>NaN</td>\n",
       "      <td>9.600000</td>\n",
       "      <td>9.000000</td>\n",
       "      <td>NaN</td>\n",
       "      <td>5.000000</td>\n",
       "      <td>9.000000</td>\n",
       "    </tr>\n",
       "  </tbody>\n",
       "</table>\n",
       "</div>"
      ],
      "text/plain": [
       "        Student_ID         Age  Gender Academic_Level Country  \\\n",
       "count   705.000000  705.000000     705            705     705   \n",
       "unique         NaN         NaN       2              3     110   \n",
       "top            NaN         NaN  Female  Undergraduate   India   \n",
       "freq           NaN         NaN     353            353      53   \n",
       "mean    353.000000   20.659574     NaN            NaN     NaN   \n",
       "std     203.660256    1.399217     NaN            NaN     NaN   \n",
       "min       1.000000   18.000000     NaN            NaN     NaN   \n",
       "25%     177.000000   19.000000     NaN            NaN     NaN   \n",
       "50%     353.000000   21.000000     NaN            NaN     NaN   \n",
       "75%     529.000000   22.000000     NaN            NaN     NaN   \n",
       "max     705.000000   24.000000     NaN            NaN     NaN   \n",
       "\n",
       "        Avg_Daily_Usage_Hours Most_Used_Platform Affects_Academic_Performance  \\\n",
       "count              705.000000                705                          705   \n",
       "unique                    NaN                 12                            2   \n",
       "top                       NaN          Instagram                          Yes   \n",
       "freq                      NaN                249                          453   \n",
       "mean                 4.918723                NaN                          NaN   \n",
       "std                  1.257395                NaN                          NaN   \n",
       "min                  1.500000                NaN                          NaN   \n",
       "25%                  4.100000                NaN                          NaN   \n",
       "50%                  4.800000                NaN                          NaN   \n",
       "75%                  5.800000                NaN                          NaN   \n",
       "max                  8.500000                NaN                          NaN   \n",
       "\n",
       "        Sleep_Hours_Per_Night  Mental_Health_Score Relationship_Status  \\\n",
       "count              705.000000           705.000000                 705   \n",
       "unique                    NaN                  NaN                   3   \n",
       "top                       NaN                  NaN              Single   \n",
       "freq                      NaN                  NaN                 384   \n",
       "mean                 6.868936             6.226950                 NaN   \n",
       "std                  1.126848             1.105055                 NaN   \n",
       "min                  3.800000             4.000000                 NaN   \n",
       "25%                  6.000000             5.000000                 NaN   \n",
       "50%                  6.900000             6.000000                 NaN   \n",
       "75%                  7.700000             7.000000                 NaN   \n",
       "max                  9.600000             9.000000                 NaN   \n",
       "\n",
       "        Conflicts_Over_Social_Media  Addicted_Score  \n",
       "count                    705.000000      705.000000  \n",
       "unique                          NaN             NaN  \n",
       "top                             NaN             NaN  \n",
       "freq                            NaN             NaN  \n",
       "mean                       2.849645        6.436879  \n",
       "std                        0.957968        1.587165  \n",
       "min                        0.000000        2.000000  \n",
       "25%                        2.000000        5.000000  \n",
       "50%                        3.000000        7.000000  \n",
       "75%                        4.000000        8.000000  \n",
       "max                        5.000000        9.000000  "
      ]
     },
     "execution_count": 82,
     "metadata": {},
     "output_type": "execute_result"
    }
   ],
   "source": [
    "d.describe(include=\"all\")  #It extracts all columns"
   ]
  },
  {
   "cell_type": "code",
   "execution_count": 83,
   "id": "53ef7019-5b2b-4ef4-a20f-71a41b0185fd",
   "metadata": {},
   "outputs": [
    {
     "data": {
      "text/plain": [
       "20.659574468085108"
      ]
     },
     "execution_count": 83,
     "metadata": {},
     "output_type": "execute_result"
    }
   ],
   "source": [
    "d['Age'].mean()  #Gives mean value of age column"
   ]
  },
  {
   "cell_type": "code",
   "execution_count": 84,
   "id": "2514ea3c-8b11-400f-a4a4-2f8cd5128bec",
   "metadata": {},
   "outputs": [
    {
     "data": {
      "text/plain": [
       "24"
      ]
     },
     "execution_count": 84,
     "metadata": {},
     "output_type": "execute_result"
    }
   ],
   "source": [
    "d['Age'].max()"
   ]
  },
  {
   "cell_type": "code",
   "execution_count": 85,
   "id": "3585b706-e1c0-43d3-8452-6532e4257b06",
   "metadata": {},
   "outputs": [
    {
     "data": {
      "text/plain": [
       "18"
      ]
     },
     "execution_count": 85,
     "metadata": {},
     "output_type": "execute_result"
    }
   ],
   "source": [
    "d['Age'].min()"
   ]
  },
  {
   "cell_type": "code",
   "execution_count": 86,
   "id": "3b877ea7-dd3c-468c-87a7-144702a1830b",
   "metadata": {},
   "outputs": [
    {
     "data": {
      "text/plain": [
       "21.0"
      ]
     },
     "execution_count": 86,
     "metadata": {},
     "output_type": "execute_result"
    }
   ],
   "source": [
    "d['Age'].median()"
   ]
  },
  {
   "cell_type": "code",
   "execution_count": 87,
   "id": "24b78e44-7085-44e2-bb05-5522442d3ee3",
   "metadata": {},
   "outputs": [
    {
     "data": {
      "text/plain": [
       "1.9578094777562918"
      ]
     },
     "execution_count": 87,
     "metadata": {},
     "output_type": "execute_result"
    }
   ],
   "source": [
    "d['Age'].var()"
   ]
  },
  {
   "cell_type": "code",
   "execution_count": 88,
   "id": "ad9be038-b8c3-4a93-a7fc-9feb4b2720d1",
   "metadata": {},
   "outputs": [
    {
     "data": {
      "text/plain": [
       "1.399217451919569"
      ]
     },
     "execution_count": 88,
     "metadata": {},
     "output_type": "execute_result"
    }
   ],
   "source": [
    "d['Age'].std()"
   ]
  },
  {
   "cell_type": "code",
   "execution_count": 89,
   "id": "bfe53d60-7af3-401f-9783-55e45930d073",
   "metadata": {},
   "outputs": [
    {
     "data": {
      "text/plain": [
       "705"
      ]
     },
     "execution_count": 89,
     "metadata": {},
     "output_type": "execute_result"
    }
   ],
   "source": [
    "d['Age'].count()   #Counts the number of rows "
   ]
  },
  {
   "cell_type": "code",
   "execution_count": 90,
   "id": "63efadf8-9cd8-4174-8969-ebd0a914f1b2",
   "metadata": {},
   "outputs": [
    {
     "data": {
      "text/html": [
       "<div>\n",
       "<style scoped>\n",
       "    .dataframe tbody tr th:only-of-type {\n",
       "        vertical-align: middle;\n",
       "    }\n",
       "\n",
       "    .dataframe tbody tr th {\n",
       "        vertical-align: top;\n",
       "    }\n",
       "\n",
       "    .dataframe thead th {\n",
       "        text-align: right;\n",
       "    }\n",
       "</style>\n",
       "<table border=\"1\" class=\"dataframe\">\n",
       "  <thead>\n",
       "    <tr style=\"text-align: right;\">\n",
       "      <th></th>\n",
       "      <th>vegetables</th>\n",
       "      <th>color</th>\n",
       "      <th>unit</th>\n",
       "      <th>min</th>\n",
       "      <th>max</th>\n",
       "    </tr>\n",
       "  </thead>\n",
       "  <tbody>\n",
       "    <tr>\n",
       "      <th>0</th>\n",
       "      <td>beetroot</td>\n",
       "      <td>purple</td>\n",
       "      <td>1kg</td>\n",
       "      <td>15</td>\n",
       "      <td>40</td>\n",
       "    </tr>\n",
       "    <tr>\n",
       "      <th>1</th>\n",
       "      <td>carrot</td>\n",
       "      <td>orange</td>\n",
       "      <td>1kg</td>\n",
       "      <td>25</td>\n",
       "      <td>45</td>\n",
       "    </tr>\n",
       "    <tr>\n",
       "      <th>2</th>\n",
       "      <td>tomato</td>\n",
       "      <td>red</td>\n",
       "      <td>1kg</td>\n",
       "      <td>53</td>\n",
       "      <td>90</td>\n",
       "    </tr>\n",
       "    <tr>\n",
       "      <th>3</th>\n",
       "      <td>kovakkai</td>\n",
       "      <td>green</td>\n",
       "      <td>1kg</td>\n",
       "      <td>30</td>\n",
       "      <td>45</td>\n",
       "    </tr>\n",
       "    <tr>\n",
       "      <th>4</th>\n",
       "      <td>coconut</td>\n",
       "      <td>white</td>\n",
       "      <td>1piece</td>\n",
       "      <td>seventeen</td>\n",
       "      <td>38</td>\n",
       "    </tr>\n",
       "  </tbody>\n",
       "</table>\n",
       "</div>"
      ],
      "text/plain": [
       "  vegetables   color    unit       min   max\n",
       "0   beetroot  purple     1kg         15   40\n",
       "1     carrot  orange     1kg         25   45\n",
       "2     tomato     red     1kg         53   90\n",
       "3   kovakkai   green     1kg         30   45\n",
       "4    coconut   white  1piece  seventeen   38"
      ]
     },
     "execution_count": 90,
     "metadata": {},
     "output_type": "execute_result"
    }
   ],
   "source": [
    "pd.read_csv('market.csv')"
   ]
  },
  {
   "cell_type": "markdown",
   "id": "6854ccd9-732e-4dad-930c-b824ed4f8314",
   "metadata": {},
   "source": [
    "**Merging and Joining**"
   ]
  },
  {
   "cell_type": "code",
   "execution_count": 91,
   "id": "2d9281b8-295b-4d83-a3c9-d0beeb779637",
   "metadata": {},
   "outputs": [
    {
     "data": {
      "text/html": [
       "<div>\n",
       "<style scoped>\n",
       "    .dataframe tbody tr th:only-of-type {\n",
       "        vertical-align: middle;\n",
       "    }\n",
       "\n",
       "    .dataframe tbody tr th {\n",
       "        vertical-align: top;\n",
       "    }\n",
       "\n",
       "    .dataframe thead th {\n",
       "        text-align: right;\n",
       "    }\n",
       "</style>\n",
       "<table border=\"1\" class=\"dataframe\">\n",
       "  <thead>\n",
       "    <tr style=\"text-align: right;\">\n",
       "      <th></th>\n",
       "      <th>vegetables</th>\n",
       "      <th>color</th>\n",
       "      <th>unit</th>\n",
       "      <th>min</th>\n",
       "      <th>max</th>\n",
       "    </tr>\n",
       "  </thead>\n",
       "  <tbody>\n",
       "    <tr>\n",
       "      <th>0</th>\n",
       "      <td>beetroot</td>\n",
       "      <td>purple</td>\n",
       "      <td>1kg</td>\n",
       "      <td>15</td>\n",
       "      <td>45</td>\n",
       "    </tr>\n",
       "    <tr>\n",
       "      <th>1</th>\n",
       "      <td>carrot</td>\n",
       "      <td>orange</td>\n",
       "      <td>1kg</td>\n",
       "      <td>25</td>\n",
       "      <td>50</td>\n",
       "    </tr>\n",
       "    <tr>\n",
       "      <th>2</th>\n",
       "      <td>tomato</td>\n",
       "      <td>red</td>\n",
       "      <td>1kg</td>\n",
       "      <td>53</td>\n",
       "      <td>95</td>\n",
       "    </tr>\n",
       "    <tr>\n",
       "      <th>3</th>\n",
       "      <td>kovakkai</td>\n",
       "      <td>green</td>\n",
       "      <td>1kg</td>\n",
       "      <td>30</td>\n",
       "      <td>50</td>\n",
       "    </tr>\n",
       "    <tr>\n",
       "      <th>4</th>\n",
       "      <td>coconut</td>\n",
       "      <td>white</td>\n",
       "      <td>1piece</td>\n",
       "      <td>False</td>\n",
       "      <td>43</td>\n",
       "    </tr>\n",
       "    <tr>\n",
       "      <th>5</th>\n",
       "      <td>Cabbage</td>\n",
       "      <td>green</td>\n",
       "      <td>1piece</td>\n",
       "      <td>10</td>\n",
       "      <td>35</td>\n",
       "    </tr>\n",
       "  </tbody>\n",
       "</table>\n",
       "</div>"
      ],
      "text/plain": [
       "  vegetables   color    unit    min  max\n",
       "0   beetroot  purple     1kg     15   45\n",
       "1     carrot  orange     1kg     25   50\n",
       "2     tomato     red     1kg     53   95\n",
       "3   kovakkai   green     1kg     30   50\n",
       "4    coconut   white  1piece  False   43\n",
       "5    Cabbage   green  1piece     10   35"
      ]
     },
     "execution_count": 91,
     "metadata": {},
     "output_type": "execute_result"
    }
   ],
   "source": [
    "market"
   ]
  },
  {
   "cell_type": "code",
   "execution_count": null,
   "id": "788fb7ef-e31f-4d1f-9b5d-1a5ecc662b2c",
   "metadata": {},
   "outputs": [],
   "source": []
  }
 ],
 "metadata": {
  "kernelspec": {
   "display_name": "Python 3 (ipykernel)",
   "language": "python",
   "name": "python3"
  },
  "language_info": {
   "codemirror_mode": {
    "name": "ipython",
    "version": 3
   },
   "file_extension": ".py",
   "mimetype": "text/x-python",
   "name": "python",
   "nbconvert_exporter": "python",
   "pygments_lexer": "ipython3",
   "version": "3.12.7"
  }
 },
 "nbformat": 4,
 "nbformat_minor": 5
}
