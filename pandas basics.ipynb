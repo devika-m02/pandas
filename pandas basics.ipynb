{
 "cells": [
  {
   "cell_type": "markdown",
   "id": "8b2f6d26-e28f-4676-9de6-308a816d9e5f",
   "metadata": {},
   "source": [
    "**Pandas Library Installation**"
   ]
  },
  {
   "cell_type": "code",
   "execution_count": 72,
   "id": "7441c48e-1f35-45b3-9d1f-db9db35f73d5",
   "metadata": {},
   "outputs": [
    {
     "name": "stdout",
     "output_type": "stream",
     "text": [
      "2.2.2\n"
     ]
    }
   ],
   "source": [
    "import pandas as pd\n",
    "print(pd.__version__)"
   ]
  },
  {
   "cell_type": "markdown",
   "id": "37c00583-0ebb-427b-bbb4-d44e0e190a5a",
   "metadata": {},
   "source": [
    "**Pandas Series**"
   ]
  },
  {
   "cell_type": "code",
   "execution_count": 73,
   "id": "2125c3c9-f2bf-468e-a777-f5ca06fe9fbd",
   "metadata": {},
   "outputs": [],
   "source": [
    "vegetables=['beetroot','carrot','tomato','coconut','scarlet gourd']"
   ]
  },
  {
   "cell_type": "code",
   "execution_count": 74,
   "id": "175564cb-a4f0-4538-a0a8-bb5134607c5c",
   "metadata": {},
   "outputs": [
    {
     "data": {
      "text/plain": [
       "0         beetroot\n",
       "1           carrot\n",
       "2           tomato\n",
       "3          coconut\n",
       "4    scarlet gourd\n",
       "dtype: object"
      ]
     },
     "execution_count": 74,
     "metadata": {},
     "output_type": "execute_result"
    }
   ],
   "source": [
    "a=pd.Series(vegetables)\n",
    "a\n"
   ]
  },
  {
   "cell_type": "code",
   "execution_count": 75,
   "id": "422efcb0-7e2f-4f35-912d-776bdf93b3bb",
   "metadata": {},
   "outputs": [
    {
     "data": {
      "text/plain": [
       "purple         beetroot\n",
       "orange           carrot\n",
       "red              tomato\n",
       "white           coconut\n",
       "green     scarlet gourd\n",
       "dtype: object"
      ]
     },
     "execution_count": 75,
     "metadata": {},
     "output_type": "execute_result"
    }
   ],
   "source": [
    "veg_series=pd.Series(vegetables,index=['purple','orange','red','white','green'])\n",
    "veg_series"
   ]
  },
  {
   "cell_type": "code",
   "execution_count": 76,
   "id": "90acae74-7d1e-49a0-a653-ed52ebdcdbc0",
   "metadata": {},
   "outputs": [
    {
     "data": {
      "text/plain": [
       "{1: 'a', 2: 'b', 3: 'c'}"
      ]
     },
     "execution_count": 76,
     "metadata": {},
     "output_type": "execute_result"
    }
   ],
   "source": [
    "dict1={1:\"a\",2:\"b\",3:\"c\"}\n",
    "#since dictionary doesnot allow key duplicates the first value of key 1 that is a is replaced by c\n",
    "dict1"
   ]
  },
  {
   "cell_type": "code",
   "execution_count": 77,
   "id": "2be8f9c6-d35a-4510-b4d1-74389cfd1f3f",
   "metadata": {},
   "outputs": [
    {
     "data": {
      "text/plain": [
       "{'red': 'tomato', 'orange': 'carrot'}"
      ]
     },
     "execution_count": 77,
     "metadata": {},
     "output_type": "execute_result"
    }
   ],
   "source": [
    "veg_dict={'red':'tomato','orange':'carrot'}\n",
    "veg_dict"
   ]
  },
  {
   "cell_type": "code",
   "execution_count": 78,
   "id": "8282779a-e6c0-4366-8f2f-ea4c41a1abd7",
   "metadata": {},
   "outputs": [
    {
     "data": {
      "text/plain": [
       "red       tomato\n",
       "orange    carrot\n",
       "dtype: object"
      ]
     },
     "execution_count": 78,
     "metadata": {},
     "output_type": "execute_result"
    }
   ],
   "source": [
    "veg_dict_series=pd.Series(veg_dict)\n",
    "veg_dict_series"
   ]
  },
  {
   "cell_type": "code",
   "execution_count": 79,
   "id": "2a9b97f0-1a3f-4f9f-8cba-ef0a8c3964ab",
   "metadata": {},
   "outputs": [],
   "source": [
    "veg_dict_series['green']='kovakkai'   #Adding key-value pair"
   ]
  },
  {
   "cell_type": "code",
   "execution_count": 80,
   "id": "ae1e6d49-3f01-47b0-befb-f5a9eef9ef06",
   "metadata": {},
   "outputs": [
    {
     "data": {
      "text/plain": [
       "red         tomato\n",
       "orange      carrot\n",
       "green     kovakkai\n",
       "dtype: object"
      ]
     },
     "execution_count": 80,
     "metadata": {},
     "output_type": "execute_result"
    }
   ],
   "source": [
    "veg_dict_series"
   ]
  },
  {
   "cell_type": "code",
   "execution_count": 81,
   "id": "f5c6a4ca-c4eb-4f37-ae2e-b23b02c9cbc6",
   "metadata": {},
   "outputs": [
    {
     "data": {
      "text/plain": [
       "red        tomato\n",
       "green    kovakkai\n",
       "dtype: object"
      ]
     },
     "execution_count": 81,
     "metadata": {},
     "output_type": "execute_result"
    }
   ],
   "source": [
    "veg_dict_series.drop(['orange'])    #Removing one key-value pair "
   ]
  },
  {
   "cell_type": "code",
   "execution_count": 82,
   "id": "53e3557f-ca9f-4150-9a06-e95df93fbe9a",
   "metadata": {},
   "outputs": [
    {
     "data": {
      "text/plain": [
       "red         tomato\n",
       "orange      carrot\n",
       "green     kovakkai\n",
       "dtype: object"
      ]
     },
     "execution_count": 82,
     "metadata": {},
     "output_type": "execute_result"
    }
   ],
   "source": [
    "veg_dict_series   #It won't affect original series"
   ]
  },
  {
   "cell_type": "code",
   "execution_count": 83,
   "id": "1b78c738-6d53-41c5-a897-506832128941",
   "metadata": {},
   "outputs": [],
   "source": [
    "veg_dict_series.drop(['orange'],inplace=True) \n",
    "#Removing one key_value pair from original series"
   ]
  },
  {
   "cell_type": "code",
   "execution_count": 84,
   "id": "b80d909a-c546-4365-9a01-aec5c79aa26f",
   "metadata": {},
   "outputs": [
    {
     "data": {
      "text/plain": [
       "red        tomato\n",
       "green    kovakkai\n",
       "dtype: object"
      ]
     },
     "execution_count": 84,
     "metadata": {},
     "output_type": "execute_result"
    }
   ],
   "source": [
    "veg_dict_series#Removed series printing"
   ]
  },
  {
   "cell_type": "markdown",
   "id": "aeaa752b-1826-44a5-8558-1bd87f3c5f8a",
   "metadata": {},
   "source": [
    "**Series elements can be heterogeneous & Nested too!**"
   ]
  },
  {
   "cell_type": "code",
   "execution_count": 85,
   "id": "ad348f0b-32d7-4550-8761-1fd5a12ec90a",
   "metadata": {},
   "outputs": [],
   "source": [
    "vegs_dict={'red':['tomato','redchilli'],'green':'kovakkai'}"
   ]
  },
  {
   "cell_type": "code",
   "execution_count": 86,
   "id": "9d036b19-186a-4548-b763-0de1da9aecbf",
   "metadata": {},
   "outputs": [
    {
     "data": {
      "text/plain": [
       "red      [tomato, redchilli]\n",
       "green               kovakkai\n",
       "dtype: object"
      ]
     },
     "execution_count": 86,
     "metadata": {},
     "output_type": "execute_result"
    }
   ],
   "source": [
    "new_veg_series=pd.Series(vegs_dict)\n",
    "new_veg_series"
   ]
  },
  {
   "cell_type": "code",
   "execution_count": 87,
   "id": "d91efba4-a2f5-4595-99ef-853c2eee5ac8",
   "metadata": {},
   "outputs": [
    {
     "data": {
      "text/plain": [
       "pandas.core.series.Series"
      ]
     },
     "execution_count": 87,
     "metadata": {},
     "output_type": "execute_result"
    }
   ],
   "source": [
    "type(new_veg_series)"
   ]
  },
  {
   "cell_type": "code",
   "execution_count": 88,
   "id": "2b342015-b4b1-4550-861a-f2464ea5c42a",
   "metadata": {},
   "outputs": [
    {
     "name": "stderr",
     "output_type": "stream",
     "text": [
      "C:\\Users\\Devik\\AppData\\Local\\Temp\\ipykernel_3088\\1682160237.py:1: FutureWarning: Series.__getitem__ treating keys as positions is deprecated. In a future version, integer keys will always be treated as labels (consistent with DataFrame behavior). To access a value by position, use `ser.iloc[pos]`\n",
      "  type(new_veg_series[0])\n"
     ]
    },
    {
     "data": {
      "text/plain": [
       "list"
      ]
     },
     "execution_count": 88,
     "metadata": {},
     "output_type": "execute_result"
    }
   ],
   "source": [
    "type(new_veg_series[0])"
   ]
  },
  {
   "cell_type": "code",
   "execution_count": 89,
   "id": "a04f6120-f859-4fe5-8a07-769b9b58383e",
   "metadata": {},
   "outputs": [
    {
     "name": "stderr",
     "output_type": "stream",
     "text": [
      "C:\\Users\\Devik\\AppData\\Local\\Temp\\ipykernel_3088\\300706422.py:1: FutureWarning: Series.__getitem__ treating keys as positions is deprecated. In a future version, integer keys will always be treated as labels (consistent with DataFrame behavior). To access a value by position, use `ser.iloc[pos]`\n",
      "  type(new_veg_series[0][0])\n"
     ]
    },
    {
     "data": {
      "text/plain": [
       "str"
      ]
     },
     "execution_count": 89,
     "metadata": {},
     "output_type": "execute_result"
    }
   ],
   "source": [
    "type(new_veg_series[0][0])"
   ]
  },
  {
   "cell_type": "code",
   "execution_count": 90,
   "id": "8087c0b5-4140-4897-8e54-e8cac7a84d5f",
   "metadata": {},
   "outputs": [
    {
     "name": "stderr",
     "output_type": "stream",
     "text": [
      "C:\\Users\\Devik\\AppData\\Local\\Temp\\ipykernel_3088\\2317656166.py:1: FutureWarning: Series.__getitem__ treating keys as positions is deprecated. In a future version, integer keys will always be treated as labels (consistent with DataFrame behavior). To access a value by position, use `ser.iloc[pos]`\n",
      "  new_veg_series[0][0]\n"
     ]
    },
    {
     "data": {
      "text/plain": [
       "'tomato'"
      ]
     },
     "execution_count": 90,
     "metadata": {},
     "output_type": "execute_result"
    }
   ],
   "source": [
    "new_veg_series[0][0]"
   ]
  },
  {
   "cell_type": "markdown",
   "id": "050b90d0-f0ca-414c-b7ed-947082053293",
   "metadata": {},
   "source": [
    "**Pandas DataFrames**"
   ]
  },
  {
   "cell_type": "markdown",
   "id": "d131ccff-786b-489d-9dda-d7af15aa76df",
   "metadata": {},
   "source": [
    "**syntax**:pd.DataFrame(iterator)"
   ]
  },
  {
   "cell_type": "code",
   "execution_count": 91,
   "id": "90336091-0de7-4fff-a0d4-8e07b188b4ad",
   "metadata": {},
   "outputs": [],
   "source": [
    "data={'vegetables':['beetroot','carrot','tomato','kovakkai','coconut'],\n",
    "      'color':['purple','orange','red','green','white'],\n",
    "      'unit':['1kg','1kg','1kg','1kg','1piece'],\n",
    "      'min':[15,25,53,30,'seventeen'],\n",
    "      'max':[40,45,90,45,38],\n",
    "     }"
   ]
  },
  {
   "cell_type": "code",
   "execution_count": 92,
   "id": "2c38fd1b-31f9-444b-a890-457eb3158d27",
   "metadata": {},
   "outputs": [],
   "source": [
    "market=pd.DataFrame(data)"
   ]
  },
  {
   "cell_type": "code",
   "execution_count": 93,
   "id": "7777a14f-196a-4583-ab0d-c6749a474cf8",
   "metadata": {},
   "outputs": [
    {
     "data": {
      "text/html": [
       "<div>\n",
       "<style scoped>\n",
       "    .dataframe tbody tr th:only-of-type {\n",
       "        vertical-align: middle;\n",
       "    }\n",
       "\n",
       "    .dataframe tbody tr th {\n",
       "        vertical-align: top;\n",
       "    }\n",
       "\n",
       "    .dataframe thead th {\n",
       "        text-align: right;\n",
       "    }\n",
       "</style>\n",
       "<table border=\"1\" class=\"dataframe\">\n",
       "  <thead>\n",
       "    <tr style=\"text-align: right;\">\n",
       "      <th></th>\n",
       "      <th>vegetables</th>\n",
       "      <th>color</th>\n",
       "      <th>unit</th>\n",
       "      <th>min</th>\n",
       "      <th>max</th>\n",
       "    </tr>\n",
       "  </thead>\n",
       "  <tbody>\n",
       "    <tr>\n",
       "      <th>0</th>\n",
       "      <td>beetroot</td>\n",
       "      <td>purple</td>\n",
       "      <td>1kg</td>\n",
       "      <td>15</td>\n",
       "      <td>40</td>\n",
       "    </tr>\n",
       "    <tr>\n",
       "      <th>1</th>\n",
       "      <td>carrot</td>\n",
       "      <td>orange</td>\n",
       "      <td>1kg</td>\n",
       "      <td>25</td>\n",
       "      <td>45</td>\n",
       "    </tr>\n",
       "    <tr>\n",
       "      <th>2</th>\n",
       "      <td>tomato</td>\n",
       "      <td>red</td>\n",
       "      <td>1kg</td>\n",
       "      <td>53</td>\n",
       "      <td>90</td>\n",
       "    </tr>\n",
       "    <tr>\n",
       "      <th>3</th>\n",
       "      <td>kovakkai</td>\n",
       "      <td>green</td>\n",
       "      <td>1kg</td>\n",
       "      <td>30</td>\n",
       "      <td>45</td>\n",
       "    </tr>\n",
       "    <tr>\n",
       "      <th>4</th>\n",
       "      <td>coconut</td>\n",
       "      <td>white</td>\n",
       "      <td>1piece</td>\n",
       "      <td>seventeen</td>\n",
       "      <td>38</td>\n",
       "    </tr>\n",
       "  </tbody>\n",
       "</table>\n",
       "</div>"
      ],
      "text/plain": [
       "  vegetables   color    unit        min  max\n",
       "0   beetroot  purple     1kg         15   40\n",
       "1     carrot  orange     1kg         25   45\n",
       "2     tomato     red     1kg         53   90\n",
       "3   kovakkai   green     1kg         30   45\n",
       "4    coconut   white  1piece  seventeen   38"
      ]
     },
     "execution_count": 93,
     "metadata": {},
     "output_type": "execute_result"
    }
   ],
   "source": [
    "market"
   ]
  },
  {
   "cell_type": "code",
   "execution_count": 94,
   "id": "f814c3c6-c288-49b9-b311-7b48b08f6886",
   "metadata": {},
   "outputs": [
    {
     "data": {
      "text/plain": [
       "0       1kg\n",
       "1       1kg\n",
       "2       1kg\n",
       "3       1kg\n",
       "4    1piece\n",
       "Name: unit, dtype: object"
      ]
     },
     "execution_count": 94,
     "metadata": {},
     "output_type": "execute_result"
    }
   ],
   "source": [
    "market['unit']"
   ]
  },
  {
   "cell_type": "code",
   "execution_count": 95,
   "id": "75e89ea9-e49d-4dd2-af99-a4ca57c28169",
   "metadata": {},
   "outputs": [
    {
     "data": {
      "text/plain": [
       "0           15\n",
       "1           25\n",
       "2           53\n",
       "3           30\n",
       "4    seventeen\n",
       "Name: min, dtype: object"
      ]
     },
     "execution_count": 95,
     "metadata": {},
     "output_type": "execute_result"
    }
   ],
   "source": [
    "market['min']"
   ]
  },
  {
   "cell_type": "code",
   "execution_count": 96,
   "id": "c5b030eb-246b-452e-b41b-f2d1b9d1936c",
   "metadata": {},
   "outputs": [
    {
     "data": {
      "text/plain": [
       "'1kg'"
      ]
     },
     "execution_count": 96,
     "metadata": {},
     "output_type": "execute_result"
    }
   ],
   "source": [
    "market.loc[0,'unit']      #loc[Row/index,Columnname]"
   ]
  },
  {
   "cell_type": "code",
   "execution_count": 97,
   "id": "9406a8ce-953e-4eb0-b6f2-4c2975befb98",
   "metadata": {},
   "outputs": [
    {
     "data": {
      "text/plain": [
       "vegetables    beetroot\n",
       "color           purple\n",
       "unit               1kg\n",
       "min                 15\n",
       "max                 40\n",
       "Name: 0, dtype: object"
      ]
     },
     "execution_count": 97,
     "metadata": {},
     "output_type": "execute_result"
    }
   ],
   "source": [
    "market.loc[0]"
   ]
  },
  {
   "cell_type": "code",
   "execution_count": 98,
   "id": "87ae2e0d-db35-479b-96de-68ecb08c1128",
   "metadata": {},
   "outputs": [
    {
     "data": {
      "text/plain": [
       "vegetables    carrot\n",
       "color         orange\n",
       "unit             1kg\n",
       "min               25\n",
       "max               45\n",
       "Name: 1, dtype: object"
      ]
     },
     "execution_count": 98,
     "metadata": {},
     "output_type": "execute_result"
    }
   ],
   "source": [
    "market.loc[1]"
   ]
  },
  {
   "cell_type": "code",
   "execution_count": 99,
   "id": "2f6f31e4-51d0-4b71-bfe9-2c4bcdb71af8",
   "metadata": {},
   "outputs": [
    {
     "data": {
      "text/html": [
       "<div>\n",
       "<style scoped>\n",
       "    .dataframe tbody tr th:only-of-type {\n",
       "        vertical-align: middle;\n",
       "    }\n",
       "\n",
       "    .dataframe tbody tr th {\n",
       "        vertical-align: top;\n",
       "    }\n",
       "\n",
       "    .dataframe thead th {\n",
       "        text-align: right;\n",
       "    }\n",
       "</style>\n",
       "<table border=\"1\" class=\"dataframe\">\n",
       "  <thead>\n",
       "    <tr style=\"text-align: right;\">\n",
       "      <th></th>\n",
       "      <th>vegetables</th>\n",
       "      <th>color</th>\n",
       "      <th>unit</th>\n",
       "    </tr>\n",
       "  </thead>\n",
       "  <tbody>\n",
       "    <tr>\n",
       "      <th>0</th>\n",
       "      <td>beetroot</td>\n",
       "      <td>purple</td>\n",
       "      <td>1kg</td>\n",
       "    </tr>\n",
       "    <tr>\n",
       "      <th>1</th>\n",
       "      <td>carrot</td>\n",
       "      <td>orange</td>\n",
       "      <td>1kg</td>\n",
       "    </tr>\n",
       "    <tr>\n",
       "      <th>2</th>\n",
       "      <td>tomato</td>\n",
       "      <td>red</td>\n",
       "      <td>1kg</td>\n",
       "    </tr>\n",
       "  </tbody>\n",
       "</table>\n",
       "</div>"
      ],
      "text/plain": [
       "  vegetables   color unit\n",
       "0   beetroot  purple  1kg\n",
       "1     carrot  orange  1kg\n",
       "2     tomato     red  1kg"
      ]
     },
     "execution_count": 99,
     "metadata": {},
     "output_type": "execute_result"
    }
   ],
   "source": [
    "market.iloc[0:3,0:3]      #Fetching the range "
   ]
  },
  {
   "cell_type": "markdown",
   "id": "ee8d46be-f391-4883-b094-b071536c1d51",
   "metadata": {},
   "source": [
    "**Adding and removing**"
   ]
  },
  {
   "cell_type": "code",
   "execution_count": 100,
   "id": "dec4481c-8fd0-4486-a1fc-0febec0b6297",
   "metadata": {},
   "outputs": [
    {
     "data": {
      "text/html": [
       "<div>\n",
       "<style scoped>\n",
       "    .dataframe tbody tr th:only-of-type {\n",
       "        vertical-align: middle;\n",
       "    }\n",
       "\n",
       "    .dataframe tbody tr th {\n",
       "        vertical-align: top;\n",
       "    }\n",
       "\n",
       "    .dataframe thead th {\n",
       "        text-align: right;\n",
       "    }\n",
       "</style>\n",
       "<table border=\"1\" class=\"dataframe\">\n",
       "  <thead>\n",
       "    <tr style=\"text-align: right;\">\n",
       "      <th></th>\n",
       "      <th>vegetables</th>\n",
       "      <th>color</th>\n",
       "      <th>unit</th>\n",
       "      <th>min</th>\n",
       "      <th>max</th>\n",
       "    </tr>\n",
       "  </thead>\n",
       "  <tbody>\n",
       "    <tr>\n",
       "      <th>0</th>\n",
       "      <td>beetroot</td>\n",
       "      <td>purple</td>\n",
       "      <td>1kg</td>\n",
       "      <td>15</td>\n",
       "      <td>40</td>\n",
       "    </tr>\n",
       "    <tr>\n",
       "      <th>1</th>\n",
       "      <td>carrot</td>\n",
       "      <td>orange</td>\n",
       "      <td>1kg</td>\n",
       "      <td>25</td>\n",
       "      <td>45</td>\n",
       "    </tr>\n",
       "    <tr>\n",
       "      <th>2</th>\n",
       "      <td>tomato</td>\n",
       "      <td>red</td>\n",
       "      <td>1kg</td>\n",
       "      <td>53</td>\n",
       "      <td>90</td>\n",
       "    </tr>\n",
       "    <tr>\n",
       "      <th>3</th>\n",
       "      <td>kovakkai</td>\n",
       "      <td>green</td>\n",
       "      <td>1kg</td>\n",
       "      <td>30</td>\n",
       "      <td>45</td>\n",
       "    </tr>\n",
       "    <tr>\n",
       "      <th>4</th>\n",
       "      <td>coconut</td>\n",
       "      <td>white</td>\n",
       "      <td>1piece</td>\n",
       "      <td>seventeen</td>\n",
       "      <td>38</td>\n",
       "    </tr>\n",
       "  </tbody>\n",
       "</table>\n",
       "</div>"
      ],
      "text/plain": [
       "  vegetables   color    unit        min  max\n",
       "0   beetroot  purple     1kg         15   40\n",
       "1     carrot  orange     1kg         25   45\n",
       "2     tomato     red     1kg         53   90\n",
       "3   kovakkai   green     1kg         30   45\n",
       "4    coconut   white  1piece  seventeen   38"
      ]
     },
     "execution_count": 100,
     "metadata": {},
     "output_type": "execute_result"
    }
   ],
   "source": [
    "market"
   ]
  },
  {
   "cell_type": "code",
   "execution_count": 101,
   "id": "23d37a8e-7347-4678-89b1-c26227041c88",
   "metadata": {},
   "outputs": [
    {
     "data": {
      "text/html": [
       "<div>\n",
       "<style scoped>\n",
       "    .dataframe tbody tr th:only-of-type {\n",
       "        vertical-align: middle;\n",
       "    }\n",
       "\n",
       "    .dataframe tbody tr th {\n",
       "        vertical-align: top;\n",
       "    }\n",
       "\n",
       "    .dataframe thead th {\n",
       "        text-align: right;\n",
       "    }\n",
       "</style>\n",
       "<table border=\"1\" class=\"dataframe\">\n",
       "  <thead>\n",
       "    <tr style=\"text-align: right;\">\n",
       "      <th></th>\n",
       "      <th>vegetables</th>\n",
       "      <th>color</th>\n",
       "      <th>unit</th>\n",
       "      <th>min</th>\n",
       "      <th>max</th>\n",
       "    </tr>\n",
       "  </thead>\n",
       "  <tbody>\n",
       "    <tr>\n",
       "      <th>0</th>\n",
       "      <td>beetroot</td>\n",
       "      <td>purple</td>\n",
       "      <td>1kg</td>\n",
       "      <td>15</td>\n",
       "      <td>40</td>\n",
       "    </tr>\n",
       "    <tr>\n",
       "      <th>1</th>\n",
       "      <td>carrot</td>\n",
       "      <td>orange</td>\n",
       "      <td>1kg</td>\n",
       "      <td>25</td>\n",
       "      <td>45</td>\n",
       "    </tr>\n",
       "    <tr>\n",
       "      <th>2</th>\n",
       "      <td>tomato</td>\n",
       "      <td>red</td>\n",
       "      <td>1kg</td>\n",
       "      <td>53</td>\n",
       "      <td>90</td>\n",
       "    </tr>\n",
       "    <tr>\n",
       "      <th>3</th>\n",
       "      <td>kovakkai</td>\n",
       "      <td>green</td>\n",
       "      <td>1kg</td>\n",
       "      <td>30</td>\n",
       "      <td>45</td>\n",
       "    </tr>\n",
       "    <tr>\n",
       "      <th>4</th>\n",
       "      <td>coconut</td>\n",
       "      <td>white</td>\n",
       "      <td>1piece</td>\n",
       "      <td>seventeen</td>\n",
       "      <td>38</td>\n",
       "    </tr>\n",
       "    <tr>\n",
       "      <th>5</th>\n",
       "      <td>Cabbage</td>\n",
       "      <td>green</td>\n",
       "      <td>1piece</td>\n",
       "      <td>10</td>\n",
       "      <td>30</td>\n",
       "    </tr>\n",
       "  </tbody>\n",
       "</table>\n",
       "</div>"
      ],
      "text/plain": [
       "  vegetables   color    unit        min  max\n",
       "0   beetroot  purple     1kg         15   40\n",
       "1     carrot  orange     1kg         25   45\n",
       "2     tomato     red     1kg         53   90\n",
       "3   kovakkai   green     1kg         30   45\n",
       "4    coconut   white  1piece  seventeen   38\n",
       "5    Cabbage   green  1piece         10   30"
      ]
     },
     "execution_count": 101,
     "metadata": {},
     "output_type": "execute_result"
    }
   ],
   "source": [
    "market.loc[5]={'vegetables':'Cabbage','color':'green','unit':'1piece','min':10,'max':30}\n",
    "market"
   ]
  },
  {
   "cell_type": "code",
   "execution_count": 102,
   "id": "0fa54dae-00b1-4f1b-90fd-475355d6738b",
   "metadata": {},
   "outputs": [
    {
     "data": {
      "text/html": [
       "<div>\n",
       "<style scoped>\n",
       "    .dataframe tbody tr th:only-of-type {\n",
       "        vertical-align: middle;\n",
       "    }\n",
       "\n",
       "    .dataframe tbody tr th {\n",
       "        vertical-align: top;\n",
       "    }\n",
       "\n",
       "    .dataframe thead th {\n",
       "        text-align: right;\n",
       "    }\n",
       "</style>\n",
       "<table border=\"1\" class=\"dataframe\">\n",
       "  <thead>\n",
       "    <tr style=\"text-align: right;\">\n",
       "      <th></th>\n",
       "      <th>vegetables</th>\n",
       "      <th>color</th>\n",
       "      <th>unit</th>\n",
       "      <th>min</th>\n",
       "      <th>max</th>\n",
       "    </tr>\n",
       "  </thead>\n",
       "  <tbody>\n",
       "    <tr>\n",
       "      <th>0</th>\n",
       "      <td>beetroot</td>\n",
       "      <td>purple</td>\n",
       "      <td>1kg</td>\n",
       "      <td>15</td>\n",
       "      <td>40</td>\n",
       "    </tr>\n",
       "    <tr>\n",
       "      <th>1</th>\n",
       "      <td>carrot</td>\n",
       "      <td>orange</td>\n",
       "      <td>1kg</td>\n",
       "      <td>25</td>\n",
       "      <td>45</td>\n",
       "    </tr>\n",
       "    <tr>\n",
       "      <th>2</th>\n",
       "      <td>tomato</td>\n",
       "      <td>red</td>\n",
       "      <td>1kg</td>\n",
       "      <td>53</td>\n",
       "      <td>90</td>\n",
       "    </tr>\n",
       "    <tr>\n",
       "      <th>3</th>\n",
       "      <td>kovakkai</td>\n",
       "      <td>green</td>\n",
       "      <td>1kg</td>\n",
       "      <td>30</td>\n",
       "      <td>45</td>\n",
       "    </tr>\n",
       "    <tr>\n",
       "      <th>4</th>\n",
       "      <td>coconut</td>\n",
       "      <td>white</td>\n",
       "      <td>1piece</td>\n",
       "      <td>seventeen</td>\n",
       "      <td>38</td>\n",
       "    </tr>\n",
       "    <tr>\n",
       "      <th>5</th>\n",
       "      <td>Cabbage</td>\n",
       "      <td>green</td>\n",
       "      <td>1piece</td>\n",
       "      <td>10</td>\n",
       "      <td>30</td>\n",
       "    </tr>\n",
       "    <tr>\n",
       "      <th>6</th>\n",
       "      <td>Ladies Finger</td>\n",
       "      <td>green</td>\n",
       "      <td>1kg</td>\n",
       "      <td>10</td>\n",
       "      <td>35</td>\n",
       "    </tr>\n",
       "  </tbody>\n",
       "</table>\n",
       "</div>"
      ],
      "text/plain": [
       "      vegetables   color    unit        min  max\n",
       "0       beetroot  purple     1kg         15   40\n",
       "1         carrot  orange     1kg         25   45\n",
       "2         tomato     red     1kg         53   90\n",
       "3       kovakkai   green     1kg         30   45\n",
       "4        coconut   white  1piece  seventeen   38\n",
       "5        Cabbage   green  1piece         10   30\n",
       "6  Ladies Finger   green     1kg         10   35"
      ]
     },
     "execution_count": 102,
     "metadata": {},
     "output_type": "execute_result"
    }
   ],
   "source": [
    "market.loc[6]={'vegetables':'Ladies Finger','color':'green','unit':'1kg','min':10,'max':35}\n",
    "market"
   ]
  },
  {
   "cell_type": "code",
   "execution_count": 103,
   "id": "7467341d-5f81-4aed-a559-447dd8b578e0",
   "metadata": {},
   "outputs": [
    {
     "data": {
      "text/html": [
       "<div>\n",
       "<style scoped>\n",
       "    .dataframe tbody tr th:only-of-type {\n",
       "        vertical-align: middle;\n",
       "    }\n",
       "\n",
       "    .dataframe tbody tr th {\n",
       "        vertical-align: top;\n",
       "    }\n",
       "\n",
       "    .dataframe thead th {\n",
       "        text-align: right;\n",
       "    }\n",
       "</style>\n",
       "<table border=\"1\" class=\"dataframe\">\n",
       "  <thead>\n",
       "    <tr style=\"text-align: right;\">\n",
       "      <th></th>\n",
       "      <th>vegetables</th>\n",
       "      <th>color</th>\n",
       "      <th>unit</th>\n",
       "      <th>min</th>\n",
       "      <th>max</th>\n",
       "    </tr>\n",
       "  </thead>\n",
       "  <tbody>\n",
       "    <tr>\n",
       "      <th>0</th>\n",
       "      <td>beetroot</td>\n",
       "      <td>purple</td>\n",
       "      <td>1kg</td>\n",
       "      <td>15</td>\n",
       "      <td>40</td>\n",
       "    </tr>\n",
       "    <tr>\n",
       "      <th>1</th>\n",
       "      <td>carrot</td>\n",
       "      <td>orange</td>\n",
       "      <td>1kg</td>\n",
       "      <td>25</td>\n",
       "      <td>45</td>\n",
       "    </tr>\n",
       "    <tr>\n",
       "      <th>2</th>\n",
       "      <td>tomato</td>\n",
       "      <td>red</td>\n",
       "      <td>1kg</td>\n",
       "      <td>53</td>\n",
       "      <td>90</td>\n",
       "    </tr>\n",
       "    <tr>\n",
       "      <th>3</th>\n",
       "      <td>kovakkai</td>\n",
       "      <td>green</td>\n",
       "      <td>1kg</td>\n",
       "      <td>30</td>\n",
       "      <td>45</td>\n",
       "    </tr>\n",
       "    <tr>\n",
       "      <th>4</th>\n",
       "      <td>coconut</td>\n",
       "      <td>white</td>\n",
       "      <td>1piece</td>\n",
       "      <td>seventeen</td>\n",
       "      <td>38</td>\n",
       "    </tr>\n",
       "    <tr>\n",
       "      <th>5</th>\n",
       "      <td>Cabbage</td>\n",
       "      <td>green</td>\n",
       "      <td>1piece</td>\n",
       "      <td>10</td>\n",
       "      <td>30</td>\n",
       "    </tr>\n",
       "  </tbody>\n",
       "</table>\n",
       "</div>"
      ],
      "text/plain": [
       "  vegetables   color    unit        min  max\n",
       "0   beetroot  purple     1kg         15   40\n",
       "1     carrot  orange     1kg         25   45\n",
       "2     tomato     red     1kg         53   90\n",
       "3   kovakkai   green     1kg         30   45\n",
       "4    coconut   white  1piece  seventeen   38\n",
       "5    Cabbage   green  1piece         10   30"
      ]
     },
     "execution_count": 103,
     "metadata": {},
     "output_type": "execute_result"
    }
   ],
   "source": [
    "market.drop([6])"
   ]
  },
  {
   "cell_type": "code",
   "execution_count": 104,
   "id": "4083e7a6-e8f5-44e2-ae82-6f72385d7929",
   "metadata": {},
   "outputs": [
    {
     "data": {
      "text/html": [
       "<div>\n",
       "<style scoped>\n",
       "    .dataframe tbody tr th:only-of-type {\n",
       "        vertical-align: middle;\n",
       "    }\n",
       "\n",
       "    .dataframe tbody tr th {\n",
       "        vertical-align: top;\n",
       "    }\n",
       "\n",
       "    .dataframe thead th {\n",
       "        text-align: right;\n",
       "    }\n",
       "</style>\n",
       "<table border=\"1\" class=\"dataframe\">\n",
       "  <thead>\n",
       "    <tr style=\"text-align: right;\">\n",
       "      <th></th>\n",
       "      <th>vegetables</th>\n",
       "      <th>color</th>\n",
       "      <th>unit</th>\n",
       "      <th>min</th>\n",
       "      <th>max</th>\n",
       "    </tr>\n",
       "  </thead>\n",
       "  <tbody>\n",
       "    <tr>\n",
       "      <th>0</th>\n",
       "      <td>beetroot</td>\n",
       "      <td>purple</td>\n",
       "      <td>1kg</td>\n",
       "      <td>15</td>\n",
       "      <td>40</td>\n",
       "    </tr>\n",
       "    <tr>\n",
       "      <th>1</th>\n",
       "      <td>carrot</td>\n",
       "      <td>orange</td>\n",
       "      <td>1kg</td>\n",
       "      <td>25</td>\n",
       "      <td>45</td>\n",
       "    </tr>\n",
       "    <tr>\n",
       "      <th>2</th>\n",
       "      <td>tomato</td>\n",
       "      <td>red</td>\n",
       "      <td>1kg</td>\n",
       "      <td>53</td>\n",
       "      <td>90</td>\n",
       "    </tr>\n",
       "    <tr>\n",
       "      <th>3</th>\n",
       "      <td>kovakkai</td>\n",
       "      <td>green</td>\n",
       "      <td>1kg</td>\n",
       "      <td>30</td>\n",
       "      <td>45</td>\n",
       "    </tr>\n",
       "    <tr>\n",
       "      <th>4</th>\n",
       "      <td>coconut</td>\n",
       "      <td>white</td>\n",
       "      <td>1piece</td>\n",
       "      <td>seventeen</td>\n",
       "      <td>38</td>\n",
       "    </tr>\n",
       "    <tr>\n",
       "      <th>5</th>\n",
       "      <td>Cabbage</td>\n",
       "      <td>green</td>\n",
       "      <td>1piece</td>\n",
       "      <td>10</td>\n",
       "      <td>30</td>\n",
       "    </tr>\n",
       "    <tr>\n",
       "      <th>6</th>\n",
       "      <td>Ladies Finger</td>\n",
       "      <td>green</td>\n",
       "      <td>1kg</td>\n",
       "      <td>10</td>\n",
       "      <td>35</td>\n",
       "    </tr>\n",
       "  </tbody>\n",
       "</table>\n",
       "</div>"
      ],
      "text/plain": [
       "      vegetables   color    unit        min  max\n",
       "0       beetroot  purple     1kg         15   40\n",
       "1         carrot  orange     1kg         25   45\n",
       "2         tomato     red     1kg         53   90\n",
       "3       kovakkai   green     1kg         30   45\n",
       "4        coconut   white  1piece  seventeen   38\n",
       "5        Cabbage   green  1piece         10   30\n",
       "6  Ladies Finger   green     1kg         10   35"
      ]
     },
     "execution_count": 104,
     "metadata": {},
     "output_type": "execute_result"
    }
   ],
   "source": [
    "market.loc[6]={'vegetables':'Ladies Finger','color':'green','unit':'1kg','min':10,'max':35}\n",
    "market"
   ]
  },
  {
   "cell_type": "code",
   "execution_count": 105,
   "id": "a7399c6b-ac43-49cd-ad10-c4ef54813240",
   "metadata": {
    "scrolled": true
   },
   "outputs": [
    {
     "data": {
      "text/html": [
       "<div>\n",
       "<style scoped>\n",
       "    .dataframe tbody tr th:only-of-type {\n",
       "        vertical-align: middle;\n",
       "    }\n",
       "\n",
       "    .dataframe tbody tr th {\n",
       "        vertical-align: top;\n",
       "    }\n",
       "\n",
       "    .dataframe thead th {\n",
       "        text-align: right;\n",
       "    }\n",
       "</style>\n",
       "<table border=\"1\" class=\"dataframe\">\n",
       "  <thead>\n",
       "    <tr style=\"text-align: right;\">\n",
       "      <th></th>\n",
       "      <th>vegetables</th>\n",
       "      <th>color</th>\n",
       "      <th>unit</th>\n",
       "      <th>min</th>\n",
       "      <th>max</th>\n",
       "    </tr>\n",
       "  </thead>\n",
       "  <tbody>\n",
       "    <tr>\n",
       "      <th>0</th>\n",
       "      <td>beetroot</td>\n",
       "      <td>purple</td>\n",
       "      <td>1kg</td>\n",
       "      <td>15</td>\n",
       "      <td>40</td>\n",
       "    </tr>\n",
       "    <tr>\n",
       "      <th>1</th>\n",
       "      <td>carrot</td>\n",
       "      <td>orange</td>\n",
       "      <td>1kg</td>\n",
       "      <td>25</td>\n",
       "      <td>45</td>\n",
       "    </tr>\n",
       "    <tr>\n",
       "      <th>2</th>\n",
       "      <td>tomato</td>\n",
       "      <td>red</td>\n",
       "      <td>1kg</td>\n",
       "      <td>53</td>\n",
       "      <td>90</td>\n",
       "    </tr>\n",
       "    <tr>\n",
       "      <th>3</th>\n",
       "      <td>kovakkai</td>\n",
       "      <td>green</td>\n",
       "      <td>1kg</td>\n",
       "      <td>30</td>\n",
       "      <td>45</td>\n",
       "    </tr>\n",
       "    <tr>\n",
       "      <th>4</th>\n",
       "      <td>coconut</td>\n",
       "      <td>white</td>\n",
       "      <td>1piece</td>\n",
       "      <td>seventeen</td>\n",
       "      <td>38</td>\n",
       "    </tr>\n",
       "    <tr>\n",
       "      <th>5</th>\n",
       "      <td>Cabbage</td>\n",
       "      <td>green</td>\n",
       "      <td>1piece</td>\n",
       "      <td>10</td>\n",
       "      <td>30</td>\n",
       "    </tr>\n",
       "  </tbody>\n",
       "</table>\n",
       "</div>"
      ],
      "text/plain": [
       "  vegetables   color    unit        min  max\n",
       "0   beetroot  purple     1kg         15   40\n",
       "1     carrot  orange     1kg         25   45\n",
       "2     tomato     red     1kg         53   90\n",
       "3   kovakkai   green     1kg         30   45\n",
       "4    coconut   white  1piece  seventeen   38\n",
       "5    Cabbage   green  1piece         10   30"
      ]
     },
     "execution_count": 105,
     "metadata": {},
     "output_type": "execute_result"
    }
   ],
   "source": [
    "market.drop([6],axis=0)"
   ]
  },
  {
   "cell_type": "code",
   "execution_count": 106,
   "id": "280a087c-14af-4be6-97be-4c1b0bb87446",
   "metadata": {},
   "outputs": [
    {
     "data": {
      "text/html": [
       "<div>\n",
       "<style scoped>\n",
       "    .dataframe tbody tr th:only-of-type {\n",
       "        vertical-align: middle;\n",
       "    }\n",
       "\n",
       "    .dataframe tbody tr th {\n",
       "        vertical-align: top;\n",
       "    }\n",
       "\n",
       "    .dataframe thead th {\n",
       "        text-align: right;\n",
       "    }\n",
       "</style>\n",
       "<table border=\"1\" class=\"dataframe\">\n",
       "  <thead>\n",
       "    <tr style=\"text-align: right;\">\n",
       "      <th></th>\n",
       "      <th>vegetables</th>\n",
       "      <th>color</th>\n",
       "      <th>unit</th>\n",
       "      <th>min</th>\n",
       "      <th>max</th>\n",
       "    </tr>\n",
       "  </thead>\n",
       "  <tbody>\n",
       "    <tr>\n",
       "      <th>0</th>\n",
       "      <td>beetroot</td>\n",
       "      <td>purple</td>\n",
       "      <td>1kg</td>\n",
       "      <td>15</td>\n",
       "      <td>40</td>\n",
       "    </tr>\n",
       "    <tr>\n",
       "      <th>1</th>\n",
       "      <td>carrot</td>\n",
       "      <td>orange</td>\n",
       "      <td>1kg</td>\n",
       "      <td>25</td>\n",
       "      <td>45</td>\n",
       "    </tr>\n",
       "    <tr>\n",
       "      <th>2</th>\n",
       "      <td>tomato</td>\n",
       "      <td>red</td>\n",
       "      <td>1kg</td>\n",
       "      <td>53</td>\n",
       "      <td>90</td>\n",
       "    </tr>\n",
       "    <tr>\n",
       "      <th>3</th>\n",
       "      <td>kovakkai</td>\n",
       "      <td>green</td>\n",
       "      <td>1kg</td>\n",
       "      <td>30</td>\n",
       "      <td>45</td>\n",
       "    </tr>\n",
       "    <tr>\n",
       "      <th>4</th>\n",
       "      <td>coconut</td>\n",
       "      <td>white</td>\n",
       "      <td>1piece</td>\n",
       "      <td>seventeen</td>\n",
       "      <td>38</td>\n",
       "    </tr>\n",
       "    <tr>\n",
       "      <th>5</th>\n",
       "      <td>Cabbage</td>\n",
       "      <td>green</td>\n",
       "      <td>1piece</td>\n",
       "      <td>10</td>\n",
       "      <td>30</td>\n",
       "    </tr>\n",
       "    <tr>\n",
       "      <th>6</th>\n",
       "      <td>Ladies Finger</td>\n",
       "      <td>green</td>\n",
       "      <td>1kg</td>\n",
       "      <td>10</td>\n",
       "      <td>35</td>\n",
       "    </tr>\n",
       "  </tbody>\n",
       "</table>\n",
       "</div>"
      ],
      "text/plain": [
       "      vegetables   color    unit        min  max\n",
       "0       beetroot  purple     1kg         15   40\n",
       "1         carrot  orange     1kg         25   45\n",
       "2         tomato     red     1kg         53   90\n",
       "3       kovakkai   green     1kg         30   45\n",
       "4        coconut   white  1piece  seventeen   38\n",
       "5        Cabbage   green  1piece         10   30\n",
       "6  Ladies Finger   green     1kg         10   35"
      ]
     },
     "execution_count": 106,
     "metadata": {},
     "output_type": "execute_result"
    }
   ],
   "source": [
    "market   #It won't remove from original market data"
   ]
  },
  {
   "cell_type": "code",
   "execution_count": 107,
   "id": "2109839b-29d3-402a-9bde-e86fb7613aaf",
   "metadata": {},
   "outputs": [],
   "source": [
    "market.drop([6],axis=0,inplace=True)"
   ]
  },
  {
   "cell_type": "code",
   "execution_count": 108,
   "id": "eae347b9-1939-416d-a7bd-6f9579310342",
   "metadata": {},
   "outputs": [
    {
     "data": {
      "text/html": [
       "<div>\n",
       "<style scoped>\n",
       "    .dataframe tbody tr th:only-of-type {\n",
       "        vertical-align: middle;\n",
       "    }\n",
       "\n",
       "    .dataframe tbody tr th {\n",
       "        vertical-align: top;\n",
       "    }\n",
       "\n",
       "    .dataframe thead th {\n",
       "        text-align: right;\n",
       "    }\n",
       "</style>\n",
       "<table border=\"1\" class=\"dataframe\">\n",
       "  <thead>\n",
       "    <tr style=\"text-align: right;\">\n",
       "      <th></th>\n",
       "      <th>vegetables</th>\n",
       "      <th>color</th>\n",
       "      <th>unit</th>\n",
       "      <th>min</th>\n",
       "      <th>max</th>\n",
       "    </tr>\n",
       "  </thead>\n",
       "  <tbody>\n",
       "    <tr>\n",
       "      <th>0</th>\n",
       "      <td>beetroot</td>\n",
       "      <td>purple</td>\n",
       "      <td>1kg</td>\n",
       "      <td>15</td>\n",
       "      <td>40</td>\n",
       "    </tr>\n",
       "    <tr>\n",
       "      <th>1</th>\n",
       "      <td>carrot</td>\n",
       "      <td>orange</td>\n",
       "      <td>1kg</td>\n",
       "      <td>25</td>\n",
       "      <td>45</td>\n",
       "    </tr>\n",
       "    <tr>\n",
       "      <th>2</th>\n",
       "      <td>tomato</td>\n",
       "      <td>red</td>\n",
       "      <td>1kg</td>\n",
       "      <td>53</td>\n",
       "      <td>90</td>\n",
       "    </tr>\n",
       "    <tr>\n",
       "      <th>3</th>\n",
       "      <td>kovakkai</td>\n",
       "      <td>green</td>\n",
       "      <td>1kg</td>\n",
       "      <td>30</td>\n",
       "      <td>45</td>\n",
       "    </tr>\n",
       "    <tr>\n",
       "      <th>4</th>\n",
       "      <td>coconut</td>\n",
       "      <td>white</td>\n",
       "      <td>1piece</td>\n",
       "      <td>seventeen</td>\n",
       "      <td>38</td>\n",
       "    </tr>\n",
       "    <tr>\n",
       "      <th>5</th>\n",
       "      <td>Cabbage</td>\n",
       "      <td>green</td>\n",
       "      <td>1piece</td>\n",
       "      <td>10</td>\n",
       "      <td>30</td>\n",
       "    </tr>\n",
       "  </tbody>\n",
       "</table>\n",
       "</div>"
      ],
      "text/plain": [
       "  vegetables   color    unit        min  max\n",
       "0   beetroot  purple     1kg         15   40\n",
       "1     carrot  orange     1kg         25   45\n",
       "2     tomato     red     1kg         53   90\n",
       "3   kovakkai   green     1kg         30   45\n",
       "4    coconut   white  1piece  seventeen   38\n",
       "5    Cabbage   green  1piece         10   30"
      ]
     },
     "execution_count": 108,
     "metadata": {},
     "output_type": "execute_result"
    }
   ],
   "source": [
    "market"
   ]
  },
  {
   "cell_type": "markdown",
   "id": "3bfbf15c-244a-4c59-b4fe-e70be473dbfb",
   "metadata": {},
   "source": [
    "**Handling missing values-isna,sum,any,fillna,dropna(imp)**"
   ]
  },
  {
   "cell_type": "code",
   "execution_count": 109,
   "id": "1b55f132-d4e6-4c34-8239-1405478767bb",
   "metadata": {},
   "outputs": [
    {
     "data": {
      "text/html": [
       "<div>\n",
       "<style scoped>\n",
       "    .dataframe tbody tr th:only-of-type {\n",
       "        vertical-align: middle;\n",
       "    }\n",
       "\n",
       "    .dataframe tbody tr th {\n",
       "        vertical-align: top;\n",
       "    }\n",
       "\n",
       "    .dataframe thead th {\n",
       "        text-align: right;\n",
       "    }\n",
       "</style>\n",
       "<table border=\"1\" class=\"dataframe\">\n",
       "  <thead>\n",
       "    <tr style=\"text-align: right;\">\n",
       "      <th></th>\n",
       "      <th>vegetables</th>\n",
       "      <th>color</th>\n",
       "      <th>unit</th>\n",
       "      <th>min</th>\n",
       "      <th>max</th>\n",
       "    </tr>\n",
       "  </thead>\n",
       "  <tbody>\n",
       "    <tr>\n",
       "      <th>0</th>\n",
       "      <td>beetroot</td>\n",
       "      <td>purple</td>\n",
       "      <td>1kg</td>\n",
       "      <td>15</td>\n",
       "      <td>40</td>\n",
       "    </tr>\n",
       "    <tr>\n",
       "      <th>1</th>\n",
       "      <td>carrot</td>\n",
       "      <td>orange</td>\n",
       "      <td>1kg</td>\n",
       "      <td>25</td>\n",
       "      <td>45</td>\n",
       "    </tr>\n",
       "    <tr>\n",
       "      <th>2</th>\n",
       "      <td>tomato</td>\n",
       "      <td>red</td>\n",
       "      <td>1kg</td>\n",
       "      <td>53</td>\n",
       "      <td>90</td>\n",
       "    </tr>\n",
       "    <tr>\n",
       "      <th>3</th>\n",
       "      <td>kovakkai</td>\n",
       "      <td>green</td>\n",
       "      <td>1kg</td>\n",
       "      <td>30</td>\n",
       "      <td>45</td>\n",
       "    </tr>\n",
       "    <tr>\n",
       "      <th>4</th>\n",
       "      <td>coconut</td>\n",
       "      <td>white</td>\n",
       "      <td>1piece</td>\n",
       "      <td>seventeen</td>\n",
       "      <td>38</td>\n",
       "    </tr>\n",
       "    <tr>\n",
       "      <th>5</th>\n",
       "      <td>Cabbage</td>\n",
       "      <td>green</td>\n",
       "      <td>1piece</td>\n",
       "      <td>10</td>\n",
       "      <td>30</td>\n",
       "    </tr>\n",
       "  </tbody>\n",
       "</table>\n",
       "</div>"
      ],
      "text/plain": [
       "  vegetables   color    unit        min  max\n",
       "0   beetroot  purple     1kg         15   40\n",
       "1     carrot  orange     1kg         25   45\n",
       "2     tomato     red     1kg         53   90\n",
       "3   kovakkai   green     1kg         30   45\n",
       "4    coconut   white  1piece  seventeen   38\n",
       "5    Cabbage   green  1piece         10   30"
      ]
     },
     "execution_count": 109,
     "metadata": {},
     "output_type": "execute_result"
    }
   ],
   "source": [
    "market"
   ]
  },
  {
   "cell_type": "code",
   "execution_count": 110,
   "id": "7426c766-561b-4551-9c33-0cac1c549e2a",
   "metadata": {},
   "outputs": [
    {
     "data": {
      "text/html": [
       "<div>\n",
       "<style scoped>\n",
       "    .dataframe tbody tr th:only-of-type {\n",
       "        vertical-align: middle;\n",
       "    }\n",
       "\n",
       "    .dataframe tbody tr th {\n",
       "        vertical-align: top;\n",
       "    }\n",
       "\n",
       "    .dataframe thead th {\n",
       "        text-align: right;\n",
       "    }\n",
       "</style>\n",
       "<table border=\"1\" class=\"dataframe\">\n",
       "  <thead>\n",
       "    <tr style=\"text-align: right;\">\n",
       "      <th></th>\n",
       "      <th>vegetables</th>\n",
       "      <th>color</th>\n",
       "      <th>unit</th>\n",
       "      <th>min</th>\n",
       "      <th>max</th>\n",
       "    </tr>\n",
       "  </thead>\n",
       "  <tbody>\n",
       "    <tr>\n",
       "      <th>0</th>\n",
       "      <td>False</td>\n",
       "      <td>False</td>\n",
       "      <td>False</td>\n",
       "      <td>False</td>\n",
       "      <td>False</td>\n",
       "    </tr>\n",
       "    <tr>\n",
       "      <th>1</th>\n",
       "      <td>False</td>\n",
       "      <td>False</td>\n",
       "      <td>False</td>\n",
       "      <td>False</td>\n",
       "      <td>False</td>\n",
       "    </tr>\n",
       "    <tr>\n",
       "      <th>2</th>\n",
       "      <td>False</td>\n",
       "      <td>False</td>\n",
       "      <td>False</td>\n",
       "      <td>False</td>\n",
       "      <td>False</td>\n",
       "    </tr>\n",
       "    <tr>\n",
       "      <th>3</th>\n",
       "      <td>False</td>\n",
       "      <td>False</td>\n",
       "      <td>False</td>\n",
       "      <td>False</td>\n",
       "      <td>False</td>\n",
       "    </tr>\n",
       "    <tr>\n",
       "      <th>4</th>\n",
       "      <td>False</td>\n",
       "      <td>False</td>\n",
       "      <td>False</td>\n",
       "      <td>False</td>\n",
       "      <td>False</td>\n",
       "    </tr>\n",
       "    <tr>\n",
       "      <th>5</th>\n",
       "      <td>False</td>\n",
       "      <td>False</td>\n",
       "      <td>False</td>\n",
       "      <td>False</td>\n",
       "      <td>False</td>\n",
       "    </tr>\n",
       "  </tbody>\n",
       "</table>\n",
       "</div>"
      ],
      "text/plain": [
       "   vegetables  color   unit    min    max\n",
       "0       False  False  False  False  False\n",
       "1       False  False  False  False  False\n",
       "2       False  False  False  False  False\n",
       "3       False  False  False  False  False\n",
       "4       False  False  False  False  False\n",
       "5       False  False  False  False  False"
      ]
     },
     "execution_count": 110,
     "metadata": {},
     "output_type": "execute_result"
    }
   ],
   "source": [
    "market.isna()   #Checking each and every values whether null or not"
   ]
  },
  {
   "cell_type": "code",
   "execution_count": 111,
   "id": "ecc0afda-3c93-4a8b-8a11-82c4f8212252",
   "metadata": {},
   "outputs": [
    {
     "data": {
      "text/plain": [
       "vegetables    0\n",
       "color         0\n",
       "unit          0\n",
       "min           0\n",
       "max           0\n",
       "dtype: int64"
      ]
     },
     "execution_count": 111,
     "metadata": {},
     "output_type": "execute_result"
    }
   ],
   "source": [
    "market.isna().sum()    #Counting the number of null values"
   ]
  },
  {
   "cell_type": "code",
   "execution_count": 112,
   "id": "086b2b1d-c56b-4fec-8f4b-352cbd8e3a2d",
   "metadata": {},
   "outputs": [],
   "source": [
    "import numpy as np    #To fill the null values we need numpy package"
   ]
  },
  {
   "cell_type": "code",
   "execution_count": 113,
   "id": "fe91da7f-10c9-4716-998e-b0be61cb42a5",
   "metadata": {},
   "outputs": [
    {
     "data": {
      "text/html": [
       "<div>\n",
       "<style scoped>\n",
       "    .dataframe tbody tr th:only-of-type {\n",
       "        vertical-align: middle;\n",
       "    }\n",
       "\n",
       "    .dataframe tbody tr th {\n",
       "        vertical-align: top;\n",
       "    }\n",
       "\n",
       "    .dataframe thead th {\n",
       "        text-align: right;\n",
       "    }\n",
       "</style>\n",
       "<table border=\"1\" class=\"dataframe\">\n",
       "  <thead>\n",
       "    <tr style=\"text-align: right;\">\n",
       "      <th></th>\n",
       "      <th>vegetables</th>\n",
       "      <th>color</th>\n",
       "      <th>unit</th>\n",
       "      <th>min</th>\n",
       "      <th>max</th>\n",
       "    </tr>\n",
       "  </thead>\n",
       "  <tbody>\n",
       "    <tr>\n",
       "      <th>0</th>\n",
       "      <td>beetroot</td>\n",
       "      <td>purple</td>\n",
       "      <td>1kg</td>\n",
       "      <td>15</td>\n",
       "      <td>40</td>\n",
       "    </tr>\n",
       "    <tr>\n",
       "      <th>1</th>\n",
       "      <td>carrot</td>\n",
       "      <td>orange</td>\n",
       "      <td>1kg</td>\n",
       "      <td>25</td>\n",
       "      <td>45</td>\n",
       "    </tr>\n",
       "    <tr>\n",
       "      <th>2</th>\n",
       "      <td>tomato</td>\n",
       "      <td>red</td>\n",
       "      <td>1kg</td>\n",
       "      <td>53</td>\n",
       "      <td>90</td>\n",
       "    </tr>\n",
       "    <tr>\n",
       "      <th>3</th>\n",
       "      <td>kovakkai</td>\n",
       "      <td>green</td>\n",
       "      <td>1kg</td>\n",
       "      <td>30</td>\n",
       "      <td>45</td>\n",
       "    </tr>\n",
       "    <tr>\n",
       "      <th>4</th>\n",
       "      <td>coconut</td>\n",
       "      <td>white</td>\n",
       "      <td>1piece</td>\n",
       "      <td>seventeen</td>\n",
       "      <td>38</td>\n",
       "    </tr>\n",
       "    <tr>\n",
       "      <th>5</th>\n",
       "      <td>Cabbage</td>\n",
       "      <td>green</td>\n",
       "      <td>1piece</td>\n",
       "      <td>10</td>\n",
       "      <td>30</td>\n",
       "    </tr>\n",
       "  </tbody>\n",
       "</table>\n",
       "</div>"
      ],
      "text/plain": [
       "  vegetables   color    unit        min  max\n",
       "0   beetroot  purple     1kg         15   40\n",
       "1     carrot  orange     1kg         25   45\n",
       "2     tomato     red     1kg         53   90\n",
       "3   kovakkai   green     1kg         30   45\n",
       "4    coconut   white  1piece  seventeen   38\n",
       "5    Cabbage   green  1piece         10   30"
      ]
     },
     "execution_count": 113,
     "metadata": {},
     "output_type": "execute_result"
    }
   ],
   "source": [
    "market"
   ]
  },
  {
   "cell_type": "code",
   "execution_count": 114,
   "id": "c86a9f56-0c12-4836-8fb6-4afa271882ce",
   "metadata": {},
   "outputs": [],
   "source": [
    "market.loc[4,'min']=np.nan                 #Using np.nan we included null values"
   ]
  },
  {
   "cell_type": "code",
   "execution_count": 115,
   "id": "9d905661-d9f0-4cbd-938d-61dfaf49efe6",
   "metadata": {},
   "outputs": [
    {
     "data": {
      "text/html": [
       "<div>\n",
       "<style scoped>\n",
       "    .dataframe tbody tr th:only-of-type {\n",
       "        vertical-align: middle;\n",
       "    }\n",
       "\n",
       "    .dataframe tbody tr th {\n",
       "        vertical-align: top;\n",
       "    }\n",
       "\n",
       "    .dataframe thead th {\n",
       "        text-align: right;\n",
       "    }\n",
       "</style>\n",
       "<table border=\"1\" class=\"dataframe\">\n",
       "  <thead>\n",
       "    <tr style=\"text-align: right;\">\n",
       "      <th></th>\n",
       "      <th>vegetables</th>\n",
       "      <th>color</th>\n",
       "      <th>unit</th>\n",
       "      <th>min</th>\n",
       "      <th>max</th>\n",
       "    </tr>\n",
       "  </thead>\n",
       "  <tbody>\n",
       "    <tr>\n",
       "      <th>0</th>\n",
       "      <td>beetroot</td>\n",
       "      <td>purple</td>\n",
       "      <td>1kg</td>\n",
       "      <td>15</td>\n",
       "      <td>40</td>\n",
       "    </tr>\n",
       "    <tr>\n",
       "      <th>1</th>\n",
       "      <td>carrot</td>\n",
       "      <td>orange</td>\n",
       "      <td>1kg</td>\n",
       "      <td>25</td>\n",
       "      <td>45</td>\n",
       "    </tr>\n",
       "    <tr>\n",
       "      <th>2</th>\n",
       "      <td>tomato</td>\n",
       "      <td>red</td>\n",
       "      <td>1kg</td>\n",
       "      <td>53</td>\n",
       "      <td>90</td>\n",
       "    </tr>\n",
       "    <tr>\n",
       "      <th>3</th>\n",
       "      <td>kovakkai</td>\n",
       "      <td>green</td>\n",
       "      <td>1kg</td>\n",
       "      <td>30</td>\n",
       "      <td>45</td>\n",
       "    </tr>\n",
       "    <tr>\n",
       "      <th>4</th>\n",
       "      <td>coconut</td>\n",
       "      <td>white</td>\n",
       "      <td>1piece</td>\n",
       "      <td>NaN</td>\n",
       "      <td>38</td>\n",
       "    </tr>\n",
       "    <tr>\n",
       "      <th>5</th>\n",
       "      <td>Cabbage</td>\n",
       "      <td>green</td>\n",
       "      <td>1piece</td>\n",
       "      <td>10</td>\n",
       "      <td>30</td>\n",
       "    </tr>\n",
       "  </tbody>\n",
       "</table>\n",
       "</div>"
      ],
      "text/plain": [
       "  vegetables   color    unit  min  max\n",
       "0   beetroot  purple     1kg   15   40\n",
       "1     carrot  orange     1kg   25   45\n",
       "2     tomato     red     1kg   53   90\n",
       "3   kovakkai   green     1kg   30   45\n",
       "4    coconut   white  1piece  NaN   38\n",
       "5    Cabbage   green  1piece   10   30"
      ]
     },
     "execution_count": 115,
     "metadata": {},
     "output_type": "execute_result"
    }
   ],
   "source": [
    "market"
   ]
  },
  {
   "cell_type": "markdown",
   "id": "87c7844c-7b98-4d0e-b2ee-9d29a6f4a5b9",
   "metadata": {},
   "source": [
    "DataFrame market contains a column like 'min' with mixed types — probably because it once had a string like 'seventeen' in it (as you mentioned earlier), so pandas treats the column as object type, not numeric.  So if it type integer then we can fill null value with integer values as market.fillna(20,inplace=True)...otherwise leads to error..."
   ]
  },
  {
   "cell_type": "code",
   "execution_count": 116,
   "id": "2ea94217-3c13-4063-9754-6b41a2e28842",
   "metadata": {},
   "outputs": [],
   "source": [
    "market.fillna(False,inplace=True)#Null value is filled by False variable"
   ]
  },
  {
   "cell_type": "code",
   "execution_count": 117,
   "id": "36f59857-6241-48a4-bb6b-bf4c057d3ac7",
   "metadata": {},
   "outputs": [
    {
     "data": {
      "text/html": [
       "<div>\n",
       "<style scoped>\n",
       "    .dataframe tbody tr th:only-of-type {\n",
       "        vertical-align: middle;\n",
       "    }\n",
       "\n",
       "    .dataframe tbody tr th {\n",
       "        vertical-align: top;\n",
       "    }\n",
       "\n",
       "    .dataframe thead th {\n",
       "        text-align: right;\n",
       "    }\n",
       "</style>\n",
       "<table border=\"1\" class=\"dataframe\">\n",
       "  <thead>\n",
       "    <tr style=\"text-align: right;\">\n",
       "      <th></th>\n",
       "      <th>vegetables</th>\n",
       "      <th>color</th>\n",
       "      <th>unit</th>\n",
       "      <th>min</th>\n",
       "      <th>max</th>\n",
       "    </tr>\n",
       "  </thead>\n",
       "  <tbody>\n",
       "    <tr>\n",
       "      <th>0</th>\n",
       "      <td>beetroot</td>\n",
       "      <td>purple</td>\n",
       "      <td>1kg</td>\n",
       "      <td>15</td>\n",
       "      <td>40</td>\n",
       "    </tr>\n",
       "    <tr>\n",
       "      <th>1</th>\n",
       "      <td>carrot</td>\n",
       "      <td>orange</td>\n",
       "      <td>1kg</td>\n",
       "      <td>25</td>\n",
       "      <td>45</td>\n",
       "    </tr>\n",
       "    <tr>\n",
       "      <th>2</th>\n",
       "      <td>tomato</td>\n",
       "      <td>red</td>\n",
       "      <td>1kg</td>\n",
       "      <td>53</td>\n",
       "      <td>90</td>\n",
       "    </tr>\n",
       "    <tr>\n",
       "      <th>3</th>\n",
       "      <td>kovakkai</td>\n",
       "      <td>green</td>\n",
       "      <td>1kg</td>\n",
       "      <td>30</td>\n",
       "      <td>45</td>\n",
       "    </tr>\n",
       "    <tr>\n",
       "      <th>4</th>\n",
       "      <td>coconut</td>\n",
       "      <td>white</td>\n",
       "      <td>1piece</td>\n",
       "      <td>False</td>\n",
       "      <td>38</td>\n",
       "    </tr>\n",
       "    <tr>\n",
       "      <th>5</th>\n",
       "      <td>Cabbage</td>\n",
       "      <td>green</td>\n",
       "      <td>1piece</td>\n",
       "      <td>10</td>\n",
       "      <td>30</td>\n",
       "    </tr>\n",
       "  </tbody>\n",
       "</table>\n",
       "</div>"
      ],
      "text/plain": [
       "  vegetables   color    unit    min  max\n",
       "0   beetroot  purple     1kg     15   40\n",
       "1     carrot  orange     1kg     25   45\n",
       "2     tomato     red     1kg     53   90\n",
       "3   kovakkai   green     1kg     30   45\n",
       "4    coconut   white  1piece  False   38\n",
       "5    Cabbage   green  1piece     10   30"
      ]
     },
     "execution_count": 117,
     "metadata": {},
     "output_type": "execute_result"
    }
   ],
   "source": [
    "market"
   ]
  },
  {
   "cell_type": "code",
   "execution_count": 118,
   "id": "28471460-6941-4bf4-b1e1-54a3593fc1b0",
   "metadata": {},
   "outputs": [
    {
     "data": {
      "text/html": [
       "<div>\n",
       "<style scoped>\n",
       "    .dataframe tbody tr th:only-of-type {\n",
       "        vertical-align: middle;\n",
       "    }\n",
       "\n",
       "    .dataframe tbody tr th {\n",
       "        vertical-align: top;\n",
       "    }\n",
       "\n",
       "    .dataframe thead th {\n",
       "        text-align: right;\n",
       "    }\n",
       "</style>\n",
       "<table border=\"1\" class=\"dataframe\">\n",
       "  <thead>\n",
       "    <tr style=\"text-align: right;\">\n",
       "      <th></th>\n",
       "      <th>vegetables</th>\n",
       "      <th>color</th>\n",
       "      <th>unit</th>\n",
       "      <th>min</th>\n",
       "      <th>max</th>\n",
       "    </tr>\n",
       "  </thead>\n",
       "  <tbody>\n",
       "    <tr>\n",
       "      <th>0</th>\n",
       "      <td>beetroot</td>\n",
       "      <td>purple</td>\n",
       "      <td>1kg</td>\n",
       "      <td>15</td>\n",
       "      <td>40</td>\n",
       "    </tr>\n",
       "    <tr>\n",
       "      <th>1</th>\n",
       "      <td>carrot</td>\n",
       "      <td>orange</td>\n",
       "      <td>1kg</td>\n",
       "      <td>25</td>\n",
       "      <td>45</td>\n",
       "    </tr>\n",
       "    <tr>\n",
       "      <th>2</th>\n",
       "      <td>tomato</td>\n",
       "      <td>red</td>\n",
       "      <td>1kg</td>\n",
       "      <td>53</td>\n",
       "      <td>90</td>\n",
       "    </tr>\n",
       "    <tr>\n",
       "      <th>3</th>\n",
       "      <td>kovakkai</td>\n",
       "      <td>green</td>\n",
       "      <td>1kg</td>\n",
       "      <td>30</td>\n",
       "      <td>45</td>\n",
       "    </tr>\n",
       "    <tr>\n",
       "      <th>4</th>\n",
       "      <td>coconut</td>\n",
       "      <td>white</td>\n",
       "      <td>1piece</td>\n",
       "      <td>False</td>\n",
       "      <td>38</td>\n",
       "    </tr>\n",
       "    <tr>\n",
       "      <th>5</th>\n",
       "      <td>Cabbage</td>\n",
       "      <td>green</td>\n",
       "      <td>1piece</td>\n",
       "      <td>10</td>\n",
       "      <td>30</td>\n",
       "    </tr>\n",
       "  </tbody>\n",
       "</table>\n",
       "</div>"
      ],
      "text/plain": [
       "  vegetables   color    unit    min  max\n",
       "0   beetroot  purple     1kg     15   40\n",
       "1     carrot  orange     1kg     25   45\n",
       "2     tomato     red     1kg     53   90\n",
       "3   kovakkai   green     1kg     30   45\n",
       "4    coconut   white  1piece  False   38\n",
       "5    Cabbage   green  1piece     10   30"
      ]
     },
     "execution_count": 118,
     "metadata": {},
     "output_type": "execute_result"
    }
   ],
   "source": [
    "market.dropna(axis=0)   #Not dropping anything because there is no null"
   ]
  },
  {
   "cell_type": "markdown",
   "id": "bc6f7969-c161-41de-ba7d-fdef0ba72a3d",
   "metadata": {},
   "source": [
    "**Lambda Function**"
   ]
  },
  {
   "cell_type": "code",
   "execution_count": 119,
   "id": "33620c1b-8530-4c7c-8b71-77da1a56c829",
   "metadata": {},
   "outputs": [],
   "source": [
    "market['max']=market['max'].apply(lambda x:x+5)    #Lambda function applied to increase the maximum values by 5"
   ]
  },
  {
   "cell_type": "code",
   "execution_count": 120,
   "id": "17d624c6-bde2-488c-9397-a8a4fceeabb0",
   "metadata": {},
   "outputs": [
    {
     "data": {
      "text/html": [
       "<div>\n",
       "<style scoped>\n",
       "    .dataframe tbody tr th:only-of-type {\n",
       "        vertical-align: middle;\n",
       "    }\n",
       "\n",
       "    .dataframe tbody tr th {\n",
       "        vertical-align: top;\n",
       "    }\n",
       "\n",
       "    .dataframe thead th {\n",
       "        text-align: right;\n",
       "    }\n",
       "</style>\n",
       "<table border=\"1\" class=\"dataframe\">\n",
       "  <thead>\n",
       "    <tr style=\"text-align: right;\">\n",
       "      <th></th>\n",
       "      <th>vegetables</th>\n",
       "      <th>color</th>\n",
       "      <th>unit</th>\n",
       "      <th>min</th>\n",
       "      <th>max</th>\n",
       "    </tr>\n",
       "  </thead>\n",
       "  <tbody>\n",
       "    <tr>\n",
       "      <th>0</th>\n",
       "      <td>beetroot</td>\n",
       "      <td>purple</td>\n",
       "      <td>1kg</td>\n",
       "      <td>15</td>\n",
       "      <td>45</td>\n",
       "    </tr>\n",
       "    <tr>\n",
       "      <th>1</th>\n",
       "      <td>carrot</td>\n",
       "      <td>orange</td>\n",
       "      <td>1kg</td>\n",
       "      <td>25</td>\n",
       "      <td>50</td>\n",
       "    </tr>\n",
       "    <tr>\n",
       "      <th>2</th>\n",
       "      <td>tomato</td>\n",
       "      <td>red</td>\n",
       "      <td>1kg</td>\n",
       "      <td>53</td>\n",
       "      <td>95</td>\n",
       "    </tr>\n",
       "    <tr>\n",
       "      <th>3</th>\n",
       "      <td>kovakkai</td>\n",
       "      <td>green</td>\n",
       "      <td>1kg</td>\n",
       "      <td>30</td>\n",
       "      <td>50</td>\n",
       "    </tr>\n",
       "    <tr>\n",
       "      <th>4</th>\n",
       "      <td>coconut</td>\n",
       "      <td>white</td>\n",
       "      <td>1piece</td>\n",
       "      <td>False</td>\n",
       "      <td>43</td>\n",
       "    </tr>\n",
       "    <tr>\n",
       "      <th>5</th>\n",
       "      <td>Cabbage</td>\n",
       "      <td>green</td>\n",
       "      <td>1piece</td>\n",
       "      <td>10</td>\n",
       "      <td>35</td>\n",
       "    </tr>\n",
       "  </tbody>\n",
       "</table>\n",
       "</div>"
      ],
      "text/plain": [
       "  vegetables   color    unit    min  max\n",
       "0   beetroot  purple     1kg     15   45\n",
       "1     carrot  orange     1kg     25   50\n",
       "2     tomato     red     1kg     53   95\n",
       "3   kovakkai   green     1kg     30   50\n",
       "4    coconut   white  1piece  False   43\n",
       "5    Cabbage   green  1piece     10   35"
      ]
     },
     "execution_count": 120,
     "metadata": {},
     "output_type": "execute_result"
    }
   ],
   "source": [
    "market"
   ]
  },
  {
   "cell_type": "markdown",
   "id": "75bff0ef-c538-4bb2-810d-1a5bea0aa978",
   "metadata": {},
   "source": [
    "**Data Aggregation and grouping**"
   ]
  },
  {
   "cell_type": "code",
   "execution_count": 121,
   "id": "552cde77-e488-4315-a5bb-f33a01dcb8a8",
   "metadata": {},
   "outputs": [
    {
     "data": {
      "text/html": [
       "<div>\n",
       "<style scoped>\n",
       "    .dataframe tbody tr th:only-of-type {\n",
       "        vertical-align: middle;\n",
       "    }\n",
       "\n",
       "    .dataframe tbody tr th {\n",
       "        vertical-align: top;\n",
       "    }\n",
       "\n",
       "    .dataframe thead th {\n",
       "        text-align: right;\n",
       "    }\n",
       "</style>\n",
       "<table border=\"1\" class=\"dataframe\">\n",
       "  <thead>\n",
       "    <tr style=\"text-align: right;\">\n",
       "      <th></th>\n",
       "      <th>vegetables</th>\n",
       "      <th>color</th>\n",
       "      <th>unit</th>\n",
       "      <th>min</th>\n",
       "      <th>max</th>\n",
       "    </tr>\n",
       "  </thead>\n",
       "  <tbody>\n",
       "    <tr>\n",
       "      <th>0</th>\n",
       "      <td>beetroot</td>\n",
       "      <td>purple</td>\n",
       "      <td>1kg</td>\n",
       "      <td>15</td>\n",
       "      <td>45</td>\n",
       "    </tr>\n",
       "    <tr>\n",
       "      <th>1</th>\n",
       "      <td>carrot</td>\n",
       "      <td>orange</td>\n",
       "      <td>1kg</td>\n",
       "      <td>25</td>\n",
       "      <td>50</td>\n",
       "    </tr>\n",
       "    <tr>\n",
       "      <th>2</th>\n",
       "      <td>tomato</td>\n",
       "      <td>red</td>\n",
       "      <td>1kg</td>\n",
       "      <td>53</td>\n",
       "      <td>95</td>\n",
       "    </tr>\n",
       "    <tr>\n",
       "      <th>3</th>\n",
       "      <td>kovakkai</td>\n",
       "      <td>green</td>\n",
       "      <td>1kg</td>\n",
       "      <td>30</td>\n",
       "      <td>50</td>\n",
       "    </tr>\n",
       "    <tr>\n",
       "      <th>4</th>\n",
       "      <td>coconut</td>\n",
       "      <td>white</td>\n",
       "      <td>1piece</td>\n",
       "      <td>False</td>\n",
       "      <td>43</td>\n",
       "    </tr>\n",
       "    <tr>\n",
       "      <th>5</th>\n",
       "      <td>Cabbage</td>\n",
       "      <td>green</td>\n",
       "      <td>1piece</td>\n",
       "      <td>10</td>\n",
       "      <td>35</td>\n",
       "    </tr>\n",
       "  </tbody>\n",
       "</table>\n",
       "</div>"
      ],
      "text/plain": [
       "  vegetables   color    unit    min  max\n",
       "0   beetroot  purple     1kg     15   45\n",
       "1     carrot  orange     1kg     25   50\n",
       "2     tomato     red     1kg     53   95\n",
       "3   kovakkai   green     1kg     30   50\n",
       "4    coconut   white  1piece  False   43\n",
       "5    Cabbage   green  1piece     10   35"
      ]
     },
     "execution_count": 121,
     "metadata": {},
     "output_type": "execute_result"
    }
   ],
   "source": [
    "market"
   ]
  },
  {
   "cell_type": "code",
   "execution_count": 122,
   "id": "9d80c4a6-dce4-41fe-8c9b-d2653351dbd7",
   "metadata": {},
   "outputs": [
    {
     "data": {
      "text/plain": [
       "318"
      ]
     },
     "execution_count": 122,
     "metadata": {},
     "output_type": "execute_result"
    }
   ],
   "source": [
    "market['max'].sum()   #Sum of max column values"
   ]
  },
  {
   "cell_type": "code",
   "execution_count": 123,
   "id": "f19b44ed-435e-40f0-8a6f-775798b19b40",
   "metadata": {},
   "outputs": [
    {
     "data": {
      "text/plain": [
       "6"
      ]
     },
     "execution_count": 123,
     "metadata": {},
     "output_type": "execute_result"
    }
   ],
   "source": [
    "market['max'].count()  #Count of columns"
   ]
  },
  {
   "cell_type": "code",
   "execution_count": 124,
   "id": "017e1582-90c7-4ea4-8c5b-312541f1f83a",
   "metadata": {},
   "outputs": [
    {
     "data": {
      "text/plain": [
       "95"
      ]
     },
     "execution_count": 124,
     "metadata": {},
     "output_type": "execute_result"
    }
   ],
   "source": [
    "market['max'].max()    #Maximum value of max column"
   ]
  },
  {
   "cell_type": "code",
   "execution_count": 125,
   "id": "eaa921d5-7ec3-4c0b-9cc6-e857c6469ac6",
   "metadata": {},
   "outputs": [
    {
     "data": {
      "text/plain": [
       "35"
      ]
     },
     "execution_count": 125,
     "metadata": {},
     "output_type": "execute_result"
    }
   ],
   "source": [
    "market['max'].min()   #Minimum value of max column"
   ]
  },
  {
   "cell_type": "code",
   "execution_count": 126,
   "id": "b04f1e7c-d748-4cf6-947a-58f9ad8aee2b",
   "metadata": {},
   "outputs": [
    {
     "data": {
      "text/html": [
       "<div>\n",
       "<style scoped>\n",
       "    .dataframe tbody tr th:only-of-type {\n",
       "        vertical-align: middle;\n",
       "    }\n",
       "\n",
       "    .dataframe tbody tr th {\n",
       "        vertical-align: top;\n",
       "    }\n",
       "\n",
       "    .dataframe thead th {\n",
       "        text-align: right;\n",
       "    }\n",
       "</style>\n",
       "<table border=\"1\" class=\"dataframe\">\n",
       "  <thead>\n",
       "    <tr style=\"text-align: right;\">\n",
       "      <th></th>\n",
       "      <th>vegetables</th>\n",
       "      <th>color</th>\n",
       "      <th>min</th>\n",
       "      <th>max</th>\n",
       "    </tr>\n",
       "    <tr>\n",
       "      <th>unit</th>\n",
       "      <th></th>\n",
       "      <th></th>\n",
       "      <th></th>\n",
       "      <th></th>\n",
       "    </tr>\n",
       "  </thead>\n",
       "  <tbody>\n",
       "    <tr>\n",
       "      <th>1kg</th>\n",
       "      <td>beetrootcarrottomatokovakkai</td>\n",
       "      <td>purpleorangeredgreen</td>\n",
       "      <td>123</td>\n",
       "      <td>240</td>\n",
       "    </tr>\n",
       "    <tr>\n",
       "      <th>1piece</th>\n",
       "      <td>coconutCabbage</td>\n",
       "      <td>whitegreen</td>\n",
       "      <td>10</td>\n",
       "      <td>78</td>\n",
       "    </tr>\n",
       "  </tbody>\n",
       "</table>\n",
       "</div>"
      ],
      "text/plain": [
       "                          vegetables                 color  min  max\n",
       "unit                                                                \n",
       "1kg     beetrootcarrottomatokovakkai  purpleorangeredgreen  123  240\n",
       "1piece                coconutCabbage            whitegreen   10   78"
      ]
     },
     "execution_count": 126,
     "metadata": {},
     "output_type": "execute_result"
    }
   ],
   "source": [
    "market.groupby('unit').sum()"
   ]
  },
  {
   "cell_type": "code",
   "execution_count": 127,
   "id": "8bb21a7c-991a-48c2-bb60-c4e1bfbf0233",
   "metadata": {},
   "outputs": [
    {
     "data": {
      "text/html": [
       "<div>\n",
       "<style scoped>\n",
       "    .dataframe tbody tr th:only-of-type {\n",
       "        vertical-align: middle;\n",
       "    }\n",
       "\n",
       "    .dataframe tbody tr th {\n",
       "        vertical-align: top;\n",
       "    }\n",
       "\n",
       "    .dataframe thead th {\n",
       "        text-align: right;\n",
       "    }\n",
       "</style>\n",
       "<table border=\"1\" class=\"dataframe\">\n",
       "  <thead>\n",
       "    <tr style=\"text-align: right;\">\n",
       "      <th></th>\n",
       "      <th>vegetables</th>\n",
       "      <th>color</th>\n",
       "      <th>unit</th>\n",
       "      <th>min</th>\n",
       "      <th>max</th>\n",
       "    </tr>\n",
       "  </thead>\n",
       "  <tbody>\n",
       "    <tr>\n",
       "      <th>0</th>\n",
       "      <td>beetroot</td>\n",
       "      <td>purple</td>\n",
       "      <td>1kg</td>\n",
       "      <td>15</td>\n",
       "      <td>45</td>\n",
       "    </tr>\n",
       "    <tr>\n",
       "      <th>1</th>\n",
       "      <td>carrot</td>\n",
       "      <td>orange</td>\n",
       "      <td>1kg</td>\n",
       "      <td>25</td>\n",
       "      <td>50</td>\n",
       "    </tr>\n",
       "    <tr>\n",
       "      <th>2</th>\n",
       "      <td>tomato</td>\n",
       "      <td>red</td>\n",
       "      <td>1kg</td>\n",
       "      <td>53</td>\n",
       "      <td>95</td>\n",
       "    </tr>\n",
       "    <tr>\n",
       "      <th>3</th>\n",
       "      <td>kovakkai</td>\n",
       "      <td>green</td>\n",
       "      <td>1kg</td>\n",
       "      <td>30</td>\n",
       "      <td>50</td>\n",
       "    </tr>\n",
       "    <tr>\n",
       "      <th>4</th>\n",
       "      <td>coconut</td>\n",
       "      <td>white</td>\n",
       "      <td>1piece</td>\n",
       "      <td>False</td>\n",
       "      <td>43</td>\n",
       "    </tr>\n",
       "    <tr>\n",
       "      <th>5</th>\n",
       "      <td>Cabbage</td>\n",
       "      <td>green</td>\n",
       "      <td>1piece</td>\n",
       "      <td>10</td>\n",
       "      <td>35</td>\n",
       "    </tr>\n",
       "  </tbody>\n",
       "</table>\n",
       "</div>"
      ],
      "text/plain": [
       "  vegetables   color    unit    min  max\n",
       "0   beetroot  purple     1kg     15   45\n",
       "1     carrot  orange     1kg     25   50\n",
       "2     tomato     red     1kg     53   95\n",
       "3   kovakkai   green     1kg     30   50\n",
       "4    coconut   white  1piece  False   43\n",
       "5    Cabbage   green  1piece     10   35"
      ]
     },
     "execution_count": 127,
     "metadata": {},
     "output_type": "execute_result"
    }
   ],
   "source": [
    "market"
   ]
  },
  {
   "cell_type": "code",
   "execution_count": 128,
   "id": "77eb5f60-5aed-41b2-8ad3-08c83a837ca4",
   "metadata": {},
   "outputs": [
    {
     "data": {
      "text/html": [
       "<div>\n",
       "<style scoped>\n",
       "    .dataframe tbody tr th:only-of-type {\n",
       "        vertical-align: middle;\n",
       "    }\n",
       "\n",
       "    .dataframe tbody tr th {\n",
       "        vertical-align: top;\n",
       "    }\n",
       "\n",
       "    .dataframe thead th {\n",
       "        text-align: right;\n",
       "    }\n",
       "</style>\n",
       "<table border=\"1\" class=\"dataframe\">\n",
       "  <thead>\n",
       "    <tr style=\"text-align: right;\">\n",
       "      <th></th>\n",
       "      <th>color</th>\n",
       "      <th>unit</th>\n",
       "      <th>min</th>\n",
       "      <th>max</th>\n",
       "    </tr>\n",
       "    <tr>\n",
       "      <th>vegetables</th>\n",
       "      <th></th>\n",
       "      <th></th>\n",
       "      <th></th>\n",
       "      <th></th>\n",
       "    </tr>\n",
       "  </thead>\n",
       "  <tbody>\n",
       "    <tr>\n",
       "      <th>Cabbage</th>\n",
       "      <td>green</td>\n",
       "      <td>1piece</td>\n",
       "      <td>10</td>\n",
       "      <td>35</td>\n",
       "    </tr>\n",
       "    <tr>\n",
       "      <th>beetroot</th>\n",
       "      <td>purple</td>\n",
       "      <td>1kg</td>\n",
       "      <td>15</td>\n",
       "      <td>45</td>\n",
       "    </tr>\n",
       "    <tr>\n",
       "      <th>carrot</th>\n",
       "      <td>orange</td>\n",
       "      <td>1kg</td>\n",
       "      <td>25</td>\n",
       "      <td>50</td>\n",
       "    </tr>\n",
       "    <tr>\n",
       "      <th>coconut</th>\n",
       "      <td>white</td>\n",
       "      <td>1piece</td>\n",
       "      <td>False</td>\n",
       "      <td>43</td>\n",
       "    </tr>\n",
       "    <tr>\n",
       "      <th>kovakkai</th>\n",
       "      <td>green</td>\n",
       "      <td>1kg</td>\n",
       "      <td>30</td>\n",
       "      <td>50</td>\n",
       "    </tr>\n",
       "    <tr>\n",
       "      <th>tomato</th>\n",
       "      <td>red</td>\n",
       "      <td>1kg</td>\n",
       "      <td>53</td>\n",
       "      <td>95</td>\n",
       "    </tr>\n",
       "  </tbody>\n",
       "</table>\n",
       "</div>"
      ],
      "text/plain": [
       "             color    unit    min  max\n",
       "vegetables                            \n",
       "Cabbage      green  1piece     10   35\n",
       "beetroot    purple     1kg     15   45\n",
       "carrot      orange     1kg     25   50\n",
       "coconut      white  1piece  False   43\n",
       "kovakkai     green     1kg     30   50\n",
       "tomato         red     1kg     53   95"
      ]
     },
     "execution_count": 128,
     "metadata": {},
     "output_type": "execute_result"
    }
   ],
   "source": [
    "market.groupby('vegetables').sum()"
   ]
  },
  {
   "cell_type": "code",
   "execution_count": 129,
   "id": "f08addf5-0832-43d4-a69e-84b370f7c503",
   "metadata": {},
   "outputs": [
    {
     "data": {
      "text/html": [
       "<div>\n",
       "<style scoped>\n",
       "    .dataframe tbody tr th:only-of-type {\n",
       "        vertical-align: middle;\n",
       "    }\n",
       "\n",
       "    .dataframe tbody tr th {\n",
       "        vertical-align: top;\n",
       "    }\n",
       "\n",
       "    .dataframe thead th {\n",
       "        text-align: right;\n",
       "    }\n",
       "</style>\n",
       "<table border=\"1\" class=\"dataframe\">\n",
       "  <thead>\n",
       "    <tr style=\"text-align: right;\">\n",
       "      <th></th>\n",
       "      <th>vegetables</th>\n",
       "      <th>unit</th>\n",
       "      <th>min</th>\n",
       "      <th>max</th>\n",
       "    </tr>\n",
       "    <tr>\n",
       "      <th>color</th>\n",
       "      <th></th>\n",
       "      <th></th>\n",
       "      <th></th>\n",
       "      <th></th>\n",
       "    </tr>\n",
       "  </thead>\n",
       "  <tbody>\n",
       "    <tr>\n",
       "      <th>green</th>\n",
       "      <td>kovakkaiCabbage</td>\n",
       "      <td>1kg1piece</td>\n",
       "      <td>40</td>\n",
       "      <td>85</td>\n",
       "    </tr>\n",
       "    <tr>\n",
       "      <th>orange</th>\n",
       "      <td>carrot</td>\n",
       "      <td>1kg</td>\n",
       "      <td>25</td>\n",
       "      <td>50</td>\n",
       "    </tr>\n",
       "    <tr>\n",
       "      <th>purple</th>\n",
       "      <td>beetroot</td>\n",
       "      <td>1kg</td>\n",
       "      <td>15</td>\n",
       "      <td>45</td>\n",
       "    </tr>\n",
       "    <tr>\n",
       "      <th>red</th>\n",
       "      <td>tomato</td>\n",
       "      <td>1kg</td>\n",
       "      <td>53</td>\n",
       "      <td>95</td>\n",
       "    </tr>\n",
       "    <tr>\n",
       "      <th>white</th>\n",
       "      <td>coconut</td>\n",
       "      <td>1piece</td>\n",
       "      <td>False</td>\n",
       "      <td>43</td>\n",
       "    </tr>\n",
       "  </tbody>\n",
       "</table>\n",
       "</div>"
      ],
      "text/plain": [
       "             vegetables       unit    min  max\n",
       "color                                         \n",
       "green   kovakkaiCabbage  1kg1piece     40   85\n",
       "orange           carrot        1kg     25   50\n",
       "purple         beetroot        1kg     15   45\n",
       "red              tomato        1kg     53   95\n",
       "white           coconut     1piece  False   43"
      ]
     },
     "execution_count": 129,
     "metadata": {},
     "output_type": "execute_result"
    }
   ],
   "source": [
    "market.groupby('color').sum()"
   ]
  },
  {
   "cell_type": "code",
   "execution_count": 130,
   "id": "7552f406-61a4-4407-bcd2-3909793dbcdc",
   "metadata": {},
   "outputs": [
    {
     "data": {
      "text/html": [
       "<div>\n",
       "<style scoped>\n",
       "    .dataframe tbody tr th:only-of-type {\n",
       "        vertical-align: middle;\n",
       "    }\n",
       "\n",
       "    .dataframe tbody tr th {\n",
       "        vertical-align: top;\n",
       "    }\n",
       "\n",
       "    .dataframe thead th {\n",
       "        text-align: right;\n",
       "    }\n",
       "</style>\n",
       "<table border=\"1\" class=\"dataframe\">\n",
       "  <thead>\n",
       "    <tr style=\"text-align: right;\">\n",
       "      <th></th>\n",
       "      <th>vegetables</th>\n",
       "      <th>color</th>\n",
       "      <th>unit</th>\n",
       "      <th>max</th>\n",
       "    </tr>\n",
       "    <tr>\n",
       "      <th>min</th>\n",
       "      <th></th>\n",
       "      <th></th>\n",
       "      <th></th>\n",
       "      <th></th>\n",
       "    </tr>\n",
       "  </thead>\n",
       "  <tbody>\n",
       "    <tr>\n",
       "      <th>False</th>\n",
       "      <td>coconut</td>\n",
       "      <td>white</td>\n",
       "      <td>1piece</td>\n",
       "      <td>43</td>\n",
       "    </tr>\n",
       "    <tr>\n",
       "      <th>10</th>\n",
       "      <td>Cabbage</td>\n",
       "      <td>green</td>\n",
       "      <td>1piece</td>\n",
       "      <td>35</td>\n",
       "    </tr>\n",
       "    <tr>\n",
       "      <th>15</th>\n",
       "      <td>beetroot</td>\n",
       "      <td>purple</td>\n",
       "      <td>1kg</td>\n",
       "      <td>45</td>\n",
       "    </tr>\n",
       "    <tr>\n",
       "      <th>25</th>\n",
       "      <td>carrot</td>\n",
       "      <td>orange</td>\n",
       "      <td>1kg</td>\n",
       "      <td>50</td>\n",
       "    </tr>\n",
       "    <tr>\n",
       "      <th>30</th>\n",
       "      <td>kovakkai</td>\n",
       "      <td>green</td>\n",
       "      <td>1kg</td>\n",
       "      <td>50</td>\n",
       "    </tr>\n",
       "    <tr>\n",
       "      <th>53</th>\n",
       "      <td>tomato</td>\n",
       "      <td>red</td>\n",
       "      <td>1kg</td>\n",
       "      <td>95</td>\n",
       "    </tr>\n",
       "  </tbody>\n",
       "</table>\n",
       "</div>"
      ],
      "text/plain": [
       "      vegetables   color    unit  max\n",
       "min                                  \n",
       "False    coconut   white  1piece   43\n",
       "10       Cabbage   green  1piece   35\n",
       "15      beetroot  purple     1kg   45\n",
       "25        carrot  orange     1kg   50\n",
       "30      kovakkai   green     1kg   50\n",
       "53        tomato     red     1kg   95"
      ]
     },
     "execution_count": 130,
     "metadata": {},
     "output_type": "execute_result"
    }
   ],
   "source": [
    "market.groupby('min').sum()"
   ]
  },
  {
   "cell_type": "code",
   "execution_count": 131,
   "id": "775e6100-2438-4414-a5f5-920086c79fce",
   "metadata": {},
   "outputs": [
    {
     "data": {
      "text/html": [
       "<div>\n",
       "<style scoped>\n",
       "    .dataframe tbody tr th:only-of-type {\n",
       "        vertical-align: middle;\n",
       "    }\n",
       "\n",
       "    .dataframe tbody tr th {\n",
       "        vertical-align: top;\n",
       "    }\n",
       "\n",
       "    .dataframe thead th {\n",
       "        text-align: right;\n",
       "    }\n",
       "</style>\n",
       "<table border=\"1\" class=\"dataframe\">\n",
       "  <thead>\n",
       "    <tr style=\"text-align: right;\">\n",
       "      <th></th>\n",
       "      <th>vegetables</th>\n",
       "      <th>color</th>\n",
       "      <th>unit</th>\n",
       "      <th>min</th>\n",
       "    </tr>\n",
       "    <tr>\n",
       "      <th>max</th>\n",
       "      <th></th>\n",
       "      <th></th>\n",
       "      <th></th>\n",
       "      <th></th>\n",
       "    </tr>\n",
       "  </thead>\n",
       "  <tbody>\n",
       "    <tr>\n",
       "      <th>35</th>\n",
       "      <td>Cabbage</td>\n",
       "      <td>green</td>\n",
       "      <td>1piece</td>\n",
       "      <td>10</td>\n",
       "    </tr>\n",
       "    <tr>\n",
       "      <th>43</th>\n",
       "      <td>coconut</td>\n",
       "      <td>white</td>\n",
       "      <td>1piece</td>\n",
       "      <td>False</td>\n",
       "    </tr>\n",
       "    <tr>\n",
       "      <th>45</th>\n",
       "      <td>beetroot</td>\n",
       "      <td>purple</td>\n",
       "      <td>1kg</td>\n",
       "      <td>15</td>\n",
       "    </tr>\n",
       "    <tr>\n",
       "      <th>50</th>\n",
       "      <td>carrotkovakkai</td>\n",
       "      <td>orangegreen</td>\n",
       "      <td>1kg1kg</td>\n",
       "      <td>55</td>\n",
       "    </tr>\n",
       "    <tr>\n",
       "      <th>95</th>\n",
       "      <td>tomato</td>\n",
       "      <td>red</td>\n",
       "      <td>1kg</td>\n",
       "      <td>53</td>\n",
       "    </tr>\n",
       "  </tbody>\n",
       "</table>\n",
       "</div>"
      ],
      "text/plain": [
       "         vegetables        color    unit    min\n",
       "max                                            \n",
       "35          Cabbage        green  1piece     10\n",
       "43          coconut        white  1piece  False\n",
       "45         beetroot       purple     1kg     15\n",
       "50   carrotkovakkai  orangegreen  1kg1kg     55\n",
       "95           tomato          red     1kg     53"
      ]
     },
     "execution_count": 131,
     "metadata": {},
     "output_type": "execute_result"
    }
   ],
   "source": [
    "market.groupby('max').sum()"
   ]
  },
  {
   "cell_type": "code",
   "execution_count": 132,
   "id": "74615f5c-c1f7-4acf-a144-85024196b076",
   "metadata": {},
   "outputs": [
    {
     "name": "stdout",
     "output_type": "stream",
     "text": [
      "<class 'pandas.core.frame.DataFrame'>\n",
      "Index: 6 entries, 0 to 5\n",
      "Data columns (total 5 columns):\n",
      " #   Column      Non-Null Count  Dtype \n",
      "---  ------      --------------  ----- \n",
      " 0   vegetables  6 non-null      object\n",
      " 1   color       6 non-null      object\n",
      " 2   unit        6 non-null      object\n",
      " 3   min         6 non-null      object\n",
      " 4   max         6 non-null      int64 \n",
      "dtypes: int64(1), object(4)\n",
      "memory usage: 460.0+ bytes\n"
     ]
    }
   ],
   "source": [
    "market.info()"
   ]
  },
  {
   "cell_type": "code",
   "execution_count": 134,
   "id": "3d4a7d28-0152-4a43-b5dd-48f951016a57",
   "metadata": {},
   "outputs": [
    {
     "data": {
      "text/html": [
       "<div>\n",
       "<style scoped>\n",
       "    .dataframe tbody tr th:only-of-type {\n",
       "        vertical-align: middle;\n",
       "    }\n",
       "\n",
       "    .dataframe tbody tr th {\n",
       "        vertical-align: top;\n",
       "    }\n",
       "\n",
       "    .dataframe thead th {\n",
       "        text-align: right;\n",
       "    }\n",
       "</style>\n",
       "<table border=\"1\" class=\"dataframe\">\n",
       "  <thead>\n",
       "    <tr style=\"text-align: right;\">\n",
       "      <th></th>\n",
       "      <th>Student_ID</th>\n",
       "      <th>Age</th>\n",
       "      <th>Gender</th>\n",
       "      <th>Academic_Level</th>\n",
       "      <th>Country</th>\n",
       "      <th>Avg_Daily_Usage_Hours</th>\n",
       "      <th>Most_Used_Platform</th>\n",
       "      <th>Affects_Academic_Performance</th>\n",
       "      <th>Sleep_Hours_Per_Night</th>\n",
       "      <th>Mental_Health_Score</th>\n",
       "      <th>Relationship_Status</th>\n",
       "      <th>Conflicts_Over_Social_Media</th>\n",
       "      <th>Addicted_Score</th>\n",
       "    </tr>\n",
       "  </thead>\n",
       "  <tbody>\n",
       "    <tr>\n",
       "      <th>0</th>\n",
       "      <td>1</td>\n",
       "      <td>19</td>\n",
       "      <td>Female</td>\n",
       "      <td>Undergraduate</td>\n",
       "      <td>Bangladesh</td>\n",
       "      <td>5.2</td>\n",
       "      <td>Instagram</td>\n",
       "      <td>Yes</td>\n",
       "      <td>6.5</td>\n",
       "      <td>6</td>\n",
       "      <td>In Relationship</td>\n",
       "      <td>3</td>\n",
       "      <td>8</td>\n",
       "    </tr>\n",
       "    <tr>\n",
       "      <th>1</th>\n",
       "      <td>2</td>\n",
       "      <td>22</td>\n",
       "      <td>Male</td>\n",
       "      <td>Graduate</td>\n",
       "      <td>India</td>\n",
       "      <td>2.1</td>\n",
       "      <td>Twitter</td>\n",
       "      <td>No</td>\n",
       "      <td>7.5</td>\n",
       "      <td>8</td>\n",
       "      <td>Single</td>\n",
       "      <td>0</td>\n",
       "      <td>3</td>\n",
       "    </tr>\n",
       "    <tr>\n",
       "      <th>2</th>\n",
       "      <td>3</td>\n",
       "      <td>20</td>\n",
       "      <td>Female</td>\n",
       "      <td>Undergraduate</td>\n",
       "      <td>USA</td>\n",
       "      <td>6.0</td>\n",
       "      <td>TikTok</td>\n",
       "      <td>Yes</td>\n",
       "      <td>5.0</td>\n",
       "      <td>5</td>\n",
       "      <td>Complicated</td>\n",
       "      <td>4</td>\n",
       "      <td>9</td>\n",
       "    </tr>\n",
       "    <tr>\n",
       "      <th>3</th>\n",
       "      <td>4</td>\n",
       "      <td>18</td>\n",
       "      <td>Male</td>\n",
       "      <td>High School</td>\n",
       "      <td>UK</td>\n",
       "      <td>3.0</td>\n",
       "      <td>YouTube</td>\n",
       "      <td>No</td>\n",
       "      <td>7.0</td>\n",
       "      <td>7</td>\n",
       "      <td>Single</td>\n",
       "      <td>1</td>\n",
       "      <td>4</td>\n",
       "    </tr>\n",
       "    <tr>\n",
       "      <th>4</th>\n",
       "      <td>5</td>\n",
       "      <td>21</td>\n",
       "      <td>Male</td>\n",
       "      <td>Graduate</td>\n",
       "      <td>Canada</td>\n",
       "      <td>4.5</td>\n",
       "      <td>Facebook</td>\n",
       "      <td>Yes</td>\n",
       "      <td>6.0</td>\n",
       "      <td>6</td>\n",
       "      <td>In Relationship</td>\n",
       "      <td>2</td>\n",
       "      <td>7</td>\n",
       "    </tr>\n",
       "    <tr>\n",
       "      <th>...</th>\n",
       "      <td>...</td>\n",
       "      <td>...</td>\n",
       "      <td>...</td>\n",
       "      <td>...</td>\n",
       "      <td>...</td>\n",
       "      <td>...</td>\n",
       "      <td>...</td>\n",
       "      <td>...</td>\n",
       "      <td>...</td>\n",
       "      <td>...</td>\n",
       "      <td>...</td>\n",
       "      <td>...</td>\n",
       "      <td>...</td>\n",
       "    </tr>\n",
       "    <tr>\n",
       "      <th>700</th>\n",
       "      <td>701</td>\n",
       "      <td>20</td>\n",
       "      <td>Female</td>\n",
       "      <td>Undergraduate</td>\n",
       "      <td>Italy</td>\n",
       "      <td>4.7</td>\n",
       "      <td>TikTok</td>\n",
       "      <td>No</td>\n",
       "      <td>7.2</td>\n",
       "      <td>7</td>\n",
       "      <td>In Relationship</td>\n",
       "      <td>2</td>\n",
       "      <td>5</td>\n",
       "    </tr>\n",
       "    <tr>\n",
       "      <th>701</th>\n",
       "      <td>702</td>\n",
       "      <td>23</td>\n",
       "      <td>Male</td>\n",
       "      <td>Graduate</td>\n",
       "      <td>Russia</td>\n",
       "      <td>6.8</td>\n",
       "      <td>Instagram</td>\n",
       "      <td>Yes</td>\n",
       "      <td>5.9</td>\n",
       "      <td>4</td>\n",
       "      <td>Single</td>\n",
       "      <td>5</td>\n",
       "      <td>9</td>\n",
       "    </tr>\n",
       "    <tr>\n",
       "      <th>702</th>\n",
       "      <td>703</td>\n",
       "      <td>21</td>\n",
       "      <td>Female</td>\n",
       "      <td>Undergraduate</td>\n",
       "      <td>China</td>\n",
       "      <td>5.6</td>\n",
       "      <td>WeChat</td>\n",
       "      <td>Yes</td>\n",
       "      <td>6.7</td>\n",
       "      <td>6</td>\n",
       "      <td>In Relationship</td>\n",
       "      <td>3</td>\n",
       "      <td>7</td>\n",
       "    </tr>\n",
       "    <tr>\n",
       "      <th>703</th>\n",
       "      <td>704</td>\n",
       "      <td>24</td>\n",
       "      <td>Male</td>\n",
       "      <td>Graduate</td>\n",
       "      <td>Japan</td>\n",
       "      <td>4.3</td>\n",
       "      <td>Twitter</td>\n",
       "      <td>No</td>\n",
       "      <td>7.5</td>\n",
       "      <td>8</td>\n",
       "      <td>Single</td>\n",
       "      <td>2</td>\n",
       "      <td>4</td>\n",
       "    </tr>\n",
       "    <tr>\n",
       "      <th>704</th>\n",
       "      <td>705</td>\n",
       "      <td>19</td>\n",
       "      <td>Female</td>\n",
       "      <td>Undergraduate</td>\n",
       "      <td>Poland</td>\n",
       "      <td>6.2</td>\n",
       "      <td>Facebook</td>\n",
       "      <td>Yes</td>\n",
       "      <td>6.3</td>\n",
       "      <td>5</td>\n",
       "      <td>Single</td>\n",
       "      <td>4</td>\n",
       "      <td>8</td>\n",
       "    </tr>\n",
       "  </tbody>\n",
       "</table>\n",
       "<p>705 rows × 13 columns</p>\n",
       "</div>"
      ],
      "text/plain": [
       "     Student_ID  Age  Gender Academic_Level     Country  \\\n",
       "0             1   19  Female  Undergraduate  Bangladesh   \n",
       "1             2   22    Male       Graduate       India   \n",
       "2             3   20  Female  Undergraduate         USA   \n",
       "3             4   18    Male    High School          UK   \n",
       "4             5   21    Male       Graduate      Canada   \n",
       "..          ...  ...     ...            ...         ...   \n",
       "700         701   20  Female  Undergraduate       Italy   \n",
       "701         702   23    Male       Graduate      Russia   \n",
       "702         703   21  Female  Undergraduate       China   \n",
       "703         704   24    Male       Graduate       Japan   \n",
       "704         705   19  Female  Undergraduate      Poland   \n",
       "\n",
       "     Avg_Daily_Usage_Hours Most_Used_Platform Affects_Academic_Performance  \\\n",
       "0                      5.2          Instagram                          Yes   \n",
       "1                      2.1            Twitter                           No   \n",
       "2                      6.0             TikTok                          Yes   \n",
       "3                      3.0            YouTube                           No   \n",
       "4                      4.5           Facebook                          Yes   \n",
       "..                     ...                ...                          ...   \n",
       "700                    4.7             TikTok                           No   \n",
       "701                    6.8          Instagram                          Yes   \n",
       "702                    5.6             WeChat                          Yes   \n",
       "703                    4.3            Twitter                           No   \n",
       "704                    6.2           Facebook                          Yes   \n",
       "\n",
       "     Sleep_Hours_Per_Night  Mental_Health_Score Relationship_Status  \\\n",
       "0                      6.5                    6     In Relationship   \n",
       "1                      7.5                    8              Single   \n",
       "2                      5.0                    5         Complicated   \n",
       "3                      7.0                    7              Single   \n",
       "4                      6.0                    6     In Relationship   \n",
       "..                     ...                  ...                 ...   \n",
       "700                    7.2                    7     In Relationship   \n",
       "701                    5.9                    4              Single   \n",
       "702                    6.7                    6     In Relationship   \n",
       "703                    7.5                    8              Single   \n",
       "704                    6.3                    5              Single   \n",
       "\n",
       "     Conflicts_Over_Social_Media  Addicted_Score  \n",
       "0                              3               8  \n",
       "1                              0               3  \n",
       "2                              4               9  \n",
       "3                              1               4  \n",
       "4                              2               7  \n",
       "..                           ...             ...  \n",
       "700                            2               5  \n",
       "701                            5               9  \n",
       "702                            3               7  \n",
       "703                            2               4  \n",
       "704                            4               8  \n",
       "\n",
       "[705 rows x 13 columns]"
      ]
     },
     "execution_count": 134,
     "metadata": {},
     "output_type": "execute_result"
    }
   ],
   "source": [
    "pd.read_csv('stu social media addict.csv')"
   ]
  },
  {
   "cell_type": "code",
   "execution_count": 135,
   "id": "63efadf8-9cd8-4174-8969-ebd0a914f1b2",
   "metadata": {},
   "outputs": [
    {
     "data": {
      "text/html": [
       "<div>\n",
       "<style scoped>\n",
       "    .dataframe tbody tr th:only-of-type {\n",
       "        vertical-align: middle;\n",
       "    }\n",
       "\n",
       "    .dataframe tbody tr th {\n",
       "        vertical-align: top;\n",
       "    }\n",
       "\n",
       "    .dataframe thead th {\n",
       "        text-align: right;\n",
       "    }\n",
       "</style>\n",
       "<table border=\"1\" class=\"dataframe\">\n",
       "  <thead>\n",
       "    <tr style=\"text-align: right;\">\n",
       "      <th></th>\n",
       "      <th>vegetables</th>\n",
       "      <th>color</th>\n",
       "      <th>unit</th>\n",
       "      <th>min</th>\n",
       "      <th>max</th>\n",
       "    </tr>\n",
       "  </thead>\n",
       "  <tbody>\n",
       "    <tr>\n",
       "      <th>0</th>\n",
       "      <td>beetroot</td>\n",
       "      <td>purple</td>\n",
       "      <td>1kg</td>\n",
       "      <td>15</td>\n",
       "      <td>40</td>\n",
       "    </tr>\n",
       "    <tr>\n",
       "      <th>1</th>\n",
       "      <td>carrot</td>\n",
       "      <td>orange</td>\n",
       "      <td>1kg</td>\n",
       "      <td>25</td>\n",
       "      <td>45</td>\n",
       "    </tr>\n",
       "    <tr>\n",
       "      <th>2</th>\n",
       "      <td>tomato</td>\n",
       "      <td>red</td>\n",
       "      <td>1kg</td>\n",
       "      <td>53</td>\n",
       "      <td>90</td>\n",
       "    </tr>\n",
       "    <tr>\n",
       "      <th>3</th>\n",
       "      <td>kovakkai</td>\n",
       "      <td>green</td>\n",
       "      <td>1kg</td>\n",
       "      <td>30</td>\n",
       "      <td>45</td>\n",
       "    </tr>\n",
       "    <tr>\n",
       "      <th>4</th>\n",
       "      <td>coconut</td>\n",
       "      <td>white</td>\n",
       "      <td>1piece</td>\n",
       "      <td>seventeen</td>\n",
       "      <td>38</td>\n",
       "    </tr>\n",
       "  </tbody>\n",
       "</table>\n",
       "</div>"
      ],
      "text/plain": [
       "  vegetables   color    unit       min   max\n",
       "0   beetroot  purple     1kg         15   40\n",
       "1     carrot  orange     1kg         25   45\n",
       "2     tomato     red     1kg         53   90\n",
       "3   kovakkai   green     1kg         30   45\n",
       "4    coconut   white  1piece  seventeen   38"
      ]
     },
     "execution_count": 135,
     "metadata": {},
     "output_type": "execute_result"
    }
   ],
   "source": [
    "pd.read_csv('market.csv')"
   ]
  },
  {
   "cell_type": "code",
   "execution_count": null,
   "id": "2d9281b8-295b-4d83-a3c9-d0beeb779637",
   "metadata": {},
   "outputs": [],
   "source": []
  }
 ],
 "metadata": {
  "kernelspec": {
   "display_name": "Python 3 (ipykernel)",
   "language": "python",
   "name": "python3"
  },
  "language_info": {
   "codemirror_mode": {
    "name": "ipython",
    "version": 3
   },
   "file_extension": ".py",
   "mimetype": "text/x-python",
   "name": "python",
   "nbconvert_exporter": "python",
   "pygments_lexer": "ipython3",
   "version": "3.12.7"
  }
 },
 "nbformat": 4,
 "nbformat_minor": 5
}
