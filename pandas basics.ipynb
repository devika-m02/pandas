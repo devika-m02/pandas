{
 "cells": [
  {
   "cell_type": "markdown",
   "id": "8b2f6d26-e28f-4676-9de6-308a816d9e5f",
   "metadata": {},
   "source": [
    "**Pandas Library Installation**"
   ]
  },
  {
   "cell_type": "code",
   "execution_count": 2,
   "id": "7441c48e-1f35-45b3-9d1f-db9db35f73d5",
   "metadata": {},
   "outputs": [
    {
     "name": "stdout",
     "output_type": "stream",
     "text": [
      "2.2.2\n"
     ]
    }
   ],
   "source": [
    "import pandas as pd\n",
    "print(pd.__version__)"
   ]
  },
  {
   "cell_type": "markdown",
   "id": "37c00583-0ebb-427b-bbb4-d44e0e190a5a",
   "metadata": {},
   "source": [
    "**Pandas Series**"
   ]
  },
  {
   "cell_type": "code",
   "execution_count": 3,
   "id": "2125c3c9-f2bf-468e-a777-f5ca06fe9fbd",
   "metadata": {},
   "outputs": [],
   "source": [
    "vegetables=['beetroot','carrot','tomato','coconut','scarlet gourd']"
   ]
  },
  {
   "cell_type": "code",
   "execution_count": 4,
   "id": "175564cb-a4f0-4538-a0a8-bb5134607c5c",
   "metadata": {},
   "outputs": [
    {
     "data": {
      "text/plain": [
       "0         beetroot\n",
       "1           carrot\n",
       "2           tomato\n",
       "3          coconut\n",
       "4    scarlet gourd\n",
       "dtype: object"
      ]
     },
     "execution_count": 4,
     "metadata": {},
     "output_type": "execute_result"
    }
   ],
   "source": [
    "a=pd.Series(vegetables)\n",
    "a\n"
   ]
  },
  {
   "cell_type": "code",
   "execution_count": 5,
   "id": "422efcb0-7e2f-4f35-912d-776bdf93b3bb",
   "metadata": {},
   "outputs": [
    {
     "data": {
      "text/plain": [
       "purple         beetroot\n",
       "orange           carrot\n",
       "red              tomato\n",
       "white           coconut\n",
       "green     scarlet gourd\n",
       "dtype: object"
      ]
     },
     "execution_count": 5,
     "metadata": {},
     "output_type": "execute_result"
    }
   ],
   "source": [
    "veg_series=pd.Series(vegetables,index=['purple','orange','red','white','green'])\n",
    "veg_series"
   ]
  },
  {
   "cell_type": "code",
   "execution_count": 6,
   "id": "90acae74-7d1e-49a0-a653-ed52ebdcdbc0",
   "metadata": {},
   "outputs": [
    {
     "data": {
      "text/plain": [
       "{1: 'a', 2: 'b', 3: 'c'}"
      ]
     },
     "execution_count": 6,
     "metadata": {},
     "output_type": "execute_result"
    }
   ],
   "source": [
    "dict1={1:\"a\",2:\"b\",3:\"c\"}\n",
    "#since dictionary doesnot allow key duplicates the first value of key 1 that is a is replaced by c\n",
    "dict1"
   ]
  },
  {
   "cell_type": "code",
   "execution_count": 7,
   "id": "2be8f9c6-d35a-4510-b4d1-74389cfd1f3f",
   "metadata": {},
   "outputs": [
    {
     "data": {
      "text/plain": [
       "{'red': 'tomato', 'orange': 'carrot'}"
      ]
     },
     "execution_count": 7,
     "metadata": {},
     "output_type": "execute_result"
    }
   ],
   "source": [
    "veg_dict={'red':'tomato','orange':'carrot'}\n",
    "veg_dict"
   ]
  },
  {
   "cell_type": "code",
   "execution_count": 8,
   "id": "8282779a-e6c0-4366-8f2f-ea4c41a1abd7",
   "metadata": {},
   "outputs": [
    {
     "data": {
      "text/plain": [
       "red       tomato\n",
       "orange    carrot\n",
       "dtype: object"
      ]
     },
     "execution_count": 8,
     "metadata": {},
     "output_type": "execute_result"
    }
   ],
   "source": [
    "veg_dict_series=pd.Series(veg_dict)\n",
    "veg_dict_series"
   ]
  },
  {
   "cell_type": "code",
   "execution_count": 9,
   "id": "f5c6a4ca-c4eb-4f37-ae2e-b23b02c9cbc6",
   "metadata": {},
   "outputs": [
    {
     "data": {
      "text/plain": [
       "red    tomato\n",
       "dtype: object"
      ]
     },
     "execution_count": 9,
     "metadata": {},
     "output_type": "execute_result"
    }
   ],
   "source": [
    "veg_dict_series.drop(['orange'])#Removing one key-value pair "
   ]
  },
  {
   "cell_type": "code",
   "execution_count": 10,
   "id": "53e3557f-ca9f-4150-9a06-e95df93fbe9a",
   "metadata": {},
   "outputs": [
    {
     "data": {
      "text/plain": [
       "red       tomato\n",
       "orange    carrot\n",
       "dtype: object"
      ]
     },
     "execution_count": 10,
     "metadata": {},
     "output_type": "execute_result"
    }
   ],
   "source": [
    "veg_dict_series   #It won't affect original series"
   ]
  },
  {
   "cell_type": "code",
   "execution_count": 11,
   "id": "1b78c738-6d53-41c5-a897-506832128941",
   "metadata": {},
   "outputs": [],
   "source": [
    "veg_dict_series.drop(['orange'],inplace=True) \n",
    "#Removing one key_value pair from original series"
   ]
  },
  {
   "cell_type": "code",
   "execution_count": 13,
   "id": "b80d909a-c546-4365-9a01-aec5c79aa26f",
   "metadata": {},
   "outputs": [
    {
     "data": {
      "text/plain": [
       "red    tomato\n",
       "dtype: object"
      ]
     },
     "execution_count": 13,
     "metadata": {},
     "output_type": "execute_result"
    }
   ],
   "source": [
    "veg_dict_series#Removed series printing"
   ]
  },
  {
   "cell_type": "markdown",
   "id": "aeaa752b-1826-44a5-8558-1bd87f3c5f8a",
   "metadata": {},
   "source": [
    "**Series elements can be heterogeneous & Nested too!**"
   ]
  },
  {
   "cell_type": "code",
   "execution_count": 14,
   "id": "ad348f0b-32d7-4550-8761-1fd5a12ec90a",
   "metadata": {},
   "outputs": [],
   "source": [
    "vegs_dict={'red':['tomato','redchilli'],'green':'kovakkai'}"
   ]
  },
  {
   "cell_type": "code",
   "execution_count": 15,
   "id": "9d036b19-186a-4548-b763-0de1da9aecbf",
   "metadata": {},
   "outputs": [
    {
     "data": {
      "text/plain": [
       "red      [tomato, redchilli]\n",
       "green               kovakkai\n",
       "dtype: object"
      ]
     },
     "execution_count": 15,
     "metadata": {},
     "output_type": "execute_result"
    }
   ],
   "source": [
    "new_veg_series=pd.Series(vegs_dict)\n",
    "new_veg_series"
   ]
  },
  {
   "cell_type": "code",
   "execution_count": 16,
   "id": "d91efba4-a2f5-4595-99ef-853c2eee5ac8",
   "metadata": {},
   "outputs": [
    {
     "data": {
      "text/plain": [
       "pandas.core.series.Series"
      ]
     },
     "execution_count": 16,
     "metadata": {},
     "output_type": "execute_result"
    }
   ],
   "source": [
    "type(new_veg_series)"
   ]
  },
  {
   "cell_type": "code",
   "execution_count": 17,
   "id": "2b342015-b4b1-4550-861a-f2464ea5c42a",
   "metadata": {},
   "outputs": [
    {
     "name": "stderr",
     "output_type": "stream",
     "text": [
      "C:\\Users\\Devik\\AppData\\Local\\Temp\\ipykernel_19764\\1682160237.py:1: FutureWarning: Series.__getitem__ treating keys as positions is deprecated. In a future version, integer keys will always be treated as labels (consistent with DataFrame behavior). To access a value by position, use `ser.iloc[pos]`\n",
      "  type(new_veg_series[0])\n"
     ]
    },
    {
     "data": {
      "text/plain": [
       "list"
      ]
     },
     "execution_count": 17,
     "metadata": {},
     "output_type": "execute_result"
    }
   ],
   "source": [
    "type(new_veg_series[0])"
   ]
  },
  {
   "cell_type": "code",
   "execution_count": null,
   "id": "a04f6120-f859-4fe5-8a07-769b9b58383e",
   "metadata": {},
   "outputs": [],
   "source": []
  }
 ],
 "metadata": {
  "kernelspec": {
   "display_name": "Python 3 (ipykernel)",
   "language": "python",
   "name": "python3"
  },
  "language_info": {
   "codemirror_mode": {
    "name": "ipython",
    "version": 3
   },
   "file_extension": ".py",
   "mimetype": "text/x-python",
   "name": "python",
   "nbconvert_exporter": "python",
   "pygments_lexer": "ipython3",
   "version": "3.12.7"
  }
 },
 "nbformat": 4,
 "nbformat_minor": 5
}
